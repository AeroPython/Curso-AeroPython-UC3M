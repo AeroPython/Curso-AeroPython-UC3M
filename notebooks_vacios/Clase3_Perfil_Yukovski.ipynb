{
 "cells": [
  {
   "cell_type": "markdown",
   "metadata": {},
   "source": [
    "<img src=\"../static/aeropython_name_mini.png\" alt=\"AeroPython\" style=\"width: 300px;\"/>"
   ]
  },
  {
   "cell_type": "markdown",
   "metadata": {},
   "source": [
    "# Clase 3: Perfil de Yukovski"
   ]
  },
  {
   "cell_type": "markdown",
   "metadata": {},
   "source": [
    "_Aunque no te lo creas, __con lo que hemos visto hasta ahora eres capaz de hacer grandes cosas__. Vale sí, un perfil de Yukovski no es gran cosa aerodinámicamente, pero si lo hacemos en Python... Echa un vistazo a la figura ¿no está mal, no? algo así intentaremos conseguir al final de esta clase._\n",
    "\n",
    "![](../static/perfil_yukovski.png)\n",
    "\n",
    "_Como no se trata de aprender (o reaprender) aerodinámica, te daremos las funciones matemáticas y los pasos a seguir así como la estructura del programa. Tú sólo tienes que preocuparte de programar cada bloque. Puedes leer en detalle todo lo relativo a la aerodinámica en el libro  Aerodinámica básica de Meseguer Ruiz, J., Sanz Andrés, A. (Editorial Garceta)._\n"
   ]
  },
  {
   "cell_type": "markdown",
   "metadata": {},
   "source": [
    "## 1. Importamos paquetes."
   ]
  },
  {
   "cell_type": "markdown",
   "metadata": {},
   "source": [
    "Lo primero es lo primero, importemos los paquetes:"
   ]
  },
  {
   "cell_type": "code",
   "execution_count": null,
   "metadata": {
    "collapsed": false
   },
   "outputs": [],
   "source": [
    "# Recuerda, utilizaremos arrays y pintaremos gráficas.\n"
   ]
  },
  {
   "cell_type": "markdown",
   "metadata": {},
   "source": [
    "## 2. Parámetros del problema"
   ]
  },
  {
   "cell_type": "markdown",
   "metadata": {},
   "source": [
    "###### ![](../static/transf_yukovski.png) <h6 align=\"right\">__Fuente:__ _Aerodinámica básica, Meseguer Ruiz, J., Sanz Andrés, A._<div>"
   ]
  },
  {
   "cell_type": "markdown",
   "metadata": {},
   "source": [
    "La transformación de Yukovski es: $$\\tau=t+\\frac{a^{2}}{t}$$\n",
    "\n",
    "Los parámetros del problema son los del siguiente bloque, puedes cambiarlos más adelante:"
   ]
  },
  {
   "cell_type": "code",
   "execution_count": null,
   "metadata": {
    "collapsed": false
   },
   "outputs": [],
   "source": [
    "# Datos para el perfil de Yukovski\n",
    "\n",
    "# Parámetro de la transformación de Yukovski\n",
    "a = 1\n",
    "\n",
    "# Centro de la circunferencia\n",
    "landa = 0.2    # coordenada x (en valor absoluto)\n",
    "delta = 0.3     # coordenada y\n",
    "\n",
    "t0 = a * (-landa + delta * 1j)     # centro: plano complejo\n",
    "\n",
    "# Valor del radio de la circunferencia\n",
    "R = a * np.sqrt((1 + landa)**2 + delta**2)\n",
    "\n",
    "# Ángulo de ataque corriente incidente\n",
    "alfa_grados = 0\n",
    "alfa = np.deg2rad(alfa_grados)\n",
    "\n",
    "#Velocidad de la corriente incidente\n",
    "U = 1"
   ]
  },
  {
   "cell_type": "markdown",
   "metadata": {},
   "source": [
    "## 3. Perfil de Yukoski a partir de una circunferencia."
   ]
  },
  {
   "cell_type": "markdown",
   "metadata": {},
   "source": [
    "### Función transformación de Yukovski"
   ]
  },
  {
   "cell_type": "markdown",
   "metadata": {},
   "source": [
    "__Se trata de definir una función que realice la transformación de Yukovski.__ Esta función recibirá el parámetro de la transformación, $a$ y el punto del plano complejo $t$. Devolverá el valor $\\tau$, punto del plano complejo en el que se transforma $t$."
   ]
  },
  {
   "cell_type": "code",
   "execution_count": null,
   "metadata": {
    "collapsed": false
   },
   "outputs": [],
   "source": [
    "def transf_yukovski(a, t):\n",
    "    \"\"\"Dado el punto t (complejo) y el parámetro a\n",
    "    a de la transformación proporciona el punto\n",
    "    tau (complejo) en el que se transforma t.\"\"\""
   ]
  },
  {
   "cell_type": "code",
   "execution_count": null,
   "metadata": {
    "collapsed": false
   },
   "outputs": [],
   "source": [
    "#comprobamos que la función está bien programada\n",
    "#puntos del eje real siguen siendo del eje real\n",
    "err_message = \"La transformación de Yukovski no devuelve un resultado correcto\"\n",
    "np.testing.assert_equal(transf_yukovski(1, 1+0j), 2+0j, err_message)"
   ]
  },
  {
   "cell_type": "markdown",
   "metadata": {},
   "source": [
    "### Circunferencia"
   ]
  },
  {
   "cell_type": "markdown",
   "metadata": {},
   "source": [
    "Ahora queremos transformar la circunferencia de radio $R$ con centro en $t_0$ usando la función anterior:\n",
    "\n",
    "1. __Creamos `N` puntos de la circunferencia__ de modo que __en `Xc` estén las coordenadas $x$ y en `Yc` estén las coordenadas $y$__ de los puntos que la forman. Controla el número de puntos mediante un parámetro que se llame `N_perfil`.\n",
    "    $$X_c = real(t_0) + R·cos(\\theta)$$\n",
    "    $$Y_c = imag(t_0) + R·sin(\\theta)$$\n",
    "2. Una vez hayas obtenido los dos arrays `Xc` e `Yc`, __píntalos mediante un `scatter`__ para comprobar que todo ha ido bien.\n",
    "3. Pinta también el __centro de la circunferencia__.\n",
    "\n",
    "Deberías obtener algo así:\n",
    "\n",
    "![](../static/circunferencia.png)"
   ]
  },
  {
   "cell_type": "code",
   "execution_count": null,
   "metadata": {
    "collapsed": false
   },
   "outputs": [],
   "source": [
    "# Número de puntos de la circunferencia que \n",
    "# vamos a transformar para obtener el perfil\n",
    "N_perfil = \n",
    "\n",
    "#se barre un ángulo de 0 a 2 pi\n",
    "\n",
    "\n",
    "#se crean las coordenadas del los puntos\n",
    "#de la circunferencia\n",
    "Xc = \n",
    "Yc = \n",
    "\n",
    "#lo visulaizamos\n"
   ]
  },
  {
   "cell_type": "code",
   "execution_count": null,
   "metadata": {
    "collapsed": false
   },
   "outputs": [],
   "source": [
    "# Lo visulaizamos más bonito\n",
    "plt.figure(\"circunferencia\", figsize=(5,5))\n",
    "plt.title('Circunferencia', {'fontsize':20})\n",
    "# Esto no tienes por qué entenderlo ahora \n",
    "p = plt.Polygon(list(zip(Xc, Yc)), color=\"#cccccc\", zorder=3)\n",
    "plt.gca().add_patch(p)\n",
    "\n",
    "plt.ylim(-1.5, 2)\n",
    "plt.xlim(-2, 1.5)\n",
    "plt.grid()"
   ]
  },
  {
   "cell_type": "markdown",
   "metadata": {},
   "source": [
    "### Transformación de cirunferencia a perfil"
   ]
  },
  {
   "cell_type": "markdown",
   "metadata": {},
   "source": [
    "Ahora estamos en condiciones de __transformar estos puntos de la circunferencia (`Xc`, `Yc`) en los del perfil (`Xp`, `Yp`)__. Para esto vamos a usar nuestra función `transf_yukovski`. Recuerda que esta función recibe y da números complejos. ¿Saldrá un perfil?"
   ]
  },
  {
   "cell_type": "code",
   "execution_count": null,
   "metadata": {
    "collapsed": false
   },
   "outputs": [],
   "source": [
    "# Se transforman los puntos de la circunferencia\n",
    "Xp, Yp =\n",
    "\n",
    "# Lo visulaizamos\n"
   ]
  },
  {
   "cell_type": "code",
   "execution_count": null,
   "metadata": {
    "collapsed": false
   },
   "outputs": [],
   "source": [
    "# Lo visulaizamos más bonito\n",
    "plt.figure('perfil yukovski', figsize=(10,10))\n",
    "plt.title('Perfil', {'fontsize':20})\n",
    "\n",
    "p = plt.Polygon(list(zip(Xp, Yp)), color=\"#cccccc\", zorder=3)\n",
    "plt.gca().add_patch(p)\n",
    "plt.gca().set_aspect(1)\n",
    "\n",
    "plt.xlim(-3, 3)\n",
    "plt.ylim(-0.4,1)\n",
    "plt.grid()\n"
   ]
  },
  {
   "cell_type": "markdown",
   "metadata": {},
   "source": [
    "## 4. Flujo alrededor del cilindro"
   ]
  },
  {
   "cell_type": "markdown",
   "metadata": {},
   "source": [
    "Para visualizar ahora el flujo alrededor del cilindro recurrimos al __potencial complejo__ de una _corriente uniforme_ que forme un ángulo $\\alpha$ con el eje $x$ _en presencia de un cilindro_ (aplicando el teorema del círculo) y se añade un torbellino con la intensidad adecuada para que se cumpla la hipótesis de Kutta en el perfil:\n",
    "\n",
    "\\begin{equation}\n",
    "f(t)=U_{\\infty}\\text{·}\\left((t-t_{0})\\text{·}e^{-i\\alpha}+\\frac{R^{2}}{t-t_{0}}\\text{·}e^{i\\alpha}\\right)+\\frac{i\\Gamma}{2\\pi}\\text{·}ln(t-t_{0})=\\Phi+i\\Psi\n",
    "\\end{equation}\n",
    "\n",
    "donde $\\Phi$ es el potencial de velocidades y $\\Psi$ es la función de corriente.\n",
    "\n",
    "$$\\Gamma = 4  \\pi  a  U  (\\delta + (1+\\lambda)  \\alpha)$$\n",
    "\n",
    "$\\Gamma$ es la circulación que hay que añadir al cilindro para que al transformarlo en el perfil se cumpla la condición de Kutta.\n",
    "\n",
    "Recordando que la función de corriente toma un valor constante en las líneas de corriente, sabemos que: dibujando $\\Psi=cte$ se puede visualizar el flujo.\n",
    "\n",
    "__Pintaremos estas lineas de potencial constante utilizando la función `contour()`, pero antes tendremos que crear una malla con `meshgrid()`. Esto será lo primero que hagamos:__\n",
    "\n",
    "1. Crea un parámetro `N_malla` cuyo valor sea el número de puntos que va a tener la malla en cada dirección ($x$ e $y$).\n",
    "2. Crea dos parámetros `x_max` e `y_max` que representen los valores extremos de la malla en $x$ e $y$ respectivamente.\n",
    "3. Crea un array `x` que vaya desde `-x_max` hasta `x_max` y que tenga `N_malla` elementos. De manera análoga, crea el array `y`.\n",
    "4. Crea la malla `XX, YY` utilizando la función `meshgrid()` que necesitaremos para pintar con `contour()`. Los arrays `XX` e `YY` son de la forma:\n",
    "    *  \\begin{pmatrix}\n",
    "    -x_{max}  &     &   ...  &     &  &  +x_{max} \\\\ \n",
    "     &   &   &   &     &   \\\\\n",
    "    ... &     &      &      &     &   \\\\\n",
    "     &     &      &      &     &   \\\\\n",
    "     &     &      &      &     &   \\\\\n",
    "    -x_{max} &     &   ...   &      &     & +x_{max} \\\\\n",
    "    \\end{pmatrix}\n",
    "    \n",
    "    *    \\begin{pmatrix}\n",
    "   - y_{max}  &     &   ...  &     &  &  -y_{max}\\\\ \n",
    "     &   &   &   &     &   \\\\\n",
    "    ... &     &      &      &     &   \\\\\n",
    "     &     &      &      &     &   \\\\\n",
    "     &     &      &      &     &   \\\\\n",
    "    +y_{max} &     &   ...   &      &     & +y_{max}  \\\\\n",
    "    \\end{pmatrix}"
   ]
  },
  {
   "cell_type": "code",
   "execution_count": null,
   "metadata": {
    "collapsed": false
   },
   "outputs": [],
   "source": [
    "#se crea la malla donde se va pintar la función de corriente\n",
    "\n",
    "N_malla =     #nº de puntos en cada dimensión\n",
    "\n",
    "x_max = \n",
    "y_max = \n",
    "\n",
    "\n",
    "XX, YY = "
   ]
  },
  {
   "cell_type": "code",
   "execution_count": null,
   "metadata": {
    "collapsed": false
   },
   "outputs": [],
   "source": [
    "#pintamos la malla para verla"
   ]
  },
  {
   "cell_type": "markdown",
   "metadata": {},
   "source": [
    "1. Crea una variable `T` que tenga el valor correspondiente a la circulación $\\Gamma$.\n",
    "2. Utilizando `XX` e `YY`, crea un array `tt` que exprese la malla de forma compleja:\n",
    "    \n",
    "    \\begin{pmatrix}\n",
    "    -x_{max} + jy_{max}  &     &   ...  &     &  &  +x_{max} + jy_{max}\\\\ \n",
    "     &   &   &   &     &   \\\\\n",
    "    ... &     &      &      &     &   \\\\\n",
    "     &     &      &      &     &   \\\\\n",
    "     &     &      &      &     &   \\\\\n",
    "    -x_{max} - jy_{max} &     &   ...   &      &     & +x_{max} - jy_{max}  \\\\\n",
    "    \\end{pmatrix}\n",
    "3. Utilizando el array `t`, el valor `T` y los parámetros definidos al principio (`t0, alfa, U...`) crea `f` según la fórmula de arriba (no hace falta que crees una función).\n",
    "4. Guarda la parte imaginaria de esa función (función de corriente) en una variable `psi`."
   ]
  },
  {
   "cell_type": "code",
   "execution_count": null,
   "metadata": {
    "collapsed": false
   },
   "outputs": [],
   "source": [
    "# Circulación que hay que añadir al cilindro para\n",
    "# que se cumpla la hipótesis de Kutta en el perfil\n",
    "T = 4 * np.pi * a * U * (delta + (1+landa) * alfa)\n",
    "\n",
    "# Malla compleja\n",
    "tt = \n",
    "\n",
    "# Potencial complejo\n",
    "f = U * ((tt - t0) * np.exp(-alfa * 1j) + R ** 2 / (tt - t0) * np.exp(alfa * 1j) )\n",
    "f += 1j * T / (2 * np.pi) * np.log(tt - t0)\n",
    "    \n",
    "# Función de corriente\n",
    "psi = "
   ]
  },
  {
   "cell_type": "markdown",
   "metadata": {},
   "source": [
    "Como la función de corriente toma un valor constante en cada línea de corriente, podemos visualizar el flujo alrededor del cilindro pintando las lineas en las que `psi` toma un valor constante. Para ello utilizaremos la función `contour()` en la malla `XX, YY`. Si no se ve nada prueba a cambiar el número de líneas y los valores máximo y mínimo de la función que se representan."
   ]
  },
  {
   "cell_type": "code",
   "execution_count": null,
   "metadata": {
    "collapsed": false
   },
   "outputs": [],
   "source": [
    "#lo visulaizamos\n"
   ]
  },
  {
   "cell_type": "code",
   "execution_count": null,
   "metadata": {
    "collapsed": false
   },
   "outputs": [],
   "source": [
    "#ponemos el cilindro encima\n",
    "\n",
    "\n",
    "p = plt.Polygon(list(zip(Xc, Yc)), color=\"#cccccc\", zorder=3)\n",
    "plt.gca().add_patch(p)"
   ]
  },
  {
   "cell_type": "markdown",
   "metadata": {},
   "source": [
    "## 5. Flujo alrededor del perfil"
   ]
  },
  {
   "cell_type": "markdown",
   "metadata": {},
   "source": [
    "### Probando a transformar la malla"
   ]
  },
  {
   "cell_type": "markdown",
   "metadata": {},
   "source": [
    "Bueno, lo que queríamos era hacer cosas alrededor de nuestro perfil, ¿no?\n",
    "\n",
    "Esto lo conseguiremos pintando la función `psi` (tal cual está definida) en los puntos `XX_tau, YY_tau` transformados de los `XX, YY` a través de la función `transf_yukovski`, recuerda que la transformación que tenemos recibe y da números complejos. Como antes, debes separar parte real e imaginaria. En la siguiente celda transforma tt (donde debería estar almacenada la malla en forma compleja) para obtener `XX_tau, YY_tau`."
   ]
  },
  {
   "cell_type": "code",
   "execution_count": null,
   "metadata": {
    "collapsed": false
   },
   "outputs": [],
   "source": [
    "# Se transforma la malla\n",
    "\n",
    "XX_tau, YY_tau = "
   ]
  },
  {
   "cell_type": "code",
   "execution_count": null,
   "metadata": {
    "collapsed": false
   },
   "outputs": [],
   "source": [
    "# Pintamos las líneas de corriente\n"
   ]
  },
  {
   "cell_type": "code",
   "execution_count": null,
   "metadata": {
    "collapsed": false
   },
   "outputs": [],
   "source": [
    "#pintamos la malla para ver como se ha transformado\n",
    "plt.figure(\"malla\", figsize=(14,6))\n",
    "plt.subplot(1,2,1)\n",
    "\n",
    "plt.scatter(XX.flatten(), YY.flatten(),\\\n",
    "              cmap=plt.cm.Paired, c=np.linspace(0,1, N_malla**2))\n",
    "\n",
    "plt.xlim(-x_max,x_max)\n",
    "plt.ylim(-y_max,y_max)\n",
    "\n",
    "plt.subplot(1,2,2)\n",
    "\n",
    "plt.scatter(XX_tau.flatten(), YY_tau.flatten(),\\\n",
    "              cmap=plt.cm.Paired, c=np.linspace(0,1, N_malla**2))\n",
    "\n",
    "plt.xlim(-x_max,x_max)\n",
    "plt.ylim(-y_max,y_max)"
   ]
  },
  {
   "cell_type": "markdown",
   "metadata": {},
   "source": [
    "Si observas bien la figura anterior, verás como si hay una serie de líneas que parecen seguir un perfil, pero que sin embargo aparecen otras que no tienen ningún sentido. Esto está apareciendo al transformarse los puntos que están dentro de la circunferencia. Lo que vamos a hacer es eliminarlos."
   ]
  },
  {
   "cell_type": "markdown",
   "metadata": {},
   "source": [
    "### Arreglando la malla"
   ]
  },
  {
   "cell_type": "markdown",
   "metadata": {},
   "source": [
    "Para hacer esto debes recorrer uno a uno los valores del array `t` y hacer cero aquellos cuya distancia a `t0` sea menor de 0.95 veces el radio `R`. Pista: utiliza dos bucles y un condicional. Puedes obtener la distancia con `np.abs(¿¿??)`. "
   ]
  },
  {
   "cell_type": "code",
   "execution_count": null,
   "metadata": {
    "collapsed": false
   },
   "outputs": [],
   "source": [
    "# Eliminamos la singularidad que se produce al evaluar los puntos\n",
    "# cercanos al origen del plano t \n",
    "\n"
   ]
  },
  {
   "cell_type": "markdown",
   "metadata": {},
   "source": [
    "##### ¿Se te ocurre alguna manera más eficiente de hacer esto?"
   ]
  },
  {
   "cell_type": "code",
   "execution_count": null,
   "metadata": {
    "collapsed": false
   },
   "outputs": [],
   "source": []
  },
  {
   "cell_type": "markdown",
   "metadata": {},
   "source": [
    "Hecho esto, transforma de nuevo, el array t, para obtener `XX_tau, YY_tau`."
   ]
  },
  {
   "cell_type": "code",
   "execution_count": null,
   "metadata": {
    "collapsed": false
   },
   "outputs": [],
   "source": [
    "\n",
    "XX_tau, YY_tau = "
   ]
  },
  {
   "cell_type": "code",
   "execution_count": null,
   "metadata": {
    "collapsed": false
   },
   "outputs": [],
   "source": [
    "#pintamos la malla para ver como se ha transformado\n",
    "plt.figure(\"malla\", figsize=(14,6))\n",
    "plt.subplot(1,2,1)\n",
    "\n",
    "plt.scatter(XX.flatten(), YY.flatten(),\\\n",
    "              cmap=plt.cm.Paired, c=np.linspace(0,1, N_malla**2))\n",
    "\n",
    "plt.xlim(-x_max,x_max)\n",
    "plt.ylim(-y_max,y_max)\n",
    "\n",
    "plt.subplot(1,2,2)\n",
    "\n",
    "plt.scatter(XX_tau.flatten(), YY_tau.flatten(),\\\n",
    "              cmap=plt.cm.Paired, c=np.linspace(0,1, N_malla**2))\n",
    "\n",
    "plt.xlim(-x_max,x_max)\n",
    "plt.ylim(-y_max,y_max)"
   ]
  },
  {
   "cell_type": "markdown",
   "metadata": {},
   "source": [
    "### Obteniendo el flujo"
   ]
  },
  {
   "cell_type": "markdown",
   "metadata": {},
   "source": [
    "Pintamos otra vez la función psi y...."
   ]
  },
  {
   "cell_type": "code",
   "execution_count": null,
   "metadata": {
    "collapsed": false
   },
   "outputs": [],
   "source": []
  },
  {
   "cell_type": "code",
   "execution_count": null,
   "metadata": {
    "collapsed": false
   },
   "outputs": [],
   "source": [
    "#Ahora ponemos el perfil encima\n",
    "\n",
    "\n",
    "p = plt.Polygon(list(zip(Xp, Yp)), color=\"#cccccc\", zorder=10)\n",
    "plt.gca().add_patch(p)"
   ]
  },
  {
   "cell_type": "markdown",
   "metadata": {},
   "source": [
    "## 6. Interact"
   ]
  },
  {
   "cell_type": "markdown",
   "metadata": {},
   "source": [
    "__Ahora es un buen momento para jugar con todos los parámetros del problema. \n",
    "~~¡Prueba a cambiarlos y ejecuta el notebook entero!~~__ \n",
    "\n",
    "__Vamos a usar un `interact`, ¿no?__\n",
    "\n",
    "Tenemos que crear una función que haga todas las tareas: reciba los argumentos y pinte para llamar a interact con ella. No tenemos más que cortar y pegar."
   ]
  },
  {
   "cell_type": "code",
   "execution_count": null,
   "metadata": {
    "collapsed": false
   },
   "outputs": [],
   "source": [
    "def transformacion_geometrica(a, landa, delta, N_perfil=100):\n",
    "    "
   ]
  },
  {
   "cell_type": "code",
   "execution_count": null,
   "metadata": {
    "collapsed": false
   },
   "outputs": [],
   "source": []
  },
  {
   "cell_type": "code",
   "execution_count": null,
   "metadata": {
    "collapsed": false
   },
   "outputs": [],
   "source": []
  },
  {
   "cell_type": "code",
   "execution_count": null,
   "metadata": {
    "collapsed": false
   },
   "outputs": [],
   "source": [
    "def flujo_perfil_circunferencia(landa, delta, alfa, U=1,  N_malla = 100):\n",
    "    "
   ]
  },
  {
   "cell_type": "code",
   "execution_count": null,
   "metadata": {
    "collapsed": false
   },
   "outputs": [],
   "source": []
  },
  {
   "cell_type": "markdown",
   "metadata": {},
   "source": [
    "---"
   ]
  },
  {
   "cell_type": "markdown",
   "metadata": {},
   "source": [
    "_En esta clase hemos reafirmado nuestros conocimientos de NumPy, matplotlib y Python, general (funciones, bucles, condicionales...) aplicándolos a un ejemplo muy aeronáutico_"
   ]
  },
  {
   "cell_type": "markdown",
   "metadata": {},
   "source": [
    "Si te ha gustado esta clase:\n",
    "\n",
    "<a href=\"https://twitter.com/share\" class=\"twitter-share-button\" data-url=\"https://github.com/AeroPython/Curso-AeroPython-UC3M/\" data-text=\"Aprendiendo Python con\" data-via=\"AeroPython\" data-size=\"large\" data-hashtags=\"AeroPython\">Tweet</a>\n",
    "<script>!function(d,s,id){var js,fjs=d.getElementsByTagName(s)[0],p=/^http:/.test(d.location)?'http':'https';if(!d.getElementById(id)){js=d.createElement(s);js.id=id;js.src=p+'://platform.twitter.com/widgets.js';fjs.parentNode.insertBefore(js,fjs);}}(document, 'script', 'twitter-wjs');</script>\n",
    "\n",
    "---"
   ]
  },
  {
   "cell_type": "markdown",
   "metadata": {},
   "source": [
    "#### <h4 align=\"right\">¡Síguenos en Twitter!"
   ]
  },
  {
   "cell_type": "markdown",
   "metadata": {},
   "source": [
    "###### <a href=\"https://twitter.com/AeroPython\" class=\"twitter-follow-button\" data-show-count=\"false\">Follow @AeroPython</a> <script>!function(d,s,id){var js,fjs=d.getElementsByTagName(s)[0],p=/^http:/.test(d.location)?'http':'https';if(!d.getElementById(id)){js=d.createElement(s);js.id=id;js.src=p+'://platform.twitter.com/widgets.js';fjs.parentNode.insertBefore(js,fjs);}}(document, 'script', 'twitter-wjs');</script>  "
   ]
  },
  {
   "cell_type": "markdown",
   "metadata": {},
   "source": [
    "<a rel=\"license\" href=\"http://creativecommons.org/licenses/by/4.0/deed.es\"><img alt=\"Licencia Creative Commons\" style=\"border-width:0\" src=\"http://i.creativecommons.org/l/by/4.0/88x31.png\" /></a><br /><span xmlns:dct=\"http://purl.org/dc/terms/\" property=\"dct:title\">Curso AeroPython</span> por <span xmlns:cc=\"http://creativecommons.org/ns#\" property=\"cc:attributionName\">Juan Luis Cano Rodriguez y Alejandro Sáez Mollejo</span> se distribuye bajo una <a rel=\"license\" href=\"http://creativecommons.org/licenses/by/4.0/deed.es\">Licencia Creative Commons Atribución 4.0 Internacional</a>."
   ]
  },
  {
   "cell_type": "markdown",
   "metadata": {},
   "source": [
    "---\n",
    "_Las siguientes celdas contienen configuración del Notebook_\n",
    "\n",
    "_Para visualizar y utlizar los enlaces a Twitter el notebook debe ejecutarse como [seguro](http://ipython.org/ipython-doc/dev/notebook/security.html)_\n",
    "\n",
    "    File > Trusted Notebook"
   ]
  },
  {
   "cell_type": "code",
   "execution_count": 1,
   "metadata": {
    "collapsed": false
   },
   "outputs": [
    {
     "data": {
      "text/html": [
       "<a href=\"https://twitter.com/AeroPython\" class=\"twitter-follow-button\" data-show-count=\"false\">Follow @AeroPython</a>\n",
       "<script>!function(d,s,id){var js,fjs=d.getElementsByTagName(s)[0],p=/^http:/.test(d.location)?'http':'https';if(!d.getElementById(id)){js=d.createElement(s);js.id=id;js.src=p+'://platform.twitter.com/widgets.js';fjs.parentNode.insertBefore(js,fjs);}}(document, 'script', 'twitter-wjs');</script>"
      ],
      "text/plain": [
       "<IPython.core.display.HTML at 0x7fe52a40bc18>"
      ]
     },
     "metadata": {},
     "output_type": "display_data"
    }
   ],
   "source": [
    "%%html\n",
    "<a href=\"https://twitter.com/AeroPython\" class=\"twitter-follow-button\" data-show-count=\"false\">Follow @AeroPython</a>\n",
    "<script>!function(d,s,id){var js,fjs=d.getElementsByTagName(s)[0],p=/^http:/.test(d.location)?'http':'https';if(!d.getElementById(id)){js=d.createElement(s);js.id=id;js.src=p+'://platform.twitter.com/widgets.js';fjs.parentNode.insertBefore(js,fjs);}}(document, 'script', 'twitter-wjs');</script>"
   ]
  },
  {
   "cell_type": "code",
   "execution_count": 2,
   "metadata": {
    "collapsed": false
   },
   "outputs": [
    {
     "data": {
      "text/html": [
       "<link href='http://fonts.googleapis.com/css?family=Source+Sans+Pro|Josefin+Sans:400,700,400italic|Ubuntu+Condensed' rel='stylesheet' type='text/css'>\n",
       "\n",
       "El estilo se ha aplicado =)\n",
       "\n",
       "<style>\n",
       "\n",
       "\n",
       "\n",
       "#notebook_panel { /* main background */\n",
       "    background: #f7f7f7;\n",
       "}\n",
       "\n",
       "div.cell { /* set cell width */\n",
       "    width: 900px;\n",
       "}\n",
       "\n",
       "div #notebook { /* centre the content */\n",
       "    background: #fff; /* white background for content */\n",
       "    width: 950px;\n",
       "    margin: auto;\n",
       "    padding-left: 0em;\n",
       "}\n",
       "\n",
       "#notebook li { /* More space between bullet points */\n",
       "    margin-top:0.7em;\n",
       "}\n",
       "\n",
       "/* draw border around running cells */\n",
       "div.cell.border-box-sizing.code_cell.running { \n",
       "    border: 1px solid #111;\n",
       "}\n",
       "\n",
       "/* Put a solid color box around each cell and its output, visually linking them*/\n",
       "div.cell.code_cell {\n",
       "    font-family: 'Source Sans Pro', sans-serif;\n",
       "    background-color: rgb(256,256,256);\n",
       "    font-size: 110%;\n",
       "    border-radius: 0px; \n",
       "    padding: 0.5em;\n",
       "    margin-left:1em;\n",
       "    margin-top: 1em;\n",
       "}\n",
       "\n",
       "div.text_cell_render{\n",
       "    font-family: 'Josefin Sans', serif;\n",
       "    line-height: 145%;\n",
       "    font-size: 125%;\n",
       "    font-weight: 500;\n",
       "    width:750px;\n",
       "    margin-left:auto;\n",
       "    margin-right:auto;\n",
       "}\n",
       "\n",
       "\n",
       "/* Formatting for header cells */\n",
       ".text_cell_render h1, .text_cell_render h2, .text_cell_render h3,\n",
       ".text_cell_render h4, .text_cell_render h5 {\n",
       "    font-family: 'Ubuntu Condensed', sans-serif;\n",
       "}\n",
       "/*\n",
       ".text_cell_render h1 {\n",
       "    font-family: Flux, 'Ubuntu Condensed', serif;\n",
       "    font-style:regular;\n",
       "    font-weight: 400;    \n",
       "    font-size: 30pt;\n",
       "    text-align: center;\n",
       "    line-height: 100%;\n",
       "    color: #335082;\n",
       "    margin-bottom: 0.5em;\n",
       "    margin-top: 0.5em;\n",
       "    display: block;\n",
       "}\n",
       "*/\n",
       ".text_cell_render h1 {\n",
       "    font-weight: 600;\n",
       "    font-size: 35pt;\n",
       "    line-height: 100%;\n",
       "    color: #234765;\n",
       "    margin-bottom: 0.1em;\n",
       "    margin-top: 0.3em;\n",
       "    display: block;\n",
       "}\n",
       "\n",
       ".text_cell_render h2 {\n",
       "    margin-top:16px;\n",
       "    font-size: 27pt;\n",
       "    font-weight: 550;\n",
       "    margin-bottom: 0.1em;\n",
       "    margin-top: 0.3em;\n",
       "    font-style: regular;\n",
       "    color: #234765;\n",
       "}\t\n",
       "\n",
       ".text_cell_render h3 {\n",
       "    font-size: 20pt;\n",
       "    font-weight: 550\n",
       "    text-align: left;\n",
       "    margin-bottom: 0.1em;\n",
       "    margin-top: 0.3em;\n",
       "    font-style: regular;\n",
       "    color:  #376f9e;\n",
       "}\n",
       "\n",
       ".text_cell_render h4 {    /*Use this for captions*/\n",
       "    font-size: 18pt;\n",
       "    font-weight: 450\n",
       "    text-align: left;\n",
       "    margin-bottom: 0.1em;\n",
       "    margin-top: 0.3em;\n",
       "    font-style: regular;\n",
       "    color:  #376f9e;\n",
       "}\n",
       "\n",
       ".text_cell_render h5 {  /*Use this for small titles*/\n",
       "    font-size: 18pt;\n",
       "    font-weight: 550;\n",
       "    color: rgb(163,0,0);\n",
       "    font-style: italic;\n",
       "    margin-bottom: .1em;\n",
       "    margin-top: 0.8em;\n",
       "    display: block;\n",
       "    color:  #b21c0d;\n",
       "}\n",
       "\n",
       ".text_cell_render h6 { /*use this for copyright note*/\n",
       "    font-family: 'Ubuntu Condensed', sans-serif;\n",
       "    font-weight: 300;\n",
       "    font-size: 14pt;\n",
       "    line-height: 100%;\n",
       "    color: #252525;\n",
       "    text-align: right;\n",
       "    margin-bottom: 1px;\n",
       "    margin-top: 1px;\n",
       "}\n",
       "\n",
       ".CodeMirror{\n",
       "        font-family: 'Duru Sans', sans-serif;\n",
       "        font-size: 100%;\n",
       "}\n",
       "\n",
       "</style>\n",
       "<script>\n",
       "    MathJax.Hub.Config({\n",
       "                        TeX: {\n",
       "                           extensions: [\"AMSmath.js\"],\n",
       "                           equationNumbers: { autoNumber: \"AMS\", useLabelIds: true}\n",
       "                           },\n",
       "                tex2jax: {\n",
       "                    inlineMath: [ ['$','$'], [\"\\\\(\",\"\\\\)\"] ],\n",
       "                    displayMath: [ ['$$','$$'], [\"\\\\[\",\"\\\\]\"] ]\n",
       "                },\n",
       "                displayAlign: 'center', // Change this to 'center' to center equations.\n",
       "                \"HTML-CSS\": {\n",
       "                    styles: {'.MathJax_Display': {\"margin\": 4}}\n",
       "                }\n",
       "        });\n",
       "</script>\n"
      ],
      "text/plain": [
       "<IPython.core.display.HTML at 0x7fe52a3f9e80>"
      ]
     },
     "execution_count": 2,
     "metadata": {},
     "output_type": "execute_result"
    }
   ],
   "source": [
    "# Esta celda da el estilo al notebook\n",
    "from IPython.core.display import HTML\n",
    "css_file = '../static/styles/style.css'\n",
    "HTML(open(css_file, \"r\").read())"
   ]
  }
 ],
 "metadata": {
  "kernelspec": {
   "display_name": "Python 3",
   "language": "python",
   "name": "python3"
  },
  "language_info": {
   "codemirror_mode": {
    "name": "ipython",
    "version": 3
   },
   "file_extension": ".py",
   "mimetype": "text/x-python",
   "name": "python",
   "nbconvert_exporter": "python",
   "pygments_lexer": "ipython3",
   "version": "3.4.3"
  }
 },
 "nbformat": 4,
 "nbformat_minor": 0
}
