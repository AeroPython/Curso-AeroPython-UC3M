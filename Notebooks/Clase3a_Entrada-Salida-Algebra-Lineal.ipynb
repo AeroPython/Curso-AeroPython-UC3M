{
 "metadata": {
  "name": ""
 },
 "nbformat": 3,
 "nbformat_minor": 0,
 "worksheets": [
  {
   "cells": [
    {
     "cell_type": "markdown",
     "metadata": {},
     "source": [
      "# Curso AeroPython ETSIAE\n",
      "\n",
      "## Juan Luis Cano ([@Pybonacci](https://twitter.com/Pybonacci)) y \u00c1lex S\u00e1ez ([@Alex__S12](https://twitter.com/Alex__S12))"
     ]
    },
    {
     "cell_type": "markdown",
     "metadata": {},
     "source": [
      "<a rel=\"license\" href=\"http://creativecommons.org/licenses/by/4.0/deed.es\"><img alt=\"Licencia Creative Commons\" style=\"border-width:0\" src=\"http://i.creativecommons.org/l/by/4.0/88x31.png\" /></a><br /><span xmlns:dct=\"http://purl.org/dc/terms/\" property=\"dct:title\">Curso AeroPython</span> por <span xmlns:cc=\"http://creativecommons.org/ns#\" property=\"cc:attributionName\">Juan Luis Cano Rodriguez y Alejandro S\u00e1ez Mollejo</span> se distribuye bajo una <a rel=\"license\" href=\"http://creativecommons.org/licenses/by/4.0/deed.es\">Licencia Creative Commons Atribuci\u00f3n 4.0 Internacional</a>."
     ]
    },
    {
     "cell_type": "heading",
     "level": 1,
     "metadata": {},
     "source": [
      "CLASE 3a: Entrada/Salida y \u00c1lgebra Lineal"
     ]
    },
    {
     "cell_type": "heading",
     "level": 2,
     "metadata": {},
     "source": [
      "\u00c1lgebra lineal"
     ]
    },
    {
     "cell_type": "markdown",
     "metadata": {},
     "source": [
      "Como sabemos, las operaciones del \u00e1lgebra lineal aparecen con mucha frecuencia a la hora de resolver sistemas de ecuaciones en derivadas parciales y en general al linealizar problemas de todo tipo, y suele ser necesario resolver sistemas con un n\u00famero enorme de ecuaciones e inc\u00f3gnitas. Gracias a los arrays de NumPy podemos abordar este tipo de c\u00e1lculos en Python, ya que todas las funciones est\u00e1n escritas en C o Fortran y tenemos la opci\u00f3n de usar bibliotecas optimizadas al l\u00edmite."
     ]
    },
    {
     "cell_type": "markdown",
     "metadata": {},
     "source": [
      "El paquete de \u00e1lgebra lineal en NumPy se llama `linalg`, as\u00ed que importando NumPy con la convenci\u00f3n habitual podemos acceder a \u00e9l escribiendo `np.linalg`. Si imprimimos la ayuda del paquete vemos que tenemos funciones para:\n",
      "\n",
      "* Funciones b\u00e1sicas (norma de un vector, inversa de una matriz, determinante, traza)\n",
      "* Resoluci\u00f3n de sistemas\n",
      "* Autovalores y autovectores\n",
      "* Descomposiciones matriciales (QR, SVD)\n",
      "* Pseudoinversas"
     ]
    },
    {
     "cell_type": "code",
     "collapsed": false,
     "input": [
      "import numpy as np"
     ],
     "language": "python",
     "metadata": {},
     "outputs": [],
     "prompt_number": 1
    },
    {
     "cell_type": "code",
     "collapsed": false,
     "input": [
      "help(np.linalg)"
     ],
     "language": "python",
     "metadata": {},
     "outputs": [
      {
       "output_type": "stream",
       "stream": "stdout",
       "text": [
        "Help on package numpy.linalg in numpy:\n",
        "\n",
        "NAME\n",
        "    numpy.linalg\n",
        "\n",
        "DESCRIPTION\n",
        "    Core Linear Algebra Tools\n",
        "    -------------------------\n",
        "    Linear algebra basics:\n",
        "    \n",
        "    - norm            Vector or matrix norm\n",
        "    - inv             Inverse of a square matrix\n",
        "    - solve           Solve a linear system of equations\n",
        "    - det             Determinant of a square matrix\n",
        "    - lstsq           Solve linear least-squares problem\n",
        "    - pinv            Pseudo-inverse (Moore-Penrose) calculated using a singular\n",
        "                      value decomposition\n",
        "    - matrix_power    Integer power of a square matrix\n",
        "    \n",
        "    Eigenvalues and decompositions:\n",
        "    \n",
        "    - eig             Eigenvalues and vectors of a square matrix\n",
        "    - eigh            Eigenvalues and eigenvectors of a Hermitian matrix\n",
        "    - eigvals         Eigenvalues of a square matrix\n",
        "    - eigvalsh        Eigenvalues of a Hermitian matrix\n",
        "    - qr              QR decomposition of a matrix\n",
        "    - svd             Singular value decomposition of a matrix\n",
        "    - cholesky        Cholesky decomposition of a matrix\n",
        "    \n",
        "    Tensor operations:\n",
        "    \n",
        "    - tensorsolve     Solve a linear tensor equation\n",
        "    - tensorinv       Calculate an inverse of a tensor\n",
        "    \n",
        "    Exceptions:\n",
        "    \n",
        "    - LinAlgError     Indicates a failed linear algebra operation\n",
        "\n",
        "PACKAGE CONTENTS\n",
        "    _umath_linalg\n",
        "    info\n",
        "    lapack_lite\n",
        "    linalg\n",
        "    setup\n",
        "\n",
        "DATA\n",
        "    absolute_import = _Feature((2, 5, 0, 'alpha', 1), (3, 0, 0, 'alpha', 0...\n",
        "    division = _Feature((2, 2, 0, 'alpha', 2), (3, 0, 0, 'alpha', 0), 8192...\n",
        "    print_function = _Feature((2, 6, 0, 'alpha', 2), (3, 0, 0, 'alpha', 0)...\n",
        "\n",
        "FILE\n",
        "    /home/juanlu/.local/lib/python3.3/site-packages/numpy/linalg/__init__.py\n",
        "\n",
        "\n"
       ]
      }
     ],
     "prompt_number": 2
    },
    {
     "cell_type": "markdown",
     "metadata": {},
     "source": [
      "Recordemos que si queremos usar una funci\u00f3n de un paquete pero no queremos escribir la \"ruta\" completa cada vez, podemos usar la sintaxis `from package import func`:"
     ]
    },
    {
     "cell_type": "code",
     "collapsed": false,
     "input": [
      "from numpy.linalg import norm, det\n",
      "norm"
     ],
     "language": "python",
     "metadata": {},
     "outputs": [
      {
       "metadata": {},
       "output_type": "pyout",
       "prompt_number": 3,
       "text": [
        "<function numpy.linalg.linalg.norm>"
       ]
      }
     ],
     "prompt_number": 3
    },
    {
     "cell_type": "markdown",
     "metadata": {},
     "source": [
      "El producto matricial usual (no el que se hace elemento a elemento, sino el del \u00e1lgebra lineal) se calcula con la misma funci\u00f3n que el producto matriz-vector y el producto escalar vector-vector: con la funci\u00f3n `dot`, que **no** est\u00e1 en el paquete `linalg` sino directamente en `numpy` y no hace falta importarlo."
     ]
    },
    {
     "cell_type": "code",
     "collapsed": false,
     "input": [
      "np.dot"
     ],
     "language": "python",
     "metadata": {},
     "outputs": [
      {
       "metadata": {},
       "output_type": "pyout",
       "prompt_number": 4,
       "text": [
        "<function numpy.core.multiarray.dot>"
       ]
      }
     ],
     "prompt_number": 4
    },
    {
     "cell_type": "markdown",
     "metadata": {},
     "source": [
      "Una consideraci\u00f3n importante a tener en cuenta es que en NumPy no hace falta ser estricto a la hora de manejar vectores como si fueran matrices columna, siempre que la operaci\u00f3n sea consistente. Un vector es una matriz con una sola dimensi\u00f3n: por eso si calculamos su traspuesta no funciona."
     ]
    },
    {
     "cell_type": "code",
     "collapsed": false,
     "input": [
      "M = np.array([\n",
      "    [1, 2],\n",
      "    [3, 4]\n",
      "])\n",
      "v = np.array([1, -1])"
     ],
     "language": "python",
     "metadata": {},
     "outputs": [],
     "prompt_number": 5
    },
    {
     "cell_type": "code",
     "collapsed": false,
     "input": [
      "v.T"
     ],
     "language": "python",
     "metadata": {},
     "outputs": [
      {
       "metadata": {},
       "output_type": "pyout",
       "prompt_number": 6,
       "text": [
        "array([ 1, -1])"
       ]
      }
     ],
     "prompt_number": 6
    },
    {
     "cell_type": "code",
     "collapsed": false,
     "input": [
      "u = np.dot(M, v)\n",
      "u"
     ],
     "language": "python",
     "metadata": {},
     "outputs": [
      {
       "metadata": {},
       "output_type": "pyout",
       "prompt_number": 7,
       "text": [
        "array([-1, -1])"
       ]
      }
     ],
     "prompt_number": 7
    },
    {
     "cell_type": "markdown",
     "metadata": {},
     "source": [
      "Para hacer comparaciones entre arrays de punto flotante se pueden usar las funciones `np.allclose` y `np.isclose`. La primera comprueba si todos los elementos de los arrays son iguales dentro de una tolerancia, y la segunda compara elemento a elemento y devuelve un array de valores `True` y `False`."
     ]
    },
    {
     "cell_type": "code",
     "collapsed": false,
     "input": [
      "u, v"
     ],
     "language": "python",
     "metadata": {},
     "outputs": [
      {
       "metadata": {},
       "output_type": "pyout",
       "prompt_number": 8,
       "text": [
        "(array([-1, -1]), array([ 1, -1]))"
       ]
      }
     ],
     "prompt_number": 8
    },
    {
     "cell_type": "code",
     "collapsed": false,
     "input": [
      "np.allclose(u, v)"
     ],
     "language": "python",
     "metadata": {},
     "outputs": [
      {
       "metadata": {},
       "output_type": "pyout",
       "prompt_number": 9,
       "text": [
        "False"
       ]
      }
     ],
     "prompt_number": 9
    },
    {
     "cell_type": "code",
     "collapsed": false,
     "input": [
      "np.isclose(0.0, 1e-8, atol=1e-10)"
     ],
     "language": "python",
     "metadata": {},
     "outputs": [
      {
       "metadata": {},
       "output_type": "pyout",
       "prompt_number": 10,
       "text": [
        "False"
       ]
      }
     ],
     "prompt_number": 10
    },
    {
     "cell_type": "heading",
     "level": 3,
     "metadata": {},
     "source": [
      "Ejercicios"
     ]
    },
    {
     "cell_type": "markdown",
     "metadata": {},
     "source": [
      "1- Hallar el producto de estas dos matrices y su determinante:\n",
      "\n",
      "$$\\begin{pmatrix} 1 & 0 & 0 \\\\ 2 & 1 & 1 \\\\ -1 & 0 & 1 \\end{pmatrix} \\begin{pmatrix} 2 & 3 & -1 \\\\ 0 & -2 & 1 \\\\ 0 & 0 & 3 \\end{pmatrix}$$"
     ]
    },
    {
     "cell_type": "code",
     "collapsed": false,
     "input": [
      "from numpy.linalg import det"
     ],
     "language": "python",
     "metadata": {},
     "outputs": [],
     "prompt_number": 11
    },
    {
     "cell_type": "code",
     "collapsed": false,
     "input": [
      "A = np.array([\n",
      "    [1, 0, 0],\n",
      "    [2, 1, 1],\n",
      "    [-1, 0, 1]\n",
      "])\n",
      "B = np.array([\n",
      "    [2, 3, -1],\n",
      "    [0, -2, 1],\n",
      "    [0, 0, 3]\n",
      "])\n",
      "A, B"
     ],
     "language": "python",
     "metadata": {},
     "outputs": [
      {
       "metadata": {},
       "output_type": "pyout",
       "prompt_number": 12,
       "text": [
        "(array([[ 1,  0,  0],\n",
        "       [ 2,  1,  1],\n",
        "       [-1,  0,  1]]),\n",
        " array([[ 2,  3, -1],\n",
        "       [ 0, -2,  1],\n",
        "       [ 0,  0,  3]]))"
       ]
      }
     ],
     "prompt_number": 12
    },
    {
     "cell_type": "code",
     "collapsed": false,
     "input": [
      "C = np.dot(A, B)\n",
      "C"
     ],
     "language": "python",
     "metadata": {},
     "outputs": [
      {
       "metadata": {},
       "output_type": "pyout",
       "prompt_number": 13,
       "text": [
        "array([[ 2,  3, -1],\n",
        "       [ 4,  4,  2],\n",
        "       [-2, -3,  4]])"
       ]
      }
     ],
     "prompt_number": 13
    },
    {
     "cell_type": "code",
     "collapsed": false,
     "input": [
      "det(C)"
     ],
     "language": "python",
     "metadata": {},
     "outputs": [
      {
       "metadata": {},
       "output_type": "pyout",
       "prompt_number": 14,
       "text": [
        "-12.0"
       ]
      }
     ],
     "prompt_number": 14
    },
    {
     "cell_type": "markdown",
     "metadata": {},
     "source": [
      "2- Resolver el siguiente sistema:\n",
      "\n",
      "$$ \\begin{pmatrix} 2 & 0 & 0 \\\\ -1 & 1 & 0 \\\\ 3 & 2 & -1 \\end{pmatrix} \\begin{pmatrix} 1 & 1 & 1 \\\\ 0 & 1 & 2 \\\\ 0 & 0 & 1 \\end{pmatrix} \\begin{pmatrix} x \\\\ y \\\\ z \\end{pmatrix} = \\begin{pmatrix} -1 \\\\ 3 \\\\ 0 \\end{pmatrix} $$"
     ]
    },
    {
     "cell_type": "code",
     "collapsed": false,
     "input": [
      "M = np.dot(\n",
      "np.array([\n",
      "    [2, 0, 0],\n",
      "    [-1, 1, 0],\n",
      "    [3, 2, -1]\n",
      "]),\n",
      "np.array([\n",
      "    [1, 1, 1],\n",
      "    [0, 1, 2],\n",
      "    [0, 0, 1]\n",
      "]))\n",
      "M"
     ],
     "language": "python",
     "metadata": {},
     "outputs": [
      {
       "metadata": {},
       "output_type": "pyout",
       "prompt_number": 15,
       "text": [
        "array([[ 2,  2,  2],\n",
        "       [-1,  0,  1],\n",
        "       [ 3,  5,  6]])"
       ]
      }
     ],
     "prompt_number": 15
    },
    {
     "cell_type": "code",
     "collapsed": false,
     "input": [
      "x = np.linalg.solve(M, np.array([-1, 3, 0]))\n",
      "x"
     ],
     "language": "python",
     "metadata": {},
     "outputs": [
      {
       "metadata": {},
       "output_type": "pyout",
       "prompt_number": 16,
       "text": [
        "array([ 0.5, -4.5,  3.5])"
       ]
      }
     ],
     "prompt_number": 16
    },
    {
     "cell_type": "code",
     "collapsed": false,
     "input": [
      "np.allclose(np.dot(M, x), np.array([-1, 3, 0]))"
     ],
     "language": "python",
     "metadata": {},
     "outputs": [
      {
       "metadata": {},
       "output_type": "pyout",
       "prompt_number": 17,
       "text": [
        "True"
       ]
      }
     ],
     "prompt_number": 17
    },
    {
     "cell_type": "markdown",
     "metadata": {},
     "source": [
      "3- Hallar la inversa de la matriz $H$ y comprobar que $H H^{-1} = I$ (recuerda la funci\u00f3n `np.eye`)"
     ]
    },
    {
     "cell_type": "code",
     "collapsed": false,
     "input": [
      "A = np.arange(1, 37).reshape(6,6)\n",
      "A[1, 1::2] = 0\n",
      "A[3, ::2] = 1\n",
      "A[4, :] += 30\n",
      "B = (2 ** np.arange(36)).reshape((6,6))\n",
      "H = A + B\n",
      "H"
     ],
     "language": "python",
     "metadata": {},
     "outputs": [
      {
       "metadata": {},
       "output_type": "pyout",
       "prompt_number": 18,
       "text": [
        "array([[          2,           4,           7,          12,          21,\n",
        "                 38],\n",
        "       [         71,         128,         265,         512,        1035,\n",
        "               2048],\n",
        "       [       4109,        8206,       16399,       32784,       65553,\n",
        "             131090],\n",
        "       [     262145,      524308,     1048577,     2097174,     4194305,\n",
        "            8388632],\n",
        "       [   16777271,    33554488,    67108921,   134217786,   268435515,\n",
        "          536870972],\n",
        "       [ 1073741855,  2147483680,  4294967329,  8589934626, 17179869219,\n",
        "        34359738404]])"
       ]
      }
     ],
     "prompt_number": 18
    },
    {
     "cell_type": "code",
     "collapsed": false,
     "input": [
      "np.linalg.det(H)"
     ],
     "language": "python",
     "metadata": {},
     "outputs": [
      {
       "metadata": {},
       "output_type": "pyout",
       "prompt_number": 19,
       "text": [
        "456269.59150316147"
       ]
      }
     ],
     "prompt_number": 19
    },
    {
     "cell_type": "code",
     "collapsed": false,
     "input": [
      "Hinv = np.linalg.inv(H)"
     ],
     "language": "python",
     "metadata": {},
     "outputs": [],
     "prompt_number": 20
    },
    {
     "cell_type": "code",
     "collapsed": false,
     "input": [
      "np.isclose(np.dot(Hinv, H), np.eye(6))"
     ],
     "language": "python",
     "metadata": {},
     "outputs": [
      {
       "metadata": {},
       "output_type": "pyout",
       "prompt_number": 21,
       "text": [
        "array([[False, False, False, False, False, False],\n",
        "       [False, False, False, False, False, False],\n",
        "       [False, False, False, False, False, False],\n",
        "       [False, False, False, False, False, False],\n",
        "       [False,  True, False, False,  True, False],\n",
        "       [False,  True, False,  True,  True, False]], dtype=bool)"
       ]
      }
     ],
     "prompt_number": 21
    },
    {
     "cell_type": "code",
     "collapsed": false,
     "input": [
      "np.dot(Hinv, H)"
     ],
     "language": "python",
     "metadata": {},
     "outputs": [
      {
       "metadata": {},
       "output_type": "pyout",
       "prompt_number": 22,
       "text": [
        "array([[  2.18750000e+00,   2.37500000e+00,   5.00000000e+00,\n",
        "          9.00000000e+00,   1.90000000e+01,   4.00000000e+01],\n",
        "       [  1.87500000e-01,   1.43750000e+00,   8.75000000e-01,\n",
        "          1.75000000e+00,   3.50000000e+00,   6.00000000e+00],\n",
        "       [ -5.00000000e-01,  -5.00000000e-01,  -5.00000000e-01,\n",
        "         -2.00000000e+00,  -6.00000000e+00,  -1.60000000e+01],\n",
        "       [  1.25000000e-01,   2.50000000e-01,   5.00000000e-01,\n",
        "          1.50000000e+00,   2.00000000e+00,   6.00000000e+00],\n",
        "       [  6.25000000e-02,   0.00000000e+00,   2.50000000e-01,\n",
        "         -5.00000000e-01,   1.00000000e+00,   2.00000000e+00],\n",
        "       [ -3.12500000e-02,   0.00000000e+00,  -1.25000000e-01,\n",
        "          0.00000000e+00,   0.00000000e+00,   0.00000000e+00]])"
       ]
      }
     ],
     "prompt_number": 22
    },
    {
     "cell_type": "markdown",
     "metadata": {},
     "source": [
      "<div class=\"alert alert-warning\">\u00a1No funciona! Y no solo eso sino que los resultados var\u00edan de un ordenador a otro.</div>"
     ]
    },
    {
     "cell_type": "markdown",
     "metadata": {},
     "source": [
      "4- Comprobar el n\u00famero de condici\u00f3n de la matriz $H$."
     ]
    },
    {
     "cell_type": "code",
     "collapsed": false,
     "input": [
      "np.linalg.cond(H)"
     ],
     "language": "python",
     "metadata": {},
     "outputs": [
      {
       "metadata": {},
       "output_type": "pyout",
       "prompt_number": 23,
       "text": [
        "1.0682988820367766e+17"
       ]
      }
     ],
     "prompt_number": 23
    },
    {
     "cell_type": "markdown",
     "metadata": {},
     "source": [
      "<div class=\"alert alert-warning\">La matriz est\u00e1 mal condicionada.</div>"
     ]
    },
    {
     "cell_type": "heading",
     "level": 2,
     "metadata": {},
     "source": [
      "Entrada/Salida"
     ]
    },
    {
     "cell_type": "markdown",
     "metadata": {},
     "source": [
      "Con E/S (I/O en ingl\u00e9s) entendemos leer y escribir datos archivos. Es algo que necesitaremos hacer con relativa frecuencia, y en NumPy es muy sencillo de hacer. Para el caso de la **lectura** se usa la funci\u00f3n `np.loadtxt`."
     ]
    },
    {
     "cell_type": "markdown",
     "metadata": {},
     "source": [
      "Activamos el modo inline de matplotlib e importamos las bibliotecas como de costumbre:"
     ]
    },
    {
     "cell_type": "code",
     "collapsed": false,
     "input": [
      "%matplotlib inline\n",
      "\n",
      "import matplotlib.pyplot as plt"
     ],
     "language": "python",
     "metadata": {},
     "outputs": [],
     "prompt_number": 25
    },
    {
     "cell_type": "markdown",
     "metadata": {},
     "source": [
      "Para practicar, vamos a leer el archivo `temperaturas.csv` que contiene datos diarios de temperaturas en Nueva York entre el 1 de enero de 2013 y el 1 de enero de 2014, obtenidos gratuitamente de http://ncdc.noaa.gov/. Como los hemos descargado en formato CSV habr\u00e1 que tener algunas precauciones a la hora de leer el archivo."
     ]
    },
    {
     "cell_type": "code",
     "collapsed": false,
     "input": [
      "!head temperaturas.csv  # 10 primeras l\u00edneas de temperaturas.csv (Linux / OS X)"
     ],
     "language": "python",
     "metadata": {},
     "outputs": [
      {
       "output_type": "stream",
       "stream": "stdout",
       "text": [
        "STATION,DATE,TMAX,TMIN\r\n",
        "GHCND:USW00094728,20130101,44,-33\r\n",
        "GHCND:USW00094728,20130102,6,-56\r\n",
        "GHCND:USW00094728,20130103,0,-44\r\n",
        "GHCND:USW00094728,20130104,28,-11\r\n",
        "GHCND:USW00094728,20130105,56,0\r\n",
        "GHCND:USW00094728,20130106,78,11\r\n",
        "GHCND:USW00094728,20130107,72,28\r\n",
        "GHCND:USW00094728,20130108,89,17\r\n",
        "GHCND:USW00094728,20130109,94,39\r\n"
       ]
      }
     ],
     "prompt_number": 26
    },
    {
     "cell_type": "code",
     "collapsed": false,
     "input": [
      "datos = np.loadtxt(\"temperaturas.csv\",\n",
      "                   skiprows=1,  # Saltamos una l\u00ednea\n",
      "                   usecols=(1, 2, 3),  # Solo columnas 2, 3 y 4\n",
      "                   delimiter=',')  # Separados por comas"
     ],
     "language": "python",
     "metadata": {},
     "outputs": [],
     "prompt_number": 27
    },
    {
     "cell_type": "code",
     "collapsed": false,
     "input": [
      "datos[:9]"
     ],
     "language": "python",
     "metadata": {},
     "outputs": [
      {
       "metadata": {},
       "output_type": "pyout",
       "prompt_number": 28,
       "text": [
        "array([[  2.01301010e+07,   4.40000000e+01,  -3.30000000e+01],\n",
        "       [  2.01301020e+07,   6.00000000e+00,  -5.60000000e+01],\n",
        "       [  2.01301030e+07,   0.00000000e+00,  -4.40000000e+01],\n",
        "       [  2.01301040e+07,   2.80000000e+01,  -1.10000000e+01],\n",
        "       [  2.01301050e+07,   5.60000000e+01,   0.00000000e+00],\n",
        "       [  2.01301060e+07,   7.80000000e+01,   1.10000000e+01],\n",
        "       [  2.01301070e+07,   7.20000000e+01,   2.80000000e+01],\n",
        "       [  2.01301080e+07,   8.90000000e+01,   1.70000000e+01],\n",
        "       [  2.01301090e+07,   9.40000000e+01,   3.90000000e+01]])"
       ]
      }
     ],
     "prompt_number": 28
    },
    {
     "cell_type": "markdown",
     "metadata": {},
     "source": [
      "La primera columna es un entero con formato \"AAAAMMDD\" que vamos a ignorar. Las temperaturas est\u00e1n medidas en d\u00e9cimas de grado Celsius, as\u00ed que hay que pasarlas a grados Celsius. Vamos a calcular tambi\u00e9n la temperatura media."
     ]
    },
    {
     "cell_type": "code",
     "collapsed": false,
     "input": [
      "Tmax = datos[:, 1] / 10\n",
      "Tmin = datos[:, 2] / 10\n",
      "Tavg = (Tmax + Tmin) / 2"
     ],
     "language": "python",
     "metadata": {},
     "outputs": [],
     "prompt_number": 29
    },
    {
     "cell_type": "markdown",
     "metadata": {},
     "source": [
      "Como vamos a ignorar la columna de las fechas tenemos que crear un dominio para el eje x. Simplemente construiremos un array de enteros desde 0 hasta 365."
     ]
    },
    {
     "cell_type": "code",
     "collapsed": false,
     "input": [
      "x = np.arange(366)"
     ],
     "language": "python",
     "metadata": {},
     "outputs": [],
     "prompt_number": 30
    },
    {
     "cell_type": "markdown",
     "metadata": {},
     "source": [
      "Y ahora representamos la evoluci\u00f3n de la temperatura media (por ejemplo de color negro), indicando \"Daily summaries\" en el t\u00edtulo, \"Days\" en el eje x y \"Temperature (C)\" en el eje y, usando la interfaz orientada a objetos de matplotlib (funci\u00f3n `plt.subplots`). Podemos crear una zona rellena entre la m\u00e1xima y la m\u00ednima con la funci\u00f3n `fill_between(x, max, min)` (por ejemplo de color #4f88b1). Si los l\u00edmites del eje x no quedan como queremos podemos usar la funci\u00f3n `set_xlim(xmin, xmax)`."
     ]
    },
    {
     "cell_type": "code",
     "collapsed": false,
     "input": [
      "fig, ax = plt.subplots()\n",
      "\n",
      "ax.plot(x, Tavg, 'k')\n",
      "ax.set_xlim(0, 366)\n",
      "ax.fill_between(x, Tmin, Tmax, facecolor='#4f88b1', edgecolor='none')\n",
      "ax.set_title(\"Daily summaries\")\n",
      "ax.set_xlabel(\"Days\")\n",
      "ax.set_ylabel(\"Temperature (C)\")"
     ],
     "language": "python",
     "metadata": {},
     "outputs": [
      {
       "metadata": {},
       "output_type": "pyout",
       "prompt_number": 31,
       "text": [
        "<matplotlib.text.Text at 0x7fbf58588310>"
       ]
      },
      {
       "metadata": {},
       "output_type": "display_data",
       "png": "[encoded data removed]",
       "text": [
        "<matplotlib.figure.Figure at 0x7fbf58568c50>"
       ]
      }
     ],
     "prompt_number": 31
    },
    {
     "cell_type": "heading",
     "level": 2,
     "metadata": {},
     "source": [
      "Ejercicio: pintando \u00f3rbitas"
     ]
    },
    {
     "cell_type": "markdown",
     "metadata": {},
     "source": [
      "Efem\u00e9rides de un cuerpo celeste obtenidos gratuitamente de http://ssd.jpl.nasa.gov/horizons.cgi."
     ]
    },
    {
     "cell_type": "markdown",
     "metadata": {},
     "source": [
      "Symbol meaning  \n",
      "\n",
      "      JD     Epoch Julian Date\n",
      "      CT     Coordinate Time\n",
      "      EC     Eccentricity, e                                                   \n",
      "      QR     Periapsis distance, q (km)                                        \n",
      "      IN     Inclination w.r.t xy-plane, i (degrees)                           \n",
      "      OM     Longitude of Ascending Node, OMEGA, (degrees)                     \n",
      "      W      Argument of Perifocus, w (degrees)                                \n",
      "      Tp     Time of periapsis (Julian day number)                             \n",
      "      N      Mean motion, n (degrees/sec)                                      \n",
      "      MA     Mean anomaly, M (degrees)                                         \n",
      "      TA     True anomaly, nu (degrees)                                        \n",
      "      A      Semi-major axis, a (km)                                           \n",
      "      AD     Apoapsis distance (km)                                            \n",
      "      PR     Sidereal orbit period (sec) "
     ]
    },
    {
     "cell_type": "code",
     "collapsed": false,
     "input": [
      "!head ephemeris.txt -n3  # Linux / OS X"
     ],
     "language": "python",
     "metadata": {},
     "outputs": [
      {
       "output_type": "stream",
       "stream": "stdout",
       "text": [
        "2433282.500000000, A.D. 1950-Jan-01 00:00:00.0000,  9.666110677169295E-01,  8.953796787785684E+07,  1.622447702690890E+02,  5.869955027151786E+01,  1.118026821213448E+02,  2.446487697542086E+06,  1.503042968045561E-07,  1.885134587850559E+02,  1.805645939340702E+02,  2.681666101771554E+09,  5.273794235665252E+09,  2.395141108095637E+09,\r\n",
        "2433292.500000000, A.D. 1950-Jan-11 00:00:00.0000,  9.666135978209408E-01,  8.953094473461546E+07,  1.622437017742493E+02,  5.870806123985886E+01,  1.118110844287607E+02,  2.446487962532523E+06,  1.503048967627764E-07,  1.886391964493662E+02,  1.805729257458297E+02,  2.681658965660326E+09,  5.273786986586037E+09,  2.395131547631357E+09,\r\n",
        "2433302.500000000, A.D. 1950-Jan-21 00:00:00.0000,  9.666153493934418E-01,  8.952605207815953E+07,  1.622427575368709E+02,  5.871557596892930E+01,  1.118185113201995E+02,  2.446488213981828E+06,  1.503053891907396E-07,  1.887652334767849E+02,  1.805812846110738E+02,  2.681653108586756E+09,  5.273780165095353E+09,  2.395123700742060E+09,\r\n"
       ]
      }
     ],
     "prompt_number": 34
    },
    {
     "cell_type": "markdown",
     "metadata": {},
     "source": [
      "M\u00f3dulos `jdcal` y `orbital` con funciones \u00fatiles:"
     ]
    },
    {
     "cell_type": "code",
     "collapsed": false,
     "input": [
      "import jdcal\n",
      "import orbital"
     ],
     "language": "python",
     "metadata": {},
     "outputs": [],
     "prompt_number": 36
    },
    {
     "cell_type": "markdown",
     "metadata": {},
     "source": [
      "1. Averiguar qu\u00e9 datos de entrada recibe la funci\u00f3n `rv2coe`, prestando atenci\u00f3n a las unidades.\n",
      "2. Leer los datos necesarios de `ephemeris.txt` usando el argumento `usecols` en un array `efemerides` (leer tambi\u00e9n la JD para tener una referencia de tiempos).\n",
      "3. Modificar las columnas de `efemerides` cuyas unidades no concuerdan con las que recibe `rv2coe`.\n",
      "4. Definir dos matrices `rr` y `vv` con los tama\u00f1os adecuados para almacenar los vectores posici\u00f3n y velocidad.\n",
      "5. Por cada fila en `efemerides`, aplicar la funci\u00f3n `rv2coe` y almacenar los resultados en sendas filas de `rr` y `vv`.\n",
      "6. Hallar los m\u00f3dulos de los vectores `rr` con la funci\u00f3n `np.linalg.norm` y guardarlos en un vector `rr_norm`.\n",
      "7. Representar la \u00f3rbita en su plano, calculando las coordenadas `x` e `y` usando el m\u00f3dulo del vector posici\u00f3n y la anomal\u00eda verdadera.\n",
      "8. Calcular el momento cin\u00e9tico en cada punto, aplicando $\\mathbf{h} = \\mathbf{r} \\times \\mathbf{v}$ (`np.cross`).\n",
      "9. Representar el momento cin\u00e9tico y valorar si el resultado tiene sentido o no."
     ]
    },
    {
     "cell_type": "markdown",
     "metadata": {},
     "source": [
      "<div class=\"alert alert-info\">Se deja sin resolver por unos d\u00edas m\u00e1s :)</div>"
     ]
    }
   ],
   "metadata": {}
  }
 ]
}