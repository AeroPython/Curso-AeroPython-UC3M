{
 "metadata": {
  "name": ""
 },
 "nbformat": 3,
 "nbformat_minor": 0,
 "worksheets": [
  {
   "cells": [
    {
     "cell_type": "heading",
     "level": 1,
     "metadata": {},
     "source": [
      "Parte 3 - Visualizaci\u00f3n con matplotlib"
     ]
    },
    {
     "cell_type": "markdown",
     "metadata": {},
     "source": [
      "<img src=\"/files/pybofractal.png\" width=\"200\" /> Juan Luis Cano <juanlu001@gmail.com> - **Pybonacci** http://pybonacci.wordpress.com/"
     ]
    },
    {
     "cell_type": "heading",
     "level": 2,
     "metadata": {},
     "source": [
      "\u00bfQu\u00e9 es matplotlib?"
     ]
    },
    {
     "cell_type": "markdown",
     "metadata": {},
     "source": [
      "* Est\u00e1ndar *de facto* para visualizaci\u00f3n en Python\n",
      "* Pretende ser similar a las funciones de visualizaci\u00f3n de MATLAB\n",
      "* Diferentes formas de usarla: interfaz `pyplot` y orientada a objetos"
     ]
    },
    {
     "cell_type": "markdown",
     "metadata": {},
     "source": [
      "Lo primero que vamos a hacer es activar el modo *inline* - de esta manera las figuras aparecer\u00e1n autom\u00e1ticamente incrustadas en el notebook."
     ]
    },
    {
     "cell_type": "code",
     "collapsed": false,
     "input": [
      "%matplotlib inline"
     ],
     "language": "python",
     "metadata": {},
     "outputs": [],
     "prompt_number": 1
    },
    {
     "cell_type": "markdown",
     "metadata": {},
     "source": [
      "Importamos los paquetes necesarios:"
     ]
    },
    {
     "cell_type": "code",
     "collapsed": false,
     "input": [
      "import matplotlib.pyplot as plt\n",
      "import numpy as np"
     ],
     "language": "python",
     "metadata": {},
     "outputs": [],
     "prompt_number": 2
    },
    {
     "cell_type": "markdown",
     "metadata": {},
     "source": [
      "La biblioteca matplotlib es gigantesca y es dif\u00edcil hacerse una idea global de todas sus posibilidades en una primera toma de contacto. Es recomendable tener a mano la documentaci\u00f3n y la galer\u00eda (http://matplotlib.org/gallery.html#pylab_examples):"
     ]
    },
    {
     "cell_type": "code",
     "collapsed": false,
     "input": [
      "from IPython.display import HTML\n",
      "HTML('<iframe src=\"http://matplotlib.org/gallery.html#pylab_examples\" width=\"800\" height=\"600\"></iframe>')"
     ],
     "language": "python",
     "metadata": {},
     "outputs": [
      {
       "html": [
        "<iframe src=\"http://matplotlib.org/gallery.html#pylab_examples\" width=\"800\" height=\"600\"></iframe>"
       ],
       "metadata": {},
       "output_type": "pyout",
       "prompt_number": 3,
       "text": [
        "<IPython.core.display.HTML at 0x7f67dc2617d0>"
       ]
      }
     ],
     "prompt_number": 3
    },
    {
     "cell_type": "markdown",
     "metadata": {},
     "source": [
      "Si hacemos clic en cualquiera de las im\u00e1genes, accedemos al c\u00f3digo fuente que la ha generado (ejemplo: http://matplotlib.org/examples/pylab_examples/annotation_demo.html):"
     ]
    },
    {
     "cell_type": "code",
     "collapsed": false,
     "input": [
      "HTML('<iframe src=\"http://matplotlib.org/examples/pylab_examples/annotation_demo.html\" width=\"800\" height=\"600\"></iframe>')"
     ],
     "language": "python",
     "metadata": {},
     "outputs": [
      {
       "html": [
        "<iframe src=\"http://matplotlib.org/examples/pylab_examples/annotation_demo.html\" width=\"800\" height=\"600\"></iframe>"
       ],
       "metadata": {},
       "output_type": "pyout",
       "prompt_number": 4,
       "text": [
        "<IPython.core.display.HTML at 0x7f67ba7dc710>"
       ]
      }
     ],
     "prompt_number": 4
    },
    {
     "cell_type": "heading",
     "level": 2,
     "metadata": {},
     "source": [
      "Interfaz pyplot"
     ]
    },
    {
     "cell_type": "heading",
     "level": 3,
     "metadata": {},
     "source": [
      "Funci\u00f3n `plot`"
     ]
    },
    {
     "cell_type": "markdown",
     "metadata": {},
     "source": [
      "La interfaz `pyplot` proporciona una serie de funciones que operan sobre un *estado global* - es decir, nosotros no especificamos sobre qu\u00e9 gr\u00e1fica o ejes estamos actuando. Es una forma r\u00e1pida y c\u00f3moda de crear gr\u00e1ficas pero perdemos parte del control."
     ]
    },
    {
     "cell_type": "markdown",
     "metadata": {},
     "source": [
      "El paquete `pyplot` se suele importar bajo el alias `plt`, de modo que todas las funciones se acceden a trav\u00e9s de `plt.<funcion>`. La funci\u00f3n m\u00e1s b\u00e1sica es la funci\u00f3n `plot`:"
     ]
    },
    {
     "cell_type": "code",
     "collapsed": false,
     "input": [],
     "language": "python",
     "metadata": {},
     "outputs": []
    },
    {
     "cell_type": "markdown",
     "metadata": {},
     "source": [
      "La funci\u00f3n `plot` recibe una sola lista (si queremos especificar los valores *y*) o dos listas (si especificamos *x* e *y*). Naturalmente si especificamos dos listas ambas tienen que tener la misma longitud."
     ]
    },
    {
     "cell_type": "markdown",
     "metadata": {},
     "source": [
      "La tarea m\u00e1s habitual a la hora de trabajar con matplotlib es representar una funci\u00f3n. Lo que tendremos que hacer es definir un dominio y evaluarla en dicho dominio. Por ejemplo:"
     ]
    },
    {
     "cell_type": "markdown",
     "metadata": {},
     "source": [
      "$$ f(x) = e^{-x^2} $$"
     ]
    },
    {
     "cell_type": "code",
     "collapsed": false,
     "input": [],
     "language": "python",
     "metadata": {},
     "outputs": []
    },
    {
     "cell_type": "markdown",
     "metadata": {},
     "source": [
      "Definimos el dominio con la funci\u00f3n `np.linspace`, que crea un vector de puntos equiespaciados:"
     ]
    },
    {
     "cell_type": "code",
     "collapsed": false,
     "input": [],
     "language": "python",
     "metadata": {},
     "outputs": []
    },
    {
     "cell_type": "markdown",
     "metadata": {},
     "source": [
      "Y representamos la funci\u00f3n:"
     ]
    },
    {
     "cell_type": "code",
     "collapsed": false,
     "input": [],
     "language": "python",
     "metadata": {},
     "outputs": []
    },
    {
     "cell_type": "markdown",
     "metadata": {},
     "source": [
      "Notamos varias cosas:\n",
      "\n",
      "* Con diversas llamadas a funciones dentro de `plt.` se actualiza el gr\u00e1fico *actual*. Esa es la forma de trabajar con la interfaz pyplot.\n",
      "* Podemos a\u00f1adir etiquetas, y escribir $\\LaTeX$ en ellas. Tan solo hay que encerrarlo entre signos de d\u00f3lar $$."
     ]
    },
    {
     "cell_type": "heading",
     "level": 3,
     "metadata": {},
     "source": [
      "Personalizaci\u00f3n"
     ]
    },
    {
     "cell_type": "markdown",
     "metadata": {},
     "source": [
      "La funci\u00f3n `plot` acepta una serie de argumentos para personalizar el aspecto de la funci\u00f3n. Con una letra podemos especificar el color, y con un s\u00edmbolo el tipo de l\u00ednea."
     ]
    },
    {
     "cell_type": "code",
     "collapsed": false,
     "input": [],
     "language": "python",
     "metadata": {},
     "outputs": []
    },
    {
     "cell_type": "markdown",
     "metadata": {},
     "source": [
      "Esto en realidad son c\u00f3digos abreviados, que se corresponden con argumentos de la funci\u00f3n `plot`:"
     ]
    },
    {
     "cell_type": "code",
     "collapsed": false,
     "input": [],
     "language": "python",
     "metadata": {},
     "outputs": []
    },
    {
     "cell_type": "markdown",
     "metadata": {},
     "source": [
      "La lista de posibles argumentos y abreviaturas est\u00e1 disponible en la documentaci\u00f3n de la funci\u00f3n `plot` http://matplotlib.org/api/pyplot_api.html#matplotlib.pyplot.plot."
     ]
    },
    {
     "cell_type": "heading",
     "level": 3,
     "metadata": {},
     "source": [
      "Otro tipo de gr\u00e1ficas"
     ]
    },
    {
     "cell_type": "markdown",
     "metadata": {},
     "source": [
      "La funci\u00f3n `scatter` muestra una nube de puntos, con posibilidad de variar tambi\u00e9n el tama\u00f1o y el color."
     ]
    },
    {
     "cell_type": "code",
     "collapsed": false,
     "input": [],
     "language": "python",
     "metadata": {},
     "outputs": []
    },
    {
     "cell_type": "markdown",
     "metadata": {},
     "source": [
      "Con `s` y `c` podemos modificar el tama\u00f1o y el color respectivamente. Para el color, a cada valor num\u00e9rico se le asigna un color a trav\u00e9s de un *mapa de colores*; ese mapa se puede cambiar con el argumento `cmap`. Esa correspondencia se puede visualizar llamando a la funci\u00f3n `colorbar`."
     ]
    },
    {
     "cell_type": "code",
     "collapsed": false,
     "input": [],
     "language": "python",
     "metadata": {},
     "outputs": []
    },
    {
     "cell_type": "code",
     "collapsed": false,
     "input": [],
     "language": "python",
     "metadata": {},
     "outputs": []
    },
    {
     "cell_type": "markdown",
     "metadata": {},
     "source": [
      "matplotlib trae por defecto muchos mapas de colores. En las SciPy Lecture Notes dan una lista de todos ellos (http://scipy-lectures.github.io/intro/matplotlib/matplotlib.html#colormaps)\n",
      "\n",
      "![matplotlib colormaps](/files/plot_colormaps.png)"
     ]
    },
    {
     "cell_type": "markdown",
     "metadata": {},
     "source": [
      "La funci\u00f3n `contour` se utiliza para visualizar las curvas de nivel de funciones de dos variables y est\u00e1 muy ligada a la funci\u00f3n `np.meshgrid`. Veamos un ejemplo:\n",
      "\n",
      "$$f(x) = x^2 - y^2$$"
     ]
    },
    {
     "cell_type": "code",
     "collapsed": false,
     "input": [],
     "language": "python",
     "metadata": {},
     "outputs": []
    },
    {
     "cell_type": "markdown",
     "metadata": {},
     "source": [
      "La funci\u00f3n `contourf` es casi id\u00e9ntica pero rellena el espacio entre niveles. Podemos especificar manualmente estos niveles usando el cuarto argumento:"
     ]
    },
    {
     "cell_type": "code",
     "collapsed": false,
     "input": [],
     "language": "python",
     "metadata": {},
     "outputs": []
    },
    {
     "cell_type": "markdown",
     "metadata": {},
     "source": [
      "Para guardar las gr\u00e1ficas en archivos aparte podemos usar la funci\u00f3n `plt.savefig`. matplotlib usar\u00e1 el tipo de archivo adecuado seg\u00fan la extensi\u00f3n que especifiquemos. Veremos esto con m\u00e1s detalle cuando hablemos de la interfaz orientada a objetos."
     ]
    },
    {
     "cell_type": "heading",
     "level": 2,
     "metadata": {},
     "source": [
      "Interfaz orientada a objetos"
     ]
    },
    {
     "cell_type": "markdown",
     "metadata": {},
     "source": [
      "Utilizando la interfaz orientada a objetos podemos tener un mayor control sobre las propiedades del gr\u00e1fico, separando de manera l\u00f3gica los objetos entre s\u00ed. Los dos elementos m\u00e1s importantes de un gr\u00e1fico en matplotlib son el objeto `Axes`, sobre el que se hace toda la representaci\u00f3n gr\u00e1fica (funci\u00f3n `plot`, personalizaci\u00f3n de las l\u00edneas...) y el objeto `Figure`, que contiene uno o m\u00e1s objetos `Axes`. Para separarlos, utilizamos la funci\u00f3n `plt.subplots()`."
     ]
    },
    {
     "cell_type": "code",
     "collapsed": false,
     "input": [],
     "language": "python",
     "metadata": {},
     "outputs": []
    },
    {
     "cell_type": "markdown",
     "metadata": {},
     "source": [
      "La mayor\u00eda de m\u00e9todos que antes est\u00e1bamos usando a trav\u00e9s de pyplot (`plt`) ahora los usaremos a trav\u00e9s del objeto `Axes` devuelto por `subplots`. Si queremos guardar la figura, tenemos que usar el m\u00e9todo `savefig` que ahora pertenece al objeto `Figure`."
     ]
    },
    {
     "cell_type": "code",
     "collapsed": false,
     "input": [],
     "language": "python",
     "metadata": {},
     "outputs": []
    },
    {
     "cell_type": "markdown",
     "metadata": {},
     "source": [
      "Como la figura est\u00e1 guardada en una variable, al contrario de lo que ten\u00eda antes con la interfaz `pyplot`, puedo recuperarla m\u00e1s adelate y seguir edit\u00e1ndola."
     ]
    },
    {
     "cell_type": "code",
     "collapsed": false,
     "input": [],
     "language": "python",
     "metadata": {},
     "outputs": []
    },
    {
     "cell_type": "markdown",
     "metadata": {},
     "source": [
      "La funci\u00f3n `subplots` admite otros argumentos. Si quiero varios ejes en una figura, puedo indicar el n\u00famero de filas y columnas. Si las escalas son compartidas entre varios ejes, puedo indicarlo con `sharex=True` o `sharey=True`."
     ]
    },
    {
     "cell_type": "code",
     "collapsed": false,
     "input": [],
     "language": "python",
     "metadata": {},
     "outputs": []
    },
    {
     "cell_type": "markdown",
     "metadata": {},
     "source": [
      "**Ejercicio**\n",
      "\n",
      "Representar las curvas de nivel de esta funci\u00f3n:\n",
      "\n",
      "$$g(x, y) = \\cos{x} + \\sin^2{y}$$\n",
      "\n",
      "Para obtener este resultado:\n",
      "\n",
      "![Ejercicio](/files/ejercicio.png)"
     ]
    },
    {
     "cell_type": "code",
     "collapsed": false,
     "input": [],
     "language": "python",
     "metadata": {},
     "outputs": []
    },
    {
     "cell_type": "heading",
     "level": 2,
     "metadata": {},
     "source": [
      "Ejemplo con datos reales"
     ]
    },
    {
     "cell_type": "code",
     "collapsed": false,
     "input": [],
     "language": "python",
     "metadata": {},
     "outputs": []
    },
    {
     "cell_type": "heading",
     "level": 2,
     "metadata": {},
     "source": [
      "Referencias"
     ]
    },
    {
     "cell_type": "markdown",
     "metadata": {},
     "source": [
      "* Documentaci\u00f3n pyplot http://matplotlib.org/api/pyplot_api.html\n",
      "* Tutorial de matplotlib en espa\u00f1ol http://pybonacci.wordpress.com/tag/tutorial-matplotlib-pyplot/\n",
      "* Referencia r\u00e1pida de matplotlib http://scipy-lectures.github.io/intro/matplotlib/matplotlib.html#quick-references"
     ]
    }
   ],
   "metadata": {}
  }
 ]
}