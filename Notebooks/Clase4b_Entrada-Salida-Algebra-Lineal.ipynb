{
 "metadata": {
  "name": ""
 },
 "nbformat": 3,
 "nbformat_minor": 0,
 "worksheets": [
  {
   "cells": [
    {
     "cell_type": "markdown",
     "metadata": {},
     "source": [
      "# Curso AeroPython ETSIAE\n",
      "\n",
      "## Juan Luis Cano ([@Pybonacci](https://twitter.com/Pybonacci)) y \u00c1lex S\u00e1ez ([@Alex__S12](https://twitter.com/Alex__S12))"
     ]
    },
    {
     "cell_type": "markdown",
     "metadata": {},
     "source": [
      "<a rel=\"license\" href=\"http://creativecommons.org/licenses/by/4.0/deed.es\"><img alt=\"Licencia Creative Commons\" style=\"border-width:0\" src=\"http://i.creativecommons.org/l/by/4.0/88x31.png\" /></a><br /><span xmlns:dct=\"http://purl.org/dc/terms/\" property=\"dct:title\">Curso AeroPython</span> por <span xmlns:cc=\"http://creativecommons.org/ns#\" property=\"cc:attributionName\">Juan Luis Cano Rodriguez y Alejandro S\u00e1ez Mollejo</span> se distribuye bajo una <a rel=\"license\" href=\"http://creativecommons.org/licenses/by/4.0/deed.es\">Licencia Creative Commons Atribuci\u00f3n 4.0 Internacional</a>."
     ]
    },
    {
     "cell_type": "heading",
     "level": 1,
     "metadata": {},
     "source": [
      "CLASE 4a: Entrada/Salida y \u00c1lgebra Lineal"
     ]
    },
    {
     "cell_type": "heading",
     "level": 2,
     "metadata": {},
     "source": [
      "Pre\u00e1mbulo: repaso"
     ]
    },
    {
     "cell_type": "markdown",
     "metadata": {},
     "source": [
      "Ya tenemos bastante informaci\u00f3n sobre c\u00f3mo comenzar a construir programas en Python, y solo nos queda empezar a aplicarla para casos reales y ver algunas utilidades b\u00e1sicas m\u00e1s."
     ]
    },
    {
     "cell_type": "markdown",
     "metadata": {},
     "source": [
      "Conocemos la sintaxis del lenguaje, sus estructuras de control (condicionales y bucles) y la estructura de datos fundamental para hacer programaci\u00f3n cient\u00edfica: los arrays. Sabemos tambi\u00e9n que en Python las funciones est\u00e1n separadas en paquetes, as\u00ed que vamos a empezar importando lo que necesitamos como de costumbre:"
     ]
    },
    {
     "cell_type": "code",
     "collapsed": false,
     "input": [],
     "language": "python",
     "metadata": {},
     "outputs": []
    },
    {
     "cell_type": "markdown",
     "metadata": {},
     "source": [
      "Recordemos la gr\u00e1fica con dos sistemas de ejes donde el texto se solapaba."
     ]
    },
    {
     "cell_type": "code",
     "collapsed": false,
     "input": [],
     "language": "python",
     "metadata": {},
     "outputs": []
    },
    {
     "cell_type": "markdown",
     "metadata": {},
     "source": [
      "\u00bfC\u00f3mo arreglamos esto? \u00a1Google!"
     ]
    },
    {
     "cell_type": "heading",
     "level": 2,
     "metadata": {},
     "source": [
      "\u00c1lgebra lineal"
     ]
    },
    {
     "cell_type": "markdown",
     "metadata": {},
     "source": [
      "Como sabemos, las operaciones del \u00e1lgebra lineal aparecen con mucha frecuencia a la hora de resolver sistemas de ecuaciones en derivadas parciales y en general al linealizar problemas de todo tipo, y suele ser necesario resolver sistemas con un n\u00famero enorme de ecuaciones e inc\u00f3gnitas. Gracias a los arrays de NumPy podemos abordar este tipo de c\u00e1lculos en Python, ya que todas las funciones est\u00e1n escritas en C o Fortran y tenemos la opci\u00f3n de usar bibliotecas optimizadas al l\u00edmite."
     ]
    },
    {
     "cell_type": "markdown",
     "metadata": {},
     "source": [
      "El paquete de \u00e1lgebra lineal en NumPy se llama `linalg`, as\u00ed que importando NumPy con la convenci\u00f3n habitual podemos acceder a \u00e9l escribiendo `np.linalg`. Si imprimimos la ayuda del paquete vemos que tenemos funciones para:\n",
      "\n",
      "* Funciones b\u00e1sicas (norma de un vector, inversa de una matriz, determinante, traza)\n",
      "* Resoluci\u00f3n de sistemas\n",
      "* Autovalores y autovectores\n",
      "* Descomposiciones matriciales (QR, SVD)\n",
      "* Pseudoinversas"
     ]
    },
    {
     "cell_type": "code",
     "collapsed": false,
     "input": [],
     "language": "python",
     "metadata": {},
     "outputs": []
    },
    {
     "cell_type": "markdown",
     "metadata": {},
     "source": [
      "Recordemos que si queremos usar una funci\u00f3n de un paquete pero no queremos escribir la \"ruta\" completa cada vez, podemos usar la sintaxis `from package import func`:"
     ]
    },
    {
     "cell_type": "code",
     "collapsed": false,
     "input": [],
     "language": "python",
     "metadata": {},
     "outputs": []
    },
    {
     "cell_type": "markdown",
     "metadata": {},
     "source": [
      "El producto matricial usual (no el que se hace elemento a elemento, sino el del \u00e1lgebra lineal) se calcula con la misma funci\u00f3n que el producto matriz-vector y el producto escalar vector-vector: con la funci\u00f3n `dot`, que **no** est\u00e1 en el paquete `linalg` sino directamente en `numpy` y no hace falta importarlo."
     ]
    },
    {
     "cell_type": "code",
     "collapsed": false,
     "input": [],
     "language": "python",
     "metadata": {},
     "outputs": []
    },
    {
     "cell_type": "markdown",
     "metadata": {},
     "source": [
      "Una consideraci\u00f3n importante a tener en cuenta es que en NumPy no hace falta ser estricto a la hora de manejar vectores como si fueran matrices columna, siempre que la operaci\u00f3n sea consistente. Un vector es una matriz con una sola dimensi\u00f3n: por eso si calculamos su traspuesta no funciona."
     ]
    },
    {
     "cell_type": "code",
     "collapsed": false,
     "input": [],
     "language": "python",
     "metadata": {},
     "outputs": []
    },
    {
     "cell_type": "markdown",
     "metadata": {},
     "source": [
      "Para hacer comparaciones entre arrays de punto flotante se pueden usar las funciones `np.allclose` y `np.isclose`. La primera comprueba si todos los elementos de los arrays son iguales dentro de una tolerancia, y la segunda compara elemento a elemento y devuelve un array de valores `True` y `False`."
     ]
    },
    {
     "cell_type": "code",
     "collapsed": false,
     "input": [],
     "language": "python",
     "metadata": {},
     "outputs": []
    },
    {
     "cell_type": "heading",
     "level": 3,
     "metadata": {},
     "source": [
      "Ejercicios"
     ]
    },
    {
     "cell_type": "markdown",
     "metadata": {},
     "source": [
      "1- Hallar el producto de estas dos matrices y su determinante:\n",
      "\n",
      "$$\\begin{pmatrix} 1 & 0 & 0 \\\\ 2 & 1 & 1 \\\\ -1 & 0 & 1 \\end{pmatrix} \\begin{pmatrix} 2 & 3 & -1 \\\\ 0 & -2 & 1 \\\\ 0 & 0 & 3 \\end{pmatrix}$$"
     ]
    },
    {
     "cell_type": "markdown",
     "metadata": {},
     "source": [
      "2- Resolver el siguiente sistema:\n",
      "\n",
      "$$ \\begin{pmatrix} 2 & 0 & 0 \\\\ -1 & 1 & 0 \\\\ 3 & 2 & -1 \\end{pmatrix} \\begin{pmatrix} 1 & 1 & 1 \\\\ 0 & 1 & 2 \\\\ 0 & 0 & 1 \\end{pmatrix} \\begin{pmatrix} x \\\\ y \\\\ z \\end{pmatrix} = \\begin{pmatrix} -1 \\\\ 3 \\\\ 0 \\end{pmatrix} $$"
     ]
    },
    {
     "cell_type": "markdown",
     "metadata": {},
     "source": [
      "3- Hallar la inversa de la matriz $H$ y comprobar que $H H^{-1} = I$ (recuerda la funci\u00f3n `np.eye`)"
     ]
    },
    {
     "cell_type": "code",
     "collapsed": false,
     "input": [
      "A = np.arange(1, 37).reshape(6,6)\n",
      "A[1, 1::2] = 0\n",
      "A[3, ::2] = 1\n",
      "A[4, :] += 30\n",
      "B = (2 ** np.arange(36)).reshape((6,6))\n",
      "H = A + B"
     ],
     "language": "python",
     "metadata": {},
     "outputs": [],
     "prompt_number": 35
    },
    {
     "cell_type": "markdown",
     "metadata": {},
     "source": [
      "4- Comprobar el n\u00famero de condici\u00f3n de la matriz $H$."
     ]
    },
    {
     "cell_type": "heading",
     "level": 2,
     "metadata": {},
     "source": [
      "Entrada/Salida"
     ]
    },
    {
     "cell_type": "markdown",
     "metadata": {},
     "source": [
      "Con E/S (I/O en ingl\u00e9s) entendemos leer y escribir datos archivos. Es algo que necesitaremos hacer con relativa frecuencia, y en NumPy es muy sencillo de hacer. Para el caso de la **lectura** se usa la funci\u00f3n `np.loadtxt`."
     ]
    },
    {
     "cell_type": "markdown",
     "metadata": {},
     "source": [
      "Activamos el modo inline de matplotlib e importamos las bibliotecas como de costumbre:"
     ]
    },
    {
     "cell_type": "code",
     "collapsed": false,
     "input": [],
     "language": "python",
     "metadata": {},
     "outputs": []
    },
    {
     "cell_type": "markdown",
     "metadata": {},
     "source": [
      "Para practicar, vamos a leer el archivo `temperaturas.csv` que contiene datos diarios de temperaturas en Nueva York entre el 1 de enero de 2013 y el 1 de enero de 2014, obtenidos gratuitamente de http://ncdc.noaa.gov/. Como los hemos descargado en formato CSV habr\u00e1 que tener algunas precauciones a la hora de leer el archivo."
     ]
    },
    {
     "cell_type": "code",
     "collapsed": false,
     "input": [],
     "language": "python",
     "metadata": {},
     "outputs": []
    },
    {
     "cell_type": "markdown",
     "metadata": {},
     "source": [
      "La primera columna es un entero con formato \"diamesa\u00f1o\" que vamos a ignorar. Las temperaturas est\u00e1n medidas en d\u00e9cimas de grado Celsius, as\u00ed que hay que pasarlas a grados Celsius. Vamos a calcular tambi\u00e9n la temperatura media."
     ]
    },
    {
     "cell_type": "code",
     "collapsed": false,
     "input": [],
     "language": "python",
     "metadata": {},
     "outputs": []
    },
    {
     "cell_type": "markdown",
     "metadata": {},
     "source": [
      "Como vamos a ignorar la columna de las fechas tenemos que crear un dominio para el eje x. Simplemente construiremos un array de enteros desde 0 hasta 365."
     ]
    },
    {
     "cell_type": "code",
     "collapsed": false,
     "input": [],
     "language": "python",
     "metadata": {},
     "outputs": []
    },
    {
     "cell_type": "markdown",
     "metadata": {},
     "source": [
      "Y ahora representamos la evoluci\u00f3n de la temperatura media (por ejemplo de color negro), indicando \"Daily summaries\" en el t\u00edtulo, \"Days\" en el eje x y \"Temperature (C)\" en el eje y, usando la interfaz orientada a objetos de matplotlib (funci\u00f3n `plt.subplots`). Podemos crear una zona rellena entre la m\u00e1xima y la m\u00ednima con la funci\u00f3n `fill_between(x, max, min)` (por ejemplo de color #4f88b1). Si los l\u00edmites del eje x no quedan como queremos podemos usar la funci\u00f3n `set_xlim(xmin, xmax)`."
     ]
    },
    {
     "cell_type": "code",
     "collapsed": false,
     "input": [],
     "language": "python",
     "metadata": {},
     "outputs": []
    },
    {
     "cell_type": "heading",
     "level": 2,
     "metadata": {},
     "source": [
      "Ejercicio: pintando \u00f3rbitas"
     ]
    },
    {
     "cell_type": "markdown",
     "metadata": {},
     "source": [
      "Efem\u00e9rides de un cuerpo celeste obtenidos gratuitamente de http://ssd.jpl.nasa.gov/horizons.cgi."
     ]
    },
    {
     "cell_type": "markdown",
     "metadata": {},
     "source": [
      "1. Averiguar qu\u00e9 datos de entrada recibe la funci\u00f3n `rv2coe`, prestando atenci\u00f3n a las unidades.\n",
      "2. Leer los datos necesarios de `ephemeris.txt` usando el argumento `usecols` en un array `efemerides` (leer tambi\u00e9n la JD para tener una referencia de tiempos).\n",
      "3. Modificar las columnas de `efemerides` cuyas unidades no concuerdan con las que recibe `rv2coe`.\n",
      "4. Definir dos matrices `rr` y `vv` con los tama\u00f1os adecuados para almacenar los vectores posici\u00f3n y velocidad.\n",
      "5. Por cada fila en `efemerides`, aplicar la funci\u00f3n `rv2coe` y almacenar los resultados en sendas filas de `rr` y `vv`.\n",
      "6. Hallar los m\u00f3dulos de los vectores `rr` con la funci\u00f3n `np.linalg.norm` y guardarlos en un vector `rr_norm`.\n",
      "7. Representar la \u00f3rbita en su plano, calculando las coordenadas `x` e `y` usando el m\u00f3dulo del vector posici\u00f3n y la anomal\u00eda verdadera.\n",
      "8. Calcular el momento cin\u00e9tico en cada punto, aplicando $\\mathbf{h} = \\mathbf{r} \\times \\mathbf{v}$ (`np.cross`).\n",
      "9. Representar el momento cin\u00e9tico y valorar si el resultado tiene sentido o no."
     ]
    },
    {
     "cell_type": "markdown",
     "metadata": {},
     "source": [
      "Symbol meaning  \n",
      "\n",
      "      JD     Epoch Julian Date\n",
      "      CT     Coordinate Time\n",
      "      EC     Eccentricity, e                                                   \n",
      "      QR     Periapsis distance, q (km)                                        \n",
      "      IN     Inclination w.r.t xy-plane, i (degrees)                           \n",
      "      OM     Longitude of Ascending Node, OMEGA, (degrees)                     \n",
      "      W      Argument of Perifocus, w (degrees)                                \n",
      "      Tp     Time of periapsis (Julian day number)                             \n",
      "      N      Mean motion, n (degrees/sec)                                      \n",
      "      MA     Mean anomaly, M (degrees)                                         \n",
      "      TA     True anomaly, nu (degrees)                                        \n",
      "      A      Semi-major axis, a (km)                                           \n",
      "      AD     Apoapsis distance (km)                                            \n",
      "      PR     Sidereal orbit period (sec) "
     ]
    },
    {
     "cell_type": "code",
     "collapsed": false,
     "input": [],
     "language": "python",
     "metadata": {},
     "outputs": []
    }
   ],
   "metadata": {}
  }
 ]
}