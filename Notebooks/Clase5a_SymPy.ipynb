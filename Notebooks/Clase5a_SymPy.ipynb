{
 "metadata": {
  "name": "",
  "signature": "sha256:2638f718ff566a8916707b46794afc4262e27e7da935f68566ee15a5d53fcf68"
 },
 "nbformat": 3,
 "nbformat_minor": 0,
 "worksheets": [
  {
   "cells": [
    {
     "cell_type": "markdown",
     "metadata": {},
     "source": [
      "# Curso AeroPython ETSIAE\n",
      "\n",
      "## Juan Luis Cano ([@Pybonacci](https://twitter.com/Pybonacci)) y \u00c1lex S\u00e1ez ([@Alex__S12](https://twitter.com/Alex__S12))"
     ]
    },
    {
     "cell_type": "markdown",
     "metadata": {},
     "source": [
      "<a rel=\"license\" href=\"http://creativecommons.org/licenses/by/4.0/deed.es\"><img alt=\"Licencia Creative Commons\" style=\"border-width:0\" src=\"http://i.creativecommons.org/l/by/4.0/88x31.png\" /></a><br /><span xmlns:dct=\"http://purl.org/dc/terms/\" property=\"dct:title\">Curso AeroPython</span> por <span xmlns:cc=\"http://creativecommons.org/ns#\" property=\"cc:attributionName\">Juan Luis Cano Rodriguez y Alejandro S\u00e1ez Mollejo</span> se distribuye bajo una <a rel=\"license\" href=\"http://creativecommons.org/licenses/by/4.0/deed.es\">Licencia Creative Commons Atribuci\u00f3n 4.0 Internacional</a>."
     ]
    },
    {
     "cell_type": "heading",
     "level": 1,
     "metadata": {},
     "source": [
      "CLASE 5a: SymPy"
     ]
    },
    {
     "cell_type": "markdown",
     "metadata": {},
     "source": [
      "![](http://sympy.org/static/images/logo.png)\n",
      "\n",
      "__SymPy es una biblioteca de Python para matem\u00e1tica simb\u00f3lica__. Apunta a convertirse en un sistema de algebra total (__CAS__) mientras mantiene el c\u00f3digo tan simple como es posible para que sea comprensible y f\u00e1cilmente extensible. SymPy est\u00e1 __escrito totalmente en Python y no requiere bibliotecas adicionales__.\n",
      "\n",
      "Hoy veremos c\u00f3mo:\n",
      "\n",
      "* Crear s\u00edmbolos y expresiones.\n",
      "* Manipular expresiones (simplificaci\u00f3n, expansi\u00f3n...)\n",
      "* Calcular derivadas e integrales.\n",
      "* L\u00edmites y desarrollos en serie.\n",
      "* Resoluci\u00f3n de ecuaciones.\n",
      "* Resolci\u00f3n de EDOs.\n",
      "* Matrices\n",
      "\n",
      "Sin embargo, SymPy no acaba aqu\u00ed ni mucho menos..."
     ]
    },
    {
     "cell_type": "heading",
     "level": 2,
     "metadata": {},
     "source": [
      "Documentaci\u00f3n & SymPy Live Shell"
     ]
    },
    {
     "cell_type": "code",
     "collapsed": false,
     "input": [
      "from IPython.display import HTML\n",
      "HTML('<iframe src=\"http://docs.sympy.org/latest/index.html\" width=\"800\" height=\"400\"></iframe>')"
     ],
     "language": "python",
     "metadata": {},
     "outputs": [
      {
       "html": [
        "<iframe src=\"http://docs.sympy.org/latest/index.html\" width=\"800\" height=\"400\"></iframe>"
       ],
       "metadata": {},
       "output_type": "pyout",
       "prompt_number": 1,
       "text": [
        "<IPython.core.display.HTML at 0x4444e80>"
       ]
      }
     ],
     "prompt_number": 1
    },
    {
     "cell_type": "heading",
     "level": 2,
     "metadata": {},
     "source": [
      "SymPy Gamma"
     ]
    },
    {
     "cell_type": "code",
     "collapsed": false,
     "input": [
      "HTML('<iframe src=\"http://www.sympygamma.com/input/?i=integrate%281+%2F+%281+%2B+x^2%29%29\" width=\"800\" height=\"400\"></iframe>')"
     ],
     "language": "python",
     "metadata": {},
     "outputs": [
      {
       "html": [
        "<iframe src=\"http://www.sympygamma.com/input/?i=integrate%281+%2F+%281+%2B+x^2%29%29\" width=\"800\" height=\"400\"></iframe>"
       ],
       "metadata": {},
       "output_type": "pyout",
       "prompt_number": 2,
       "text": [
        "<IPython.core.display.HTML at 0x4444710>"
       ]
      }
     ],
     "prompt_number": 2
    },
    {
     "cell_type": "heading",
     "level": 1,
     "metadata": {},
     "source": [
      "Empezamos..."
     ]
    },
    {
     "cell_type": "heading",
     "level": 1,
     "metadata": {},
     "source": [
      "Creaci\u00f3n de s\u00edmbolos"
     ]
    },
    {
     "cell_type": "markdown",
     "metadata": {},
     "source": [
      "Lo primero, como siempre, es importar aquello que vayamos a necesitar:"
     ]
    },
    {
     "cell_type": "code",
     "collapsed": false,
     "input": [
      "from sympy import init_session"
     ],
     "language": "python",
     "metadata": {},
     "outputs": [],
     "prompt_number": 3
    },
    {
     "cell_type": "code",
     "collapsed": false,
     "input": [
      "init_session(use_latex=True)"
     ],
     "language": "python",
     "metadata": {},
     "outputs": [
      {
       "output_type": "stream",
       "stream": "stdout",
       "text": [
        "IPython console for SymPy 0.7.4.1 (Python 3.3.4-64-bit) (ground types: python)\n",
        "\n",
        "These commands were executed:\n",
        ">>> from __future__ import division\n",
        ">>> from sympy import *\n",
        ">>> x, y, z, t = symbols('x y z t')\n",
        ">>> k, m, n = symbols('k m n', integer=True)\n",
        ">>> f, g, h = symbols('f g h', cls=Function)\n",
        "\n",
        "Documentation can be found at http://www.sympy.org\n"
       ]
      }
     ],
     "prompt_number": 4
    },
    {
     "cell_type": "markdown",
     "metadata": {},
     "source": [
      "Lo primero que vemos es que el comando `init_session` ha llevado a cabo algunas acciones por nostros:\n",
      "\n",
      "* Gracias a `use_latex=True` obtenemos la salida en $\\LaTeX$.\n",
      "* __Ha creado una serie de variables__ para que podamos ponernos a trabajar en el momento."
     ]
    },
    {
     "cell_type": "markdown",
     "metadata": {},
     "source": [
      "<div class=\"alert warning-info\"><strong>Nota:</strong> \n",
      "En Python, no se declaran las variables, sin embargo, no puedes usar una hasta que no le hayas asignado un valor. Si ahora intentamos crear una variable `a` que sea `a = 2 * b`, veamos qu\u00e9 ocurre:\n",
      "</div>"
     ]
    },
    {
     "cell_type": "code",
     "collapsed": false,
     "input": [
      "a = 2 * b"
     ],
     "language": "python",
     "metadata": {},
     "outputs": [
      {
       "ename": "NameError",
       "evalue": "name 'b' is not defined",
       "output_type": "pyerr",
       "traceback": [
        "\u001b[1;31m---------------------------------------------------------------------------\u001b[0m\n\u001b[1;31mNameError\u001b[0m                                 Traceback (most recent call last)",
        "\u001b[1;32m<ipython-input-5-d57516069ecc>\u001b[0m in \u001b[0;36m<module>\u001b[1;34m()\u001b[0m\n\u001b[1;32m----> 1\u001b[1;33m \u001b[0ma\u001b[0m \u001b[1;33m=\u001b[0m \u001b[1;36m2\u001b[0m \u001b[1;33m*\u001b[0m \u001b[0mb\u001b[0m\u001b[1;33m\u001b[0m\u001b[0m\n\u001b[0m",
        "\u001b[1;31mNameError\u001b[0m: name 'b' is not defined"
       ]
      }
     ],
     "prompt_number": 5
    },
    {
     "cell_type": "markdown",
     "metadata": {},
     "source": [
      "Como en `b` no hab\u00eda sido creada, Python no sabe qu\u00e9 es `b`.\n",
      "\n",
      "Esto mismo nos ocurre con los s\u00edmbolos de SymPy. __Antes de usar una variable, debo decir que es un s\u00edmbolo y asign\u00e1rselo:__"
     ]
    },
    {
     "cell_type": "code",
     "collapsed": false,
     "input": [
      "#creamos el s\u00edmbolo a\n",
      "a = symbols('a')\n",
      "a"
     ],
     "language": "python",
     "metadata": {},
     "outputs": [
      {
       "latex": [
        "$$a$$"
       ],
       "metadata": {},
       "output_type": "pyout",
       "png": "[encoded data removed]",
       "prompt_number": 6,
       "text": [
        "a"
       ]
      }
     ],
     "prompt_number": 6
    },
    {
     "cell_type": "code",
     "collapsed": false,
     "input": [
      "#n\u00famero pi\n",
      "(a + pi)**2"
     ],
     "language": "python",
     "metadata": {},
     "outputs": [
      {
       "latex": [
        "$$\\left(a + \\pi\\right)^{2}$$"
       ],
       "metadata": {},
       "output_type": "pyout",
       "png": "[encoded data removed]",
       "prompt_number": 7,
       "text": [
        "       2\n",
        "(a + \u03c0) "
       ]
      }
     ],
     "prompt_number": 7
    },
    {
     "cell_type": "code",
     "collapsed": false,
     "input": [
      "#unidad imaginaria\n",
      "a + 2*I"
     ],
     "language": "python",
     "metadata": {},
     "outputs": [
      {
       "latex": [
        "$$a + 2 i$$"
       ],
       "metadata": {},
       "output_type": "pyout",
       "png": "[encoded data removed]",
       "prompt_number": 8,
       "text": [
        "a + 2\u22c5\u2148"
       ]
      }
     ],
     "prompt_number": 8
    },
    {
     "cell_type": "code",
     "collapsed": false,
     "input": [
      "#vemos qu\u00e9 tipo de variable es a\n",
      "type(a)"
     ],
     "language": "python",
     "metadata": {},
     "outputs": [
      {
       "metadata": {},
       "output_type": "pyout",
       "prompt_number": 9,
       "text": [
        "sympy.core.symbol.Symbol"
       ]
      }
     ],
     "prompt_number": 9
    },
    {
     "cell_type": "markdown",
     "metadata": {},
     "source": [
      "Ahora ya podr\u00eda crear `b = 2 * a`:"
     ]
    },
    {
     "cell_type": "code",
     "collapsed": false,
     "input": [
      "b = 2 * a\n",
      "b"
     ],
     "language": "python",
     "metadata": {},
     "outputs": [
      {
       "latex": [
        "$$2 a$$"
       ],
       "metadata": {},
       "output_type": "pyout",
       "png": "[encoded data removed]",
       "prompt_number": 10,
       "text": [
        "2\u22c5a"
       ]
      }
     ],
     "prompt_number": 10
    },
    {
     "cell_type": "code",
     "collapsed": false,
     "input": [
      "type(b)"
     ],
     "language": "python",
     "metadata": {},
     "outputs": [
      {
       "metadata": {},
       "output_type": "pyout",
       "prompt_number": 11,
       "text": [
        "sympy.core.mul.Mul"
       ]
      }
     ],
     "prompt_number": 11
    },
    {
     "cell_type": "markdown",
     "metadata": {},
     "source": [
      "\u00bfQu\u00e9 est\u00e1 ocurriendo? Python detecta que a es una variable de tipo `Symbol` y al multiplicarla por `2` devuelve una variable de Sympy.\n",
      "\n",
      "Como Python permite que el tipo de una variable cambie, __si ahora le asigno a `a` un valor float deja de ser un s\u00edmbolo.__"
     ]
    },
    {
     "cell_type": "code",
     "collapsed": false,
     "input": [
      "a = 2.26492"
     ],
     "language": "python",
     "metadata": {},
     "outputs": [],
     "prompt_number": 12
    },
    {
     "cell_type": "code",
     "collapsed": false,
     "input": [
      "type(a)"
     ],
     "language": "python",
     "metadata": {},
     "outputs": [
      {
       "metadata": {},
       "output_type": "pyout",
       "prompt_number": 13,
       "text": [
        "builtins.float"
       ]
      }
     ],
     "prompt_number": 13
    },
    {
     "cell_type": "markdown",
     "metadata": {},
     "source": [
      "---\n",
      "__Las conclusiones son:__\n",
      "\n",
      "* __Si quiero usar una variable como s\u00edmbolo debo crearla previamente.__\n",
      "* Las operaciones con s\u00edmbolos devuelven s\u00edmbolos.\n",
      "* Si una varibale que almacenaba un s\u00edmbolo recibe otra asignaci\u00f3n, cambia de tipo.\n",
      "\n",
      "---"
     ]
    },
    {
     "cell_type": "markdown",
     "metadata": {},
     "source": [
      "__Las variables de tipo `Symbol` act\u00faan como contenedores en los que no sabemos qu\u00e9 hay (un real, un complejo, una lista...)__. Hay que tener en cuenta que: __una cosa es el nombre de la variable y otra el s\u00edmbolo con el que se representa__."
     ]
    },
    {
     "cell_type": "code",
     "collapsed": false,
     "input": [
      "#creaci\u00f3n de s\u00edmbolos\n",
      "coef_traccion = symbols('c_T')\n",
      "coef_traccion"
     ],
     "language": "python",
     "metadata": {},
     "outputs": [
      {
       "latex": [
        "$$c_{T}$$"
       ],
       "metadata": {},
       "output_type": "pyout",
       "png": "[encoded data removed]",
       "prompt_number": 14,
       "text": [
        "c_T"
       ]
      }
     ],
     "prompt_number": 14
    },
    {
     "cell_type": "markdown",
     "metadata": {},
     "source": [
      "Incluso puedo hacer cosas raras como:"
     ]
    },
    {
     "cell_type": "code",
     "collapsed": false,
     "input": [
      "a = symbols('b')\n",
      "a"
     ],
     "language": "python",
     "metadata": {},
     "outputs": [
      {
       "latex": [
        "$$b$$"
       ],
       "metadata": {},
       "output_type": "pyout",
       "png": "[encoded data removed]",
       "prompt_number": 15,
       "text": [
        "b"
       ]
      }
     ],
     "prompt_number": 15
    },
    {
     "cell_type": "markdown",
     "metadata": {},
     "source": [
      "Adem\u00e1s, se pueden crear varos s\u00edmbolos a la vez:"
     ]
    },
    {
     "cell_type": "code",
     "collapsed": false,
     "input": [
      "x, y, z, t = symbols('x y z t')"
     ],
     "language": "python",
     "metadata": {},
     "outputs": [],
     "prompt_number": 16
    },
    {
     "cell_type": "markdown",
     "metadata": {},
     "source": [
      "y s\u00edmbolos griegos:"
     ]
    },
    {
     "cell_type": "code",
     "collapsed": false,
     "input": [
      "w = symbols('omega')\n",
      "W = symbols('Omega')\n",
      "w, W"
     ],
     "language": "python",
     "metadata": {},
     "outputs": [
      {
       "latex": [
        "$$\\begin{pmatrix}\\omega, & \\Omega\\end{pmatrix}$$"
       ],
       "metadata": {},
       "output_type": "pyout",
       "png": "[encoded data removed]",
       "prompt_number": 17,
       "text": [
        "(\u03c9, \u03a9)"
       ]
      }
     ],
     "prompt_number": 17
    },
    {
     "cell_type": "markdown",
     "metadata": {},
     "source": [
      "__Por defecto, SymPy entiende que los s\u00edmbolos son n\u00fameros complejos__. Esto puede producir resultados inesperados ante determinadas operaciones como, por ejemplo, lo logaritmos. __Podemos indicar que la variable es real, entera... en el momento de la creaci\u00f3n__:"
     ]
    },
    {
     "cell_type": "code",
     "collapsed": false,
     "input": [
      "#creamos s\u00edmbolos reales\n",
      "x, y, z, t = symbols('x y z t', real=True)"
     ],
     "language": "python",
     "metadata": {},
     "outputs": [],
     "prompt_number": 18
    },
    {
     "cell_type": "code",
     "collapsed": false,
     "input": [
      "#preguntamos si son reales\n",
      "x.is_integer is None"
     ],
     "language": "python",
     "metadata": {},
     "outputs": [
      {
       "metadata": {},
       "output_type": "pyout",
       "prompt_number": 19,
       "text": [
        "True"
       ]
      }
     ],
     "prompt_number": 19
    },
    {
     "cell_type": "heading",
     "level": 2,
     "metadata": {},
     "source": [
      "Expresiones"
     ]
    },
    {
     "cell_type": "markdown",
     "metadata": {},
     "source": [
      "Comencemos por crear una expresi\u00f3n como: $\\cos(x)^2+\\sin(x)^2$"
     ]
    },
    {
     "cell_type": "code",
     "collapsed": false,
     "input": [
      "expr = cos(x)**2 + sin(x)**2\n",
      "expr"
     ],
     "language": "python",
     "metadata": {},
     "outputs": [
      {
       "latex": [
        "$$\\sin^{2}{\\left (x \\right )} + \\cos^{2}{\\left (x \\right )}$$"
       ],
       "metadata": {},
       "output_type": "pyout",
       "png": "[encoded data removed]",
       "prompt_number": 20,
       "text": [
        "   2         2   \n",
        "sin (x) + cos (x)"
       ]
      }
     ],
     "prompt_number": 20
    },
    {
     "cell_type": "markdown",
     "metadata": {},
     "source": [
      "<div class=\"alert warning-info\"><strong>Nota:</strong> \n",
      "No debes olvidar en ning\u00fan momento que est\u00e1s utilizando Python, por lo tanto __el operador `=` est\u00e1 realizando una asignaci\u00f3n__. La variable `expr` pasa a contener `cos(x)**2 + sin(x)**2`, pero esto no es una ecuaci\u00f3n, m\u00e1s adelante veremos c\u00f3mo definirlas.\n",
      "</div>"
     ]
    },
    {
     "cell_type": "heading",
     "level": 3,
     "metadata": {},
     "source": [
      "`simplify()`"
     ]
    },
    {
     "cell_type": "markdown",
     "metadata": {},
     "source": [
      "Podemos pedirle que simplifique la expresi\u00f3n anterior:"
     ]
    },
    {
     "cell_type": "code",
     "collapsed": false,
     "input": [
      "simplify(expr)"
     ],
     "language": "python",
     "metadata": {},
     "outputs": [
      {
       "latex": [
        "$$1$$"
       ],
       "metadata": {},
       "output_type": "pyout",
       "png": "[encoded data removed]",
       "prompt_number": 21,
       "text": [
        "1"
       ]
      }
     ],
     "prompt_number": 21
    },
    {
     "cell_type": "markdown",
     "metadata": {},
     "source": [
      "En este caso parece estar claro, lo que quiere decir m\u00e1s simple, pero como en cualquier _CAS_ el comando `simplify` puede no devolvernos la expresi\u00f3n que nosotros queremos. Cuando esto ocurra necesitaremos usar otras instrucciones."
     ]
    },
    {
     "cell_type": "heading",
     "level": 3,
     "metadata": {},
     "source": [
      "`.subs()`"
     ]
    },
    {
     "cell_type": "markdown",
     "metadata": {},
     "source": [
      "En algunas ocasiones necesitaremos sustituir una variable por otra, por otra expresi\u00f3n o por un valor."
     ]
    },
    {
     "cell_type": "code",
     "collapsed": false,
     "input": [
      "expr"
     ],
     "language": "python",
     "metadata": {},
     "outputs": [
      {
       "latex": [
        "$$\\sin^{2}{\\left (x \\right )} + \\cos^{2}{\\left (x \\right )}$$"
       ],
       "metadata": {},
       "output_type": "pyout",
       "png": "[encoded data removed]",
       "prompt_number": 22,
       "text": [
        "   2         2   \n",
        "sin (x) + cos (x)"
       ]
      }
     ],
     "prompt_number": 22
    },
    {
     "cell_type": "code",
     "collapsed": false,
     "input": [
      "#sustituimos x por y**2\n",
      "expr.subs(x, y**2)"
     ],
     "language": "python",
     "metadata": {},
     "outputs": [
      {
       "latex": [
        "$$\\sin^{2}{\\left (y^{2} \\right )} + \\cos^{2}{\\left (y^{2} \\right )}$$"
       ],
       "metadata": {},
       "output_type": "pyout",
       "png": "[encoded data removed]",
       "prompt_number": 23,
       "text": [
        "   2\u239b 2\u239e      2\u239b 2\u239e\n",
        "sin \u239dy \u23a0 + cos \u239dy \u23a0"
       ]
      }
     ],
     "prompt_number": 23
    },
    {
     "cell_type": "code",
     "collapsed": false,
     "input": [
      "#pero la expresi\u00f3n no cambia\n",
      "expr"
     ],
     "language": "python",
     "metadata": {},
     "outputs": [
      {
       "latex": [
        "$$\\sin^{2}{\\left (x \\right )} + \\cos^{2}{\\left (x \\right )}$$"
       ],
       "metadata": {},
       "output_type": "pyout",
       "png": "[encoded data removed]",
       "prompt_number": 24,
       "text": [
        "   2         2   \n",
        "sin (x) + cos (x)"
       ]
      }
     ],
     "prompt_number": 24
    },
    {
     "cell_type": "markdown",
     "metadata": {},
     "source": [
      "Cambia el `sin(x)` por `exp(x)`"
     ]
    },
    {
     "cell_type": "code",
     "collapsed": false,
     "input": [
      "expr.subs(sin(x), exp(x))"
     ],
     "language": "python",
     "metadata": {},
     "outputs": [
      {
       "latex": [
        "$$e^{2 x} + \\cos^{2}{\\left (x \\right )}$$"
       ],
       "metadata": {},
       "output_type": "pyout",
       "png": "[encoded data removed]",
       "prompt_number": 25,
       "text": [
        " 2\u22c5x      2   \n",
        "\u212f    + cos (x)"
       ]
      }
     ],
     "prompt_number": 25
    },
    {
     "cell_type": "markdown",
     "metadata": {},
     "source": [
      "Particulariza la expresi\u00f3n $sin(x) + 3 x $ en $x = \\pi$"
     ]
    },
    {
     "cell_type": "code",
     "collapsed": false,
     "input": [
      "(sin(x) + 3 * x).subs(x, pi)"
     ],
     "language": "python",
     "metadata": {},
     "outputs": [
      {
       "latex": [
        "$$3 \\pi$$"
       ],
       "metadata": {},
       "output_type": "pyout",
       "png": "[encoded data removed]",
       "prompt_number": 26,
       "text": [
        "3\u22c5\u03c0"
       ]
      }
     ],
     "prompt_number": 26
    },
    {
     "cell_type": "markdown",
     "metadata": {},
     "source": [
      "__Aunque si lo que queremos es obtener el valor num\u00e9rico lo mejor es `.evalf()`__"
     ]
    },
    {
     "cell_type": "code",
     "collapsed": false,
     "input": [
      "(sin(x) + 3 * x).subs(x, pi).evalf(100)"
     ],
     "language": "python",
     "metadata": {},
     "outputs": [
      {
       "latex": [
        "$$9.424777960769379715387930149838508652591508198125317462924833776923449218858626995884104476026351204$$"
       ],
       "metadata": {},
       "output_type": "pyout",
       "png": "[encoded data removed]",
       "prompt_number": 27,
       "text": [
        "9.4247779607693797153879301498385086525915081981253174629248337769234492188586\n",
        "26995884104476026351204"
       ]
      }
     ],
     "prompt_number": 27
    },
    {
     "cell_type": "code",
     "collapsed": false,
     "input": [
      "#ver pi con 25 decimales\n",
      "pi.evalf(25)"
     ],
     "language": "python",
     "metadata": {},
     "outputs": [
      {
       "latex": [
        "$$3.141592653589793238462643$$"
       ],
       "metadata": {},
       "output_type": "pyout",
       "png": "[encoded data removed]",
       "prompt_number": 28,
       "text": [
        "3.141592653589793238462643"
       ]
      }
     ],
     "prompt_number": 28
    },
    {
     "cell_type": "code",
     "collapsed": false,
     "input": [
      "#el mismo resultado se obtiene ocn la funci\u00f3n N()\n",
      "N(pi,25)"
     ],
     "language": "python",
     "metadata": {},
     "outputs": [
      {
       "latex": [
        "$$3.141592653589793238462643$$"
       ],
       "metadata": {},
       "output_type": "pyout",
       "png": "[encoded data removed]",
       "prompt_number": 29,
       "text": [
        "3.141592653589793238462643"
       ]
      }
     ],
     "prompt_number": 29
    },
    {
     "cell_type": "heading",
     "level": 1,
     "metadata": {},
     "source": [
      "Simplificaci\u00f3n"
     ]
    },
    {
     "cell_type": "markdown",
     "metadata": {},
     "source": [
      "SymPy ofrece numerosas funciones para __simplificar y manipular expresiones__. Entre otras, destacan:\n",
      "\n",
      "* `expand()`\n",
      "* `factor()`\n",
      "* `collect()`\n",
      "* `apart()`\n",
      "* `cancel()`\n",
      "\n",
      "Puedes consultar en la documentaci\u00f3n de SymPy lo que hace cada una y algunos ejemplos. __Existen tambi\u00e9n funciones espec\u00edficas de simplificaci\u00f3n para funciones trigonom\u00e9tricas, potencias y logaritmos.__"
     ]
    },
    {
     "cell_type": "code",
     "collapsed": false,
     "input": [
      "HTML('<iframe src=\"http://docs.sympy.org/latest/tutorial/simplification.html\" width=\"800\" height=\"400\"></iframe>')"
     ],
     "language": "python",
     "metadata": {},
     "outputs": [
      {
       "html": [
        "<iframe src=\"http://docs.sympy.org/latest/tutorial/simplification.html\" width=\"800\" height=\"400\"></iframe>"
       ],
       "metadata": {},
       "output_type": "pyout",
       "prompt_number": 30,
       "text": [
        "<IPython.core.display.HTML at 0x8b84780>"
       ]
      }
     ],
     "prompt_number": 30
    },
    {
     "cell_type": "markdown",
     "metadata": {},
     "source": [
      "Pasaremos r\u00e1pidamente por esta parte, para hacer cosas \"m\u00e1s interesantes\". Te proponemos algunos ejemplos para que te familiarices con el manejor de expresiones:"
     ]
    },
    {
     "cell_type": "markdown",
     "metadata": {},
     "source": [
      "Crea las expresiones de la izquierda y averigua qu\u00e9 funci\u00f3n te hace obtener la de la derecha:\n",
      "\n",
      "expresi\u00f3n 1| expresi\u00f3n 2\n",
      ":------:|:------:\n",
      "$\\left(x^{3} + 3 y + 2\\right)^{2}$    |    $x^{6} + 6 x^{3} y + 4 x^{3} + 9 y^{2} + 12 y + 4$\n",
      "$\\frac{\\left(3 x^{2} - 2 x + 1\\right)}{\\left(x - 1\\right)^{2}} $ | $3 + \\frac{4}{x - 1} + \\frac{2}{\\left(x - 1\\right)^{2}}$\n",
      "$x^{3} + 9 x^{2} + 27 x + 27$         |    $\\left(x + 3\\right)^{3}$\n",
      "$\\sin(x+2y)$                          |    $\\left(2 \\cos^{2}{\\left (y \\right )} - 1\\right) \\sin{\\left (x \\right )} + 2 \\sin{\\left (y \\right )} \\cos{\\left (x \\right )} \\cos{\\left (y \\right )}$\n"
     ]
    },
    {
     "cell_type": "code",
     "collapsed": false,
     "input": [
      "#1\n",
      "expr1 = (x**3 + 3*y + 2) ** 2\n",
      "expr1"
     ],
     "language": "python",
     "metadata": {},
     "outputs": [
      {
       "latex": [
        "$$\\left(x^{3} + 3 y + 2\\right)^{2}$$"
       ],
       "metadata": {},
       "output_type": "pyout",
       "png": "[encoded data removed]",
       "prompt_number": 31,
       "text": [
        "              2\n",
        "\u239b 3          \u239e \n",
        "\u239dx  + 3\u22c5y + 2\u23a0 "
       ]
      }
     ],
     "prompt_number": 31
    },
    {
     "cell_type": "code",
     "collapsed": false,
     "input": [
      "expr1_exp = expr1.expand()\n",
      "expr1_exp"
     ],
     "language": "python",
     "metadata": {},
     "outputs": [
      {
       "latex": [
        "$$x^{6} + 6 x^{3} y + 4 x^{3} + 9 y^{2} + 12 y + 4$$"
       ],
       "metadata": {},
       "output_type": "pyout",
       "png": "[encoded data removed]",
       "prompt_number": 32,
       "text": [
        " 6      3        3      2           \n",
        "x  + 6\u22c5x \u22c5y + 4\u22c5x  + 9\u22c5y  + 12\u22c5y + 4"
       ]
      }
     ],
     "prompt_number": 32
    },
    {
     "cell_type": "code",
     "collapsed": false,
     "input": [
      "#3\n",
      "expr3 = x**3 + 9 * x**2 + 27 * x + 27\n",
      "expr3"
     ],
     "language": "python",
     "metadata": {},
     "outputs": [
      {
       "latex": [
        "$$x^{3} + 9 x^{2} + 27 x + 27$$"
       ],
       "metadata": {},
       "output_type": "pyout",
       "png": "[encoded data removed]",
       "prompt_number": 33,
       "text": [
        " 3      2            \n",
        "x  + 9\u22c5x  + 27\u22c5x + 27"
       ]
      }
     ],
     "prompt_number": 33
    },
    {
     "cell_type": "code",
     "collapsed": false,
     "input": [
      "expr3.factor()"
     ],
     "language": "python",
     "metadata": {},
     "outputs": [
      {
       "latex": [
        "$$\\left(x + 3\\right)^{3}$$"
       ],
       "metadata": {},
       "output_type": "pyout",
       "png": "[encoded data removed]",
       "prompt_number": 34,
       "text": [
        "       3\n",
        "(x + 3) "
       ]
      }
     ],
     "prompt_number": 34
    },
    {
     "cell_type": "code",
     "collapsed": false,
     "input": [
      "#4\n",
      "expr4 = sin(x+2*y)\n",
      "expr4"
     ],
     "language": "python",
     "metadata": {},
     "outputs": [
      {
       "latex": [
        "$$\\sin{\\left (x + 2 y \\right )}$$"
       ],
       "metadata": {},
       "output_type": "pyout",
       "png": "[encoded data removed]",
       "prompt_number": 35,
       "text": [
        "sin(x + 2\u22c5y)"
       ]
      }
     ],
     "prompt_number": 35
    },
    {
     "cell_type": "code",
     "collapsed": false,
     "input": [
      "expand_trig(expr4)"
     ],
     "language": "python",
     "metadata": {},
     "outputs": [
      {
       "latex": [
        "$$\\left(2 \\cos^{2}{\\left (y \\right )} - 1\\right) \\sin{\\left (x \\right )} + 2 \\sin{\\left (y \\right )} \\cos{\\left (x \\right )} \\cos{\\left (y \\right )}$$"
       ],
       "metadata": {},
       "output_type": "pyout",
       "png": "[encoded data removed]",
       "prompt_number": 36,
       "text": [
        "\u239b     2       \u239e                                \n",
        "\u239d2\u22c5cos (y) - 1\u23a0\u22c5sin(x) + 2\u22c5sin(y)\u22c5cos(x)\u22c5cos(y)"
       ]
      }
     ],
     "prompt_number": 36
    },
    {
     "cell_type": "code",
     "collapsed": false,
     "input": [
      "expand(expr4, trig=True)"
     ],
     "language": "python",
     "metadata": {},
     "outputs": [
      {
       "latex": [
        "$$2 \\sin{\\left (x \\right )} \\cos^{2}{\\left (y \\right )} - \\sin{\\left (x \\right )} + 2 \\sin{\\left (y \\right )} \\cos{\\left (x \\right )} \\cos{\\left (y \\right )}$$"
       ],
       "metadata": {},
       "output_type": "pyout",
       "png": "[encoded data removed]",
       "prompt_number": 37,
       "text": [
        "            2                                     \n",
        "2\u22c5sin(x)\u22c5cos (y) - sin(x) + 2\u22c5sin(y)\u22c5cos(x)\u22c5cos(y)"
       ]
      }
     ],
     "prompt_number": 37
    },
    {
     "cell_type": "code",
     "collapsed": false,
     "input": [
      "expand(expr4)"
     ],
     "language": "python",
     "metadata": {},
     "outputs": [
      {
       "latex": [
        "$$\\sin{\\left (x + 2 y \\right )}$$"
       ],
       "metadata": {},
       "output_type": "pyout",
       "png": "[encoded data removed]",
       "prompt_number": 38,
       "text": [
        "sin(x + 2\u22c5y)"
       ]
      }
     ],
     "prompt_number": 38
    },
    {
     "cell_type": "code",
     "collapsed": false,
     "input": [
      "#2\n",
      "expr2 = (3 * x**2 - 2 * x +1) / (x - 1)**2\n",
      "expr2"
     ],
     "language": "python",
     "metadata": {},
     "outputs": [
      {
       "latex": [
        "$$\\frac{1}{\\left(x - 1\\right)^{2}} \\left(3 x^{2} - 2 x + 1\\right)$$"
       ],
       "metadata": {},
       "output_type": "pyout",
       "png": "[encoded data removed]",
       "prompt_number": 39,
       "text": [
        "   2          \n",
        "3\u22c5x  - 2\u22c5x + 1\n",
        "\u2500\u2500\u2500\u2500\u2500\u2500\u2500\u2500\u2500\u2500\u2500\u2500\u2500\u2500\n",
        "          2   \n",
        "   (x - 1)    "
       ]
      }
     ],
     "prompt_number": 39
    },
    {
     "cell_type": "code",
     "collapsed": false,
     "input": [
      "expr2.apart()"
     ],
     "language": "python",
     "metadata": {},
     "outputs": [
      {
       "latex": [
        "$$3 + \\frac{4}{x - 1} + \\frac{2}{\\left(x - 1\\right)^{2}}$$"
       ],
       "metadata": {},
       "output_type": "pyout",
       "png": "[encoded data removed]",
       "prompt_number": 40,
       "text": [
        "      4        2    \n",
        "3 + \u2500\u2500\u2500\u2500\u2500 + \u2500\u2500\u2500\u2500\u2500\u2500\u2500\u2500\n",
        "    x - 1          2\n",
        "            (x - 1) "
       ]
      }
     ],
     "prompt_number": 40
    },
    {
     "cell_type": "heading",
     "level": 1,
     "metadata": {},
     "source": [
      "Derivadas e integrales"
     ]
    },
    {
     "cell_type": "markdown",
     "metadata": {},
     "source": [
      "Puedes derivar una expresion usando el m\u00e9todo `.diff()` y la funci\u00f3n `dif()`"
     ]
    },
    {
     "cell_type": "code",
     "collapsed": false,
     "input": [
      "#creamos una expresi\u00f3n\n",
      "expr = cos(x)\n",
      "\n",
      "#obtenemos la derivada primera con funcion\n",
      "diff(expr, x)"
     ],
     "language": "python",
     "metadata": {},
     "outputs": [
      {
       "latex": [
        "$$- \\sin{\\left (x \\right )}$$"
       ],
       "metadata": {},
       "output_type": "pyout",
       "png": "[encoded data removed]",
       "prompt_number": 41,
       "text": [
        "-sin(x)"
       ]
      }
     ],
     "prompt_number": 41
    },
    {
     "cell_type": "code",
     "collapsed": false,
     "input": [
      "#utilizando m\u00e9todo\n",
      "expr.diff(x)"
     ],
     "language": "python",
     "metadata": {},
     "outputs": [
      {
       "latex": [
        "$$- \\sin{\\left (x \\right )}$$"
       ],
       "metadata": {},
       "output_type": "pyout",
       "png": "[encoded data removed]",
       "prompt_number": 42,
       "text": [
        "-sin(x)"
       ]
      }
     ],
     "prompt_number": 42
    },
    {
     "cell_type": "markdown",
     "metadata": {},
     "source": [
      "__\u00bfderivada tercera?__"
     ]
    },
    {
     "cell_type": "code",
     "collapsed": false,
     "input": [
      "expr.diff(x,x,x)"
     ],
     "language": "python",
     "metadata": {},
     "outputs": [
      {
       "latex": [
        "$$\\sin{\\left (x \\right )}$$"
       ],
       "metadata": {},
       "output_type": "pyout",
       "png": "[encoded data removed]",
       "prompt_number": 43,
       "text": [
        "sin(x)"
       ]
      }
     ],
     "prompt_number": 43
    },
    {
     "cell_type": "code",
     "collapsed": false,
     "input": [
      "expr.diff(x, 3)"
     ],
     "language": "python",
     "metadata": {},
     "outputs": [
      {
       "latex": [
        "$$\\sin{\\left (x \\right )}$$"
       ],
       "metadata": {},
       "output_type": "pyout",
       "png": "[encoded data removed]",
       "prompt_number": 44,
       "text": [
        "sin(x)"
       ]
      }
     ],
     "prompt_number": 44
    },
    {
     "cell_type": "markdown",
     "metadata": {},
     "source": [
      "__\u00bfvarias variables?__"
     ]
    },
    {
     "cell_type": "code",
     "collapsed": false,
     "input": [
      "expr_xy = y**3 *sin(x)**2 + x**2 * cos(y)\n",
      "expr_xy"
     ],
     "language": "python",
     "metadata": {},
     "outputs": [
      {
       "latex": [
        "$$x^{2} \\cos{\\left (y \\right )} + y^{3} \\sin^{2}{\\left (x \\right )}$$"
       ],
       "metadata": {},
       "output_type": "pyout",
       "png": "[encoded data removed]",
       "prompt_number": 45,
       "text": [
        " 2           3    2   \n",
        "x \u22c5cos(y) + y \u22c5sin (x)"
       ]
      }
     ],
     "prompt_number": 45
    },
    {
     "cell_type": "code",
     "collapsed": false,
     "input": [
      "diff(expr_xy,x,2,y,2)"
     ],
     "language": "python",
     "metadata": {},
     "outputs": [
      {
       "latex": [
        "$$2 \\left(- 6 y \\sin^{2}{\\left (x \\right )} + 6 y \\cos^{2}{\\left (x \\right )} - \\cos{\\left (y \\right )}\\right)$$"
       ],
       "metadata": {},
       "output_type": "pyout",
       "png": "[encoded data removed]",
       "prompt_number": 46,
       "text": [
        "  \u239b         2             2            \u239e\n",
        "2\u22c5\u239d- 6\u22c5y\u22c5sin (x) + 6\u22c5y\u22c5cos (x) - cos(y)\u23a0"
       ]
      }
     ],
     "prompt_number": 46
    },
    {
     "cell_type": "markdown",
     "metadata": {},
     "source": [
      "__Queremos que la deje indicada__, usamos `Derivative()`"
     ]
    },
    {
     "cell_type": "code",
     "collapsed": false,
     "input": [
      "Derivative(expr_xy, x,2,y)"
     ],
     "language": "python",
     "metadata": {},
     "outputs": [
      {
       "latex": [
        "$$\\frac{\\partial^{3}}{\\partial x^{2}\\partial y} \\left(x^{2} \\cos{\\left (y \\right )} + y^{3} \\sin^{2}{\\left (x \\right )}\\right)$$"
       ],
       "metadata": {},
       "output_type": "pyout",
       "png": "[encoded data removed]",
       "prompt_number": 47,
       "text": [
        "   3                          \n",
        "  \u2202   \u239b 2           3    2   \u239e\n",
        "\u2500\u2500\u2500\u2500\u2500\u2500\u239dx \u22c5cos(y) + y \u22c5sin (x)\u23a0\n",
        "     2                        \n",
        "\u2202y \u2202x                         "
       ]
      }
     ],
     "prompt_number": 47
    },
    {
     "cell_type": "markdown",
     "metadata": {},
     "source": [
      "__\u00bfSer\u00e1 capaz SymPy de aplicar la regla de la cadena?__"
     ]
    },
    {
     "cell_type": "code",
     "collapsed": false,
     "input": [
      "F = Function('F')\n",
      "F"
     ],
     "language": "python",
     "metadata": {},
     "outputs": [
      {
       "metadata": {},
       "output_type": "pyout",
       "prompt_number": 48,
       "text": [
        "F"
       ]
      }
     ],
     "prompt_number": 48
    },
    {
     "cell_type": "code",
     "collapsed": false,
     "input": [
      "G = Function('G')\n",
      "G"
     ],
     "language": "python",
     "metadata": {},
     "outputs": [
      {
       "metadata": {},
       "output_type": "pyout",
       "prompt_number": 49,
       "text": [
        "G"
       ]
      }
     ],
     "prompt_number": 49
    },
    {
     "cell_type": "code",
     "collapsed": false,
     "input": [
      "G(x)"
     ],
     "language": "python",
     "metadata": {},
     "outputs": [
      {
       "latex": [
        "$$G{\\left (x \\right )}$$"
       ],
       "metadata": {},
       "output_type": "pyout",
       "png": "[encoded data removed]",
       "prompt_number": 50,
       "text": [
        "G(x)"
       ]
      }
     ],
     "prompt_number": 50
    },
    {
     "cell_type": "code",
     "collapsed": false,
     "input": [
      "F(G(x)).diff()"
     ],
     "language": "python",
     "metadata": {},
     "outputs": [
      {
       "latex": [
        "$$\\frac{d}{d x} G{\\left (x \\right )} \\left. \\frac{d}{d \\xi_{1}} F{\\left (\\xi_{1} \\right )} \\right|_{\\substack{ \\xi_{1}=G{\\left (x \\right )} }}$$"
       ],
       "metadata": {},
       "output_type": "pyout",
       "png": "[encoded data removed]",
       "prompt_number": 51,
       "text": [
        "d        \u239b d        \u239e\u2502       \n",
        "\u2500\u2500(G(x))\u22c5\u239c\u2500\u2500\u2500(F(\u03be\u2081))\u239f\u2502       \n",
        "dx       \u239dd\u03be\u2081       \u23a0\u2502\u03be\u2081=G(x)"
       ]
      }
     ],
     "prompt_number": 51
    },
    {
     "cell_type": "code",
     "collapsed": false,
     "input": [
      "#definimos una f\n",
      "f = 2 * y * exp(x)\n",
      "f"
     ],
     "language": "python",
     "metadata": {},
     "outputs": [
      {
       "latex": [
        "$$2 y e^{x}$$"
       ],
       "metadata": {},
       "output_type": "pyout",
       "png": "[encoded data removed]",
       "prompt_number": 52,
       "text": [
        "     x\n",
        "2\u22c5y\u22c5\u212f "
       ]
      }
     ],
     "prompt_number": 52
    },
    {
     "cell_type": "code",
     "collapsed": false,
     "input": [
      "#definimos una g(f)\n",
      "g = f **2 * cos(x) + f\n",
      "g"
     ],
     "language": "python",
     "metadata": {},
     "outputs": [
      {
       "latex": [
        "$$4 y^{2} e^{2 x} \\cos{\\left (x \\right )} + 2 y e^{x}$$"
       ],
       "metadata": {},
       "output_type": "pyout",
       "png": "[encoded data removed]",
       "prompt_number": 53,
       "text": [
        "   2  2\u22c5x               x\n",
        "4\u22c5y \u22c5\u212f   \u22c5cos(x) + 2\u22c5y\u22c5\u212f "
       ]
      }
     ],
     "prompt_number": 53
    },
    {
     "cell_type": "code",
     "collapsed": false,
     "input": [
      "#la derivamos\n",
      "diff(g,x)"
     ],
     "language": "python",
     "metadata": {},
     "outputs": [
      {
       "latex": [
        "$$- 4 y^{2} e^{2 x} \\sin{\\left (x \\right )} + 8 y^{2} e^{2 x} \\cos{\\left (x \\right )} + 2 y e^{x}$$"
       ],
       "metadata": {},
       "output_type": "pyout",
       "png": "[encoded data removed]",
       "prompt_number": 54,
       "text": [
        "     2  2\u22c5x             2  2\u22c5x               x\n",
        "- 4\u22c5y \u22c5\u212f   \u22c5sin(x) + 8\u22c5y \u22c5\u212f   \u22c5cos(x) + 2\u22c5y\u22c5\u212f "
       ]
      }
     ],
     "prompt_number": 54
    },
    {
     "cell_type": "markdown",
     "metadata": {},
     "source": [
      "__Si te digo que se integra usando el m\u00e9todo `.integrate()` o la funci\u00f3n `integrate()`__. \u00bfTe atreves a integrar estas casi inmediatas...?:\n",
      "\n",
      "$$\\int{\\cos(x)^2}dx$$\n",
      "$$\\int{\\frac{dx}{\\sin(x)}}$$\n",
      "$$\\int{\\frac{dx}{(x^2+a^2)^2}}$$\n",
      "\n"
     ]
    },
    {
     "cell_type": "code",
     "collapsed": false,
     "input": [
      "int1 = cos(x) ** 2\n",
      "integrate(int1)"
     ],
     "language": "python",
     "metadata": {},
     "outputs": [
      {
       "latex": [
        "$$\\frac{x}{2} + \\frac{1}{2} \\sin{\\left (x \\right )} \\cos{\\left (x \\right )}$$"
       ],
       "metadata": {},
       "output_type": "pyout",
       "png": "[encoded data removed]",
       "prompt_number": 55,
       "text": [
        "x   sin(x)\u22c5cos(x)\n",
        "\u2500 + \u2500\u2500\u2500\u2500\u2500\u2500\u2500\u2500\u2500\u2500\u2500\u2500\u2500\n",
        "2         2      "
       ]
      }
     ],
     "prompt_number": 55
    },
    {
     "cell_type": "code",
     "collapsed": false,
     "input": [
      "int2 =  1 / sin(x)\n",
      "integrate(int2)"
     ],
     "language": "python",
     "metadata": {},
     "outputs": [
      {
       "latex": [
        "$$\\frac{1}{2} \\log{\\left (\\cos{\\left (x \\right )} - 1 \\right )} - \\frac{1}{2} \\log{\\left (\\cos{\\left (x \\right )} + 1 \\right )}$$"
       ],
       "metadata": {},
       "output_type": "pyout",
       "png": "[encoded data removed]",
       "prompt_number": 56,
       "text": [
        "log(cos(x) - 1)   log(cos(x) + 1)\n",
        "\u2500\u2500\u2500\u2500\u2500\u2500\u2500\u2500\u2500\u2500\u2500\u2500\u2500\u2500\u2500 - \u2500\u2500\u2500\u2500\u2500\u2500\u2500\u2500\u2500\u2500\u2500\u2500\u2500\u2500\u2500\n",
        "       2                 2       "
       ]
      }
     ],
     "prompt_number": 56
    },
    {
     "cell_type": "code",
     "collapsed": false,
     "input": [
      "x, a = symbols('x a')\n",
      "\n",
      "int3 = 1 / (x**2 + a**2)**2\n",
      "integrate(int3, x)"
     ],
     "language": "python",
     "metadata": {},
     "outputs": [
      {
       "latex": [
        "$$\\frac{x}{2 a^{4} + 2 a^{2} x^{2}} + \\frac{1}{a^{3}} \\left(- \\frac{i}{4} \\log{\\left (- i a + x \\right )} + \\frac{i}{4} \\log{\\left (i a + x \\right )}\\right)$$"
       ],
       "metadata": {},
       "output_type": "pyout",
       "png": "[encoded data removed]",
       "prompt_number": 57,
       "text": [
        "                   \u2148\u22c5log(-\u2148\u22c5a + x)   \u2148\u22c5log(\u2148\u22c5a + x)\n",
        "                 - \u2500\u2500\u2500\u2500\u2500\u2500\u2500\u2500\u2500\u2500\u2500\u2500\u2500\u2500\u2500 + \u2500\u2500\u2500\u2500\u2500\u2500\u2500\u2500\u2500\u2500\u2500\u2500\u2500\u2500\n",
        "      x                   4                4       \n",
        "\u2500\u2500\u2500\u2500\u2500\u2500\u2500\u2500\u2500\u2500\u2500\u2500\u2500\u2500 + \u2500\u2500\u2500\u2500\u2500\u2500\u2500\u2500\u2500\u2500\u2500\u2500\u2500\u2500\u2500\u2500\u2500\u2500\u2500\u2500\u2500\u2500\u2500\u2500\u2500\u2500\u2500\u2500\u2500\u2500\u2500\u2500\u2500\u2500\n",
        "   4      2  2                    3                \n",
        "2\u22c5a  + 2\u22c5a \u22c5x                    a                 "
       ]
      }
     ],
     "prompt_number": 57
    },
    {
     "cell_type": "heading",
     "level": 1,
     "metadata": {},
     "source": [
      "L\u00edmites"
     ]
    },
    {
     "cell_type": "markdown",
     "metadata": {},
     "source": [
      "Calculemos este l\u00edmite sacado del libro _C\u00e1lculo: definiciones, teoremas y resultados_, de Juan de Burgos:\n",
      "\n",
      "$$\\lim_{x \\to 0} \\left(\\frac{x}{\\tan{\\left (x \\right )}}\\right)^{\\frac{1}{x^{2}}}$$\n",
      "\n",
      "Primero creamos la expresi\u00f3n:"
     ]
    },
    {
     "cell_type": "code",
     "collapsed": false,
     "input": [
      "x = symbols('x', real=True)\n",
      "expr = (x/tan(x))**(1/x**2)\n",
      "expr"
     ],
     "language": "python",
     "metadata": {},
     "outputs": [
      {
       "latex": [
        "$$\\left(\\frac{x}{\\tan{\\left (x \\right )}}\\right)^{\\frac{1}{x^{2}}}$$"
       ],
       "metadata": {},
       "output_type": "pyout",
       "png": "[encoded data removed]",
       "prompt_number": 58,
       "text": [
        "        1 \n",
        "        \u2500\u2500\n",
        "         2\n",
        "        x \n",
        "\u239b  x   \u239e  \n",
        "\u239c\u2500\u2500\u2500\u2500\u2500\u2500\u239f  \n",
        "\u239dtan(x)\u23a0  "
       ]
      }
     ],
     "prompt_number": 58
    },
    {
     "cell_type": "markdown",
     "metadata": {},
     "source": [
      "Obtenemos el l\u00edmite con la funci\u00f3n `limit()` y si queremos dejarlo indicado, podemos usar `Limit()`:"
     ]
    },
    {
     "cell_type": "code",
     "collapsed": false,
     "input": [
      "limit(expr, x, 0)"
     ],
     "language": "python",
     "metadata": {},
     "outputs": [
      {
       "latex": [
        "$$e^{- \\frac{1}{3}}$$"
       ],
       "metadata": {},
       "output_type": "pyout",
       "png": "[encoded data removed]",
       "prompt_number": 59,
       "text": [
        " -1/3\n",
        "\u212f    "
       ]
      }
     ],
     "prompt_number": 59
    },
    {
     "cell_type": "heading",
     "level": 1,
     "metadata": {},
     "source": [
      "Series"
     ]
    },
    {
     "cell_type": "markdown",
     "metadata": {},
     "source": [
      "Los desarrollos en serie se pueden llevar a cabo con el m\u00e9todo `.series()` o la funci\u00f3n `series()`"
     ]
    },
    {
     "cell_type": "code",
     "collapsed": false,
     "input": [
      "#creamos la expresi\u00f3n\n",
      "expr = exp(x)\n",
      "expr"
     ],
     "language": "python",
     "metadata": {},
     "outputs": [
      {
       "latex": [
        "$$e^{x}$$"
       ],
       "metadata": {},
       "output_type": "pyout",
       "png": "[encoded data removed]",
       "prompt_number": 60,
       "text": [
        " x\n",
        "\u212f "
       ]
      }
     ],
     "prompt_number": 60
    },
    {
     "cell_type": "code",
     "collapsed": false,
     "input": [
      "#la desarrollamos en serie\n",
      "series(expr)"
     ],
     "language": "python",
     "metadata": {},
     "outputs": [
      {
       "latex": [
        "$$1 + x + \\frac{x^{2}}{2} + \\frac{x^{3}}{6} + \\frac{x^{4}}{24} + \\frac{x^{5}}{120} + \\mathcal{O}\\left(x^{6}\\right)$$"
       ],
       "metadata": {},
       "output_type": "pyout",
       "png": "[encoded data removed]",
       "prompt_number": 61,
       "text": [
        "         2    3    4     5        \n",
        "        x    x    x     x     \u239b 6\u239e\n",
        "1 + x + \u2500\u2500 + \u2500\u2500 + \u2500\u2500 + \u2500\u2500\u2500 + O\u239dx \u23a0\n",
        "        2    6    24   120        "
       ]
      }
     ],
     "prompt_number": 61
    },
    {
     "cell_type": "markdown",
     "metadata": {},
     "source": [
      "Se puede especificar el n\u00famero de t\u00e9rminos pas\u00e1ndole un argumento `n=...`. El n\u00famero que le pasemos ser\u00e1 el primer t\u00e9rmino que desprecie."
     ]
    },
    {
     "cell_type": "code",
     "collapsed": false,
     "input": [
      "series(expr, n=10)"
     ],
     "language": "python",
     "metadata": {},
     "outputs": [
      {
       "latex": [
        "$$1 + x + \\frac{x^{2}}{2} + \\frac{x^{3}}{6} + \\frac{x^{4}}{24} + \\frac{x^{5}}{120} + \\frac{x^{6}}{720} + \\frac{x^{7}}{5040} + \\frac{x^{8}}{40320} + \\frac{x^{9}}{362880} + \\mathcal{O}\\left(x^{10}\\right)$$"
       ],
       "metadata": {},
       "output_type": "pyout",
       "png": "[encoded data removed]",
       "prompt_number": 62,
       "text": [
        "         2    3    4     5     6     7       8       9           \n",
        "        x    x    x     x     x     x       x       x       \u239b 10\u239e\n",
        "1 + x + \u2500\u2500 + \u2500\u2500 + \u2500\u2500 + \u2500\u2500\u2500 + \u2500\u2500\u2500 + \u2500\u2500\u2500\u2500 + \u2500\u2500\u2500\u2500\u2500 + \u2500\u2500\u2500\u2500\u2500\u2500 + O\u239dx  \u23a0\n",
        "        2    6    24   120   720   5040   40320   362880         "
       ]
      }
     ],
     "prompt_number": 62
    },
    {
     "cell_type": "markdown",
     "metadata": {},
     "source": [
      "Si nos molesta el $\\mathcal{O}(x^{10})$ lo podemos quitar con `removeO()`:"
     ]
    },
    {
     "cell_type": "code",
     "collapsed": false,
     "input": [
      "series(expr, n=10).removeO()"
     ],
     "language": "python",
     "metadata": {},
     "outputs": [
      {
       "latex": [
        "$$\\frac{x^{9}}{362880} + \\frac{x^{8}}{40320} + \\frac{x^{7}}{5040} + \\frac{x^{6}}{720} + \\frac{x^{5}}{120} + \\frac{x^{4}}{24} + \\frac{x^{3}}{6} + \\frac{x^{2}}{2} + x + 1$$"
       ],
       "metadata": {},
       "output_type": "pyout",
       "png": "[encoded data removed]",
       "prompt_number": 63,
       "text": [
        "   9        8      7      6     5    4    3    2        \n",
        "  x        x      x      x     x    x    x    x         \n",
        "\u2500\u2500\u2500\u2500\u2500\u2500 + \u2500\u2500\u2500\u2500\u2500 + \u2500\u2500\u2500\u2500 + \u2500\u2500\u2500 + \u2500\u2500\u2500 + \u2500\u2500 + \u2500\u2500 + \u2500\u2500 + x + 1\n",
        "362880   40320   5040   720   120   24   6    2         "
       ]
      }
     ],
     "prompt_number": 63
    },
    {
     "cell_type": "markdown",
     "metadata": {},
     "source": [
      "Tambi\u00e9n podemos centrar nuestro desarrollo en torno a otro punto, pero seg\u00fan indica su ayuda:\n",
      "\n",
      "`\"Currently, O only supports orders at 0, so series expansions at points other than 0 are computed by first shifting to 0 and then shifting back.\"`\n",
      "    \n",
      "Es decir, si queremos desarrollar en torno a $x_0$. __Desarrollamos la funci\u00f3n y donde pone $x$ debemos sustituir por $(x-x_0)$__"
     ]
    },
    {
     "cell_type": "code",
     "collapsed": false,
     "input": [
      "series(expr, n=10, x0=6)"
     ],
     "language": "python",
     "metadata": {},
     "outputs": [
      {
       "latex": [
        "$$e^{6} + x e^{6} + \\frac{x^{2} e^{6}}{2} + \\frac{x^{3} e^{6}}{6} + \\frac{x^{4} e^{6}}{24} + \\frac{x^{5} e^{6}}{120} + \\frac{x^{6} e^{6}}{720} + \\frac{x^{7} e^{6}}{5040} + \\frac{x^{8} e^{6}}{40320} + \\frac{x^{9} e^{6}}{362880} + \\mathcal{O}\\left(x^{10}\\right)$$"
       ],
       "metadata": {},
       "output_type": "pyout",
       "png": "[encoded data removed]",
       "prompt_number": 64,
       "text": [
        "             2  6    3  6    4  6    5  6    6  6    7  6    8  6    9  6     \n",
        " 6      6   x \u22c5\u212f    x \u22c5\u212f    x \u22c5\u212f    x \u22c5\u212f    x \u22c5\u212f    x \u22c5\u212f    x \u22c5\u212f    x \u22c5\u212f      \n",
        "\u212f  + x\u22c5\u212f  + \u2500\u2500\u2500\u2500\u2500 + \u2500\u2500\u2500\u2500\u2500 + \u2500\u2500\u2500\u2500\u2500 + \u2500\u2500\u2500\u2500\u2500 + \u2500\u2500\u2500\u2500\u2500 + \u2500\u2500\u2500\u2500\u2500 + \u2500\u2500\u2500\u2500\u2500 + \u2500\u2500\u2500\u2500\u2500\u2500 + O\n",
        "              2       6       24     120     720     5040   40320   362880    \n",
        "\n",
        "     \n",
        "\u239b 10\u239e\n",
        "\u239dx  \u23a0\n",
        "     "
       ]
      }
     ],
     "prompt_number": 64
    },
    {
     "cell_type": "markdown",
     "metadata": {},
     "source": [
      "En este caso donde pone $x$ es $(x-6)$ "
     ]
    },
    {
     "cell_type": "code",
     "collapsed": false,
     "input": [
      "series(exp(x), n=10, x0=6).removeO().subs(x,x-6)"
     ],
     "language": "python",
     "metadata": {},
     "outputs": [
      {
       "latex": [
        "$$\\frac{e^{6}}{362880} \\left(x - 6\\right)^{9} + \\frac{e^{6}}{40320} \\left(x - 6\\right)^{8} + \\frac{e^{6}}{5040} \\left(x - 6\\right)^{7} + \\frac{e^{6}}{720} \\left(x - 6\\right)^{6} + \\frac{e^{6}}{120} \\left(x - 6\\right)^{5} + \\frac{e^{6}}{24} \\left(x - 6\\right)^{4} + \\frac{e^{6}}{6} \\left(x - 6\\right)^{3} + \\frac{e^{6}}{2} \\left(x - 6\\right)^{2} + \\left(x - 6\\right) e^{6} + e^{6}$$"
       ],
       "metadata": {},
       "output_type": "pyout",
       "png": "[encoded data removed]",
       "prompt_number": 65,
       "text": [
        "       9  6          8  6          7  6          6  6          5  6          4\n",
        "(x - 6) \u22c5\u212f    (x - 6) \u22c5\u212f    (x - 6) \u22c5\u212f    (x - 6) \u22c5\u212f    (x - 6) \u22c5\u212f    (x - 6) \n",
        "\u2500\u2500\u2500\u2500\u2500\u2500\u2500\u2500\u2500\u2500\u2500 + \u2500\u2500\u2500\u2500\u2500\u2500\u2500\u2500\u2500\u2500\u2500 + \u2500\u2500\u2500\u2500\u2500\u2500\u2500\u2500\u2500\u2500\u2500 + \u2500\u2500\u2500\u2500\u2500\u2500\u2500\u2500\u2500\u2500\u2500 + \u2500\u2500\u2500\u2500\u2500\u2500\u2500\u2500\u2500\u2500\u2500 + \u2500\u2500\u2500\u2500\u2500\u2500\u2500\u2500\n",
        "   362880        40320          5040          720           120            24 \n",
        "\n",
        "  6          3  6          2  6                  \n",
        "\u22c5\u212f    (x - 6) \u22c5\u212f    (x - 6) \u22c5\u212f             6    6\n",
        "\u2500\u2500\u2500 + \u2500\u2500\u2500\u2500\u2500\u2500\u2500\u2500\u2500\u2500\u2500 + \u2500\u2500\u2500\u2500\u2500\u2500\u2500\u2500\u2500\u2500\u2500 + (x - 6)\u22c5\u212f  + \u212f \n",
        "           6             2                       "
       ]
      }
     ],
     "prompt_number": 65
    },
    {
     "cell_type": "code",
     "collapsed": false,
     "input": [
      "#si quiero ver el coeficiente que multiplica a una potencia...\n",
      "\n",
      "series(exp(x), n=10).removeO().subs(x,x-6).expand()"
     ],
     "language": "python",
     "metadata": {},
     "outputs": [
      {
       "latex": [
        "$$\\frac{x^{9}}{362880} - \\frac{x^{8}}{8064} + \\frac{13 x^{7}}{5040} - \\frac{23 x^{6}}{720} + \\frac{31 x^{5}}{120} - \\frac{169 x^{4}}{120} + \\frac{31 x^{3}}{6} - \\frac{859 x^{2}}{70} + \\frac{599 x}{35} - \\frac{373}{35}$$"
       ],
       "metadata": {},
       "output_type": "pyout",
       "png": "[encoded data removed]",
       "prompt_number": 66,
       "text": [
        "   9       8        7       6       5        4       3        2              \n",
        "  x       x     13\u22c5x    23\u22c5x    31\u22c5x    169\u22c5x    31\u22c5x    859\u22c5x    599\u22c5x   373\n",
        "\u2500\u2500\u2500\u2500\u2500\u2500 - \u2500\u2500\u2500\u2500 + \u2500\u2500\u2500\u2500\u2500 - \u2500\u2500\u2500\u2500\u2500 + \u2500\u2500\u2500\u2500\u2500 - \u2500\u2500\u2500\u2500\u2500\u2500 + \u2500\u2500\u2500\u2500\u2500 - \u2500\u2500\u2500\u2500\u2500\u2500 + \u2500\u2500\u2500\u2500\u2500 - \u2500\u2500\u2500\n",
        "362880   8064    5040    720     120     120       6       70       35     35"
       ]
      }
     ],
     "prompt_number": 66
    },
    {
     "cell_type": "heading",
     "level": 3,
     "metadata": {},
     "source": [
      "Ejercicio"
     ]
    },
    {
     "cell_type": "markdown",
     "metadata": {},
     "source": [
      "Obt\u00e9n el desarrollo del $sin(x)$ en torno a $\\pi/3$ hasta orden 8. Despu\u00e9s usando `collect()` obt\u00e9n el coeficiente que multiplica a $x^3$"
     ]
    },
    {
     "cell_type": "code",
     "collapsed": false,
     "input": [
      "series(sin(x), n=8, x0=pi/3).removeO().subs(x, x-pi/3)"
     ],
     "language": "python",
     "metadata": {},
     "outputs": [
      {
       "latex": [
        "$$\\frac{x}{2} - \\frac{1}{10080} \\left(x - \\frac{\\pi}{3}\\right)^{7} - \\frac{\\sqrt{3}}{1440} \\left(x - \\frac{\\pi}{3}\\right)^{6} + \\frac{1}{240} \\left(x - \\frac{\\pi}{3}\\right)^{5} + \\frac{\\sqrt{3}}{48} \\left(x - \\frac{\\pi}{3}\\right)^{4} - \\frac{1}{12} \\left(x - \\frac{\\pi}{3}\\right)^{3} - \\frac{\\sqrt{3}}{4} \\left(x - \\frac{\\pi}{3}\\right)^{2} - \\frac{\\pi}{6} + \\frac{\\sqrt{3}}{2}$$"
       ],
       "metadata": {},
       "output_type": "pyout",
       "png": "[encoded data removed]",
       "prompt_number": 67,
       "text": [
        "           7                6          5                4          3          \n",
        "    \u239b    \u03c0\u239e      ___ \u239b    \u03c0\u239e    \u239b    \u03c0\u239e      ___ \u239b    \u03c0\u239e    \u239b    \u03c0\u239e      ___ \u239b\n",
        "    \u239cx - \u2500\u239f    \u2572\u2571 3 \u22c5\u239cx - \u2500\u239f    \u239cx - \u2500\u239f    \u2572\u2571 3 \u22c5\u239cx - \u2500\u239f    \u239cx - \u2500\u239f    \u2572\u2571 3 \u22c5\u239c\n",
        "x   \u239d    3\u23a0          \u239d    3\u23a0    \u239d    3\u23a0          \u239d    3\u23a0    \u239d    3\u23a0          \u239d\n",
        "\u2500 - \u2500\u2500\u2500\u2500\u2500\u2500\u2500\u2500 - \u2500\u2500\u2500\u2500\u2500\u2500\u2500\u2500\u2500\u2500\u2500\u2500\u2500\u2500 + \u2500\u2500\u2500\u2500\u2500\u2500\u2500\u2500 + \u2500\u2500\u2500\u2500\u2500\u2500\u2500\u2500\u2500\u2500\u2500\u2500\u2500\u2500 - \u2500\u2500\u2500\u2500\u2500\u2500\u2500\u2500 - \u2500\u2500\u2500\u2500\u2500\u2500\u2500\n",
        "2    10080          1440          240            48            12            4\n",
        "\n",
        "      2            \n",
        "    \u03c0\u239e             \n",
        "x - \u2500\u239f          ___\n",
        "    3\u23a0    \u03c0   \u2572\u2571 3 \n",
        "\u2500\u2500\u2500\u2500\u2500\u2500\u2500 - \u2500 + \u2500\u2500\u2500\u2500\u2500\n",
        "          6     2  "
       ]
      }
     ],
     "prompt_number": 67
    },
    {
     "cell_type": "code",
     "collapsed": false,
     "input": [
      "coefs = series(sin(x), n=8, x0=pi/3).removeO().subs(x, x-pi/3).expand().collect(x)\n",
      "coefs"
     ],
     "language": "python",
     "metadata": {},
     "outputs": [
      {
       "latex": [
        "$$- \\frac{x^{7}}{10080} + x^{6} \\left(- \\frac{\\sqrt{3}}{1440} + \\frac{\\pi}{4320}\\right) + x^{5} \\left(- \\frac{\\pi^{2}}{4320} + \\frac{1}{240} + \\frac{\\sqrt{3} \\pi}{720}\\right) + x^{4} \\left(- \\frac{\\pi}{144} - \\frac{\\sqrt{3} \\pi^{2}}{864} + \\frac{\\pi^{3}}{7776} + \\frac{\\sqrt{3}}{48}\\right) + x^{3} \\left(- \\frac{\\sqrt{3} \\pi}{36} - \\frac{1}{12} - \\frac{\\pi^{4}}{23328} + \\frac{\\sqrt{3} \\pi^{3}}{1944} + \\frac{\\pi^{2}}{216}\\right) + x^{2} \\left(- \\frac{\\sqrt{3}}{4} - \\frac{\\pi^{3}}{648} - \\frac{\\sqrt{3} \\pi^{4}}{7776} + \\frac{\\pi^{5}}{116640} + \\frac{\\sqrt{3} \\pi^{2}}{72} + \\frac{\\pi}{12}\\right) + x \\left(- \\frac{\\pi^{2}}{36} - \\frac{\\sqrt{3} \\pi^{3}}{324} - \\frac{\\pi^{6}}{1049760} + \\frac{\\sqrt{3} \\pi^{5}}{58320} + \\frac{\\pi^{4}}{3888} + \\frac{1}{2} + \\frac{\\sqrt{3} \\pi}{6}\\right) - \\frac{\\pi}{6} - \\frac{\\sqrt{3} \\pi^{2}}{36} - \\frac{\\pi^{5}}{58320} - \\frac{\\sqrt{3} \\pi^{6}}{1049760} + \\frac{\\pi^{7}}{22044960} + \\frac{\\sqrt{3} \\pi^{4}}{3888} + \\frac{\\pi^{3}}{324} + \\frac{\\sqrt{3}}{2}$$"
       ],
       "metadata": {},
       "output_type": "pyout",
       "png": "[encoded data removed]",
       "prompt_number": 68,
       "text": [
        "     7       \u239b    ___       \u239e      \u239b    2            ___  \u239e      \u239b          __\n",
        "    x      6 \u239c  \u2572\u2571 3     \u03c0  \u239f    5 \u239c   \u03c0      1    \u2572\u2571 3 \u22c5\u03c0\u239f    4 \u239c   \u03c0    \u2572\u2571 3\n",
        "- \u2500\u2500\u2500\u2500\u2500 + x \u22c5\u239c- \u2500\u2500\u2500\u2500\u2500 + \u2500\u2500\u2500\u2500\u239f + x \u22c5\u239c- \u2500\u2500\u2500\u2500 + \u2500\u2500\u2500 + \u2500\u2500\u2500\u2500\u2500\u2500\u2500\u239f + x \u22c5\u239c- \u2500\u2500\u2500 - \u2500\u2500\u2500\u2500\n",
        "  10080      \u239d   1440   4320\u23a0      \u239d  4320   240     720  \u23a0      \u239d  144     86\n",
        "\n",
        "_  2     3      ___\u239e      \u239b    ___             4      ___  3     2\u239e      \u239b    \n",
        " \u22c5\u03c0     \u03c0     \u2572\u2571 3 \u239f    3 \u239c  \u2572\u2571 3 \u22c5\u03c0   1      \u03c0     \u2572\u2571 3 \u22c5\u03c0     \u03c0 \u239f    2 \u239c  \u2572\u2571\n",
        "\u2500\u2500\u2500\u2500 + \u2500\u2500\u2500\u2500 + \u2500\u2500\u2500\u2500\u2500\u239f + x \u22c5\u239c- \u2500\u2500\u2500\u2500\u2500\u2500\u2500 - \u2500\u2500 - \u2500\u2500\u2500\u2500\u2500 + \u2500\u2500\u2500\u2500\u2500\u2500\u2500\u2500 + \u2500\u2500\u2500\u239f + x \u22c5\u239c- \u2500\u2500\n",
        "4      7776     48 \u23a0      \u239d     36     12   23328     1944     216\u23a0      \u239d    \n",
        "\n",
        "___     3     ___  4      5       ___  2     \u239e     \u239b   2     ___  3       6   \n",
        " 3     \u03c0    \u2572\u2571 3 \u22c5\u03c0      \u03c0      \u2572\u2571 3 \u22c5\u03c0    \u03c0 \u239f     \u239c  \u03c0    \u2572\u2571 3 \u22c5\u03c0       \u03c0    \n",
        "\u2500\u2500\u2500 - \u2500\u2500\u2500 - \u2500\u2500\u2500\u2500\u2500\u2500\u2500\u2500 + \u2500\u2500\u2500\u2500\u2500\u2500 + \u2500\u2500\u2500\u2500\u2500\u2500\u2500\u2500 + \u2500\u2500\u239f + x\u22c5\u239c- \u2500\u2500 - \u2500\u2500\u2500\u2500\u2500\u2500\u2500\u2500 - \u2500\u2500\u2500\u2500\u2500\u2500\u2500 \n",
        "4     648     7776     116640      72      12\u23a0     \u239d  36     324      1049760 \n",
        "\n",
        "    ___  5     4          ___  \u239e         ___  2      5      ___  6       7    \n",
        "  \u2572\u2571 3 \u22c5\u03c0     \u03c0     1   \u2572\u2571 3 \u22c5\u03c0\u239f   \u03c0   \u2572\u2571 3 \u22c5\u03c0      \u03c0     \u2572\u2571 3 \u22c5\u03c0       \u03c0     \n",
        "+ \u2500\u2500\u2500\u2500\u2500\u2500\u2500\u2500 + \u2500\u2500\u2500\u2500 + \u2500 + \u2500\u2500\u2500\u2500\u2500\u2500\u2500\u239f - \u2500 - \u2500\u2500\u2500\u2500\u2500\u2500\u2500\u2500 - \u2500\u2500\u2500\u2500\u2500 - \u2500\u2500\u2500\u2500\u2500\u2500\u2500\u2500 + \u2500\u2500\u2500\u2500\u2500\u2500\u2500\u2500 \n",
        "   58320     3888   2      6   \u23a0   6      36      58320   1049760    22044960 \n",
        "\n",
        "    ___  4     3     ___\n",
        "  \u2572\u2571 3 \u22c5\u03c0     \u03c0    \u2572\u2571 3 \n",
        "+ \u2500\u2500\u2500\u2500\u2500\u2500\u2500\u2500 + \u2500\u2500\u2500 + \u2500\u2500\u2500\u2500\u2500\n",
        "    3888     324     2  "
       ]
      }
     ],
     "prompt_number": 68
    },
    {
     "cell_type": "markdown",
     "metadata": {},
     "source": [
      "---"
     ]
    },
    {
     "cell_type": "heading",
     "level": 2,
     "metadata": {},
     "source": [
      "Resoluci\u00f3n de ecuaciones"
     ]
    },
    {
     "cell_type": "markdown",
     "metadata": {},
     "source": [
      "Como se ha mencionado anteriormente las ecuaciones no se pueden crear con el `=`"
     ]
    },
    {
     "cell_type": "code",
     "collapsed": false,
     "input": [
      "#creamos la ecuaci\u00f3n\n",
      "ecuacion = Eq(x**2 - x, 3)\n",
      "ecuacion"
     ],
     "language": "python",
     "metadata": {},
     "outputs": [
      {
       "latex": [
        "$$x^{2} - x = 3$$"
       ],
       "metadata": {},
       "output_type": "pyout",
       "png": "[encoded data removed]",
       "prompt_number": 69,
       "text": [
        " 2        \n",
        "x  - x = 3"
       ]
      }
     ],
     "prompt_number": 69
    },
    {
     "cell_type": "code",
     "collapsed": false,
     "input": [
      "#la resolvemos\n",
      "solve(ecuacion)"
     ],
     "language": "python",
     "metadata": {},
     "outputs": [
      {
       "latex": [
        "$$\\begin{bmatrix}\\frac{1}{2} + \\frac{\\sqrt{13}}{2}, & - \\frac{\\sqrt{13}}{2} + \\frac{1}{2}\\end{bmatrix}$$"
       ],
       "metadata": {},
       "output_type": "pyout",
       "png": "[encoded data removed]",
       "prompt_number": 70,
       "text": [
        "\u23a1      ____      ____    \u23a4\n",
        "\u23a21   \u2572\u2571 13     \u2572\u2571 13    1\u23a5\n",
        "\u23a2\u2500 + \u2500\u2500\u2500\u2500\u2500\u2500, - \u2500\u2500\u2500\u2500\u2500\u2500 + \u2500\u23a5\n",
        "\u23a32     2         2      2\u23a6"
       ]
      }
     ],
     "prompt_number": 70
    },
    {
     "cell_type": "markdown",
     "metadata": {},
     "source": [
      "Pero la gracia es resolver con s\u00edmbolos, \u00bfno?\n",
      "$$a e^{\\frac{x}{t}} = C$$"
     ]
    },
    {
     "cell_type": "code",
     "collapsed": false,
     "input": [
      "a, x, t, C = symbols('a, x, t, C', real=True)\n",
      "ecuacion = Eq(a * exp(x/t), C)\n",
      "ecuacion"
     ],
     "language": "python",
     "metadata": {},
     "outputs": [
      {
       "latex": [
        "$$a e^{\\frac{x}{t}} = C$$"
       ],
       "metadata": {},
       "output_type": "pyout",
       "png": "[encoded data removed]",
       "prompt_number": 71,
       "text": [
        "   x    \n",
        "   \u2500    \n",
        "   t    \n",
        "a\u22c5\u212f  = C"
       ]
      }
     ],
     "prompt_number": 71
    },
    {
     "cell_type": "code",
     "collapsed": false,
     "input": [
      "solve(ecuacion ,x)"
     ],
     "language": "python",
     "metadata": {},
     "outputs": [
      {
       "latex": [
        "$$\\begin{bmatrix}t \\log{\\left (\\frac{C}{a} \\right )}\\end{bmatrix}$$"
       ],
       "metadata": {},
       "output_type": "pyout",
       "png": "[encoded data removed]",
       "prompt_number": 72,
       "text": [
        "\u23a1     \u239bC\u239e\u23a4\n",
        "\u23a2t\u22c5log\u239c\u2500\u239f\u23a5\n",
        "\u23a3     \u239da\u23a0\u23a6"
       ]
      }
     ],
     "prompt_number": 72
    },
    {
     "cell_type": "markdown",
     "metadata": {},
     "source": [
      "Si consultamos la ayuda, vemos que las posibilidades y el n\u00famero de par\u00e1metros son muchos, no vamos a entrar ahora en ellos, pero \u00bfse ve la potencia?"
     ]
    },
    {
     "cell_type": "code",
     "collapsed": false,
     "input": [
      "help(solve)"
     ],
     "language": "python",
     "metadata": {},
     "outputs": [
      {
       "output_type": "stream",
       "stream": "stdout",
       "text": [
        "Help on function solve in module sympy.solvers.solvers:\n",
        "\n",
        "solve(f, *symbols, **flags)\n",
        "    Algebraically solves equations and systems of equations.\n",
        "    \n",
        "    Currently supported are:\n",
        "        - univariate polynomial,\n",
        "        - transcendental\n",
        "        - piecewise combinations of the above\n",
        "        - systems of linear and polynomial equations\n",
        "        - sytems containing relational expressions.\n",
        "    \n",
        "    Input is formed as:\n",
        "    \n",
        "    * f\n",
        "        - a single Expr or Poly that must be zero,\n",
        "        - an Equality\n",
        "        - a Relational expression or boolean\n",
        "        - iterable of one or more of the above\n",
        "    \n",
        "    * symbols (object(s) to solve for) specified as\n",
        "        - none given (other non-numeric objects will be used)\n",
        "        - single symbol\n",
        "        - denested list of symbols\n",
        "          e.g. solve(f, x, y)\n",
        "        - ordered iterable of symbols\n",
        "          e.g. solve(f, [x, y])\n",
        "    \n",
        "    * flags\n",
        "        'dict'=True (default is False)\n",
        "            return list (perhaps empty) of solution mappings\n",
        "        'set'=True (default is False)\n",
        "            return list of symbols and set of tuple(s) of solution(s)\n",
        "        'exclude=[] (default)'\n",
        "            don't try to solve for any of the free symbols in exclude;\n",
        "            if expressions are given, the free symbols in them will\n",
        "            be extracted automatically.\n",
        "        'check=True (default)'\n",
        "            If False, don't do any testing of solutions. This can be\n",
        "            useful if one wants to include solutions that make any\n",
        "            denominator zero.\n",
        "        'numerical=True (default)'\n",
        "            do a fast numerical check if ``f`` has only one symbol.\n",
        "        'minimal=True (default is False)'\n",
        "            a very fast, minimal testing.\n",
        "        'warning=True (default is False)'\n",
        "            show a warning if checksol() could not conclude.\n",
        "        'simplify=True (default)'\n",
        "            simplify all but cubic and quartic solutions before\n",
        "            returning them and (if check is not False) use the\n",
        "            general simplify function on the solutions and the\n",
        "            expression obtained when they are substituted into the\n",
        "            function which should be zero\n",
        "        'force=True (default is False)'\n",
        "            make positive all symbols without assumptions regarding sign.\n",
        "        'rational=True (default)'\n",
        "            recast Floats as Rational; if this option is not used, the\n",
        "            system containing floats may fail to solve because of issues\n",
        "            with polys. If rational=None, Floats will be recast as\n",
        "            rationals but the answer will be recast as Floats. If the\n",
        "            flag is False then nothing will be done to the Floats.\n",
        "        'manual=True (default is False)'\n",
        "            do not use the polys/matrix method to solve a system of\n",
        "            equations, solve them one at a time as you might \"manually\".\n",
        "        'implicit=True (default is False)'\n",
        "            allows solve to return a solution for a pattern in terms of\n",
        "            other functions that contain that pattern; this is only\n",
        "            needed if the pattern is inside of some invertible function\n",
        "            like cos, exp, ....\n",
        "        'particular=True (default is False)'\n",
        "            instructs solve to try to find a particular solution to a linear\n",
        "            system with as many zeros as possible; this is very expensive\n",
        "        'quick=True (default is False)'\n",
        "            when using particular=True, use a fast heuristic instead to find a\n",
        "            solution with many zeros (instead of using the very slow method\n",
        "            guaranteed to find the largest number of zeros possible)\n",
        "    \n",
        "    Examples\n",
        "    ========\n",
        "    \n",
        "    The output varies according to the input and can be seen by example::\n",
        "    \n",
        "        >>> from sympy import solve, Poly, Eq, Function, exp\n",
        "        >>> from sympy.abc import x, y, z, a, b\n",
        "        >>> f = Function('f')\n",
        "    \n",
        "    * boolean or univariate Relational\n",
        "    \n",
        "        >>> solve(x < 3)\n",
        "        And(im(x) == 0, re(x) < 3)\n",
        "    \n",
        "    * to always get a list of solution mappings, use flag dict=True\n",
        "    \n",
        "        >>> solve(x - 3, dict=True)\n",
        "        [{x: 3}]\n",
        "        >>> solve([x - 3, y - 1], dict=True)\n",
        "        [{x: 3, y: 1}]\n",
        "    \n",
        "    * to get a list of symbols and set of solution(s) use flag set=True\n",
        "    \n",
        "        >>> solve([x**2 - 3, y - 1], set=True)\n",
        "        ([x, y], set([(-sqrt(3), 1), (sqrt(3), 1)]))\n",
        "    \n",
        "    * single expression and single symbol that is in the expression\n",
        "    \n",
        "        >>> solve(x - y, x)\n",
        "        [y]\n",
        "        >>> solve(x - 3, x)\n",
        "        [3]\n",
        "        >>> solve(Eq(x, 3), x)\n",
        "        [3]\n",
        "        >>> solve(Poly(x - 3), x)\n",
        "        [3]\n",
        "        >>> solve(x**2 - y**2, x, set=True)\n",
        "        ([x], set([(-y,), (y,)]))\n",
        "        >>> solve(x**4 - 1, x, set=True)\n",
        "        ([x], set([(-1,), (1,), (-I,), (I,)]))\n",
        "    \n",
        "    * single expression with no symbol that is in the expression\n",
        "    \n",
        "        >>> solve(3, x)\n",
        "        []\n",
        "        >>> solve(x - 3, y)\n",
        "        []\n",
        "    \n",
        "    * single expression with no symbol given\n",
        "    \n",
        "          In this case, all free symbols will be selected as potential\n",
        "          symbols to solve for. If the equation is univariate then a list\n",
        "          of solutions is returned; otherwise -- as is the case when symbols are\n",
        "          given as an iterable of length > 1 -- a list of mappings will be returned.\n",
        "    \n",
        "            >>> solve(x - 3)\n",
        "            [3]\n",
        "            >>> solve(x**2 - y**2)\n",
        "            [{x: -y}, {x: y}]\n",
        "            >>> solve(z**2*x**2 - z**2*y**2)\n",
        "            [{x: -y}, {x: y}, {z: 0}]\n",
        "            >>> solve(z**2*x - z**2*y**2)\n",
        "            [{x: y**2}, {z: 0}]\n",
        "    \n",
        "    * when an object other than a Symbol is given as a symbol, it is\n",
        "      isolated algebraically and an implicit solution may be obtained.\n",
        "      This is mostly provided as a convenience to save one from replacing\n",
        "      the object with a Symbol and solving for that Symbol. It will only\n",
        "      work if the specified object can be replaced with a Symbol using the\n",
        "      subs method.\n",
        "    \n",
        "          >>> solve(f(x) - x, f(x))\n",
        "          [x]\n",
        "          >>> solve(f(x).diff(x) - f(x) - x, f(x).diff(x))\n",
        "          [x + f(x)]\n",
        "          >>> solve(f(x).diff(x) - f(x) - x, f(x))\n",
        "          [-x + Derivative(f(x), x)]\n",
        "          >>> solve(x + exp(x)**2, exp(x), set=True)\n",
        "          ([exp(x)], set([(-sqrt(-x),), (sqrt(-x),)]))\n",
        "    \n",
        "          >>> from sympy import Indexed, IndexedBase, Tuple, sqrt\n",
        "          >>> A = IndexedBase('A')\n",
        "          >>> eqs = Tuple(A[1] + A[2] - 3, A[1] - A[2] + 1)\n",
        "          >>> solve(eqs, eqs.atoms(Indexed))\n",
        "          {A[1]: 1, A[2]: 2}\n",
        "    \n",
        "        * To solve for a *symbol* implicitly, use 'implicit=True':\n",
        "    \n",
        "            >>> solve(x + exp(x), x)\n",
        "            [-LambertW(1)]\n",
        "            >>> solve(x + exp(x), x, implicit=True)\n",
        "            [-exp(x)]\n",
        "    \n",
        "        * It is possible to solve for anything that can be targeted with\n",
        "          subs:\n",
        "    \n",
        "            >>> solve(x + 2 + sqrt(3), x + 2)\n",
        "            [-sqrt(3)]\n",
        "            >>> solve((x + 2 + sqrt(3), x + 4 + y), y, x + 2)\n",
        "            {y: -2 + sqrt(3), x + 2: -sqrt(3)}\n",
        "    \n",
        "        * Nothing heroic is done in this implicit solving so you may end up\n",
        "          with a symbol still in the solution:\n",
        "    \n",
        "            >>> eqs = (x*y + 3*y + sqrt(3), x + 4 + y)\n",
        "            >>> solve(eqs, y, x + 2)\n",
        "            {y: -sqrt(3)/(x + 3), x + 2: (-2*x - 6 + sqrt(3))/(x + 3)}\n",
        "            >>> solve(eqs, y*x, x)\n",
        "            {x: -y - 4, x*y: -3*y - sqrt(3)}\n",
        "    \n",
        "        * if you attempt to solve for a number remember that the number\n",
        "          you have obtained does not necessarily mean that the value is\n",
        "          equivalent to the expression obtained:\n",
        "    \n",
        "            >>> solve(sqrt(2) - 1, 1)\n",
        "            [sqrt(2)]\n",
        "            >>> solve(x - y + 1, 1)  # /!\\ -1 is targeted, too\n",
        "            [x/(y - 1)]\n",
        "            >>> [_.subs(z, -1) for _ in solve((x - y + 1).subs(-1, z), 1)]\n",
        "            [-x + y]\n",
        "    \n",
        "        * To solve for a function within a derivative, use dsolve.\n",
        "    \n",
        "    * single expression and more than 1 symbol\n",
        "    \n",
        "        * when there is a linear solution\n",
        "    \n",
        "            >>> solve(x - y**2, x, y)\n",
        "            [{x: y**2}]\n",
        "            >>> solve(x**2 - y, x, y)\n",
        "            [{y: x**2}]\n",
        "    \n",
        "        * when undetermined coefficients are identified\n",
        "    \n",
        "            * that are linear\n",
        "    \n",
        "                >>> solve((a + b)*x - b + 2, a, b)\n",
        "                {a: -2, b: 2}\n",
        "    \n",
        "            * that are nonlinear\n",
        "    \n",
        "                >>> solve((a + b)*x - b**2 + 2, a, b, set=True)\n",
        "                ([a, b], set([(-sqrt(2), sqrt(2)), (sqrt(2), -sqrt(2))]))\n",
        "    \n",
        "        * if there is no linear solution then the first successful\n",
        "          attempt for a nonlinear solution will be returned\n",
        "    \n",
        "            >>> solve(x**2 - y**2, x, y)\n",
        "            [{x: -y}, {x: y}]\n",
        "            >>> solve(x**2 - y**2/exp(x), x, y)\n",
        "            [{x: 2*LambertW(y/2)}]\n",
        "            >>> solve(x**2 - y**2/exp(x), y, x)\n",
        "            [{y: -x*exp(x/2)}, {y: x*exp(x/2)}]\n",
        "    \n",
        "    * iterable of one or more of the above\n",
        "    \n",
        "        * involving relationals or bools\n",
        "    \n",
        "            >>> solve([x < 3, x - 2])\n",
        "            And(im(x) == 0, re(x) == 2)\n",
        "            >>> solve([x > 3, x - 2])\n",
        "            False\n",
        "    \n",
        "        * when the system is linear\n",
        "    \n",
        "            * with a solution\n",
        "    \n",
        "                >>> solve([x - 3], x)\n",
        "                {x: 3}\n",
        "                >>> solve((x + 5*y - 2, -3*x + 6*y - 15), x, y)\n",
        "                {x: -3, y: 1}\n",
        "                >>> solve((x + 5*y - 2, -3*x + 6*y - 15), x, y, z)\n",
        "                {x: -3, y: 1}\n",
        "                >>> solve((x + 5*y - 2, -3*x + 6*y - z), z, x, y)\n",
        "                {x: -5*y + 2, z: 21*y - 6}\n",
        "    \n",
        "            * without a solution\n",
        "    \n",
        "                >>> solve([x + 3, x - 3])\n",
        "                []\n",
        "    \n",
        "        * when the system is not linear\n",
        "    \n",
        "            >>> solve([x**2 + y -2, y**2 - 4], x, y, set=True)\n",
        "            ([x, y], set([(-2, -2), (0, 2), (2, -2)]))\n",
        "    \n",
        "        * if no symbols are given, all free symbols will be selected and a list\n",
        "          of mappings returned\n",
        "    \n",
        "            >>> solve([x - 2, x**2 + y])\n",
        "            [{x: 2, y: -4}]\n",
        "            >>> solve([x - 2, x**2 + f(x)], set([f(x), x]))\n",
        "            [{x: 2, f(x): -4}]\n",
        "    \n",
        "        * if any equation doesn't depend on the symbol(s) given it will be\n",
        "          eliminated from the equation set and an answer may be given\n",
        "          implicitly in terms of variables that were not of interest\n",
        "    \n",
        "            >>> solve([x - y, y - 3], x)\n",
        "            {x: y}\n",
        "    \n",
        "    Notes\n",
        "    =====\n",
        "    \n",
        "    assumptions aren't checked when `solve()` input involves\n",
        "    relationals or bools.\n",
        "    \n",
        "    When the solutions are checked, those that make any denominator zero\n",
        "    are automatically excluded. If you do not want to exclude such solutions\n",
        "    then use the check=False option:\n",
        "    \n",
        "        >>> from sympy import sin, limit\n",
        "        >>> solve(sin(x)/x)  # 0 is excluded\n",
        "        [pi]\n",
        "    \n",
        "    If check=False then a solution to the numerator being zero is found: x = 0.\n",
        "    In this case, this is a spurious solution since sin(x)/x has the well known\n",
        "    limit (without dicontinuity) of 1 at x = 0:\n",
        "    \n",
        "        >>> solve(sin(x)/x, check=False)\n",
        "        [0, pi]\n",
        "    \n",
        "    In the following case, however, the limit exists and is equal to the the\n",
        "    value of x = 0 that is excluded when check=True:\n",
        "    \n",
        "        >>> eq = x**2*(1/x - z**2/x)\n",
        "        >>> solve(eq, x)\n",
        "        []\n",
        "        >>> solve(eq, x, check=False)\n",
        "        [0]\n",
        "        >>> limit(eq, x, 0, '-')\n",
        "        0\n",
        "        >>> limit(eq, x, 0, '+')\n",
        "        0\n",
        "    \n",
        "    \n",
        "    See Also\n",
        "    ========\n",
        "    \n",
        "        - rsolve() for solving recurrence relationships\n",
        "        - dsolve() for solving differential equations\n",
        "\n"
       ]
      }
     ],
     "prompt_number": 73
    },
    {
     "cell_type": "heading",
     "level": 2,
     "metadata": {},
     "source": [
      "Ecuaciones diferenciales"
     ]
    },
    {
     "cell_type": "markdown",
     "metadata": {},
     "source": [
      "Tratemos de resolver, por ejemplo:\n",
      "\n",
      "$$f{\\left (x \\right )} + \\frac{d}{d x} f{\\left (x \\right )} + \\frac{d^{2}}{d x^{2}}  f{\\left (x \\right )} = \\cos{\\left (x \\right )}$$"
     ]
    },
    {
     "cell_type": "code",
     "collapsed": false,
     "input": [
      "#primero creamos los simbolos y la ecuacion\n",
      "f, x = symbols('f, x')\n",
      "ecuacion_dif = Eq(f(x).diff(x,2) + f(x).diff(x) + f(x), cos(x))\n",
      "ecuacion_dif"
     ],
     "language": "python",
     "metadata": {},
     "outputs": [
      {
       "latex": [
        "$$f{\\left (x \\right )} + \\frac{d}{d x} f{\\left (x \\right )} + \\frac{d^{2}}{d x^{2}}  f{\\left (x \\right )} = \\cos{\\left (x \\right )}$$"
       ],
       "metadata": {},
       "output_type": "pyout",
       "png": "[encoded data removed]",
       "prompt_number": 74,
       "text": [
        "                    2               \n",
        "       d           d                \n",
        "f(x) + \u2500\u2500(f(x)) + \u2500\u2500\u2500(f(x)) = cos(x)\n",
        "       dx           2               \n",
        "                  dx                "
       ]
      }
     ],
     "prompt_number": 74
    },
    {
     "cell_type": "code",
     "collapsed": false,
     "input": [
      "#resolvemos\n",
      "dsolve(ecuacion_dif, f(x))"
     ],
     "language": "python",
     "metadata": {},
     "outputs": [
      {
       "latex": [
        "$$f{\\left (x \\right )} = \\frac{1}{\\sqrt{e^{x}}} \\left(C_{1} \\sin{\\left (\\frac{\\sqrt{3} x}{2} \\right )} + C_{2} \\cos{\\left (\\frac{\\sqrt{3} x}{2} \\right )}\\right) + \\sin{\\left (x \\right )}$$"
       ],
       "metadata": {},
       "output_type": "pyout",
       "png": "[encoded data removed]",
       "prompt_number": 75,
       "text": [
        "             \u239b  ___  \u239e         \u239b  ___  \u239e         \n",
        "             \u239c\u2572\u2571 3 \u22c5x\u239f         \u239c\u2572\u2571 3 \u22c5x\u239f         \n",
        "       C\u2081\u22c5sin\u239c\u2500\u2500\u2500\u2500\u2500\u2500\u2500\u239f + C\u2082\u22c5cos\u239c\u2500\u2500\u2500\u2500\u2500\u2500\u2500\u239f         \n",
        "             \u239d   2   \u23a0         \u239d   2   \u23a0         \n",
        "f(x) = \u2500\u2500\u2500\u2500\u2500\u2500\u2500\u2500\u2500\u2500\u2500\u2500\u2500\u2500\u2500\u2500\u2500\u2500\u2500\u2500\u2500\u2500\u2500\u2500\u2500\u2500\u2500\u2500\u2500\u2500\u2500\u2500\u2500 + sin(x)\n",
        "                       ____                      \n",
        "                      \u2571  x                       \n",
        "                    \u2572\u2571  \u212f                        "
       ]
      }
     ],
     "prompt_number": 75
    },
    {
     "cell_type": "markdown",
     "metadata": {},
     "source": [
      "![](https://www.google.es/search?q=cara+de+yao+ming&num=40&newwindow=1&client=firefox-a&hs=lQg&rls=org.mozilla:en-US:official&channel=sb&source=lnms&tbm=isch&sa=X&ei=sy0mU5moOIKK1AW-zoC4CQ&ved=0CAkQ_AUoAQ&biw=1366&bih=584#facrc=_&imgdii=_&imgrc=1juDRp1uDhTHBM%253A%3BI00AiZ7UEMOs0M%3Bhttp%253A%252F%252Fi1056.photobucket.com%252Falbums%252Ft367%252Fjbabcock9910%252FYaoMing_17.jpg%3Bhttp%253A%252F%252Fwww.taringa.net%252Fposts%252Fhumor%252F17535269%252FLas-10-historias-mas-bizarras-y-extranas-de-la-Biblia.html%3B960%3B854)"
     ]
    },
    {
     "cell_type": "heading",
     "level": 1,
     "metadata": {},
     "source": [
      "Matrices"
     ]
    },
    {
     "cell_type": "code",
     "collapsed": false,
     "input": [
      "#creamos una matriz llena de s\u00edmbolos\n",
      "a, b, c, d = symbols('a b c d')\n",
      "A = Matrix([[a, b],\n",
      "            [c, d]])\n",
      "A"
     ],
     "language": "python",
     "metadata": {},
     "outputs": [
      {
       "latex": [
        "$$\\left[\\begin{matrix}a & b\\\\c & d\\end{matrix}\\right]$$"
       ],
       "metadata": {},
       "output_type": "pyout",
       "png": "[encoded data removed]",
       "prompt_number": 76,
       "text": [
        "\u23a1a  b\u23a4\n",
        "\u23a2    \u23a5\n",
        "\u23a3c  d\u23a6"
       ]
      }
     ],
     "prompt_number": 76
    },
    {
     "cell_type": "code",
     "collapsed": false,
     "input": [
      "#sacamos autovalores\n",
      "A.eigenvals()"
     ],
     "language": "python",
     "metadata": {},
     "outputs": [
      {
       "latex": [
        "$$\\begin{Bmatrix}\\frac{a}{2} + \\frac{d}{2} - \\frac{1}{2} \\sqrt{a^{2} - 2 a d + 4 b c + d^{2}} : 1, & \\frac{a}{2} + \\frac{d}{2} + \\frac{1}{2} \\sqrt{a^{2} - 2 a d + 4 b c + d^{2}} : 1\\end{Bmatrix}$$"
       ],
       "metadata": {},
       "output_type": "pyout",
       "png": "[encoded data removed]",
       "prompt_number": 77,
       "text": [
        "\u23a7           _________________________                _________________________\n",
        "\u23aa          \u2571  2                    2                \u2571  2                    2 \n",
        "\u23a8a   d   \u2572\u2571  a  - 2\u22c5a\u22c5d + 4\u22c5b\u22c5c + d       a   d   \u2572\u2571  a  - 2\u22c5a\u22c5d + 4\u22c5b\u22c5c + d  \n",
        "\u23aa\u2500 + \u2500 - \u2500\u2500\u2500\u2500\u2500\u2500\u2500\u2500\u2500\u2500\u2500\u2500\u2500\u2500\u2500\u2500\u2500\u2500\u2500\u2500\u2500\u2500\u2500\u2500\u2500\u2500\u2500\u2500: 1, \u2500 + \u2500 + \u2500\u2500\u2500\u2500\u2500\u2500\u2500\u2500\u2500\u2500\u2500\u2500\u2500\u2500\u2500\u2500\u2500\u2500\u2500\u2500\u2500\u2500\u2500\u2500\u2500\u2500\u2500\u2500\n",
        "\u23a92   2                2                   2   2                2              \n",
        "\n",
        "   \u23ab\n",
        "   \u23aa\n",
        "   \u23ac\n",
        ": 1\u23aa\n",
        "   \u23ad"
       ]
      }
     ],
     "prompt_number": 77
    },
    {
     "cell_type": "code",
     "collapsed": false,
     "input": [
      "#inversa\n",
      "A.inv()"
     ],
     "language": "python",
     "metadata": {},
     "outputs": [
      {
       "latex": [
        "$$\\left[\\begin{matrix}\\frac{1}{a} + \\frac{b c}{a^{2} \\left(d - \\frac{b c}{a}\\right)} & - \\frac{b}{a \\left(d - \\frac{b c}{a}\\right)}\\\\- \\frac{c}{a \\left(d - \\frac{b c}{a}\\right)} & \\frac{1}{d - \\frac{b c}{a}}\\end{matrix}\\right]$$"
       ],
       "metadata": {},
       "output_type": "pyout",
       "png": "[encoded data removed]",
       "prompt_number": 78,
       "text": [
        "\u23a11       b\u22c5c           -b     \u23a4\n",
        "\u23a2\u2500 + \u2500\u2500\u2500\u2500\u2500\u2500\u2500\u2500\u2500\u2500\u2500\u2500  \u2500\u2500\u2500\u2500\u2500\u2500\u2500\u2500\u2500\u2500\u2500\u23a5\n",
        "\u23a2a    2 \u239b    b\u22c5c\u239e    \u239b    b\u22c5c\u239e\u23a5\n",
        "\u23a2    a \u22c5\u239cd - \u2500\u2500\u2500\u239f  a\u22c5\u239cd - \u2500\u2500\u2500\u239f\u23a5\n",
        "\u23a2       \u239d     a \u23a0    \u239d     a \u23a0\u23a5\n",
        "\u23a2                             \u23a5\n",
        "\u23a2      -c               1     \u23a5\n",
        "\u23a2  \u2500\u2500\u2500\u2500\u2500\u2500\u2500\u2500\u2500\u2500\u2500       \u2500\u2500\u2500\u2500\u2500\u2500\u2500  \u23a5\n",
        "\u23a2    \u239b    b\u22c5c\u239e           b\u22c5c  \u23a5\n",
        "\u23a2  a\u22c5\u239cd - \u2500\u2500\u2500\u239f       d - \u2500\u2500\u2500  \u23a5\n",
        "\u23a3    \u239d     a \u23a0            a   \u23a6"
       ]
      }
     ],
     "prompt_number": 78
    },
    {
     "cell_type": "code",
     "collapsed": false,
     "input": [
      "#elevamos al cuadrado la matriz\n",
      "A ** 2"
     ],
     "language": "python",
     "metadata": {},
     "outputs": [
      {
       "latex": [
        "$$\\left[\\begin{matrix}a^{2} + b c & a b + b d\\\\a c + c d & b c + d^{2}\\end{matrix}\\right]$$"
       ],
       "metadata": {},
       "output_type": "pyout",
       "png": "[encoded data removed]",
       "prompt_number": 79,
       "text": [
        "\u23a1 2                  \u23a4\n",
        "\u23a2a  + b\u22c5c   a\u22c5b + b\u22c5d\u23a5\n",
        "\u23a2                    \u23a5\n",
        "\u23a2                  2 \u23a5\n",
        "\u23a3a\u22c5c + c\u22c5d  b\u22c5c + d  \u23a6"
       ]
      }
     ],
     "prompt_number": 79
    },
    {
     "cell_type": "heading",
     "level": 1,
     "metadata": {},
     "source": [
      "\u00bfMec\u00e1nica en SymPy?"
     ]
    },
    {
     "cell_type": "markdown",
     "metadata": {},
     "source": [
      "* [Aeromec\u00e1nica del rotor](http://nbviewer.ipython.org/github/AeroPython/Python_HA/blob/master/aeromecanica_rotor.ipynb)\n",
      "* [C\u00edrculo de inversi\u00f3n](http://nbviewer.ipython.org/github/AeroPython/Python_HA/blob/master/Ejercicio_1_Circulo_Inversion.ipynb)\n",
      "* [Matrices de rotaci\u00f3n MVI](http://nbviewer.ipython.org/github/AlexS12/Mecanica_Vuelo/blob/master/MVI.ipynb?create=1)\n",
      "\n",
      "__Yo tambi\u00e9n quiero...__ [Web de SymPy: m\u00f3dulo mechanics](http://docs.sympy.org/latest/modules/physics/vector/vectors.html)"
     ]
    }
   ],
   "metadata": {}
  }
 ]
}