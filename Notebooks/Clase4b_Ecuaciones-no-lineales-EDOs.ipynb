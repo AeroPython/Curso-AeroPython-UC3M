{
 "metadata": {
  "name": ""
 },
 "nbformat": 3,
 "nbformat_minor": 0,
 "worksheets": [
  {
   "cells": [
    {
     "cell_type": "markdown",
     "metadata": {},
     "source": [
      "# Curso AeroPython ETSIAE\n",
      "\n",
      "## Juan Luis Cano ([@Pybonacci](https://twitter.com/Pybonacci)) y \u00c1lex S\u00e1ez ([@Alex__S12](https://twitter.com/Alex__S12))"
     ]
    },
    {
     "cell_type": "markdown",
     "metadata": {},
     "source": [
      "<a rel=\"license\" href=\"http://creativecommons.org/licenses/by/4.0/deed.es\"><img alt=\"Licencia Creative Commons\" style=\"border-width:0\" src=\"http://i.creativecommons.org/l/by/4.0/88x31.png\" /></a><br /><span xmlns:dct=\"http://purl.org/dc/terms/\" property=\"dct:title\">Curso AeroPython</span> por <span xmlns:cc=\"http://creativecommons.org/ns#\" property=\"cc:attributionName\">Juan Luis Cano Rodriguez y Alejandro S\u00e1ez Mollejo</span> se distribuye bajo una <a rel=\"license\" href=\"http://creativecommons.org/licenses/by/4.0/deed.es\">Licencia Creative Commons Atribuci\u00f3n 4.0 Internacional</a>."
     ]
    },
    {
     "cell_type": "heading",
     "level": 1,
     "metadata": {},
     "source": [
      "CLASE 4b: Ecuaciones no lineales y EDOs"
     ]
    },
    {
     "cell_type": "markdown",
     "metadata": {},
     "source": [
      "Para empezar un art\u00edculo interesante http://blog.digital.telefonica.com/2014/03/05/python-big-data/"
     ]
    },
    {
     "cell_type": "code",
     "collapsed": false,
     "input": [],
     "language": "python",
     "metadata": {},
     "outputs": []
    },
    {
     "cell_type": "heading",
     "level": 2,
     "metadata": {},
     "source": [
      "Ecuaciones no lineales"
     ]
    },
    {
     "cell_type": "markdown",
     "metadata": {},
     "source": [
      "Una vez visto c\u00f3mo resolver sistemas de ecuaciones lineales, tal vez sea incluso m\u00e1s atractivo resolver ecuaciones no lineales. Para ello, importaremos el paquete `optimize` de SciPy:"
     ]
    },
    {
     "cell_type": "code",
     "collapsed": false,
     "input": [],
     "language": "python",
     "metadata": {},
     "outputs": []
    },
    {
     "cell_type": "markdown",
     "metadata": {},
     "source": [
      "La ayuda de este paquete es bastante larga (puedes consultarla tambi\u00e9n en http://docs.scipy.org/doc/scipy/reference/tutorial/optimize.html). El paquete `optimize` incluye multitud de m\u00e9todos para optimizaci\u00f3n, ajuste de curvas y b\u00fasqueda de ra\u00edces. Vamos a centrarnos ahora en la b\u00fasqueda de ra\u00edces de funciones escalares. Para m\u00e1s informaci\u00f3n puedes leer http://pybonacci.wordpress.com/2012/10/25/como-resolver-ecuaciones-algebraicas-en-python-con-scipy/"
     ]
    },
    {
     "cell_type": "markdown",
     "metadata": {},
     "source": [
      "<div class=\"alert alert-info\">**Nota**: La funci\u00f3n `root` se utiliza para hallar soluciones de *sistemas* de ecuaciones no lineales as\u00ed que obviamente tambi\u00e9n funciona para ecuaciones escalares. No obstante, vamos a utilizar las funciones `brentq` y `newton` para que el m\u00e9todo utilizado quede m\u00e1s claro.</div>"
     ]
    },
    {
     "cell_type": "markdown",
     "metadata": {},
     "source": [
      "Hay b\u00e1sicamente dos tipos de algoritmos para hallar ra\u00edces de ecuaciones no lineales:\n",
      "\n",
      "* Aquellos que operan en un intervalo $[a, b]$ tal que $f(a) \\cdot f(b) < 0$. M\u00e1s lentos, convergencia asegurada.\n",
      "* Aquellos que operan dando una condici\u00f3n inicial $x_0$ m\u00e1s o menos cerca de la soluci\u00f3n. M\u00e1s r\u00e1pidos, convergencia condicionada.\n",
      "\n",
      "De los primeros vamos a usar la funci\u00f3n `brentq` (aunque podr\u00edamos usar `bisect`) y de los segundos vamos a usar `newton` (que en realidad engloba los m\u00e9todos de Newton y de la secante)."
     ]
    },
    {
     "cell_type": "markdown",
     "metadata": {},
     "source": [
      "**Ejemplo**:\n",
      "\n",
      "$2 - \\sqrt{x} = \\ln{x} \\Rightarrow F(x) \\equiv 2 - \\sqrt{x} - \\ln{x} = 0$"
     ]
    },
    {
     "cell_type": "code",
     "collapsed": false,
     "input": [],
     "language": "python",
     "metadata": {},
     "outputs": []
    },
    {
     "cell_type": "heading",
     "level": 3,
     "metadata": {},
     "source": [
      "Flujo compresible"
     ]
    },
    {
     "cell_type": "markdown",
     "metadata": {},
     "source": [
      "Esta es la relaci\u00f3n isentr\u00f3pica entre el n\u00famero de Mach $M(x)$ en un conducto de \u00e1rea $A(x)$:"
     ]
    },
    {
     "cell_type": "markdown",
     "metadata": {},
     "source": [
      "$$ \\frac{A(x)}{A^*} = \\frac{1}{M(x)} \\left( \\frac{2}{1 + \\gamma} \\left( 1 + \\frac{\\gamma - 1}{2} M(x)^2 \\right) \\right)^{\\frac{\\gamma + 1}{2 (\\gamma - 1)}}$$"
     ]
    },
    {
     "cell_type": "markdown",
     "metadata": {},
     "source": [
      "Para un conducto convergente:\n",
      "\n",
      "$$ \\frac{A(x)}{A^*} = 3 - 2 x \\quad x \\in [0, 1]$$"
     ]
    },
    {
     "cell_type": "markdown",
     "metadata": {},
     "source": [
      "Hallar el n\u00famero de Mach en la secci\u00f3n $x = 0.9$."
     ]
    },
    {
     "cell_type": "code",
     "collapsed": false,
     "input": [],
     "language": "python",
     "metadata": {},
     "outputs": []
    },
    {
     "cell_type": "markdown",
     "metadata": {},
     "source": [
      "\u00bfCu\u00e1l es la funci\u00f3n $F$ ahora? Hay dos opciones: definir una funci\u00f3n $F_{0.9}(M)$ que me da el n\u00famero de Mach en la secci\u00f3n $0.9$ o una funci\u00f3n $F(M; x)$ con la que puedo hallar el n\u00famero de Mach en cualquier secci\u00f3n. *Bonus points* si haces la segunda opci\u00f3n :)"
     ]
    },
    {
     "cell_type": "code",
     "collapsed": false,
     "input": [],
     "language": "python",
     "metadata": {},
     "outputs": []
    },
    {
     "cell_type": "markdown",
     "metadata": {},
     "source": [
      "Para resolver la ecuaci\u00f3n utiliza el m\u00e9todo de Brent (bisecci\u00f3n). \u00bfEn qu\u00e9 intervalo se encontrar\u00e1 la soluci\u00f3n? \u00a1Si no te haces una idea es tan f\u00e1cil como pintar la funci\u00f3n $F$!"
     ]
    },
    {
     "cell_type": "code",
     "collapsed": false,
     "input": [],
     "language": "python",
     "metadata": {},
     "outputs": []
    },
    {
     "cell_type": "heading",
     "level": 3,
     "metadata": {},
     "source": [
      "Ecuaci\u00f3n de Kepler"
     ]
    },
    {
     "cell_type": "markdown",
     "metadata": {},
     "source": [
      "Representar la ecuaci\u00f3n de Kepler\n",
      "\n",
      "$$M = E - e \\sin E$$\n",
      "\n",
      "que relaciona dos par\u00e1metros geom\u00e9tricos de las \u00f3rbitas el\u00edpticas, la anomal\u00eda media $M$ y la anomal\u00eda exc\u00e9ntrica $E$.\n",
      "\n",
      "![Anomal\u00edas exc\u00e9ntrica y media](http://upload.wikimedia.org/wikipedia/commons/thumb/f/f8/Kepler%27s-equation-scheme.png/250px-Kepler%27s-equation-scheme.png)\n",
      "\n",
      "para los siguientes valores de excentricidad:\n",
      "\n",
      "* Tierra: $0.0167$\n",
      "* Plut\u00f3n: $0.249$\n",
      "* Cometa Holmes: $0.432$\n",
      "* 28P/Neujmin: $0.775$\n",
      "* Cometa Halley: $0.967$\n",
      "\n",
      "Para reproducir esta gr\u00e1fica:"
     ]
    },
    {
     "cell_type": "code",
     "collapsed": false,
     "input": [
      "from IPython.display import HTML\n",
      "HTML('<iframe src=\"http://en.m.wikipedia.org/wiki/Kepler%27s_equation\" width=\"800\" height=\"400\"></iframe>')"
     ],
     "language": "python",
     "metadata": {},
     "outputs": [
      {
       "html": [
        "<iframe src=\"http://en.m.wikipedia.org/wiki/Kepler%27s_equation\" width=\"800\" height=\"400\"></iframe>"
       ],
       "metadata": {},
       "output_type": "pyout",
       "prompt_number": 26,
       "text": [
        "<IPython.core.display.HTML at 0x7f00195e9dd0>"
       ]
      }
     ],
     "prompt_number": 26
    },
    {
     "cell_type": "markdown",
     "metadata": {},
     "source": [
      "Para ello utilizaremos el m\u00e9todo de Newton (secante).\n",
      "\n",
      "1- Define la funci\u00f3n correspondiente a la ecuaci\u00f3n de Kepler, que no solo es una ecuaci\u00f3n impl\u00edcita sino que adem\u00e1s depende de un par\u00e1metro. \u00bfCu\u00e1l es la inc\u00f3gnita?"
     ]
    },
    {
     "cell_type": "code",
     "collapsed": false,
     "input": [],
     "language": "python",
     "metadata": {},
     "outputs": []
    },
    {
     "cell_type": "markdown",
     "metadata": {},
     "source": [
      "2- Como primer paso, resu\u00e9lvela para la excentricidad terrerstre y anomal\u00eda media $M = 0.3$. \u00bfQu\u00e9 valor escoger\u00edas como condici\u00f3n inicial?"
     ]
    },
    {
     "cell_type": "code",
     "collapsed": false,
     "input": [],
     "language": "python",
     "metadata": {},
     "outputs": []
    },
    {
     "cell_type": "markdown",
     "metadata": {},
     "source": [
      "3- Como siguiente paso, crea un dominio (`linspace`) de anomal\u00edas medias entre $0$ y $2 \\pi$ y resuelve la ecuaci\u00f3n de Kepler con excentricidad terrestre para todos esos valores. F\u00edjate que necesitar\u00e1s un array donde almacenar las soluciones. Representa la curva resultante."
     ]
    },
    {
     "cell_type": "code",
     "collapsed": false,
     "input": [],
     "language": "python",
     "metadata": {},
     "outputs": []
    },
    {
     "cell_type": "markdown",
     "metadata": {},
     "source": [
      "4- Como \u00faltimo paso, solo tienes que meter parte del c\u00f3digo que ya has escrito en un bucle que cambie el valor de la excentricidad 5 veces. Es aconsejable que tengas todo ese c\u00f3digo en una \u00fanica celda (esta de aqu\u00ed abajo)."
     ]
    },
    {
     "cell_type": "code",
     "collapsed": false,
     "input": [],
     "language": "python",
     "metadata": {},
     "outputs": []
    },
    {
     "cell_type": "heading",
     "level": 2,
     "metadata": {},
     "source": [
      "Ecuaciones diferenciales ordinarias"
     ]
    },
    {
     "cell_type": "markdown",
     "metadata": {},
     "source": [
      "Para integrar EDOs vamos a usar la funci\u00f3n `odeint` del paquete `integrate`, que permite integrar sistemas del tipo:\n",
      "\n",
      "$$ \\frac{d\\mathbf{y}}{dt}=\\mathbf{f}\\left(\\mathbf{y},t\\right)$$\n",
      "\n",
      "con condiciones iniciales $\\mathbf{y}(\\mathbf{0}) = \\mathbf{y_0}$."
     ]
    },
    {
     "cell_type": "markdown",
     "metadata": {},
     "source": [
      "<div class=\"alert alert-error\">**\u00a1Importante!**: La funci\u00f3n del sistema recibe como primer argumento $\\mathbf{y}$ (un array) y como segundo argumento el instante $t$ (un escalar). Esta convenci\u00f3n va exactamente al rev\u00e9s que en MATLAB y si se hace al rev\u00e9s obtendremos errores o, lo que es peor, resultados incorrectos.</div>"
     ]
    },
    {
     "cell_type": "code",
     "collapsed": false,
     "input": [],
     "language": "python",
     "metadata": {},
     "outputs": []
    },
    {
     "cell_type": "heading",
     "level": 3,
     "metadata": {},
     "source": [
      "Bola cayendo en flujo viscoso "
     ]
    },
    {
     "cell_type": "markdown",
     "metadata": {},
     "source": [
      "![Bola cayendo](http://upload.wikimedia.org/wikipedia/commons/thumb/a/ae/Stokes_sphere.svg/200px-Stokes_sphere.svg.png)"
     ]
    },
    {
     "cell_type": "markdown",
     "metadata": {},
     "source": [
      "Por la ley de Stokes:\n",
      "\n",
      "$F_d = 6 \\pi \\mu R v$\n",
      "\n",
      "siendo\n",
      "\n",
      "* $\\mu$ la viscosidad del fluido,\n",
      "* $R$ el radio de la esfera,\n",
      "* $v$ su velocidad."
     ]
    },
    {
     "cell_type": "markdown",
     "metadata": {},
     "source": [
      "Por otro lado, la diferencia entre peso y empuje hidrost\u00e1tico (principio de Arqu\u00edmedes):\n",
      "\n",
      "$F_g = (\\rho - \\rho_f) g V$\n",
      "\n",
      "siendo\n",
      "\n",
      "* $\\rho$ la densidad de la bola,\n",
      "* $\\rho_f$ la densidad del fluido,\n",
      "* $V$ su volumen."
     ]
    },
    {
     "cell_type": "markdown",
     "metadata": {},
     "source": [
      "Representar la velocidad de la bola entre $t = 0 s$ y $t = 10 s$ con la condici\u00f3n inicial $v(0) = 0$ y siendo esta positiva hacia arriba.\n",
      "\n",
      "$m \\dot{v} = F_d - F_g$"
     ]
    },
    {
     "cell_type": "markdown",
     "metadata": {},
     "source": [
      "Datos:\n",
      "\n",
      "* $\\mu = 0.250~\\text{Pa} \\cdot \\text{s}$\n",
      "* $R = 0.1~\\text{m}$\n",
      "* $\\rho = 1200~\\text{kg} / \\text{m}^3$\n",
      "* $\\rho_f = 800~\\text{kg} / \\text{m}^3$"
     ]
    },
    {
     "cell_type": "code",
     "collapsed": false,
     "input": [],
     "language": "python",
     "metadata": {},
     "outputs": []
    }
   ],
   "metadata": {}
  }
 ]
}