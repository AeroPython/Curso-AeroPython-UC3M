{
 "metadata": {
  "name": ""
 },
 "nbformat": 3,
 "nbformat_minor": 0,
 "worksheets": [
  {
   "cells": [
    {
     "cell_type": "markdown",
     "metadata": {},
     "source": [
      "# Curso AeroPython ETSIAE\n",
      "\n",
      "## Juan Luis Cano ([@Pybonacci](https://twitter.com/Pybonacci)) y \u00c1lex S\u00e1ez ([@Alex__S12](https://twitter.com/Alex__S12))"
     ]
    },
    {
     "cell_type": "markdown",
     "metadata": {},
     "source": [
      "<a rel=\"license\" href=\"http://creativecommons.org/licenses/by/4.0/deed.es\"><img alt=\"Licencia Creative Commons\" style=\"border-width:0\" src=\"http://i.creativecommons.org/l/by/4.0/88x31.png\" /></a><br /><span xmlns:dct=\"http://purl.org/dc/terms/\" property=\"dct:title\">Curso AeroPython</span> por <span xmlns:cc=\"http://creativecommons.org/ns#\" property=\"cc:attributionName\">Juan Luis Cano Rodriguez y Alejandro S\u00e1ez Mollejo</span> se distribuye bajo una <a rel=\"license\" href=\"http://creativecommons.org/licenses/by/4.0/deed.es\">Licencia Creative Commons Atribuci\u00f3n 4.0 Internacional</a>."
     ]
    },
    {
     "cell_type": "heading",
     "level": 1,
     "metadata": {},
     "source": [
      "CLASE 4b: Ecuaciones no lineales y EDOs"
     ]
    },
    {
     "cell_type": "code",
     "collapsed": false,
     "input": [
      "import numpy as np"
     ],
     "language": "python",
     "metadata": {},
     "outputs": [],
     "prompt_number": 1
    },
    {
     "cell_type": "code",
     "collapsed": false,
     "input": [
      "%matplotlib inline\n",
      "import matplotlib.pyplot as plt"
     ],
     "language": "python",
     "metadata": {},
     "outputs": [],
     "prompt_number": 2
    },
    {
     "cell_type": "heading",
     "level": 2,
     "metadata": {},
     "source": [
      "Ecuaciones no lineales"
     ]
    },
    {
     "cell_type": "markdown",
     "metadata": {},
     "source": [
      "Una vez visto c\u00f3mo resolver sistemas de ecuaciones lineales, tal vez sea incluso m\u00e1s atractivo resolver ecuaciones no lineales. Para ello, importaremos el paquete `optimize` de SciPy:"
     ]
    },
    {
     "cell_type": "code",
     "collapsed": false,
     "input": [
      "from scipy import optimize"
     ],
     "language": "python",
     "metadata": {},
     "outputs": [],
     "prompt_number": 3
    },
    {
     "cell_type": "markdown",
     "metadata": {},
     "source": [
      "La ayuda de este paquete es bastante larga (puedes consultarla tambi\u00e9n en http://docs.scipy.org/doc/scipy/reference/tutorial/optimize.html). El paquete `optimize` incluye multitud de m\u00e9todos para optimizaci\u00f3n, ajuste de curvas y b\u00fasqueda de ra\u00edces. Vamos a centrarnos ahora en la b\u00fasqueda de ra\u00edces de funciones escalares. Para m\u00e1s informaci\u00f3n puedes leer http://pybonacci.wordpress.com/2012/10/25/como-resolver-ecuaciones-algebraicas-en-python-con-scipy/"
     ]
    },
    {
     "cell_type": "markdown",
     "metadata": {},
     "source": [
      "<div class=\"alert alert-info\">**Nota**: La funci\u00f3n `root` se utiliza para hallar soluciones de *sistemas* de ecuaciones no lineales as\u00ed que obviamente tambi\u00e9n funciona para ecuaciones escalares. No obstante, vamos a utilizar las funciones `brentq` y `newton` para que el m\u00e9todo utilizado quede m\u00e1s claro.</div>"
     ]
    },
    {
     "cell_type": "markdown",
     "metadata": {},
     "source": [
      "Hay b\u00e1sicamente dos tipos de algoritmos para hallar ra\u00edces de ecuaciones no lineales:\n",
      "\n",
      "* Aquellos que operan en un intervalo $[a, b]$ tal que $f(a) \\cdot f(b) < 0$. M\u00e1s lentos, convergencia asegurada.\n",
      "* Aquellos que operan dando una condici\u00f3n inicial $x_0$ m\u00e1s o menos cerca de la soluci\u00f3n. M\u00e1s r\u00e1pidos, convergencia condicionada.\n",
      "\n",
      "De los primeros vamos a usar la funci\u00f3n `brentq` (aunque podr\u00edamos usar `bisect`) y de los segundos vamos a usar `newton` (que en realidad engloba los m\u00e9todos de Newton y de la secante)."
     ]
    },
    {
     "cell_type": "markdown",
     "metadata": {},
     "source": [
      "**Ejemplo**:\n",
      "\n",
      "$2 - \\sqrt{x} = \\ln{x} \\Rightarrow F(x) \\equiv 2 - \\sqrt{x} - \\ln{x} = 0$"
     ]
    },
    {
     "cell_type": "markdown",
     "metadata": {},
     "source": [
      "Lo primero que tengo que hacer es definir la ecuaci\u00f3n, que matem\u00e1ticamente ser\u00e1 una funci\u00f3n $F(x)$ que quiero igualar a cero."
     ]
    },
    {
     "cell_type": "code",
     "collapsed": false,
     "input": [
      "def F(x):\n",
      "    return 2 - np.sqrt(x) - np.log(x)"
     ],
     "language": "python",
     "metadata": {},
     "outputs": [],
     "prompt_number": 4
    },
    {
     "cell_type": "markdown",
     "metadata": {},
     "source": [
      "Para hacernos una idea de las posibles soluciones siempre podemos representar gr\u00e1ficamente esa funci\u00f3n:"
     ]
    },
    {
     "cell_type": "code",
     "collapsed": false,
     "input": [
      "x = np.linspace(0, 6)\n",
      "plt.plot(x, F(x))"
     ],
     "language": "python",
     "metadata": {},
     "outputs": [
      {
       "output_type": "stream",
       "stream": "stderr",
       "text": [
        "-c:2: RuntimeWarning: divide by zero encountered in log\n"
       ]
      },
      {
       "metadata": {},
       "output_type": "pyout",
       "prompt_number": 5,
       "text": [
        "[<matplotlib.lines.Line2D at 0x7f2e56f5ad50>]"
       ]
      },
      {
       "metadata": {},
       "output_type": "display_data",
       "png": "[encoded data removed]",
       "text": [
        "<matplotlib.figure.Figure at 0x7f2e56f795d0>"
       ]
      }
     ],
     "prompt_number": 5
    },
    {
     "cell_type": "markdown",
     "metadata": {},
     "source": [
      "Y utilizando por ejemplo el m\u00e9todo de Brent en el intervalo $[0, 3]$:"
     ]
    },
    {
     "cell_type": "code",
     "collapsed": false,
     "input": [
      "optimize.brentq(F, 0, 3)"
     ],
     "language": "python",
     "metadata": {},
     "outputs": [
      {
       "metadata": {},
       "output_type": "pyout",
       "prompt_number": 7,
       "text": [
        "1.8773216666875623"
       ]
      }
     ],
     "prompt_number": 7
    },
    {
     "cell_type": "markdown",
     "metadata": {},
     "source": [
      "<div class=\"alert alert-warning\">\u00bfNo hab\u00edamos dicho que en Python no se puede dividir por cero? Observa esto:</div>"
     ]
    },
    {
     "cell_type": "code",
     "collapsed": false,
     "input": [
      "1 / 0"
     ],
     "language": "python",
     "metadata": {},
     "outputs": [
      {
       "ename": "ZeroDivisionError",
       "evalue": "division by zero",
       "output_type": "pyerr",
       "traceback": [
        "\u001b[1;31m---------------------------------------------------------------------------\u001b[0m\n\u001b[1;31mZeroDivisionError\u001b[0m                         Traceback (most recent call last)",
        "\u001b[1;32m<ipython-input-8-b710d87c980c>\u001b[0m in \u001b[0;36m<module>\u001b[1;34m()\u001b[0m\n\u001b[1;32m----> 1\u001b[1;33m \u001b[1;36m1\u001b[0m \u001b[1;33m/\u001b[0m \u001b[1;36m0\u001b[0m\u001b[1;33m\u001b[0m\u001b[0m\n\u001b[0m",
        "\u001b[1;31mZeroDivisionError\u001b[0m: division by zero"
       ]
      }
     ],
     "prompt_number": 8
    },
    {
     "cell_type": "code",
     "collapsed": false,
     "input": [
      "1 / np.array([0])"
     ],
     "language": "python",
     "metadata": {},
     "outputs": [
      {
       "output_type": "stream",
       "stream": "stderr",
       "text": [
        "-c:1: RuntimeWarning: divide by zero encountered in true_divide\n"
       ]
      },
      {
       "metadata": {},
       "output_type": "pyout",
       "prompt_number": 9,
       "text": [
        "array([ inf])"
       ]
      }
     ],
     "prompt_number": 9
    },
    {
     "cell_type": "markdown",
     "metadata": {},
     "source": [
      "<div class=\"alert alert-warning\">Si manejamos arrays de NumPy las operaciones siguen las reglas dadas en el est\u00e1ndar de punto flotante (IEEE 754). Las divisiones por cero resultan en infinito, 0 / 0 es NaN, etc. Podemos controlar si queremos warnings o errores con la funci\u00f3n `np.seterr`.</div>"
     ]
    },
    {
     "cell_type": "code",
     "collapsed": false,
     "input": [
      "help(np.seterr)"
     ],
     "language": "python",
     "metadata": {},
     "outputs": [
      {
       "output_type": "stream",
       "stream": "stdout",
       "text": [
        "Help on function seterr in module numpy.core.numeric:\n",
        "\n",
        "seterr(all=None, divide=None, over=None, under=None, invalid=None)\n",
        "    Set how floating-point errors are handled.\n",
        "    \n",
        "    Note that operations on integer scalar types (such as `int16`) are\n",
        "    handled like floating point, and are affected by these settings.\n",
        "    \n",
        "    Parameters\n",
        "    ----------\n",
        "    all : {'ignore', 'warn', 'raise', 'call', 'print', 'log'}, optional\n",
        "        Set treatment for all types of floating-point errors at once:\n",
        "    \n",
        "        - ignore: Take no action when the exception occurs.\n",
        "        - warn: Print a `RuntimeWarning` (via the Python `warnings` module).\n",
        "        - raise: Raise a `FloatingPointError`.\n",
        "        - call: Call a function specified using the `seterrcall` function.\n",
        "        - print: Print a warning directly to ``stdout``.\n",
        "        - log: Record error in a Log object specified by `seterrcall`.\n",
        "    \n",
        "        The default is not to change the current behavior.\n",
        "    divide : {'ignore', 'warn', 'raise', 'call', 'print', 'log'}, optional\n",
        "        Treatment for division by zero.\n",
        "    over : {'ignore', 'warn', 'raise', 'call', 'print', 'log'}, optional\n",
        "        Treatment for floating-point overflow.\n",
        "    under : {'ignore', 'warn', 'raise', 'call', 'print', 'log'}, optional\n",
        "        Treatment for floating-point underflow.\n",
        "    invalid : {'ignore', 'warn', 'raise', 'call', 'print', 'log'}, optional\n",
        "        Treatment for invalid floating-point operation.\n",
        "    \n",
        "    Returns\n",
        "    -------\n",
        "    old_settings : dict\n",
        "        Dictionary containing the old settings.\n",
        "    \n",
        "    See also\n",
        "    --------\n",
        "    seterrcall : Set a callback function for the 'call' mode.\n",
        "    geterr, geterrcall, errstate\n",
        "    \n",
        "    Notes\n",
        "    -----\n",
        "    The floating-point exceptions are defined in the IEEE 754 standard [1]:\n",
        "    \n",
        "    - Division by zero: infinite result obtained from finite numbers.\n",
        "    - Overflow: result too large to be expressed.\n",
        "    - Underflow: result so close to zero that some precision\n",
        "      was lost.\n",
        "    - Invalid operation: result is not an expressible number, typically\n",
        "      indicates that a NaN was produced.\n",
        "    \n",
        "    .. [1] http://en.wikipedia.org/wiki/IEEE_754\n",
        "    \n",
        "    Examples\n",
        "    --------\n",
        "    >>> old_settings = np.seterr(all='ignore')  #seterr to known value\n",
        "    >>> np.seterr(over='raise')\n",
        "    {'over': 'ignore', 'divide': 'ignore', 'invalid': 'ignore',\n",
        "     'under': 'ignore'}\n",
        "    >>> np.seterr(all='ignore')  # reset to default\n",
        "    {'over': 'raise', 'divide': 'ignore', 'invalid': 'ignore', 'under': 'ignore'}\n",
        "    \n",
        "    >>> np.int16(32000) * np.int16(3)\n",
        "    30464\n",
        "    >>> old_settings = np.seterr(all='warn', over='raise')\n",
        "    >>> np.int16(32000) * np.int16(3)\n",
        "    Traceback (most recent call last):\n",
        "      File \"<stdin>\", line 1, in <module>\n",
        "    FloatingPointError: overflow encountered in short_scalars\n",
        "    \n",
        "    >>> old_settings = np.seterr(all='print')\n",
        "    >>> np.geterr()\n",
        "    {'over': 'print', 'divide': 'print', 'invalid': 'print', 'under': 'print'}\n",
        "    >>> np.int16(32000) * np.int16(3)\n",
        "    Warning: overflow encountered in short_scalars\n",
        "    30464\n",
        "\n"
       ]
      }
     ],
     "prompt_number": 10
    },
    {
     "cell_type": "heading",
     "level": 3,
     "metadata": {},
     "source": [
      "Argumentos extra"
     ]
    },
    {
     "cell_type": "markdown",
     "metadata": {},
     "source": [
      "Nuestras funciones siempre tienen que tomar como primer argumento la inc\u00f3gnita, el valor que la hace cero. Si queremos incluir m\u00e1s, tendremos que usar el argumento `args` de la funciones de b\u00fasqueda de ra\u00edces. Este patr\u00f3n se usa tambi\u00e9n en otras partes de SciPy, como ya veremos."
     ]
    },
    {
     "cell_type": "code",
     "collapsed": false,
     "input": [
      "def G(x, C):\n",
      "    return C - np.sqrt(x) - np.log(x)"
     ],
     "language": "python",
     "metadata": {},
     "outputs": [],
     "prompt_number": 11
    },
    {
     "cell_type": "code",
     "collapsed": false,
     "input": [
      "optimize.newton(G, 2.0, args=(2,))"
     ],
     "language": "python",
     "metadata": {},
     "outputs": [
      {
       "metadata": {},
       "output_type": "pyout",
       "prompt_number": 12,
       "text": [
        "1.8773216666875554"
       ]
      }
     ],
     "prompt_number": 12
    },
    {
     "cell_type": "code",
     "collapsed": false,
     "input": [
      "optimize.newton(F, 2.0)"
     ],
     "language": "python",
     "metadata": {},
     "outputs": [
      {
       "metadata": {},
       "output_type": "pyout",
       "prompt_number": 13,
       "text": [
        "1.8773216666875554"
       ]
      }
     ],
     "prompt_number": 13
    },
    {
     "cell_type": "heading",
     "level": 3,
     "metadata": {},
     "source": [
      "Flujo compresible"
     ]
    },
    {
     "cell_type": "markdown",
     "metadata": {},
     "source": [
      "Esta es la relaci\u00f3n isentr\u00f3pica entre el n\u00famero de Mach $M(x)$ en un conducto de \u00e1rea $A(x)$:"
     ]
    },
    {
     "cell_type": "markdown",
     "metadata": {},
     "source": [
      "$$ \\frac{A(x)}{A^*} = \\frac{1}{M(x)} \\left( \\frac{2}{1 + \\gamma} \\left( 1 + \\frac{\\gamma - 1}{2} M(x)^2 \\right) \\right)^{\\frac{\\gamma + 1}{2 (\\gamma - 1)}}$$"
     ]
    },
    {
     "cell_type": "markdown",
     "metadata": {},
     "source": [
      "Para un conducto convergente:\n",
      "\n",
      "$$ \\frac{A(x)}{A^*} = 3 - 2 x \\quad x \\in [0, 1]$$"
     ]
    },
    {
     "cell_type": "markdown",
     "metadata": {},
     "source": [
      "Hallar el n\u00famero de Mach en la secci\u00f3n $x = 0.9$."
     ]
    },
    {
     "cell_type": "code",
     "collapsed": false,
     "input": [
      "def A(x):\n",
      "    return 3 - 2 * x"
     ],
     "language": "python",
     "metadata": {},
     "outputs": [],
     "prompt_number": 14
    },
    {
     "cell_type": "markdown",
     "metadata": {},
     "source": [
      "\u00bfCu\u00e1l es la funci\u00f3n $F$ ahora? Hay dos opciones: definir una funci\u00f3n $F_{0.9}(M)$ que me da el n\u00famero de Mach en la secci\u00f3n $0.9$ o una funci\u00f3n $F(M; x)$ con la que puedo hallar el n\u00famero de Mach en cualquier secci\u00f3n. *Bonus points* si haces la segunda opci\u00f3n :)"
     ]
    },
    {
     "cell_type": "code",
     "collapsed": false,
     "input": [
      "def F(M, x, g):\n",
      "    return A(x) - (1 / M) * ((2 / (1 + g)) * (1 + (g - 1) / 2 * M ** 2)) ** ((g + 1) / (2 * (g - 1))) "
     ],
     "language": "python",
     "metadata": {},
     "outputs": [],
     "prompt_number": 15
    },
    {
     "cell_type": "markdown",
     "metadata": {},
     "source": [
      "Para resolver la ecuaci\u00f3n utiliza el m\u00e9todo de Brent (bisecci\u00f3n). \u00bfEn qu\u00e9 intervalo se encontrar\u00e1 la soluci\u00f3n? \u00a1Si no te haces una idea es tan f\u00e1cil como pintar la funci\u00f3n $F$!"
     ]
    },
    {
     "cell_type": "code",
     "collapsed": false,
     "input": [
      "optimize.brentq(F, 0.01, 1, args=(0.9, 1.4))"
     ],
     "language": "python",
     "metadata": {},
     "outputs": [
      {
       "metadata": {},
       "output_type": "pyout",
       "prompt_number": 18,
       "text": [
        "0.5902487609888621"
       ]
      }
     ],
     "prompt_number": 18
    },
    {
     "cell_type": "heading",
     "level": 3,
     "metadata": {},
     "source": [
      "Ecuaci\u00f3n de Kepler"
     ]
    },
    {
     "cell_type": "markdown",
     "metadata": {},
     "source": [
      "Representar la ecuaci\u00f3n de Kepler\n",
      "\n",
      "$$M = E - e \\sin E$$\n",
      "\n",
      "que relaciona dos par\u00e1metros geom\u00e9tricos de las \u00f3rbitas el\u00edpticas, la anomal\u00eda media $M$ y la anomal\u00eda exc\u00e9ntrica $E$.\n",
      "\n",
      "![Anomal\u00edas exc\u00e9ntrica y media](http://upload.wikimedia.org/wikipedia/commons/thumb/f/f8/Kepler%27s-equation-scheme.png/250px-Kepler%27s-equation-scheme.png)\n",
      "\n",
      "para los siguientes valores de excentricidad:\n",
      "\n",
      "* Tierra: $0.0167$\n",
      "* Plut\u00f3n: $0.249$\n",
      "* Cometa Holmes: $0.432$\n",
      "* 28P/Neujmin: $0.775$\n",
      "* Cometa Halley: $0.967$\n",
      "\n",
      "Para reproducir esta gr\u00e1fica:"
     ]
    },
    {
     "cell_type": "code",
     "collapsed": false,
     "input": [
      "from IPython.display import HTML\n",
      "HTML('<iframe src=\"http://en.m.wikipedia.org/wiki/Kepler%27s_equation\" width=\"800\" height=\"400\"></iframe>')"
     ],
     "language": "python",
     "metadata": {},
     "outputs": [
      {
       "html": [
        "<iframe src=\"http://en.m.wikipedia.org/wiki/Kepler%27s_equation\" width=\"800\" height=\"400\"></iframe>"
       ],
       "metadata": {},
       "output_type": "pyout",
       "prompt_number": 19,
       "text": [
        "<IPython.core.display.HTML at 0x7f2e56ec6a10>"
       ]
      }
     ],
     "prompt_number": 19
    },
    {
     "cell_type": "markdown",
     "metadata": {},
     "source": [
      "Para ello utilizaremos el m\u00e9todo de Newton (secante).\n",
      "\n",
      "1- Define la funci\u00f3n correspondiente a la ecuaci\u00f3n de Kepler, que no solo es una ecuaci\u00f3n impl\u00edcita sino que adem\u00e1s depende de un par\u00e1metro. \u00bfCu\u00e1l es la inc\u00f3gnita?"
     ]
    },
    {
     "cell_type": "code",
     "collapsed": false,
     "input": [
      "def F(E, e, M):\n",
      "    return M - E + e * np.sin(E)"
     ],
     "language": "python",
     "metadata": {},
     "outputs": [],
     "prompt_number": 20
    },
    {
     "cell_type": "markdown",
     "metadata": {},
     "source": [
      "2- Como primer paso, resu\u00e9lvela para la excentricidad terrerstre y anomal\u00eda media $M = 0.3$. \u00bfQu\u00e9 valor escoger\u00edas como condici\u00f3n inicial?"
     ]
    },
    {
     "cell_type": "code",
     "collapsed": false,
     "input": [
      "optimize.newton(F, 0.3, args=(0.0167, 0.3))"
     ],
     "language": "python",
     "metadata": {},
     "outputs": [
      {
       "metadata": {},
       "output_type": "pyout",
       "prompt_number": 21,
       "text": [
        "0.30501513714875778"
       ]
      }
     ],
     "prompt_number": 21
    },
    {
     "cell_type": "markdown",
     "metadata": {},
     "source": [
      "3- Como siguiente paso, crea un dominio (`linspace`) de anomal\u00edas medias entre $0$ y $2 \\pi$ y resuelve la ecuaci\u00f3n de Kepler con excentricidad terrestre para todos esos valores. F\u00edjate que necesitar\u00e1s un array donde almacenar las soluciones. Representa la curva resultante."
     ]
    },
    {
     "cell_type": "code",
     "collapsed": false,
     "input": [
      "N = 500\n",
      "\n",
      "M = np.linspace(0, 2 * np.pi, N)\n",
      "sol = np.zeros_like(M)\n",
      "\n",
      "for ii in range(N):\n",
      "    sol[ii] = optimize.newton(F, sol[ii - 1], args=(0.249, M[ii]))\n",
      "\n",
      "plt.plot(M, sol)"
     ],
     "language": "python",
     "metadata": {},
     "outputs": [
      {
       "metadata": {},
       "output_type": "pyout",
       "prompt_number": 31,
       "text": [
        "[<matplotlib.lines.Line2D at 0x7f2e56bdd510>]"
       ]
      },
      {
       "metadata": {},
       "output_type": "display_data",
       "png": "[encoded data removed]",
       "text": [
        "<matplotlib.figure.Figure at 0x7f2e56ccc390>"
       ]
      }
     ],
     "prompt_number": 31
    },
    {
     "cell_type": "markdown",
     "metadata": {},
     "source": [
      "4- Como \u00faltimo paso, solo tienes que meter parte del c\u00f3digo que ya has escrito en un bucle que cambie el valor de la excentricidad 5 veces. Es aconsejable que tengas todo ese c\u00f3digo en una \u00fanica celda (esta de aqu\u00ed abajo)."
     ]
    },
    {
     "cell_type": "markdown",
     "metadata": {},
     "source": [
      "Vamos a introducir aqu\u00ed un truco muy \u00fatil en Python:"
     ]
    },
    {
     "cell_type": "code",
     "collapsed": false,
     "input": [
      "M = np.linspace(0, 2 * np.pi, N)\n",
      "sol = np.zeros_like(M)\n",
      "\n",
      "fig, ax = plt.subplots(figsize=(6, 6))\n",
      "\n",
      "for ee in 0.0167, 0.249, 0.432, 0.775, 0.967:\n",
      "    # Para cada valor de excentricidad sobreescribimos el array sol\n",
      "    for ii in range(N):\n",
      "        sol[ii] = optimize.newton(F, sol[ii - 1], args=(ee, M[ii]))\n",
      "    ax.plot(M, sol)\n",
      "\n",
      "ax.set_xlim(0, 2 * np.pi)\n",
      "ax.set_ylim(0, 2 * np.pi)\n",
      "ax.set_xlabel(\"$M$\", fontsize=15)\n",
      "ax.set_ylabel(\"$E$\", fontsize=15)\n",
      "ax.set_aspect(1)\n",
      "ax.grid(True)\n",
      "ax.legend([\"Earth\", \"Pluto\", \"Comet Holmes\", \"28P/Neujmin\", \"Halley's Comet\"], loc=2)\n",
      "ax.set_title(\"Kepler's equation solutions\")"
     ],
     "language": "python",
     "metadata": {},
     "outputs": [
      {
       "metadata": {},
       "output_type": "pyout",
       "prompt_number": 32,
       "text": [
        "<matplotlib.text.Text at 0x7f2e56b8a750>"
       ]
      },
      {
       "metadata": {},
       "output_type": "display_data",
       "png": "[encoded data removed]",
       "text": [
        "<matplotlib.figure.Figure at 0x7f2e56c20fd0>"
       ]
      }
     ],
     "prompt_number": 32
    },
    {
     "cell_type": "heading",
     "level": 2,
     "metadata": {},
     "source": [
      "Ecuaciones diferenciales ordinarias"
     ]
    },
    {
     "cell_type": "markdown",
     "metadata": {},
     "source": [
      "Para integrar EDOs vamos a usar la funci\u00f3n `odeint` del paquete `integrate`, que permite integrar sistemas del tipo:\n",
      "\n",
      "$$ \\frac{d\\mathbf{y}}{dt}=\\mathbf{f}\\left(\\mathbf{y},t\\right)$$\n",
      "\n",
      "con condiciones iniciales $\\mathbf{y}(\\mathbf{0}) = \\mathbf{y_0}$."
     ]
    },
    {
     "cell_type": "markdown",
     "metadata": {},
     "source": [
      "<div class=\"alert alert-error\">**\u00a1Importante!**: La funci\u00f3n del sistema recibe como primer argumento $\\mathbf{y}$ (un array) y como segundo argumento el instante $t$ (un escalar). Esta convenci\u00f3n va exactamente al rev\u00e9s que en MATLAB y si se hace al rev\u00e9s obtendremos errores o, lo que es peor, resultados incorrectos.</div>"
     ]
    },
    {
     "cell_type": "code",
     "collapsed": false,
     "input": [
      "from scipy.integrate import odeint"
     ],
     "language": "python",
     "metadata": {},
     "outputs": [],
     "prompt_number": 33
    },
    {
     "cell_type": "markdown",
     "metadata": {},
     "source": [
      "$$y' + y = 0$$\n",
      "\n",
      "$$\\frac{dy}{dt} = -y$$"
     ]
    },
    {
     "cell_type": "code",
     "collapsed": false,
     "input": [
      "def f(y, t):\n",
      "    return -y"
     ],
     "language": "python",
     "metadata": {},
     "outputs": [],
     "prompt_number": 34
    },
    {
     "cell_type": "markdown",
     "metadata": {},
     "source": [
      "Condiciones iniciales:"
     ]
    },
    {
     "cell_type": "code",
     "collapsed": false,
     "input": [
      "y0 = 1"
     ],
     "language": "python",
     "metadata": {},
     "outputs": [],
     "prompt_number": 38
    },
    {
     "cell_type": "markdown",
     "metadata": {},
     "source": [
      "Vector de tiempos donde realizamos la integraci\u00f3n:"
     ]
    },
    {
     "cell_type": "code",
     "collapsed": false,
     "input": [
      "t = np.linspace(0, 3)"
     ],
     "language": "python",
     "metadata": {},
     "outputs": [],
     "prompt_number": 39
    },
    {
     "cell_type": "markdown",
     "metadata": {},
     "source": [
      "Integramos y representamos la soluci\u00f3n:"
     ]
    },
    {
     "cell_type": "code",
     "collapsed": false,
     "input": [
      "sol = odeint(f, y0, t)\n",
      "plt.plot(t, sol)"
     ],
     "language": "python",
     "metadata": {},
     "outputs": [
      {
       "metadata": {},
       "output_type": "pyout",
       "prompt_number": 40,
       "text": [
        "[<matplotlib.lines.Line2D at 0x7f2e556c6f50>]"
       ]
      },
      {
       "metadata": {},
       "output_type": "display_data",
       "png": "[encoded data removed]",
       "text": [
        "<matplotlib.figure.Figure at 0x7f2e56db5790>"
       ]
      }
     ],
     "prompt_number": 40
    },
    {
     "cell_type": "heading",
     "level": 3,
     "metadata": {},
     "source": [
      "Bola cayendo en flujo viscoso "
     ]
    },
    {
     "cell_type": "markdown",
     "metadata": {},
     "source": [
      "![Bola cayendo](http://upload.wikimedia.org/wikipedia/commons/thumb/a/ae/Stokes_sphere.svg/200px-Stokes_sphere.svg.png)"
     ]
    },
    {
     "cell_type": "markdown",
     "metadata": {},
     "source": [
      "Por la ley de Stokes:\n",
      "\n",
      "$F_d = 6 \\pi \\mu R v$\n",
      "\n",
      "siendo\n",
      "\n",
      "* $\\mu$ la viscosidad del fluido,\n",
      "* $R$ el radio de la esfera,\n",
      "* $v$ su velocidad."
     ]
    },
    {
     "cell_type": "markdown",
     "metadata": {},
     "source": [
      "Por otro lado, la diferencia entre peso y empuje hidrost\u00e1tico (principio de Arqu\u00edmedes):\n",
      "\n",
      "$F_g = (\\rho - \\rho_f) g V$\n",
      "\n",
      "siendo\n",
      "\n",
      "* $\\rho$ la densidad de la bola,\n",
      "* $\\rho_f$ la densidad del fluido,\n",
      "* $V$ su volumen."
     ]
    },
    {
     "cell_type": "markdown",
     "metadata": {},
     "source": [
      "Representar la velocidad de la bola entre $t = 0 s$ y $t = 10 s$ con la condici\u00f3n inicial $v(0) = 0$ y siendo esta positiva hacia arriba.\n",
      "\n",
      "$m \\dot{v} = F_d - F_g$"
     ]
    },
    {
     "cell_type": "markdown",
     "metadata": {},
     "source": [
      "Datos:\n",
      "\n",
      "* $\\mu = 0.250~\\text{Pa} \\cdot \\text{s}$\n",
      "* $R = 0.1~\\text{m}$\n",
      "* $\\rho = 1200~\\text{kg} / \\text{m}^3$\n",
      "* $\\rho_f = 800~\\text{kg} / \\text{m}^3$"
     ]
    },
    {
     "cell_type": "code",
     "collapsed": false,
     "input": [],
     "language": "python",
     "metadata": {},
     "outputs": []
    }
   ],
   "metadata": {}
  }
 ]
}