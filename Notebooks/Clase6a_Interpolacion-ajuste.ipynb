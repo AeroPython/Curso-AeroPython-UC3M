{
 "metadata": {
  "name": ""
 },
 "nbformat": 3,
 "nbformat_minor": 0,
 "worksheets": [
  {
   "cells": [
    {
     "cell_type": "markdown",
     "metadata": {},
     "source": [
      "# Curso AeroPython ETSIAE\n",
      "\n",
      "## Juan Luis Cano ([@Pybonacci](https://twitter.com/Pybonacci)) y \u00c1lex S\u00e1ez ([@Alex__S12](https://twitter.com/Alex__S12))"
     ]
    },
    {
     "cell_type": "markdown",
     "metadata": {},
     "source": [
      "<a rel=\"license\" href=\"http://creativecommons.org/licenses/by/4.0/deed.es\"><img alt=\"Licencia Creative Commons\" style=\"border-width:0\" src=\"http://i.creativecommons.org/l/by/4.0/88x31.png\" /></a><br /><span xmlns:dct=\"http://purl.org/dc/terms/\" property=\"dct:title\">Curso AeroPython</span> por <span xmlns:cc=\"http://creativecommons.org/ns#\" property=\"cc:attributionName\">Juan Luis Cano Rodriguez y Alejandro S\u00e1ez Mollejo</span> se distribuye bajo una <a rel=\"license\" href=\"http://creativecommons.org/licenses/by/4.0/deed.es\">Licencia Creative Commons Atribuci\u00f3n 4.0 Internacional</a>."
     ]
    },
    {
     "cell_type": "heading",
     "level": 1,
     "metadata": {},
     "source": [
      "CLASE 6a: Interpolaci\u00f3n y ajuste"
     ]
    },
    {
     "cell_type": "markdown",
     "metadata": {},
     "source": [
      "La \u00faltimas tareas importantes que vamos a ver c\u00f3mo hacer con SciPy van a ser **interpolar** y **ajustar** una serie de puntos. Son tareas diferentes que aprovecharemos en circunstancias distintas, pero ambas muy \u00fatiles. Esta clase est\u00e1 basada en el art\u00edculo http://pybonacci.wordpress.com/2013/08/15/ajuste-e-interpolacion-unidimensionales-basicos-en-python-con-scipy/"
     ]
    },
    {
     "cell_type": "markdown",
     "metadata": {},
     "source": [
      "Vamos a trabajar de nuevo con NumPy y matplotlib, as\u00ed que hacemos los imports necesarios:"
     ]
    },
    {
     "cell_type": "code",
     "collapsed": false,
     "input": [
      "import numpy as np\n",
      "\n",
      "%matplotlib inline\n",
      "import matplotlib.pyplot as plt"
     ],
     "language": "python",
     "metadata": {},
     "outputs": [],
     "prompt_number": 1
    },
    {
     "cell_type": "markdown",
     "metadata": {},
     "source": [
      "Supongamos que tenemos una serie de puntos que representan los datos de un cierto experimento. Como ejemplo, vamos a cargar los datos de la polar de un avi\u00f3n que est\u00e1n en el archivo `polar.dat`."
     ]
    },
    {
     "cell_type": "code",
     "collapsed": false,
     "input": [
      "#!cat polar.dat  Linux / Mac OS X\n",
      "!type polar.dat"
     ],
     "language": "python",
     "metadata": {},
     "outputs": [
      {
       "output_type": "stream",
       "stream": "stdout",
       "text": [
        "/usr/bin/sh: line 0: type: polar.dat: not found\r\n"
       ]
      }
     ],
     "prompt_number": 2
    },
    {
     "cell_type": "markdown",
     "metadata": {},
     "source": [
      "La primera l\u00ednea son los datos de $C_L$ y la segunda los datos de $C_D$. Recordamos que hab\u00eda que usar la funci\u00f3n `np.loadtxt`, y en este caso no hay que especificar ning\u00fan argumento extra m\u00e1s porque ya por defecto detecta que los comentarios empiezan por `#`."
     ]
    },
    {
     "cell_type": "code",
     "collapsed": false,
     "input": [
      "datos = np.loadtxt(\"polar.dat\")\n",
      "C_L = datos[0]\n",
      "C_D = datos[1]"
     ],
     "language": "python",
     "metadata": {},
     "outputs": [],
     "prompt_number": 3
    },
    {
     "cell_type": "markdown",
     "metadata": {},
     "source": [
      "Vamos a representar esos datos con cruces azules (pista: usar `mew=2`, \"marker edge width 2\", para que las cruces se vean mejor):"
     ]
    },
    {
     "cell_type": "code",
     "collapsed": false,
     "input": [
      "fig, ax = plt.subplots()\n",
      "\n",
      "ax.plot(C_D, C_L, 'x', mew=2, label=\"Datos reales\")\n",
      "ax.set_xlabel(\"$C_D$\")\n",
      "ax.set_ylabel(\"$C_L$\")"
     ],
     "language": "python",
     "metadata": {},
     "outputs": [
      {
       "metadata": {},
       "output_type": "pyout",
       "prompt_number": 4,
       "text": [
        "<matplotlib.text.Text at 0x7f7460da5290>"
       ]
      },
      {
       "metadata": {},
       "output_type": "display_data",
       "png": "[encoded data removed]",
       "text": [
        "<matplotlib.figure.Figure at 0x7f7461068990>"
       ]
      }
     ],
     "prompt_number": 4
    },
    {
     "cell_type": "markdown",
     "metadata": {},
     "source": [
      "Vemos la forma cl\u00e1sica de la polar de un avi\u00f3n. Hallando *el \u00edndice* del m\u00e1ximo valor de $C_L$ podemos descartar los datos fuera de la regi\u00f3n de entrada en p\u00e9rdida, y para eso necesitamos la funci\u00f3n `np.argmax`:"
     ]
    },
    {
     "cell_type": "code",
     "collapsed": false,
     "input": [
      "idx_stall = np.argmax(C_L)\n",
      "idx_stall"
     ],
     "language": "python",
     "metadata": {},
     "outputs": [
      {
       "metadata": {},
       "output_type": "pyout",
       "prompt_number": 5,
       "text": [
        "12"
       ]
      }
     ],
     "prompt_number": 5
    },
    {
     "cell_type": "code",
     "collapsed": false,
     "input": [
      "C_L[idx_stall]"
     ],
     "language": "python",
     "metadata": {},
     "outputs": [
      {
       "metadata": {},
       "output_type": "pyout",
       "prompt_number": 6,
       "text": [
        "1.24"
       ]
      }
     ],
     "prompt_number": 6
    },
    {
     "cell_type": "markdown",
     "metadata": {},
     "source": [
      "Hay dos cosas que nos pueden interesar:\n",
      "\n",
      "* Como *solo tenemos puntos intermedios*, no tenemos posibilidad de evaluar, por ejemplo, $C_L$ para un $C_D$ que no est\u00e9 en los datos. Si **interpolamos** la curva ya podemos hacerlo.\n",
      "* Sabemos que, fuera de la regi\u00f3n de entrada en p\u00e9rdida, la polar tiene *forma parab\u00f3lica*. Si **ajustamos** la curva podemos hallar el $C_{D0}$ y el $k$."
     ]
    },
    {
     "cell_type": "heading",
     "level": 2,
     "metadata": {},
     "source": [
      "Interpolaci\u00f3n"
     ]
    },
    {
     "cell_type": "markdown",
     "metadata": {},
     "source": [
      "Para interpolar utilizaremos el paquete `interpolate` de SciPy:"
     ]
    },
    {
     "cell_type": "code",
     "collapsed": false,
     "input": [
      "from scipy import interpolate"
     ],
     "language": "python",
     "metadata": {},
     "outputs": [],
     "prompt_number": 7
    },
    {
     "cell_type": "markdown",
     "metadata": {},
     "source": [
      "Vamos a generar unos puntos de ejemplo para explicar c\u00f3mo funciona. Para eso, vamos a usar simplemente la funci\u00f3n $\\sin{x}$ en un dominio con pocos puntos:"
     ]
    },
    {
     "cell_type": "code",
     "collapsed": false,
     "input": [
      "x_i = np.linspace(0, 8, num=10)\n",
      "y_i = np.sin(x_i)\n",
      "plt.plot(x_i, y_i, 'x', mew=2)"
     ],
     "language": "python",
     "metadata": {},
     "outputs": [
      {
       "metadata": {},
       "output_type": "pyout",
       "prompt_number": 8,
       "text": [
        "[<matplotlib.lines.Line2D at 0x7f745d37fc10>]"
       ]
      },
      {
       "metadata": {},
       "output_type": "display_data",
       "png": "[encoded data removed]",
       "text": [
        "<matplotlib.figure.Figure at 0x7f7460cce910>"
       ]
      }
     ],
     "prompt_number": 8
    },
    {
     "cell_type": "markdown",
     "metadata": {},
     "source": [
      "Para crear una **funci\u00f3n interpolante** utilizaremos el objeto `InterpolatedUnivariateSpline` del paquete `interpolate`. A este objeto solo hay que pasarle los puntos de interpolaci\u00f3n y el grado, y generar\u00e1 un *spline*."
     ]
    },
    {
     "cell_type": "code",
     "collapsed": false,
     "input": [
      "f_interp = interpolate.InterpolatedUnivariateSpline(x_i, y_i, k=1)\n",
      "f_interp"
     ],
     "language": "python",
     "metadata": {},
     "outputs": [
      {
       "metadata": {},
       "output_type": "pyout",
       "prompt_number": 9,
       "text": [
        "<scipy.interpolate.fitpack2.InterpolatedUnivariateSpline at 0x7f745d37a310>"
       ]
      }
     ],
     "prompt_number": 9
    },
    {
     "cell_type": "markdown",
     "metadata": {},
     "source": [
      "\u00bfC\u00f3mo obtengo los puntos desde aqu\u00ed? El resultado que hemos obtenido es una *funci\u00f3n* y admite como argumento la $x$."
     ]
    },
    {
     "cell_type": "code",
     "collapsed": false,
     "input": [
      "f_interp(np.pi / 2)"
     ],
     "language": "python",
     "metadata": {},
     "outputs": [
      {
       "metadata": {},
       "output_type": "pyout",
       "prompt_number": 10,
       "text": [
        "array(0.9315530896472728)"
       ]
      }
     ],
     "prompt_number": 10
    },
    {
     "cell_type": "markdown",
     "metadata": {},
     "source": [
      "Vamos a representar esta funci\u00f3n junto con los puntos de interpolaci\u00f3n. F\u00edjate en que, ahora que tenemos una funci\u00f3n interpolante, podemos representarla en un dominio:"
     ]
    },
    {
     "cell_type": "code",
     "collapsed": false,
     "input": [
      "x = np.linspace(0, 8)\n",
      "y_interp = f_interp(x)\n",
      "\n",
      "plt.plot(x_i, y_i, 'x', mew=2)\n",
      "plt.plot(x, y_interp)"
     ],
     "language": "python",
     "metadata": {},
     "outputs": [
      {
       "metadata": {},
       "output_type": "pyout",
       "prompt_number": 11,
       "text": [
        "[<matplotlib.lines.Line2D at 0x7f745d3902d0>]"
       ]
      },
      {
       "metadata": {},
       "output_type": "display_data",
       "png": "[encoded data removed]",
       "text": [
        "<matplotlib.figure.Figure at 0x7f745d390450>"
       ]
      }
     ],
     "prompt_number": 11
    },
    {
     "cell_type": "markdown",
     "metadata": {},
     "source": [
      "Retrocede ahora y comprueba lo que pasa si cambias el grado del *spline*."
     ]
    },
    {
     "cell_type": "markdown",
     "metadata": {},
     "source": [
      "**Ejercicio**: Crear una funci\u00f3n interpolante $C_D = f(C_L)$ usando splines de grado 2 y representarla.\n",
      "\n",
      "1. Utiliza solo los datos que resultan de haber eliminado la regi\u00f3n de entrada en p\u00e9rdida.\n",
      "2. Ten en cuenta que la $x$ y la $y$ para este caso est\u00e1n cambiadas de sitio.\n",
      "3. Crea un dominio de $C_L$ entre `C_L.min()` y `C_L.max()`.\n",
      "4. Halla los valores interpolados de $C_D$ en ese dominio.\n",
      "5. Representa la funci\u00f3n y los puntos."
     ]
    },
    {
     "cell_type": "code",
     "collapsed": false,
     "input": [
      "f_C_D = interpolate.InterpolatedUnivariateSpline(C_L[:idx_stall + 1], C_D[:idx_stall + 1], k=2)\n",
      "\n",
      "C_L_domain = np.linspace(C_L.min(), C_L.max())\n",
      "C_D_interp = f_C_D(C_L_domain)\n",
      "\n",
      "l, = plt.plot(C_D_interp, C_L_domain)\n",
      "plt.plot(C_D, C_L, 'x', mew=2, c=l.get_color())"
     ],
     "language": "python",
     "metadata": {},
     "outputs": [
      {
       "metadata": {},
       "output_type": "pyout",
       "prompt_number": 12,
       "text": [
        "[<matplotlib.lines.Line2D at 0x7f745d342ad0>]"
       ]
      },
      {
       "metadata": {},
       "output_type": "display_data",
       "png": "[encoded data removed]",
       "text": [
        "<matplotlib.figure.Figure at 0x7f745d342fd0>"
       ]
      }
     ],
     "prompt_number": 12
    },
    {
     "cell_type": "heading",
     "level": 2,
     "metadata": {},
     "source": [
      "Ajuste"
     ]
    },
    {
     "cell_type": "markdown",
     "metadata": {},
     "source": [
      "El ajuste funciona de manera totalmente distinta: obtendremos una curva que no pasar\u00e1 por ninguno de los puntos originales, pero que a cambio tendr\u00e1 una expresi\u00f3n anal\u00edtica simple. Para realizar ajustes polin\u00f3micos vamos a utilizar el paquete `np.polynomial.polynomial` (s\u00ed, est\u00e1 dos veces)."
     ]
    },
    {
     "cell_type": "code",
     "collapsed": false,
     "input": [
      "from numpy.polynomial import polynomial"
     ],
     "language": "python",
     "metadata": {},
     "outputs": [],
     "prompt_number": 13
    },
    {
     "cell_type": "markdown",
     "metadata": {},
     "source": [
      "Vamos otra vez a generar unos datos para ver c\u00f3mo funcionar\u00eda, del tipo:\n",
      "\n",
      "$$y(x) = x^2 - x + 1 + \\text{Ruido}$$"
     ]
    },
    {
     "cell_type": "code",
     "collapsed": false,
     "input": [
      "x_i = np.linspace(-2, 3, num=10)\n",
      "y_i = x_i ** 2 - x_i + 1 + 0.3 * np.random.randn(10)\n",
      "plt.plot(x_i, y_i, 'x', mew=2)"
     ],
     "language": "python",
     "metadata": {},
     "outputs": [
      {
       "metadata": {},
       "output_type": "pyout",
       "prompt_number": 14,
       "text": [
        "[<matplotlib.lines.Line2D at 0x7f745d24c6d0>]"
       ]
      },
      {
       "metadata": {},
       "output_type": "display_data",
       "png": "[encoded data removed]",
       "text": [
        "<matplotlib.figure.Figure at 0x7f745d346550>"
       ]
      }
     ],
     "prompt_number": 14
    },
    {
     "cell_type": "markdown",
     "metadata": {},
     "source": [
      "Vamos a utilizar la funci\u00f3n `polynomial.polyfit`, que recibe los puntos de interpolaci\u00f3n y el grado del polinomio. El resultado ser\u00e1n los coeficientes del mismo, **en orden de potencias crecientes**."
     ]
    },
    {
     "cell_type": "code",
     "collapsed": false,
     "input": [
      "a, b, c = polynomial.polyfit(x_i, y_i, deg=2)\n",
      "a, b, c"
     ],
     "language": "python",
     "metadata": {},
     "outputs": [
      {
       "metadata": {},
       "output_type": "pyout",
       "prompt_number": 15,
       "text": [
        "(0.97471294270694131, -1.0485668039754816, 1.0006119210376982)"
       ]
      }
     ],
     "prompt_number": 15
    },
    {
     "cell_type": "markdown",
     "metadata": {},
     "source": [
      "\u00a1Muy similares a lo que esper\u00e1bamos! Para evaluar un polinomio con estos coeficientes, o bien construimos la funci\u00f3n nosotros mismos o usamos la funci\u00f3n `polynomial.polyval`:"
     ]
    },
    {
     "cell_type": "code",
     "collapsed": false,
     "input": [
      "x = np.linspace(-2, 3)\n",
      "#y_fit = polynomial.polyval(x, (a, b, c))\n",
      "y_fit = a + b * x + c * x ** 2\n",
      "\n",
      "l, = plt.plot(x, y_fit)\n",
      "plt.plot(x_i, y_i, 'x', mew=2, c=l.get_color())"
     ],
     "language": "python",
     "metadata": {},
     "outputs": [
      {
       "metadata": {},
       "output_type": "pyout",
       "prompt_number": 16,
       "text": [
        "[<matplotlib.lines.Line2D at 0x7f745d263d50>]"
       ]
      },
      {
       "metadata": {},
       "output_type": "display_data",
       "png": "[encoded data removed]",
       "text": [
        "<matplotlib.figure.Figure at 0x7f745d266250>"
       ]
      }
     ],
     "prompt_number": 16
    },
    {
     "cell_type": "markdown",
     "metadata": {},
     "source": [
      "**Ejercicio**: Si modelizamos la polar como:\n",
      "\n",
      "$$C_D = C_{D0} + k C_L^2$$\n",
      "\n",
      "hallar los coeficientes $C_{D0}$ y $k$.\n",
      "\n",
      "<p></p>\n",
      "\n",
      "<div class=\"alert alert-warning\">**\u00a1Importante!** Estamos tentados de hacer un ajuste parab\u00f3lico pero ese no es el camino, porque nos dar\u00e1 un t\u00e9rmino lineal que ya sabemos que es cero. Es mejor hacer un cambio de variable y hacer un ajuste lineal:</div>\n",
      "\n",
      "$$y \\leftarrow C_D \\\\ x \\leftarrow C_L^2 \\\\ y = C_{D0} + k x$$"
     ]
    },
    {
     "cell_type": "code",
     "collapsed": false,
     "input": [
      "y_i = C_D[:idx_stall + 1]\n",
      "x_i = C_L[:idx_stall + 1] ** 2\n",
      "\n",
      "C_D0, k = polynomial.polyfit(x_i, y_i, deg=1)\n",
      "C_D0, k"
     ],
     "language": "python",
     "metadata": {},
     "outputs": [
      {
       "metadata": {},
       "output_type": "pyout",
       "prompt_number": 17,
       "text": [
        "(0.022155579233867944, 0.038058791717716381)"
       ]
      }
     ],
     "prompt_number": 17
    },
    {
     "cell_type": "code",
     "collapsed": false,
     "input": [
      "#C_D_fit = polynomial.polyval(C_L_domain ** 2, (C_D0, k))\n",
      "C_D_fit = C_D0 + k * C_L_domain ** 2\n",
      "\n",
      "l, = plt.plot(C_D_fit, C_L_domain)\n",
      "plt.plot(C_D, C_L, 'x', mew=2, c=l.get_color())"
     ],
     "language": "python",
     "metadata": {},
     "outputs": [
      {
       "metadata": {},
       "output_type": "pyout",
       "prompt_number": 18,
       "text": [
        "[<matplotlib.lines.Line2D at 0x7f745d302090>]"
       ]
      },
      {
       "metadata": {},
       "output_type": "display_data",
       "png": "[encoded data removed]",
       "text": [
        "<matplotlib.figure.Figure at 0x7f745d302110>"
       ]
      }
     ],
     "prompt_number": 18
    }
   ],
   "metadata": {}
  }
 ]
}