{
 "metadata": {
  "name": "",
  "signature": "sha256:56997c013a069000b0a11b1be5069ec2251520288143628db14cd85f537684e3"
 },
 "nbformat": 3,
 "nbformat_minor": 0,
 "worksheets": [
  {
   "cells": [
    {
     "cell_type": "markdown",
     "metadata": {},
     "source": [
      "<img src=\"../static/aeropython_name_mini.png\" alt=\"AeroPython\" style=\"width: 300px;\"/>"
     ]
    },
    {
     "cell_type": "heading",
     "level": 1,
     "metadata": {},
     "source": [
      "Clase 1a: Introducci\u00f3n a IPython"
     ]
    },
    {
     "cell_type": "markdown",
     "metadata": {},
     "source": [
      "_\n",
      "En esta clase haremos una r\u00e1pida introducci\u00f3n al lenguaje Python y al int\u00e9rprete IPython, as\u00ed como a su Notebook. Veremos como ejecutar un script y cu\u00e1les son los tipos y estructuras b\u00e1sicas de este lenguaje. Seguro que ya has o\u00eddo hablar mucho sobre las bondades de Python frente a otros lenguajes. Si no es as\u00ed, \u00e9chale un vistazo a [esto](http://nbviewer.ipython.org/github/AeroPython/Python_HA/blob/master/razones_python.ipynb).\n",
      "\u00bfEst\u00e1s preparado? \u00a1Pues Empezamos!\n",
      "_"
     ]
    },
    {
     "cell_type": "heading",
     "level": 2,
     "metadata": {},
     "source": [
      "\u00bfQu\u00e9 es Python? "
     ]
    },
    {
     "cell_type": "markdown",
     "metadata": {},
     "source": [
      "* Lenguaje de programaci\u00f3n din\u00e1mico, interpretado y f\u00e1cil de aprender\n",
      "* Creado por Guido van Rossum en 1991\n",
      "* Ampliamente utilizado en ciencia e ingenier\u00eda\n",
      "* Multitud de bibliotecas para realizar diferentes tareas."
     ]
    },
    {
     "cell_type": "heading",
     "level": 3,
     "metadata": {},
     "source": [
      "El zen de Python"
     ]
    },
    {
     "cell_type": "code",
     "collapsed": false,
     "input": [
      "import this"
     ],
     "language": "python",
     "metadata": {},
     "outputs": [
      {
       "output_type": "stream",
       "stream": "stdout",
       "text": [
        "The Zen of Python, by Tim Peters\n",
        "\n",
        "Beautiful is better than ugly.\n",
        "Explicit is better than implicit.\n",
        "Simple is better than complex.\n",
        "Complex is better than complicated.\n",
        "Flat is better than nested.\n",
        "Sparse is better than dense.\n",
        "Readability counts.\n",
        "Special cases aren't special enough to break the rules.\n",
        "Although practicality beats purity.\n",
        "Errors should never pass silently.\n",
        "Unless explicitly silenced.\n",
        "In the face of ambiguity, refuse the temptation to guess.\n",
        "There should be one-- and preferably only one --obvious way to do it.\n",
        "Although that way may not be obvious at first unless you're Dutch.\n",
        "Now is better than never.\n",
        "Although never is often better than *right* now.\n",
        "If the implementation is hard to explain, it's a bad idea.\n",
        "If the implementation is easy to explain, it may be a good idea.\n",
        "Namespaces are one honking great idea -- let's do more of those!\n"
       ]
      }
     ],
     "prompt_number": 1
    },
    {
     "cell_type": "heading",
     "level": 3,
     "metadata": {},
     "source": [
      "\u00bfQu\u00e9 pinta tiene un programa en Python y c\u00f3mo lo ejecuto?"
     ]
    },
    {
     "cell_type": "markdown",
     "metadata": {},
     "source": [
      "Vamos a ver `mi_primer_script.py` que est\u00e1 en la carpeta `static`. __De momento no te preocupes por el c\u00f3digo,__ ya habr\u00e1 tiempo para eso..."
     ]
    },
    {
     "cell_type": "code",
     "collapsed": false,
     "input": [
      "!cat ../static/mi_primer_script.py"
     ],
     "language": "python",
     "metadata": {},
     "outputs": [
      {
       "output_type": "stream",
       "stream": "stdout",
       "text": [
        "import math\n",
        "     \n",
        "print(\"Hola gente del curso de AeroPython\")\n",
        "print(\"\u00c2\u00bfCu\u00c3\u00a1ntos sois hoy en clase?\")\n",
        "\n",
        "number = input()\n",
        "number = int(number)\n",
        "root = math.sqrt(number)\n",
        "\n",
        "print(\"Ufff! eso es un mont\u00c3\u00b3n! espero que aprend\u00c3\u00a1is mucho\")\n",
        "print(\"Por cierto, la raiz de %i es %f\" %(number, root))\n"
       ]
      }
     ],
     "prompt_number": 2
    },
    {
     "cell_type": "markdown",
     "metadata": {},
     "source": [
      "<div class=\"alert alert-info\"><strong>Tip de IPython</strong>:\n",
      "`cat` es un comando de la l\u00ednea de comandos, no propio de Python. Anteponiendo `!` a comandos de la terminal como `cd`, `ls`, `cat`... se pueden ejecutar desde aqu\u00ed.\n",
      "</div>"
     ]
    },
    {
     "cell_type": "markdown",
     "metadata": {},
     "source": [
      "<div class=\"alert\"><strong>Si est\u00e1s usando Windows</strong> y acabas de obtener un error, susituye la l\u00ednea anterior por:<br>\n",
      "    `!type ..\\static\\mi_primer_script.py`\n",
      "\n",
      "<br><br>\n",
      "`type` es un comando similar en Windows a `cat`. De nuevo, podemos ejecutar comandos como `cd`, `dir`, `type`, `find`...  desde aqu\u00ed anteponiendo `!` y utilizando `\\` en lugar de `/` para la ruta donde se encuentra el archivo.\n",
      "    \n",
      "</div>"
     ]
    },
    {
     "cell_type": "code",
     "collapsed": false,
     "input": [
      "%run ../static/mi_primer_script.py"
     ],
     "language": "python",
     "metadata": {},
     "outputs": [
      {
       "output_type": "stream",
       "stream": "stdout",
       "text": [
        "Hola gente del curso de AeroPython\n",
        "\u00bfCu\u00e1ntos sois hoy en clase?\n"
       ]
      },
      {
       "name": "stdout",
       "output_type": "stream",
       "stream": "stdout",
       "text": [
        "45\n"
       ]
      },
      {
       "output_type": "stream",
       "stream": "stdout",
       "text": [
        "Ufff! eso es un mont\u00f3n! espero que aprend\u00e1is mucho\n",
        "Por cierto, la raiz de 45 es 6.708204\n"
       ]
      }
     ],
     "prompt_number": 3
    },
    {
     "cell_type": "markdown",
     "metadata": {},
     "source": [
      "<div class=\"alert alert-info\"><strong>Tip de IPython</strong>:\n",
      "`%run` es un _comando m\u00e1gico_ del notebook que te permite ejecutar un archivo.\n",
      "\n",
      "Si quieres hacerlo desde una l\u00ednea de comandos podr\u00edas hacer:\n",
      "\n",
      "`$ python3 ../static/mi_primer_script.py`\n",
      "</div>\n"
     ]
    },
    {
     "cell_type": "markdown",
     "metadata": {},
     "source": [
      "El m\u00e9todo m\u00e1s simple es usar un editor (tu preferido) y ejecutar el script desde la l\u00ednea de comandos. Pero existen tambi\u00e9n __IDE__s (_integrated development environment_ pensados para facilitar la escritura de c\u00f3digo y tener al alcance de la mano otras herramientas como _profilers_, _debuggers_, _explorador de variables_... Entre los m\u00e1s adecuados para la programaci\u00f3n cient\u00edfica se encuentran [IEP](http://www.iep-project.org/) y [Spyder](http://code.google.com/p/spyderlib/) (instalado con Anaconda)."
     ]
    },
    {
     "cell_type": "markdown",
     "metadata": {},
     "source": [
      "<img src=\"../static/spyder.png\" alt=\"Spyder\" style=\"width: 800px;\"/>"
     ]
    },
    {
     "cell_type": "heading",
     "level": 2,
     "metadata": {},
     "source": [
      "\u00bfQu\u00e9 es IPython?"
     ]
    },
    {
     "cell_type": "markdown",
     "metadata": {},
     "source": [
      "[IPython](http://ipython.org/) no es m\u00e1s que un [int\u00e9rprete](http://es.wikipedia.org/wiki/Int%C3%A9rprete_(inform%C3%A1tica) de Python con algunas mejoras sustanciales, pero adem\u00e1s su interfaz notebook es m\u00e1s c\u00f3moda de manejar que la l\u00ednea de comandos y nos da un poco m\u00e1s de flexibilidad."
     ]
    },
    {
     "cell_type": "heading",
     "level": 3,
     "metadata": {},
     "source": [
      "Notebook de IPython"
     ]
    },
    {
     "cell_type": "markdown",
     "metadata": {},
     "source": [
      "__Ser\u00e1 nuestra herramienta de trabajo durante el curso__. Esto que est\u00e1s leyendo ahora no es m\u00e1s que un notebook de IPython, que como diremos luego adem\u00e1s de c\u00f3digo puede contener texto e im\u00e1genes. Pero veamos primero c\u00f3mo funciona.\n",
      "\n",
      "__Al iniciar el notebook de IPython, en la pantalla principal podemos ver una ruta y una lista de notebooks__. Cada notebook es un archivo que est\u00e1 almacenado en el ordenador en la ruta que aparece. Si en esa carpeta no hay notebooks, veremos un mensaje indicando que la lista de notebooks est\u00e1 vac\u00eda.\n",
      "\n",
      "Al crear un notebook o al abrir uno nuevo se abre la interfaz de IPython propiamente dicha donde ya podemos empezar a trabajar. Es similar a un int\u00e9rprete, pero est\u00e1 dividida en **celdas**. Las celdas pueden contener, c\u00f3digo, texto, im\u00e1genes...\n",
      "\n",
      "Cada celda de c\u00f3digo est\u00e1 marcada por la palabra `In [<n>]` y est\u00e1n **numeradas**. Tan solo tenemos que escribir el c\u00f3digo en ella y hacer click arriba en Cell -> Run, el tri\u00e1ngulo (\"Run cell\") o usar el atajo `shift + Enter`. El resultado de la celda se muestra en el campo `Out [<n>]`, tambi\u00e9n numerado y coincidiendo con la celda que acabamos de ejecutar. Esto es importante, como ya veremos luego.\n",
      "\n",
      "Si en la barra superior seleccionas Markdown (o usas el atajo `Shift-M`) en lugar de Code puedes escribir texto:"
     ]
    },
    {
     "cell_type": "code",
     "collapsed": false,
     "input": [
      "from IPython.display import Image\n",
      "Image(url=\"../static/markdown_cell.gif\")\n",
      "# Fuente Practical Numerical Methods with Python \n",
      "# http://openedx.seas.gwu.edu/courses/GW/MAE6286/2014_fall/about"
     ],
     "language": "python",
     "metadata": {},
     "outputs": [
      {
       "html": [
        "<img src=\"../static/markdown_cell.gif\"/>"
       ],
       "metadata": {},
       "output_type": "pyout",
       "prompt_number": 4,
       "text": [
        "<IPython.core.display.Image at 0x42b4358>"
       ]
      }
     ],
     "prompt_number": 4
    },
    {
     "cell_type": "markdown",
     "metadata": {},
     "source": [
      "Tambi\u00e9n ecuaciones en latex y mucho m\u00e1s. Esto es una herramienta muy potente para explicar a alguien o a ti mismo lo que tu c\u00f3digo hace, para hacer un informe, un trabajo, escribir en un blog...\n",
      "\n",
      "Markdown es un lenguaje aparte, no te preocupes por \u00e9l demasiado ahora, ir\u00e1s aprendiendo sobre la marcha... Para cuando lo vayas necesitando, aqu\u00ed tienes una [chuleta](https://github.com/adam-p/markdown-here/wiki/Markdown-Cheatsheet)."
     ]
    },
    {
     "cell_type": "code",
     "collapsed": false,
     "input": [
      "Image(url=\"../static/markdown_math.gif\")\n",
      "# Fuente Practical Numerical Methods with Python \n",
      "# http://openedx.seas.gwu.edu/courses/GW/MAE6286/2014_fall/about"
     ],
     "language": "python",
     "metadata": {},
     "outputs": [
      {
       "html": [
        "<img src=\"../static/markdown_math.gif\"/>"
       ],
       "metadata": {},
       "output_type": "pyout",
       "prompt_number": 5,
       "text": [
        "<IPython.core.display.Image at 0x42b42b0>"
       ]
      }
     ],
     "prompt_number": 5
    },
    {
     "cell_type": "markdown",
     "metadata": {},
     "source": [
      "Puedes mover las celdas de un lugar a otro de este modo:"
     ]
    },
    {
     "cell_type": "code",
     "collapsed": false,
     "input": [
      "Image(url=\"../static/cell_move.gif\")\n",
      "# Fuente: Practical Numerical Methods with Python \n",
      "# http://openedx.seas.gwu.edu/courses/GW/MAE6286/2014_fall/about"
     ],
     "language": "python",
     "metadata": {},
     "outputs": [
      {
       "html": [
        "<img src=\"../static/cell_move.gif\"/>"
       ],
       "metadata": {},
       "output_type": "pyout",
       "prompt_number": 6,
       "text": [
        "<IPython.core.display.Image at 0x42b43c8>"
       ]
      }
     ],
     "prompt_number": 6
    },
    {
     "cell_type": "markdown",
     "metadata": {},
     "source": [
      "El Notebook tiene adem\u00e1s numerosos atajos que ir\u00e1s aprendiendo sobre la marcha, puedes consultarlos en `Help > Keyboard Shortcourts`"
     ]
    },
    {
     "cell_type": "heading",
     "level": 2,
     "metadata": {},
     "source": [
      "Introducci\u00f3n a la sintaxis de Python"
     ]
    },
    {
     "cell_type": "heading",
     "level": 3,
     "metadata": {},
     "source": [
      "Tipos num\u00e9ricos"
     ]
    },
    {
     "cell_type": "markdown",
     "metadata": {},
     "source": [
      "Python dispone de los tipos num\u00e9ricos y las operaciones m\u00e1s habituales:"
     ]
    },
    {
     "cell_type": "code",
     "collapsed": false,
     "input": [
      "2 * 4 - (7 - 1) / 3 + 1.0"
     ],
     "language": "python",
     "metadata": {},
     "outputs": [
      {
       "metadata": {},
       "output_type": "pyout",
       "prompt_number": 7,
       "text": [
        "7.0"
       ]
      }
     ],
     "prompt_number": 7
    },
    {
     "cell_type": "markdown",
     "metadata": {},
     "source": [
      "Las divisiones por cero lanzan un error:"
     ]
    },
    {
     "cell_type": "code",
     "collapsed": false,
     "input": [
      "1 / 0 "
     ],
     "language": "python",
     "metadata": {},
     "outputs": [
      {
       "ename": "ZeroDivisionError",
       "evalue": "division by zero",
       "output_type": "pyerr",
       "traceback": [
        "\u001b[1;31m---------------------------------------------------------------------------\u001b[0m\n\u001b[1;31mZeroDivisionError\u001b[0m                         Traceback (most recent call last)",
        "\u001b[1;32m<ipython-input-8-e542b24897df>\u001b[0m in \u001b[0;36m<module>\u001b[1;34m()\u001b[0m\n\u001b[1;32m----> 1\u001b[1;33m \u001b[1;36m1\u001b[0m \u001b[1;33m/\u001b[0m \u001b[1;36m0\u001b[0m\u001b[1;33m\u001b[0m\u001b[0m\n\u001b[0m",
        "\u001b[1;31mZeroDivisionError\u001b[0m: division by zero"
       ]
      }
     ],
     "prompt_number": 8
    },
    {
     "cell_type": "code",
     "collapsed": false,
     "input": [
      "1.0 / 0.0"
     ],
     "language": "python",
     "metadata": {},
     "outputs": []
    },
    {
     "cell_type": "markdown",
     "metadata": {},
     "source": [
      "<div class=\"alert alert-info\">M\u00e1s adelante veremos c\u00f3mo tratar estos errores. Por otro lado, cuando usemos NumPy esta operaci\u00f3n devolver\u00e1 `NaN`.</div>"
     ]
    },
    {
     "cell_type": "markdown",
     "metadata": {},
     "source": [
      "La divisi\u00f3n entre enteros en Python 3 devuelve un n\u00famero real, al contrario que en Python 2."
     ]
    },
    {
     "cell_type": "code",
     "collapsed": false,
     "input": [
      "3 / 2"
     ],
     "language": "python",
     "metadata": {},
     "outputs": [
      {
       "metadata": {},
       "output_type": "pyout",
       "prompt_number": 9,
       "text": [
        "1.5"
       ]
      }
     ],
     "prompt_number": 9
    },
    {
     "cell_type": "markdown",
     "metadata": {},
     "source": [
      "Se puede forzar que la divisi\u00f3n sea entera con el operador `//`: "
     ]
    },
    {
     "cell_type": "code",
     "collapsed": false,
     "input": [
      "3 // 2"
     ],
     "language": "python",
     "metadata": {},
     "outputs": [
      {
       "metadata": {},
       "output_type": "pyout",
       "prompt_number": 10,
       "text": [
        "1"
       ]
      }
     ],
     "prompt_number": 10
    },
    {
     "cell_type": "markdown",
     "metadata": {},
     "source": [
      "Se puede elevar un n\u00famero a otro con el operador `**`:"
     ]
    },
    {
     "cell_type": "code",
     "collapsed": false,
     "input": [
      "2 ** 16"
     ],
     "language": "python",
     "metadata": {},
     "outputs": [
      {
       "metadata": {},
       "output_type": "pyout",
       "prompt_number": 11,
       "text": [
        "65536"
       ]
      }
     ],
     "prompt_number": 11
    },
    {
     "cell_type": "markdown",
     "metadata": {},
     "source": [
      "Otro tipo que nos resultar\u00e1 muy \u00fatil son los complejos:"
     ]
    },
    {
     "cell_type": "code",
     "collapsed": false,
     "input": [
      "2 + 3j"
     ],
     "language": "python",
     "metadata": {},
     "outputs": [
      {
       "metadata": {},
       "output_type": "pyout",
       "prompt_number": 12,
       "text": [
        "(2+3j)"
       ]
      }
     ],
     "prompt_number": 12
    },
    {
     "cell_type": "code",
     "collapsed": false,
     "input": [
      "1j"
     ],
     "language": "python",
     "metadata": {},
     "outputs": [
      {
       "metadata": {},
       "output_type": "pyout",
       "prompt_number": 13,
       "text": [
        "1j"
       ]
      }
     ],
     "prompt_number": 13
    },
    {
     "cell_type": "code",
     "collapsed": false,
     "input": [
      "# Valor absoluto\n",
      "abs(2 + 3j)"
     ],
     "language": "python",
     "metadata": {},
     "outputs": [
      {
       "metadata": {},
       "output_type": "pyout",
       "prompt_number": 14,
       "text": [
        "3.605551275463989"
       ]
      }
     ],
     "prompt_number": 14
    },
    {
     "cell_type": "markdown",
     "metadata": {},
     "source": [
      "<div class=\"alert alert-info\"><strong>Tip de IPython</strong>: podemos recuperar resultados pasados usando `_<n>`. Por ejemplo, para recuperar el resultado correspondiente a `Out [7]`, usar\u00edamos `_7`. Esta variable guarda ese valor para toda la sesi\u00f3n.</div>"
     ]
    },
    {
     "cell_type": "code",
     "collapsed": false,
     "input": [
      "abs(_13)"
     ],
     "language": "python",
     "metadata": {},
     "outputs": [
      {
       "ename": "NameError",
       "evalue": "name '_18' is not defined",
       "output_type": "pyerr",
       "traceback": [
        "\u001b[1;31m---------------------------------------------------------------------------\u001b[0m\n\u001b[1;31mNameError\u001b[0m                                 Traceback (most recent call last)",
        "\u001b[1;32m<ipython-input-15-9ef688adf58b>\u001b[0m in \u001b[0;36m<module>\u001b[1;34m()\u001b[0m\n\u001b[1;32m----> 1\u001b[1;33m \u001b[0mabs\u001b[0m\u001b[1;33m(\u001b[0m\u001b[0m_18\u001b[0m\u001b[1;33m)\u001b[0m\u001b[1;33m\u001b[0m\u001b[0m\n\u001b[0m",
        "\u001b[1;31mNameError\u001b[0m: name '_18' is not defined"
       ]
      }
     ],
     "prompt_number": 15
    },
    {
     "cell_type": "markdown",
     "metadata": {},
     "source": [
      "Podemos __convertir variables__ a `int, float, complex, str`..."
     ]
    },
    {
     "cell_type": "code",
     "collapsed": false,
     "input": [
      "int(18.6)"
     ],
     "language": "python",
     "metadata": {},
     "outputs": [
      {
       "metadata": {},
       "output_type": "pyout",
       "prompt_number": 16,
       "text": [
        "18"
       ]
      }
     ],
     "prompt_number": 16
    },
    {
     "cell_type": "code",
     "collapsed": false,
     "input": [
      "round(18.6)"
     ],
     "language": "python",
     "metadata": {},
     "outputs": [
      {
       "metadata": {},
       "output_type": "pyout",
       "prompt_number": 17,
       "text": [
        "19"
       ]
      }
     ],
     "prompt_number": 17
    },
    {
     "cell_type": "code",
     "collapsed": false,
     "input": [
      "float(1)"
     ],
     "language": "python",
     "metadata": {},
     "outputs": [
      {
       "metadata": {},
       "output_type": "pyout",
       "prompt_number": 18,
       "text": [
        "1.0"
       ]
      }
     ],
     "prompt_number": 18
    },
    {
     "cell_type": "code",
     "collapsed": false,
     "input": [
      "complex(2)"
     ],
     "language": "python",
     "metadata": {},
     "outputs": [
      {
       "metadata": {},
       "output_type": "pyout",
       "prompt_number": 19,
       "text": [
        "(2+0j)"
       ]
      }
     ],
     "prompt_number": 19
    },
    {
     "cell_type": "code",
     "collapsed": false,
     "input": [
      "str(256568)"
     ],
     "language": "python",
     "metadata": {},
     "outputs": [
      {
       "metadata": {},
       "output_type": "pyout",
       "prompt_number": 20,
       "text": [
        "'256568'"
       ]
      }
     ],
     "prompt_number": 20
    },
    {
     "cell_type": "markdown",
     "metadata": {},
     "source": [
      "Podemos __comprobar el tipo de una variable__:"
     ]
    },
    {
     "cell_type": "code",
     "collapsed": false,
     "input": [
      "a = 2.\n",
      "type(a)"
     ],
     "language": "python",
     "metadata": {},
     "outputs": [
      {
       "metadata": {},
       "output_type": "pyout",
       "prompt_number": 21,
       "text": [
        "float"
       ]
      }
     ],
     "prompt_number": 21
    },
    {
     "cell_type": "code",
     "collapsed": false,
     "input": [
      "isinstance(a, float)"
     ],
     "language": "python",
     "metadata": {},
     "outputs": [
      {
       "metadata": {},
       "output_type": "pyout",
       "prompt_number": 22,
       "text": [
        "True"
       ]
      }
     ],
     "prompt_number": 22
    },
    {
     "cell_type": "markdown",
     "metadata": {},
     "source": [
      "Otras funciones \u00fatiles son:"
     ]
    },
    {
     "cell_type": "code",
     "collapsed": false,
     "input": [
      "print('hola mundo')"
     ],
     "language": "python",
     "metadata": {},
     "outputs": [
      {
       "output_type": "stream",
       "stream": "stdout",
       "text": [
        "hola mundo\n"
       ]
      }
     ],
     "prompt_number": 23
    },
    {
     "cell_type": "code",
     "collapsed": false,
     "input": [
      "max(1,5,8,7)"
     ],
     "language": "python",
     "metadata": {},
     "outputs": [
      {
       "metadata": {},
       "output_type": "pyout",
       "prompt_number": 24,
       "text": [
        "8"
       ]
      }
     ],
     "prompt_number": 24
    },
    {
     "cell_type": "code",
     "collapsed": false,
     "input": [
      "min(-1,1,0)"
     ],
     "language": "python",
     "metadata": {},
     "outputs": [
      {
       "metadata": {},
       "output_type": "pyout",
       "prompt_number": 25,
       "text": [
        "-1"
       ]
      }
     ],
     "prompt_number": 25
    },
    {
     "cell_type": "markdown",
     "metadata": {},
     "source": [
      "__\u00a1Acabas de utilizar funciones!__ Como ves es una manera bastante est\u00e1ndar: los argumentos se encierran entre par\u00e9ntesis y se separan por comas. Se hace de esta manera en otros lenguajes de programaci\u00f3n y no requiere mayor explicaci\u00f3n, de momento."
     ]
    },
    {
     "cell_type": "markdown",
     "metadata": {},
     "source": [
      "<div class=\"alert alert-warning\">La <strong>funci\u00f3n <code>print</code></strong> es la que se usa para imprimir resultados por pantalla. Por si lo ves en alg\u00fan sitio, en Python 2 era una sentencia y funcionaba de manera distinta, sin par\u00e9ntesis y sin posibilidad de pasar argumentos adicionales.</div>"
     ]
    },
    {
     "cell_type": "heading",
     "level": 3,
     "metadata": {},
     "source": [
      "Asignaci\u00f3n y operadores de comparaci\u00f3n"
     ]
    },
    {
     "cell_type": "markdown",
     "metadata": {},
     "source": [
      "La asignaci\u00f3n se realiza con el operador `=`. Los nombres de las variables en Python pueden contener caracteres alfanum\u00e9ricos (empezando con una letra) a-z, A-Z, 0-9 y otros s\u00edmbolos como la \\_. \n",
      "\n",
      "Por cuestiones de estilo, las variables suelen empezar con min\u00fascula, reservando la may\u00facula para clases. \n",
      "\n",
      "Algunos nombres no pueden ser usados porque son usados por python:\n",
      "\n",
      "    and, as, assert, break, class, continue, def, del, elif, else, except, exec, finally, for, from, global, if, import, in, is, lambda, not, or, pass, print, raise, return, try, while, with, yield"
     ]
    },
    {
     "cell_type": "code",
     "collapsed": false,
     "input": [
      "a = 1 + 2j"
     ],
     "language": "python",
     "metadata": {},
     "outputs": [],
     "prompt_number": 26
    },
    {
     "cell_type": "markdown",
     "metadata": {},
     "source": [
      "En Python __la asignaci\u00f3n no imprime el resultado por pantalla__, al contrario de como sucede en MATLAB y Octave (salvo que se incluya el punto y coma al final). La mejor manera de visualizar la variable que acabamos de asignar es esta:"
     ]
    },
    {
     "cell_type": "code",
     "collapsed": false,
     "input": [
      "b = 3.14159\n",
      "b"
     ],
     "language": "python",
     "metadata": {},
     "outputs": [
      {
       "metadata": {},
       "output_type": "pyout",
       "prompt_number": 27,
       "text": [
        "3.14159"
       ]
      }
     ],
     "prompt_number": 27
    },
    {
     "cell_type": "markdown",
     "metadata": {},
     "source": [
      "En una celda __podemos escribir c\u00f3digo que ocupe varias l\u00edneas__. Si la \u00faltima de ellas devuelve un resultado, este se imprimir\u00e1."
     ]
    },
    {
     "cell_type": "code",
     "collapsed": false,
     "input": [
      "x, y = 1, 2\n",
      "x, y"
     ],
     "language": "python",
     "metadata": {},
     "outputs": [
      {
       "metadata": {},
       "output_type": "pyout",
       "prompt_number": 28,
       "text": [
        "(1, 2)"
       ]
      }
     ],
     "prompt_number": 28
    },
    {
     "cell_type": "markdown",
     "metadata": {},
     "source": [
      "<div class=\"alert alert-info\">Podemos realizar **asignaci\u00f3n m\u00faltiple**, que hemos hecho en la celda anterior con las variables `x` e `y` para intercambiar valores de manera intuitiva:</div>"
     ]
    },
    {
     "cell_type": "code",
     "collapsed": false,
     "input": [
      "x, y = y, x\n",
      "x, y"
     ],
     "language": "python",
     "metadata": {},
     "outputs": [
      {
       "metadata": {},
       "output_type": "pyout",
       "prompt_number": 29,
       "text": [
        "(2, 1)"
       ]
      }
     ],
     "prompt_number": 29
    },
    {
     "cell_type": "markdown",
     "metadata": {},
     "source": [
      "Los operadores de comparaci\u00f3n son:\n",
      "\n",
      "* `==` igual a\n",
      "* `!=` distinto de \n",
      "* `<` menor que\n",
      "* `<=` menor o igual que\n",
      "\n",
      "Devolver\u00e1n un booleano: `True` o `False`"
     ]
    },
    {
     "cell_type": "code",
     "collapsed": false,
     "input": [
      "x == y"
     ],
     "language": "python",
     "metadata": {},
     "outputs": [
      {
       "metadata": {},
       "output_type": "pyout",
       "prompt_number": 30,
       "text": [
        "False"
       ]
      }
     ],
     "prompt_number": 30
    },
    {
     "cell_type": "code",
     "collapsed": false,
     "input": [
      "print(x != y)"
     ],
     "language": "python",
     "metadata": {},
     "outputs": [
      {
       "output_type": "stream",
       "stream": "stdout",
       "text": [
        "True\n"
       ]
      }
     ],
     "prompt_number": 31
    },
    {
     "cell_type": "code",
     "collapsed": false,
     "input": [
      "print(x < y)\n",
      "print(x <= y)\n",
      "print(x > y)\n",
      "print(x >= y)"
     ],
     "language": "python",
     "metadata": {},
     "outputs": [
      {
       "output_type": "stream",
       "stream": "stdout",
       "text": [
        "False\n",
        "False\n",
        "True\n",
        "True\n"
       ]
      }
     ],
     "prompt_number": 32
    },
    {
     "cell_type": "code",
     "collapsed": false,
     "input": [
      "# incluso:\n",
      "x = 5.\n",
      "6. < x < 8."
     ],
     "language": "python",
     "metadata": {},
     "outputs": [
      {
       "metadata": {},
       "output_type": "pyout",
       "prompt_number": 33,
       "text": [
        "False"
       ]
      }
     ],
     "prompt_number": 33
    },
    {
     "cell_type": "markdown",
     "metadata": {},
     "source": [
      "Si la ordenaci\u00f3n no tiene sentido nos devolver\u00e1 un error:"
     ]
    },
    {
     "cell_type": "code",
     "collapsed": false,
     "input": [
      "1 + 1j < 0 + 1j"
     ],
     "language": "python",
     "metadata": {},
     "outputs": [
      {
       "ename": "TypeError",
       "evalue": "unorderable types: complex() < complex()",
       "output_type": "pyerr",
       "traceback": [
        "\u001b[1;31m---------------------------------------------------------------------------\u001b[0m\n\u001b[1;31mTypeError\u001b[0m                                 Traceback (most recent call last)",
        "\u001b[1;32m<ipython-input-34-9a32b6a036ce>\u001b[0m in \u001b[0;36m<module>\u001b[1;34m()\u001b[0m\n\u001b[1;32m----> 1\u001b[1;33m \u001b[1;36m1\u001b[0m \u001b[1;33m+\u001b[0m \u001b[1;36m1j\u001b[0m \u001b[1;33m<\u001b[0m \u001b[1;36m0\u001b[0m \u001b[1;33m+\u001b[0m \u001b[1;36m1j\u001b[0m\u001b[1;33m\u001b[0m\u001b[0m\n\u001b[0m",
        "\u001b[1;31mTypeError\u001b[0m: unorderable types: complex() < complex()"
       ]
      }
     ],
     "prompt_number": 34
    },
    {
     "cell_type": "code",
     "collapsed": false,
     "input": [
      "# En las cadenas de texto s\u00ed existe un orden\n",
      "'aaab' > 'ba'"
     ],
     "language": "python",
     "metadata": {},
     "outputs": [
      {
       "metadata": {},
       "output_type": "pyout",
       "prompt_number": 35,
       "text": [
        "False"
       ]
      }
     ],
     "prompt_number": 35
    },
    {
     "cell_type": "heading",
     "level": 4,
     "metadata": {},
     "source": [
      "Booleanos"
     ]
    },
    {
     "cell_type": "code",
     "collapsed": false,
     "input": [
      "True and False"
     ],
     "language": "python",
     "metadata": {},
     "outputs": [
      {
       "metadata": {},
       "output_type": "pyout",
       "prompt_number": 36,
       "text": [
        "False"
       ]
      }
     ],
     "prompt_number": 36
    },
    {
     "cell_type": "code",
     "collapsed": false,
     "input": [
      "not False"
     ],
     "language": "python",
     "metadata": {},
     "outputs": [
      {
       "metadata": {},
       "output_type": "pyout",
       "prompt_number": 37,
       "text": [
        "True"
       ]
      }
     ],
     "prompt_number": 37
    },
    {
     "cell_type": "code",
     "collapsed": false,
     "input": [
      "True or False"
     ],
     "language": "python",
     "metadata": {},
     "outputs": [
      {
       "metadata": {},
       "output_type": "pyout",
       "prompt_number": 38,
       "text": [
        "True"
       ]
      }
     ],
     "prompt_number": 38
    },
    {
     "cell_type": "code",
     "collapsed": false,
     "input": [
      "# Una curiosidad:\n",
      "(True + True) * 10 "
     ],
     "language": "python",
     "metadata": {},
     "outputs": [
      {
       "metadata": {},
       "output_type": "pyout",
       "prompt_number": 39,
       "text": [
        "20"
       ]
      }
     ],
     "prompt_number": 39
    },
    {
     "cell_type": "heading",
     "level": 4,
     "metadata": {},
     "source": [
      "Otros tipos de datos"
     ]
    },
    {
     "cell_type": "markdown",
     "metadata": {},
     "source": [
      "Otro tipo de datos muy importante que vamos a usar son las secuencias: las tuplas y las listas. Ambos son conjuntos ordenados de elementos: las tuplas se demarcan con par\u00e9ntesis y las listas con corchetes."
     ]
    },
    {
     "cell_type": "code",
     "collapsed": false,
     "input": [
      "una_lista = [1, 2, 3.0, 4 + 0j, \"5\"]\n",
      "una_tupla = (1, 2, 3.0, 4 + 0j, \"5\")\n",
      "print(una_lista)\n",
      "print(una_tupla)\n",
      "print(una_lista == una_tupla)"
     ],
     "language": "python",
     "metadata": {},
     "outputs": [
      {
       "output_type": "stream",
       "stream": "stdout",
       "text": [
        "[1, 2, 3.0, (4+0j), '5']\n",
        "(1, 2, 3.0, (4+0j), '5')\n",
        "False\n"
       ]
      }
     ],
     "prompt_number": 40
    },
    {
     "cell_type": "markdown",
     "metadata": {},
     "source": [
      "Para las tuplas, podemos incluso obviar los par\u00e9ntesis:"
     ]
    },
    {
     "cell_type": "code",
     "collapsed": false,
     "input": [
      "tupla_sin_parentesis = 2,5,6,9,7\n",
      "type(tupla_sin_parentesis)"
     ],
     "language": "python",
     "metadata": {},
     "outputs": [
      {
       "metadata": {},
       "output_type": "pyout",
       "prompt_number": 41,
       "text": [
        "tuple"
       ]
      }
     ],
     "prompt_number": 41
    },
    {
     "cell_type": "markdown",
     "metadata": {},
     "source": [
      "En los dos tipos podemos:\n",
      "\n",
      "* Comprobar si un elemento est\u00e1 en la secuencia con el operador `in`:"
     ]
    },
    {
     "cell_type": "code",
     "collapsed": false,
     "input": [
      "2 in una_lista"
     ],
     "language": "python",
     "metadata": {},
     "outputs": [
      {
       "metadata": {},
       "output_type": "pyout",
       "prompt_number": 42,
       "text": [
        "True"
       ]
      }
     ],
     "prompt_number": 42
    },
    {
     "cell_type": "code",
     "collapsed": false,
     "input": [
      "2 in una_tupla"
     ],
     "language": "python",
     "metadata": {},
     "outputs": [
      {
       "metadata": {},
       "output_type": "pyout",
       "prompt_number": 43,
       "text": [
        "True"
       ]
      }
     ],
     "prompt_number": 43
    },
    {
     "cell_type": "markdown",
     "metadata": {},
     "source": [
      "* Saber cuandos elementos tienen con la funci\u00f3n `len`:"
     ]
    },
    {
     "cell_type": "code",
     "collapsed": false,
     "input": [
      "len(una_lista)"
     ],
     "language": "python",
     "metadata": {},
     "outputs": [
      {
       "metadata": {},
       "output_type": "pyout",
       "prompt_number": 44,
       "text": [
        "5"
       ]
      }
     ],
     "prompt_number": 44
    },
    {
     "cell_type": "markdown",
     "metadata": {},
     "source": [
      "* Podemos *indexar* las secuencias, utilizando la sintaxis `[<inicio>:<final>:<salto>]`:"
     ]
    },
    {
     "cell_type": "code",
     "collapsed": false,
     "input": [
      "print(una_lista[0])  # Primer elemento, 1\n",
      "print(una_tupla[1])  # Segundo elemento, 2\n",
      "print(una_lista[0:2])  # Desde el primero hasta el tercero, excluyendo este: 1, 2\n",
      "print(una_tupla[:3])  # Desde el primero hasta el cuarto, excluyendo este: 1, 2, 3.0\n",
      "print(una_lista[-1])  # El \u00faltimo: 4 + 0j\n",
      "print(una_tupla[:])  # Desde el primero hasta el \u00faltimo\n",
      "print(una_lista[::2])  # Desde el primero hasta el \u00faltimo, saltando 2: 1, 3.0"
     ],
     "language": "python",
     "metadata": {},
     "outputs": [
      {
       "output_type": "stream",
       "stream": "stdout",
       "text": [
        "1\n",
        "2\n",
        "[1, 2]\n",
        "(1, 2, 3.0)\n",
        "5\n",
        "(1, 2, 3.0, (4+0j), '5')\n",
        "[1, 3.0, '5']\n"
       ]
      }
     ],
     "prompt_number": 45
    },
    {
     "cell_type": "markdown",
     "metadata": {},
     "source": [
      " Veremos m\u00e1s cosas acerca de indexaci\u00f3n en NumPy, as\u00ed que de momento no te preocupes. S\u00f3lo __recuerda una cosa:__"
     ]
    },
    {
     "cell_type": "heading",
     "level": 5,
     "metadata": {},
     "source": [
      "\u00a1En Python, la indexaci\u00f3n empieza por CERO!"
     ]
    },
    {
     "cell_type": "markdown",
     "metadata": {},
     "source": [
      "Podemos complicarlo un poco m\u00e1s y hacer cosas como una __lista de listas__:"
     ]
    },
    {
     "cell_type": "code",
     "collapsed": false,
     "input": [
      "mis_asignaturas = [\n",
      "['\u00c1lgebra', 'C\u00e1lculo', 'F\u00edsica'],\n",
      "['Mec\u00e1nica', 'Termodin\u00e1mica'],\n",
      "['S\u00f3lidos', 'Electr\u00f3nica']\n",
      "]\n",
      "mis_asignaturas"
     ],
     "language": "python",
     "metadata": {},
     "outputs": [
      {
       "metadata": {},
       "output_type": "pyout",
       "prompt_number": 46,
       "text": [
        "[['\u00c1lgebra', 'C\u00e1lculo', 'F\u00edsica'],\n",
        " ['Mec\u00e1nica', 'Termodin\u00e1mica'],\n",
        " ['S\u00f3lidos', 'Electr\u00f3nica']]"
       ]
      }
     ],
     "prompt_number": 46
    },
    {
     "cell_type": "markdown",
     "metadata": {},
     "source": [
      "Esto nos ser\u00e1 de gran ayuda en el futuro para construir arrays."
     ]
    },
    {
     "cell_type": "heading",
     "level": 2,
     "metadata": {},
     "source": [
      "Estructuras de control (I): Condicionales"
     ]
    },
    {
     "cell_type": "markdown",
     "metadata": {},
     "source": [
      "    if <condition>:\n",
      "        <do something>\n",
      "    elif <condition>:\n",
      "        <do other thing>\n",
      "    else:\n",
      "        <do other thing>"
     ]
    },
    {
     "cell_type": "markdown",
     "metadata": {},
     "source": [
      "<div class=\"alert alert-error\"><strong>Importante:</strong> En Python los bloques se delimitan por sangrado, utilizando siempre cuatro espacios. Cuando ponemos los dos puntos al final de la primera l\u00ednea del condicional, todo lo que vaya a continuaci\u00f3n con *un* nivel de sangrado superior se considera dentro del condicional. En cuanto escribimos la primera l\u00ednea con un nivel de sangrado inferior, hemos cerrado el condicional. Si no seguimos esto a rajatabla Python nos dar\u00e1 errores; es una forma de forzar a que el c\u00f3digo sea legible.</div>"
     ]
    },
    {
     "cell_type": "code",
     "collapsed": false,
     "input": [
      "print(x,y)\n",
      "if x > y:\n",
      "    print(\"x es mayor que y\")\n",
      "    print(\"x sigue siendo mayor que y\")"
     ],
     "language": "python",
     "metadata": {},
     "outputs": [
      {
       "output_type": "stream",
       "stream": "stdout",
       "text": [
        "5.0 1\n",
        "x es mayor que y\n",
        "x sigue siendo mayor que y\n"
       ]
      }
     ],
     "prompt_number": 47
    },
    {
     "cell_type": "code",
     "collapsed": false,
     "input": [
      "if 1 < 0:\n",
      "    print(\"1 es menor que 0\")\n",
      "print(\"1 sigue siendo menor que 0\")  # <-- \u00a1Mal!"
     ],
     "language": "python",
     "metadata": {},
     "outputs": [
      {
       "output_type": "stream",
       "stream": "stdout",
       "text": [
        "1 sigue siendo menor que 0\n"
       ]
      }
     ],
     "prompt_number": 48
    },
    {
     "cell_type": "code",
     "collapsed": false,
     "input": [
      "if 1 < 0:\n",
      "    print(\"1 es menor que 0\")\n",
      "     print(\"1 sigue siendo menor que 0\")"
     ],
     "language": "python",
     "metadata": {},
     "outputs": [
      {
       "ename": "IndentationError",
       "evalue": "unexpected indent (<ipython-input-49-89ceea330d08>, line 3)",
       "output_type": "pyerr",
       "traceback": [
        "\u001b[1;36m  File \u001b[1;32m\"<ipython-input-49-89ceea330d08>\"\u001b[1;36m, line \u001b[1;32m3\u001b[0m\n\u001b[1;33m    print(\"1 sigue siendo menor que 0\")\u001b[0m\n\u001b[1;37m    ^\u001b[0m\n\u001b[1;31mIndentationError\u001b[0m\u001b[1;31m:\u001b[0m unexpected indent\n"
       ]
      }
     ],
     "prompt_number": 49
    },
    {
     "cell_type": "markdown",
     "metadata": {},
     "source": [
      "Si queremos a\u00f1adir ramas adicionales al condicional, podemos emplear la sentencia `elif` (abreviatura de *else if*). Para la parte final, que debe ejecutarse si ninguna de las condiciones anteriores se ha cumplido, usamos la sentencia `else`:"
     ]
    },
    {
     "cell_type": "code",
     "collapsed": false,
     "input": [
      "print(x,y)\n",
      "if x > y:\n",
      "    print(\"x es mayor que y\")\n",
      "else:\n",
      "    print(\"x es menor que y\")"
     ],
     "language": "python",
     "metadata": {},
     "outputs": [
      {
       "output_type": "stream",
       "stream": "stdout",
       "text": [
        "5.0 1\n",
        "x es mayor que y\n"
       ]
      }
     ],
     "prompt_number": 50
    },
    {
     "cell_type": "code",
     "collapsed": false,
     "input": [
      "print(x, y)\n",
      "if x < y:\n",
      "    print(\"x es menor que y\")\n",
      "elif x == y:\n",
      "    print(\"x es igual a y\")\n",
      "else:\n",
      "    print(\"x no es ni menor ni igual que y\")"
     ],
     "language": "python",
     "metadata": {},
     "outputs": [
      {
       "output_type": "stream",
       "stream": "stdout",
       "text": [
        "5.0 1\n",
        "x no es ni menor ni igual que y\n"
       ]
      }
     ],
     "prompt_number": 51
    },
    {
     "cell_type": "heading",
     "level": 2,
     "metadata": {},
     "source": [
      "Estructuras de control (II): Bucles"
     ]
    },
    {
     "cell_type": "markdown",
     "metadata": {},
     "source": [
      "En Python existen dos tipos de estructuras de control t\u00edpicas:\n",
      "\n",
      "1. Bucles `while`\n",
      "2. Bucles `for`"
     ]
    },
    {
     "cell_type": "heading",
     "level": 3,
     "metadata": {},
     "source": [
      "`while` "
     ]
    },
    {
     "cell_type": "markdown",
     "metadata": {},
     "source": [
      "Los bucles `while` repetiran las sentencias anidadas en \u00e9l mientras se cumpla una condici\u00f3n:\n",
      "\n",
      "    while <condition>:\n",
      "        <things to do>\n",
      "        \n",
      "Como en el caso de los condicionales, los bloques se separan por indentaci\u00f3n sin necesidad de sentencias del tipo `end`"
     ]
    },
    {
     "cell_type": "code",
     "collapsed": false,
     "input": [
      "ii = -2\n",
      "while ii < 5:\n",
      "    print(ii)\n",
      "    ii += 1"
     ],
     "language": "python",
     "metadata": {},
     "outputs": [
      {
       "output_type": "stream",
       "stream": "stdout",
       "text": [
        "-2\n",
        "-1\n",
        "0\n",
        "1\n",
        "2\n",
        "3\n",
        "4\n"
       ]
      }
     ],
     "prompt_number": 52
    },
    {
     "cell_type": "markdown",
     "metadata": {},
     "source": [
      "<div class=\"alert alert-info\"><strong>Tip</strong>: \n",
      "`ii += 1` equivale a `ii = ii + 1`. En el segundo Python, realiza la operaci\u00f3n ii + 1 creando un nuevo objeto con ese valor y luego lo asigna a la variable ii; es decir, existe una reasignaci\u00f3n. En el primero, sin embargo, el incremento se produce sobre la propia variable. Esto puede conducirnos a mejoras en velocidad.\n",
      "\n",
      "Otros operadores 'in-place' son: `-=`, `*=`, `/=` \n",
      "</div>"
     ]
    },
    {
     "cell_type": "markdown",
     "metadata": {},
     "source": [
      "Se puede interrumpir el bucle a la mitad con la sentencia `break`:"
     ]
    },
    {
     "cell_type": "code",
     "collapsed": false,
     "input": [
      "ii = 0\n",
      "while ii < 5:\n",
      "    print(ii)\n",
      "    ii += 1\n",
      "    if ii == 3:\n",
      "        break"
     ],
     "language": "python",
     "metadata": {},
     "outputs": [
      {
       "output_type": "stream",
       "stream": "stdout",
       "text": [
        "0\n",
        "1\n",
        "2\n"
       ]
      }
     ],
     "prompt_number": 53
    },
    {
     "cell_type": "markdown",
     "metadata": {},
     "source": [
      "Un bloque `else` justo despu\u00e9s del bucle se ejecuta si este no ha sido interrumpido por nosotros:"
     ]
    },
    {
     "cell_type": "code",
     "collapsed": false,
     "input": [
      "ii = 0\n",
      "while ii < 5:\n",
      "    print(ii)\n",
      "    ii += 1\n",
      "    if ii == 3:\n",
      "        break\n",
      "else:\n",
      "    print(\"El bucle ha terminado\")"
     ],
     "language": "python",
     "metadata": {},
     "outputs": [
      {
       "output_type": "stream",
       "stream": "stdout",
       "text": [
        "0\n",
        "1\n",
        "2\n"
       ]
      }
     ],
     "prompt_number": 54
    },
    {
     "cell_type": "code",
     "collapsed": false,
     "input": [
      "ii = 0\n",
      "while ii < 5:\n",
      "    print(ii)\n",
      "    ii += 1\n",
      "    #if ii == 3:\n",
      "        #break\n",
      "else:\n",
      "    print(\"El bucle ha terminado\")"
     ],
     "language": "python",
     "metadata": {},
     "outputs": [
      {
       "output_type": "stream",
       "stream": "stdout",
       "text": [
        "0\n",
        "1\n",
        "2\n",
        "3\n",
        "4\n",
        "El bucle ha terminado\n"
       ]
      }
     ],
     "prompt_number": 55
    },
    {
     "cell_type": "heading",
     "level": 3,
     "metadata": {},
     "source": [
      "`for`"
     ]
    },
    {
     "cell_type": "markdown",
     "metadata": {},
     "source": [
      "El otro bucle en Python es el bucle `for`, y funciona de manera un que puede resultar chocante al principio. La idea es recorrer un conjunto de elementos:\n",
      "\n",
      "    for <element> in <iterable_object>:\n",
      "        <do whatever...>"
     ]
    },
    {
     "cell_type": "code",
     "collapsed": false,
     "input": [
      "for ii in (1,2,3,4,5):\n",
      "    print(ii)"
     ],
     "language": "python",
     "metadata": {},
     "outputs": [
      {
       "output_type": "stream",
       "stream": "stdout",
       "text": [
        "1\n",
        "2\n",
        "3\n",
        "4\n",
        "5\n"
       ]
      }
     ],
     "prompt_number": 56
    },
    {
     "cell_type": "code",
     "collapsed": false,
     "input": [
      "for nombre in \"Juan\", \"Luis\", \"Carlos\":\n",
      "    print(nombre)"
     ],
     "language": "python",
     "metadata": {},
     "outputs": [
      {
       "output_type": "stream",
       "stream": "stdout",
       "text": [
        "Juan\n",
        "Luis\n",
        "Carlos\n"
       ]
      }
     ],
     "prompt_number": 57
    },
    {
     "cell_type": "code",
     "collapsed": false,
     "input": [
      "for ii in range(3):\n",
      "    print(ii)"
     ],
     "language": "python",
     "metadata": {},
     "outputs": [
      {
       "output_type": "stream",
       "stream": "stdout",
       "text": [
        "0\n",
        "1\n",
        "2\n"
       ]
      }
     ],
     "prompt_number": 58
    },
    {
     "cell_type": "code",
     "collapsed": false,
     "input": [
      "for jj in range(2, 5):\n",
      "    print(jj)"
     ],
     "language": "python",
     "metadata": {},
     "outputs": [
      {
       "output_type": "stream",
       "stream": "stdout",
       "text": [
        "2\n",
        "3\n",
        "4\n"
       ]
      }
     ],
     "prompt_number": 59
    },
    {
     "cell_type": "heading",
     "level": 2,
     "metadata": {},
     "source": [
      "PEP 8"
     ]
    },
    {
     "cell_type": "markdown",
     "metadata": {},
     "source": [
      "__La gu\u00eda de estilo:__\n",
      "\n",
      "* Usa sangrado de 4 espacios, no tabuladores [IPython o tu editor se encargan de ello].\n",
      "* Acota las l\u00edneas a 79 caracteres.\n",
      "* Usa l\u00edneas en blanco para separar funciones y bloques de c\u00f3digo dentro de ellas.\n",
      "* Pon los comentarios en l\u00edneas aparte si es posible.\n",
      "* Usa cadenas de documentaci\u00f3n (*docstrings*).\n",
      "* Pon espacios alrededor de los operadores y despu\u00e9s de coma.\n",
      "* Usa la convenci\u00f3n minuscula_con_guiones_bajos para los nombres de las funciones y las variables.\n",
      "* Aunque Python 3 te lo permite, no uses caracteres especiales para los identificadores.\n",
      "\n",
      "(Traducido de http://docs.python.org/3/tutorial/controlflow.html#intermezzo-coding-style)"
     ]
    },
    {
     "cell_type": "markdown",
     "metadata": {},
     "source": [
      "Utilizando el m\u00f3dulo pep8\n",
      "\n",
      "https://pypi.python.org/pypi/pep8\n",
      "\n",
      "Y la extensi\u00f3n pep8magic\n",
      "\n",
      "https://gist.github.com/Juanlu001/9082229/\n",
      "\n",
      "Podemos comprobar si una celda de c\u00f3digo cumple con las reglas del PEP8:"
     ]
    },
    {
     "cell_type": "markdown",
     "metadata": {},
     "source": [
      "---"
     ]
    },
    {
     "cell_type": "markdown",
     "metadata": {},
     "source": [
      "_Hemos visto como la sintaxis de Python nos facilita escribir c\u00f3digo legible as\u00ed como aprendido algunas buenas pr\u00e1cticas al programar. Caracter\u00edsticas como el tipado din\u00e1mico (no hace falta declarar variables) y ser lenguaje interpretado (no hace falta compilarlo) hacen que el tiempo que pasamos escrbiendo c\u00f3digo sea menos que en otro tipo de lenguajes._\n",
      "\n",
      "_Se han presentado los tipos de variables, as\u00ed como las estructuras de control b\u00e1sicas. En la siguiente clase practicaremos con algunos ejercicios para que te familiarices con ellas_\n",
      "\n",
      "_Esperamos tambi\u00e9n que poco a poco te sientas cada vez m\u00e1s a gusto con el Notebook de IPython y puedas sacarle todo el partido_\n",
      "\n",
      "__Referencias__\n",
      "\n",
      "* Tutorial de Python oficial actualizado y traducido al espa\u00f1ol http://docs.python.org.ar/tutorial/\n",
      "* V\u00eddeo de 5 minutos de IPython http://youtu.be/C0D9KQdigGk\n",
      "* Introducci\u00f3n a la programaci\u00f3n con Python, Universitat Jaume I http://www.uji.es/bin/publ/edicions/ippython.pdf\n",
      "* PEP8 http://www.python.org/dev/peps/pep-0008/\u200e"
     ]
    },
    {
     "cell_type": "markdown",
     "metadata": {},
     "source": [
      "Si te ha gustado esta clase:\n",
      "\n",
      "<a href=\"https://twitter.com/share\" class=\"twitter-share-button\" data-url=\"https://github.com/AeroPython/Curso_AeroPython\" data-text=\"Aprendiendo Python con\" data-via=\"pybonacci\" data-size=\"large\" data-hashtags=\"AeroPython\">Tweet</a>\n",
      "<script>!function(d,s,id){var js,fjs=d.getElementsByTagName(s)[0],p=/^http:/.test(d.location)?'http':'https';if(!d.getElementById(id)){js=d.createElement(s);js.id=id;js.src=p+'://platform.twitter.com/widgets.js';fjs.parentNode.insertBefore(js,fjs);}}(document, 'script', 'twitter-wjs');</script>\n",
      "\n",
      "---"
     ]
    },
    {
     "cell_type": "heading",
     "level": 6,
     "metadata": {},
     "source": [
      "<img src=\"../static/linkedin.png\" alt=\"AeroPython\" style=\"width: 25px\" align=\"right\";/> Curso impartido por: [Juan Luis Cano](http://es.linkedin.com/in/juanluiscanor)  & [\u00c1lex S\u00e1ez](http://es.linkedin.com/pub/alejandro-saez-mollejo/55/22/473)"
     ]
    },
    {
     "cell_type": "heading",
     "level": 6,
     "metadata": {},
     "source": [
      "En colaboraci\u00f3n: Alberto Lorenzo"
     ]
    },
    {
     "cell_type": "heading",
     "level": 4,
     "metadata": {},
     "source": [
      "<h4 align=\"right\">\u00a1S\u00edguenos en Twitter!"
     ]
    },
    {
     "cell_type": "heading",
     "level": 6,
     "metadata": {},
     "source": [
      "<a href=\"https://twitter.com/Pybonacci\" class=\"twitter-follow-button\" data-show-count=\"false\">Follow @Pybonacci</a>\n",
      "<script>!function(d,s,id){var js,fjs=d.getElementsByTagName(s)[0],p=/^http:/.test(d.location)?'http':'https';if(!d.getElementById(id)){js=d.createElement(s);js.id=id;js.src=p+'://platform.twitter.com/widgets.js';fjs.parentNode.insertBefore(js,fjs);}}(document, 'script', 'twitter-wjs');</script>\n",
      "\n",
      "<a href=\"https://twitter.com/Alex__S12\" class=\"twitter-follow-button\" data-show-count=\"false\" align=\"right\";>Follow @Alex__S12</a>\n",
      "<script>!function(d,s,id){var js,fjs=d.getElementsByTagName(s)[0],p=/^http:/.test(d.location)?'http':'https';if(!d.getElementById(id)){js=d.createElement(s);js.id=id;js.src=p+'://platform.twitter.com/widgets.js';fjs.parentNode.insertBefore(js,fjs);}}(document, 'script', 'twitter-wjs');</script>\n",
      "\n",
      "<a href=\"https://twitter.com/newlawrence\" class=\"twitter-follow-button\" data-show-count=\"false\" align=\"right\";>Follow @newlawrence</a>\n",
      "<script>!function(d,s,id){var js,fjs=d.getElementsByTagName(s)[0],p=/^http:/.test(d.location)?'http':'https';if(!d.getElementById(id)){js=d.createElement(s);js.id=id;js.src=p+'://platform.twitter.com/widgets.js';fjs.parentNode.insertBefore(js,fjs);}}(document, 'script', 'twitter-wjs');</script>"
     ]
    },
    {
     "cell_type": "heading",
     "level": 5,
     "metadata": {},
     "source": [
      "<a rel=\"license\" href=\"http://creativecommons.org/licenses/by/4.0/deed.es\"><img alt=\"Licencia Creative Commons\" style=\"border-width:0\" src=\"http://i.creativecommons.org/l/by/4.0/88x31.png\" /></a><br /><span xmlns:dct=\"http://purl.org/dc/terms/\" property=\"dct:title\">Curso AeroPython</span> por <span xmlns:cc=\"http://creativecommons.org/ns#\" property=\"cc:attributionName\">Juan Luis Cano Rodriguez y Alejandro S\u00e1ez Mollejo</span> se distribuye bajo una <a rel=\"license\" href=\"http://creativecommons.org/licenses/by/4.0/deed.es\">Licencia Creative Commons Atribuci\u00f3n 4.0 Internacional</a>."
     ]
    },
    {
     "cell_type": "heading",
     "level": 5,
     "metadata": {},
     "source": [
      "<script src=\"//platform.linkedin.com/in.js\" type=\"text/javascript\"></script>\n",
      "<script type=\"IN/MemberProfile\" data-id=\"http://es.linkedin.com/in/juanluiscanor\" data-format=\"inline\" data-related=\"false\"></script>\n",
      "<script src=\"//platform.linkedin.com/in.js\" type=\"text/javascript\"></script>\n",
      "<script type=\"IN/MemberProfile\" data-id=\"http://es.linkedin.com/in/alejandrosaezm\" data-format=\"inline\" data-related=\"false\"></script>"
     ]
    },
    {
     "cell_type": "markdown",
     "metadata": {},
     "source": [
      "---\n",
      "_Las siguientes celdas contienen configuraci\u00f3n del Notebook_\n",
      "\n",
      "_Para visualizar y utlizar los enlaces a Twitter el notebook debe ejecutarse como [seguro](http://ipython.org/ipython-doc/dev/notebook/security.html)_\n",
      "\n",
      "    File > Trusted Notebook"
     ]
    },
    {
     "cell_type": "code",
     "collapsed": false,
     "input": [
      "%%html\n",
      "<a href=\"https://twitter.com/Pybonacci\" class=\"twitter-follow-button\" data-show-count=\"false\">Follow @Pybonacci</a>\n",
      "<script>!function(d,s,id){var js,fjs=d.getElementsByTagName(s)[0],p=/^http:/.test(d.location)?'http':'https';if(!d.getElementById(id)){js=d.createElement(s);js.id=id;js.src=p+'://platform.twitter.com/widgets.js';fjs.parentNode.insertBefore(js,fjs);}}(document, 'script', 'twitter-wjs');</script>"
     ],
     "language": "python",
     "metadata": {},
     "outputs": [
      {
       "html": [
        "<a href=\"https://twitter.com/Pybonacci\" class=\"twitter-follow-button\" data-show-count=\"false\">Follow @Pybonacci</a>\n",
        "<script>!function(d,s,id){var js,fjs=d.getElementsByTagName(s)[0],p=/^http:/.test(d.location)?'http':'https';if(!d.getElementById(id)){js=d.createElement(s);js.id=id;js.src=p+'://platform.twitter.com/widgets.js';fjs.parentNode.insertBefore(js,fjs);}}(document, 'script', 'twitter-wjs');</script>"
       ],
       "metadata": {},
       "output_type": "display_data",
       "text": [
        "<IPython.core.display.HTML at 0x4471588>"
       ]
      }
     ],
     "prompt_number": 60
    },
    {
     "cell_type": "code",
     "collapsed": false,
     "input": [
      "# Esta celda da el estilo al notebook\n",
      "from IPython.core.display import HTML\n",
      "css_file = '../static/styles/style.css'\n",
      "HTML(open(css_file, \"r\").read())"
     ],
     "language": "python",
     "metadata": {},
     "outputs": [
      {
       "html": [
        "<link href='http://fonts.googleapis.com/css?family=Source+Sans+Pro|Josefin+Sans:400,700,400italic|Ubuntu+Condensed' rel='stylesheet' type='text/css'>\n",
        "\n",
        "El estilo se ha aplicado =)\n",
        "\n",
        "<style>\n",
        "\n",
        "\n",
        "\n",
        "#notebook_panel { /* main background */\n",
        "    background: #f7f7f7;\n",
        "}\n",
        "\n",
        "div.cell { /* set cell width */\n",
        "    width: 900px;\n",
        "}\n",
        "\n",
        "div #notebook { /* centre the content */\n",
        "    background: #fff; /* white background for content */\n",
        "    width: 950px;\n",
        "    margin: auto;\n",
        "    padding-left: 0em;\n",
        "}\n",
        "\n",
        "#notebook li { /* More space between bullet points */\n",
        "    margin-top:0.7em;\n",
        "}\n",
        "\n",
        "/* draw border around running cells */\n",
        "div.cell.border-box-sizing.code_cell.running { \n",
        "    border: 1px solid #111;\n",
        "}\n",
        "\n",
        "/* Put a solid color box around each cell and its output, visually linking them*/\n",
        "div.cell.code_cell {\n",
        "    font-family: 'Source Sans Pro', sans-serif;\n",
        "    background-color: rgb(256,256,256);\n",
        "    font-size: 110%;\n",
        "    border-radius: 0px; \n",
        "    padding: 0.5em;\n",
        "    margin-left:1em;\n",
        "    margin-top: 1em;\n",
        "}\n",
        "\n",
        "div.text_cell_render{\n",
        "    font-family: 'Josefin Sans', serif;\n",
        "    line-height: 145%;\n",
        "    font-size: 125%;\n",
        "    font-weight: 500;\n",
        "    width:750px;\n",
        "    margin-left:auto;\n",
        "    margin-right:auto;\n",
        "}\n",
        "\n",
        "\n",
        "/* Formatting for header cells */\n",
        ".text_cell_render h1, .text_cell_render h2, .text_cell_render h3,\n",
        ".text_cell_render h4, .text_cell_render h5 {\n",
        "    font-family: 'Ubuntu Condensed', sans-serif;\n",
        "}\n",
        "/*\n",
        ".text_cell_render h1 {\n",
        "    font-family: Flux, 'Ubuntu Condensed', serif;\n",
        "    font-style:regular;\n",
        "    font-weight: 400;    \n",
        "    font-size: 30pt;\n",
        "    text-align: center;\n",
        "    line-height: 100%;\n",
        "    color: #335082;\n",
        "    margin-bottom: 0.5em;\n",
        "    margin-top: 0.5em;\n",
        "    display: block;\n",
        "}\n",
        "*/\n",
        ".text_cell_render h1 {\n",
        "    font-weight: 600;\n",
        "    font-size: 35pt;\n",
        "    line-height: 100%;\n",
        "    color: #234765;\n",
        "    margin-bottom: 0.1em;\n",
        "    margin-top: 0.3em;\n",
        "    display: block;\n",
        "}\n",
        "\n",
        ".text_cell_render h2 {\n",
        "    margin-top:16px;\n",
        "    font-size: 27pt;\n",
        "    font-weight: 550;\n",
        "    margin-bottom: 0.1em;\n",
        "    margin-top: 0.3em;\n",
        "    font-style: regular;\n",
        "    color: #234765;\n",
        "}\t\n",
        "\n",
        ".text_cell_render h3 {\n",
        "    font-size: 20pt;\n",
        "    font-weight: 550\n",
        "    text-align: left;\n",
        "    margin-bottom: 0.1em;\n",
        "    margin-top: 0.3em;\n",
        "    font-style: regular;\n",
        "    color:  #376f9e;\n",
        "}\n",
        "\n",
        ".text_cell_render h4 {    /*Use this for captions*/\n",
        "    font-size: 18pt;\n",
        "    font-weight: 450\n",
        "    text-align: left;\n",
        "    margin-bottom: 0.1em;\n",
        "    margin-top: 0.3em;\n",
        "    font-style: regular;\n",
        "    color:  #376f9e;\n",
        "}\n",
        "\n",
        ".text_cell_render h5 {  /*Use this for small titles*/\n",
        "    font-size: 18pt;\n",
        "    font-weight: 550;\n",
        "    color: rgb(163,0,0);\n",
        "    font-style: italic;\n",
        "    margin-bottom: .1em;\n",
        "    margin-top: 0.8em;\n",
        "    display: block;\n",
        "    color:  #b21c0d;\n",
        "}\n",
        "\n",
        ".text_cell_render h6 { /*use this for copyright note*/\n",
        "    font-family: 'Ubuntu Condensed', sans-serif;\n",
        "    font-weight: 300;\n",
        "    font-size: 14pt;\n",
        "    line-height: 100%;\n",
        "    color: #252525;\n",
        "    text-align: right;\n",
        "    margin-bottom: 1px;\n",
        "    margin-top: 1px;\n",
        "}\n",
        "\n",
        ".CodeMirror{\n",
        "        font-family: 'Duru Sans', sans-serif;\n",
        "        font-size: 100%;\n",
        "}\n",
        "\n",
        "</style>\n",
        "<script>\n",
        "    MathJax.Hub.Config({\n",
        "                        TeX: {\n",
        "                           extensions: [\"AMSmath.js\"],\n",
        "                           equationNumbers: { autoNumber: \"AMS\", useLabelIds: true}\n",
        "                           },\n",
        "                tex2jax: {\n",
        "                    inlineMath: [ ['$','$'], [\"\\\\(\",\"\\\\)\"] ],\n",
        "                    displayMath: [ ['$$','$$'], [\"\\\\[\",\"\\\\]\"] ]\n",
        "                },\n",
        "                displayAlign: 'center', // Change this to 'center' to center equations.\n",
        "                \"HTML-CSS\": {\n",
        "                    styles: {'.MathJax_Display': {\"margin\": 4}}\n",
        "                }\n",
        "        });\n",
        "</script>\n"
       ],
       "metadata": {},
       "output_type": "pyout",
       "prompt_number": 61,
       "text": [
        "<IPython.core.display.HTML at 0x43da780>"
       ]
      }
     ],
     "prompt_number": 61
    }
   ],
   "metadata": {}
  }
 ]
}