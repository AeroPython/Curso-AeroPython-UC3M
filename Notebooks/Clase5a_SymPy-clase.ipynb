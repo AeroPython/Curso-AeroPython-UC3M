{
 "metadata": {
  "name": "",
  "signature": "sha256:2638f718ff566a8916707b46794afc4262e27e7da935f68566ee15a5d53fcf68"
 },
 "nbformat": 3,
 "nbformat_minor": 0,
 "worksheets": [
  {
   "cells": [
    {
     "cell_type": "markdown",
     "metadata": {},
     "source": [
      "# Curso AeroPython ETSIAE\n",
      "\n",
      "## Juan Luis Cano ([@Pybonacci](https://twitter.com/Pybonacci)) y \u00c1lex S\u00e1ez ([@Alex__S12](https://twitter.com/Alex__S12))"
     ]
    },
    {
     "cell_type": "markdown",
     "metadata": {},
     "source": [
      "<a rel=\"license\" href=\"http://creativecommons.org/licenses/by/4.0/deed.es\"><img alt=\"Licencia Creative Commons\" style=\"border-width:0\" src=\"http://i.creativecommons.org/l/by/4.0/88x31.png\" /></a><br /><span xmlns:dct=\"http://purl.org/dc/terms/\" property=\"dct:title\">Curso AeroPython</span> por <span xmlns:cc=\"http://creativecommons.org/ns#\" property=\"cc:attributionName\">Juan Luis Cano Rodriguez y Alejandro S\u00e1ez Mollejo</span> se distribuye bajo una <a rel=\"license\" href=\"http://creativecommons.org/licenses/by/4.0/deed.es\">Licencia Creative Commons Atribuci\u00f3n 4.0 Internacional</a>."
     ]
    },
    {
     "cell_type": "heading",
     "level": 1,
     "metadata": {},
     "source": [
      "CLASE 5a: SymPy"
     ]
    },
    {
     "cell_type": "markdown",
     "metadata": {},
     "source": [
      "![](http://sympy.org/static/images/logo.png)\n",
      "\n",
      "__SymPy es una biblioteca de Python para matem\u00e1tica simb\u00f3lica__. Apunta a convertirse en un sistema de algebra total (__CAS__) mientras mantiene el c\u00f3digo tan simple como es posible para que sea comprensible y f\u00e1cilmente extensible. SymPy est\u00e1 __escrito totalmente en Python y no requiere bibliotecas adicionales__.\n",
      "\n",
      "Hoy veremos c\u00f3mo:\n",
      "\n",
      "* Crear s\u00edmbolos y expresiones.\n",
      "* Manipular expresiones (simplificaci\u00f3n, expansi\u00f3n...)\n",
      "* Calcular derivadas e integrales.\n",
      "* L\u00edmites y desarrollos en serie.\n",
      "* Resoluci\u00f3n de ecuaciones.\n",
      "* Resolci\u00f3n de EDOs.\n",
      "* Matrices\n",
      "\n",
      "Sin embargo, SymPy no acaba aqu\u00ed ni mucho menos..."
     ]
    },
    {
     "cell_type": "heading",
     "level": 2,
     "metadata": {},
     "source": [
      "Documentaci\u00f3n & SymPy Live Shell"
     ]
    },
    {
     "cell_type": "code",
     "collapsed": false,
     "input": [
      "from IPython.display import HTML\n",
      "HTML('<iframe src=\"http://docs.sympy.org/latest/index.html\" width=\"800\" height=\"400\"></iframe>')"
     ],
     "language": "python",
     "metadata": {},
     "outputs": []
    },
    {
     "cell_type": "heading",
     "level": 2,
     "metadata": {},
     "source": [
      "SymPy Gamma"
     ]
    },
    {
     "cell_type": "code",
     "collapsed": false,
     "input": [
      "HTML('<iframe src=\"http://www.sympygamma.com/input/?i=integrate%281+%2F+%281+%2B+x^2%29%29\" width=\"800\" height=\"400\"></iframe>')"
     ],
     "language": "python",
     "metadata": {},
     "outputs": []
    },
    {
     "cell_type": "heading",
     "level": 1,
     "metadata": {},
     "source": [
      "Empezamos..."
     ]
    },
    {
     "cell_type": "heading",
     "level": 1,
     "metadata": {},
     "source": [
      "Creaci\u00f3n de s\u00edmbolos"
     ]
    },
    {
     "cell_type": "markdown",
     "metadata": {},
     "source": [
      "Lo primero, como siempre, es importar aquello que vayamos a necesitar:"
     ]
    },
    {
     "cell_type": "code",
     "collapsed": false,
     "input": [],
     "language": "python",
     "metadata": {},
     "outputs": []
    },
    {
     "cell_type": "code",
     "collapsed": false,
     "input": [],
     "language": "python",
     "metadata": {},
     "outputs": []
    },
    {
     "cell_type": "markdown",
     "metadata": {},
     "source": [
      "Lo primero que vemos es que el comando `init_session` ha llevado a cabo algunas acciones por nostros:\n",
      "\n",
      "* Gracias a `use_latex=True` obtenemos la salida en $\\LaTeX$.\n",
      "* __Ha creado una serie de variables__ para que podamos ponernos a trabajar en el momento."
     ]
    },
    {
     "cell_type": "markdown",
     "metadata": {},
     "source": [
      "<div class=\"alert warning-info\"><strong>Nota:</strong> \n",
      "En Python, no se declaran las variables, sin embargo, no puedes usar una hasta que no le hayas asignado un valor. Si ahora intentamos crear una variable `a` que sea `a = 2 * b`, veamos qu\u00e9 ocurre:\n",
      "</div>"
     ]
    },
    {
     "cell_type": "code",
     "collapsed": false,
     "input": [],
     "language": "python",
     "metadata": {},
     "outputs": []
    },
    {
     "cell_type": "markdown",
     "metadata": {},
     "source": [
      "Como en `b` no hab\u00eda sido creada, Python no sabe qu\u00e9 es `b`.\n",
      "\n",
      "Esto mismo nos ocurre con los s\u00edmbolos de SymPy. __Antes de usar una variable, debo decir que es un s\u00edmbolo y asign\u00e1rselo:__"
     ]
    },
    {
     "cell_type": "code",
     "collapsed": false,
     "input": [
      "#creamos el s\u00edmbolo a\n"
     ],
     "language": "python",
     "metadata": {},
     "outputs": []
    },
    {
     "cell_type": "code",
     "collapsed": false,
     "input": [
      "#n\u00famero pi\n"
     ],
     "language": "python",
     "metadata": {},
     "outputs": []
    },
    {
     "cell_type": "code",
     "collapsed": false,
     "input": [
      "#unidad imaginaria\n"
     ],
     "language": "python",
     "metadata": {},
     "outputs": []
    },
    {
     "cell_type": "code",
     "collapsed": false,
     "input": [
      "#vemos qu\u00e9 tipo de variable es a\n"
     ],
     "language": "python",
     "metadata": {},
     "outputs": []
    },
    {
     "cell_type": "markdown",
     "metadata": {},
     "source": [
      "Ahora ya podr\u00eda crear `b = 2 * a`:"
     ]
    },
    {
     "cell_type": "code",
     "collapsed": false,
     "input": [],
     "language": "python",
     "metadata": {},
     "outputs": []
    },
    {
     "cell_type": "code",
     "collapsed": false,
     "input": [],
     "language": "python",
     "metadata": {},
     "outputs": []
    },
    {
     "cell_type": "markdown",
     "metadata": {},
     "source": [
      "\u00bfQu\u00e9 est\u00e1 ocurriendo? Python detecta que a es una variable de tipo `Symbol` y al multiplicarla por `2` devuelve una variable de Sympy.\n",
      "\n",
      "Como Python permite que el tipo de una variable cambie, __si ahora le asigno a `a` un valor float deja de ser un s\u00edmbolo.__"
     ]
    },
    {
     "cell_type": "code",
     "collapsed": false,
     "input": [],
     "language": "python",
     "metadata": {},
     "outputs": []
    },
    {
     "cell_type": "code",
     "collapsed": false,
     "input": [],
     "language": "python",
     "metadata": {},
     "outputs": []
    },
    {
     "cell_type": "markdown",
     "metadata": {},
     "source": [
      "---\n",
      "__Las conclusiones son:__\n",
      "\n",
      "* __Si quiero usar una variable como s\u00edmbolo debo crearla previamente.__\n",
      "* Las operaciones con s\u00edmbolos devuelven s\u00edmbolos.\n",
      "* Si una varibale que almacenaba un s\u00edmbolo recibe otra asignaci\u00f3n, cambia de tipo.\n",
      "\n",
      "---"
     ]
    },
    {
     "cell_type": "markdown",
     "metadata": {},
     "source": [
      "__Las variables de tipo `Symbol` act\u00faan como contenedores en los que no sabemos qu\u00e9 hay (un real, un complejo, una lista...)__. Hay que tener en cuenta que: __una cosa es el nombre de la variable y otra el s\u00edmbolo con el que se representa__."
     ]
    },
    {
     "cell_type": "code",
     "collapsed": false,
     "input": [
      "#creaci\u00f3n de s\u00edmbolos\n"
     ],
     "language": "python",
     "metadata": {},
     "outputs": []
    },
    {
     "cell_type": "markdown",
     "metadata": {},
     "source": [
      "Incluso puedo hacer cosas raras como:"
     ]
    },
    {
     "cell_type": "code",
     "collapsed": false,
     "input": [],
     "language": "python",
     "metadata": {},
     "outputs": []
    },
    {
     "cell_type": "markdown",
     "metadata": {},
     "source": [
      "Adem\u00e1s, se pueden crear varos s\u00edmbolos a la vez:"
     ]
    },
    {
     "cell_type": "code",
     "collapsed": false,
     "input": [],
     "language": "python",
     "metadata": {},
     "outputs": []
    },
    {
     "cell_type": "markdown",
     "metadata": {},
     "source": [
      "y s\u00edmbolos griegos:"
     ]
    },
    {
     "cell_type": "code",
     "collapsed": false,
     "input": [],
     "language": "python",
     "metadata": {},
     "outputs": []
    },
    {
     "cell_type": "markdown",
     "metadata": {},
     "source": [
      "__Por defecto, SymPy entiende que los s\u00edmbolos son n\u00fameros complejos__. Esto puede producir resultados inesperados ante determinadas operaciones como, por ejemplo, lo logaritmos. __Podemos indicar que la variable es real, entera... en el momento de la creaci\u00f3n__:"
     ]
    },
    {
     "cell_type": "code",
     "collapsed": false,
     "input": [
      "#creamos s\u00edmbolos reales\n"
     ],
     "language": "python",
     "metadata": {},
     "outputs": []
    },
    {
     "cell_type": "code",
     "collapsed": false,
     "input": [
      "#preguntamos si son reales\n"
     ],
     "language": "python",
     "metadata": {},
     "outputs": []
    },
    {
     "cell_type": "heading",
     "level": 2,
     "metadata": {},
     "source": [
      "Expresiones"
     ]
    },
    {
     "cell_type": "markdown",
     "metadata": {},
     "source": [
      "Comencemos por crear una expresi\u00f3n como: $\\cos(x)^2+\\sin(x)^2$"
     ]
    },
    {
     "cell_type": "code",
     "collapsed": false,
     "input": [],
     "language": "python",
     "metadata": {},
     "outputs": []
    },
    {
     "cell_type": "markdown",
     "metadata": {},
     "source": [
      "<div class=\"alert warning-info\"><strong>Nota:</strong> \n",
      "No debes olvidar en ning\u00fan momento que est\u00e1s utilizando Python, por lo tanto __el operador `=` est\u00e1 realizando una asignaci\u00f3n__. La variable `expr` pasa a contener `cos(x)**2 + sin(x)**2`, pero esto no es una ecuaci\u00f3n, m\u00e1s adelante veremos c\u00f3mo definirlas.\n",
      "</div>"
     ]
    },
    {
     "cell_type": "heading",
     "level": 3,
     "metadata": {},
     "source": [
      "`simplify()`"
     ]
    },
    {
     "cell_type": "markdown",
     "metadata": {},
     "source": [
      "Podemos pedirle que simplifique la expresi\u00f3n anterior:"
     ]
    },
    {
     "cell_type": "code",
     "collapsed": false,
     "input": [],
     "language": "python",
     "metadata": {},
     "outputs": []
    },
    {
     "cell_type": "markdown",
     "metadata": {},
     "source": [
      "En este caso parece estar claro, lo que quiere decir m\u00e1s simple, pero como en cualquier _CAS_ el comando `simplify` puede no devolvernos la expresi\u00f3n que nosotros queremos. Cuando esto ocurra necesitaremos usar otras instrucciones."
     ]
    },
    {
     "cell_type": "heading",
     "level": 3,
     "metadata": {},
     "source": [
      "`.subs()`"
     ]
    },
    {
     "cell_type": "markdown",
     "metadata": {},
     "source": [
      "En algunas ocasiones necesitaremos sustituir una variable por otra, por otra expresi\u00f3n o por un valor."
     ]
    },
    {
     "cell_type": "code",
     "collapsed": false,
     "input": [],
     "language": "python",
     "metadata": {},
     "outputs": []
    },
    {
     "cell_type": "code",
     "collapsed": false,
     "input": [
      "#sustituimos x por y**2\n"
     ],
     "language": "python",
     "metadata": {},
     "outputs": []
    },
    {
     "cell_type": "code",
     "collapsed": false,
     "input": [
      "#pero la expresi\u00f3n no cambia\n"
     ],
     "language": "python",
     "metadata": {},
     "outputs": []
    },
    {
     "cell_type": "markdown",
     "metadata": {},
     "source": [
      "Cambia el `sin(x)` por `exp(x)`"
     ]
    },
    {
     "cell_type": "code",
     "collapsed": false,
     "input": [],
     "language": "python",
     "metadata": {},
     "outputs": []
    },
    {
     "cell_type": "markdown",
     "metadata": {},
     "source": [
      "Particulariza la expresi\u00f3n $sin(x) + 3 x $ en $x = \\pi$"
     ]
    },
    {
     "cell_type": "code",
     "collapsed": false,
     "input": [],
     "language": "python",
     "metadata": {},
     "outputs": []
    },
    {
     "cell_type": "markdown",
     "metadata": {},
     "source": [
      "__Aunque si lo que queremos es obtener el valor num\u00e9rico lo mejor es `.evalf()`__"
     ]
    },
    {
     "cell_type": "code",
     "collapsed": false,
     "input": [],
     "language": "python",
     "metadata": {},
     "outputs": []
    },
    {
     "cell_type": "code",
     "collapsed": false,
     "input": [
      "#ver pi con 25 decimales\n"
     ],
     "language": "python",
     "metadata": {},
     "outputs": []
    },
    {
     "cell_type": "code",
     "collapsed": false,
     "input": [
      "#el mismo resultado se obtiene ocn la funci\u00f3n N()\n"
     ],
     "language": "python",
     "metadata": {},
     "outputs": []
    },
    {
     "cell_type": "heading",
     "level": 1,
     "metadata": {},
     "source": [
      "Simplificaci\u00f3n"
     ]
    },
    {
     "cell_type": "markdown",
     "metadata": {},
     "source": [
      "SymPy ofrece numerosas funciones para __simplificar y manipular expresiones__. Entre otras, destacan:\n",
      "\n",
      "* `expand()`\n",
      "* `factor()`\n",
      "* `collect()`\n",
      "* `apart()`\n",
      "* `cancel()`\n",
      "\n",
      "Puedes consultar en la documentaci\u00f3n de SymPy lo que hace cada una y algunos ejemplos. __Existen tambi\u00e9n funciones espec\u00edficas de simplificaci\u00f3n para funciones trigonom\u00e9tricas, potencias y logaritmos.__"
     ]
    },
    {
     "cell_type": "code",
     "collapsed": false,
     "input": [
      "HTML('<iframe src=\"http://docs.sympy.org/latest/tutorial/simplification.html\" width=\"800\" height=\"400\"></iframe>')"
     ],
     "language": "python",
     "metadata": {},
     "outputs": []
    },
    {
     "cell_type": "markdown",
     "metadata": {},
     "source": [
      "Pasaremos r\u00e1pidamente por esta parte, para hacer cosas \"m\u00e1s interesantes\". Te proponemos algunos ejemplos para que te familiarices con el manejor de expresiones:"
     ]
    },
    {
     "cell_type": "markdown",
     "metadata": {},
     "source": [
      "Crea las expresiones de la izquierda y averigua qu\u00e9 funci\u00f3n te hace obtener la de la derecha:\n",
      "\n",
      "expresi\u00f3n 1| expresi\u00f3n 2\n",
      ":------:|:------:\n",
      "$\\left(x^{3} + 3 y + 2\\right)^{2}$    |    $x^{6} + 6 x^{3} y + 4 x^{3} + 9 y^{2} + 12 y + 4$\n",
      "$\\frac{\\left(3 x^{2} - 2 x + 1\\right)}{\\left(x - 1\\right)^{2}} $ | $3 + \\frac{4}{x - 1} + \\frac{2}{\\left(x - 1\\right)^{2}}$\n",
      "$x^{3} + 9 x^{2} + 27 x + 27$         |    $\\left(x + 3\\right)^{3}$\n",
      "$\\sin(x+2y)$                          |    $\\left(2 \\cos^{2}{\\left (y \\right )} - 1\\right) \\sin{\\left (x \\right )} + 2 \\sin{\\left (y \\right )} \\cos{\\left (x \\right )} \\cos{\\left (y \\right )}$\n"
     ]
    },
    {
     "cell_type": "code",
     "collapsed": false,
     "input": [],
     "language": "python",
     "metadata": {},
     "outputs": []
    },
    {
     "cell_type": "code",
     "collapsed": false,
     "input": [],
     "language": "python",
     "metadata": {},
     "outputs": []
    },
    {
     "cell_type": "code",
     "collapsed": false,
     "input": [],
     "language": "python",
     "metadata": {},
     "outputs": []
    },
    {
     "cell_type": "code",
     "collapsed": false,
     "input": [],
     "language": "python",
     "metadata": {},
     "outputs": []
    },
    {
     "cell_type": "heading",
     "level": 1,
     "metadata": {},
     "source": [
      "Derivadas e integrales"
     ]
    },
    {
     "cell_type": "markdown",
     "metadata": {},
     "source": [
      "Puedes derivar una expresion usando el m\u00e9todo `.diff()` y la funci\u00f3n `dif()`"
     ]
    },
    {
     "cell_type": "code",
     "collapsed": false,
     "input": [
      "#creamos una expresi\u00f3n\n",
      "\n",
      "\n",
      "#obtenemos la derivada primera con funcion\n"
     ],
     "language": "python",
     "metadata": {},
     "outputs": []
    },
    {
     "cell_type": "code",
     "collapsed": false,
     "input": [
      "#utilizando m\u00e9todo\n"
     ],
     "language": "python",
     "metadata": {},
     "outputs": []
    },
    {
     "cell_type": "markdown",
     "metadata": {},
     "source": [
      "__\u00bfderivada tercera?__"
     ]
    },
    {
     "cell_type": "code",
     "collapsed": false,
     "input": [],
     "language": "python",
     "metadata": {},
     "outputs": []
    },
    {
     "cell_type": "code",
     "collapsed": false,
     "input": [],
     "language": "python",
     "metadata": {},
     "outputs": []
    },
    {
     "cell_type": "markdown",
     "metadata": {},
     "source": [
      "__\u00bfvarias variables?__"
     ]
    },
    {
     "cell_type": "code",
     "collapsed": false,
     "input": [],
     "language": "python",
     "metadata": {},
     "outputs": []
    },
    {
     "cell_type": "code",
     "collapsed": false,
     "input": [],
     "language": "python",
     "metadata": {},
     "outputs": []
    },
    {
     "cell_type": "markdown",
     "metadata": {},
     "source": [
      "__Queremos que la deje indicada__, usamos `Derivative()`"
     ]
    },
    {
     "cell_type": "code",
     "collapsed": false,
     "input": [],
     "language": "python",
     "metadata": {},
     "outputs": []
    },
    {
     "cell_type": "markdown",
     "metadata": {},
     "source": [
      "__\u00bfSer\u00e1 capaz SymPy de aplicar la regla de la cadena?__"
     ]
    },
    {
     "cell_type": "code",
     "collapsed": false,
     "input": [
      "#definimos una f\n"
     ],
     "language": "python",
     "metadata": {},
     "outputs": []
    },
    {
     "cell_type": "code",
     "collapsed": false,
     "input": [
      "#definimos una g(f)\n"
     ],
     "language": "python",
     "metadata": {},
     "outputs": []
    },
    {
     "cell_type": "code",
     "collapsed": false,
     "input": [
      "#la derivamos\n"
     ],
     "language": "python",
     "metadata": {},
     "outputs": []
    },
    {
     "cell_type": "markdown",
     "metadata": {},
     "source": [
      "__Si te digo que se integra usando el m\u00e9todo `.integrate()` o la funci\u00f3n `integrate()`__. \u00bfTe atreves a integrar estas casi inmediatas...?:\n",
      "\n",
      "$$\\int{\\cos(x)^2}dx$$\n",
      "$$\\int{\\frac{dx}{\\sin(x)}dx}$$\n",
      "$$\\int{\\frac{dx}{(x^2+a^2)^2}dx}$$\n",
      "\n"
     ]
    },
    {
     "cell_type": "code",
     "collapsed": false,
     "input": [],
     "language": "python",
     "metadata": {},
     "outputs": []
    },
    {
     "cell_type": "code",
     "collapsed": false,
     "input": [],
     "language": "python",
     "metadata": {},
     "outputs": []
    },
    {
     "cell_type": "code",
     "collapsed": false,
     "input": [],
     "language": "python",
     "metadata": {},
     "outputs": []
    },
    {
     "cell_type": "heading",
     "level": 1,
     "metadata": {},
     "source": [
      "L\u00edmites"
     ]
    },
    {
     "cell_type": "markdown",
     "metadata": {},
     "source": [
      "Calculemos este l\u00edmite sacado del libro _C\u00e1lculo: definiciones, teoremas y resultados_, de Juan de Burgos:\n",
      "\n",
      "$$\\lim_{x \\to 0} \\left(\\frac{x}{\\tan{\\left (x \\right )}}\\right)^{\\frac{1}{x^{2}}}$$\n",
      "\n",
      "Primero creamos la expresi\u00f3n:"
     ]
    },
    {
     "cell_type": "code",
     "collapsed": false,
     "input": [],
     "language": "python",
     "metadata": {},
     "outputs": []
    },
    {
     "cell_type": "markdown",
     "metadata": {},
     "source": [
      "Obtenemos el l\u00edmite con la funci\u00f3n `limit()` y si queremos dejarlo indicado, podemos usar `Limit()`:"
     ]
    },
    {
     "cell_type": "code",
     "collapsed": false,
     "input": [],
     "language": "python",
     "metadata": {},
     "outputs": []
    },
    {
     "cell_type": "heading",
     "level": 1,
     "metadata": {},
     "source": [
      "Series"
     ]
    },
    {
     "cell_type": "markdown",
     "metadata": {},
     "source": [
      "Los desarrollos en serie se pueden llevar a cabo con el m\u00e9todo `.series()` o la funci\u00f3n `series()`"
     ]
    },
    {
     "cell_type": "code",
     "collapsed": false,
     "input": [
      "#creamos la expresi\u00f3n\n"
     ],
     "language": "python",
     "metadata": {},
     "outputs": []
    },
    {
     "cell_type": "code",
     "collapsed": false,
     "input": [
      "#la desarrollamos en serie\n"
     ],
     "language": "python",
     "metadata": {},
     "outputs": []
    },
    {
     "cell_type": "markdown",
     "metadata": {},
     "source": [
      "Se puede especificar el n\u00famero de t\u00e9rminos pas\u00e1ndole un argumento `n=...`. El n\u00famero que le pasemos ser\u00e1 el primer t\u00e9rmino que desprecie."
     ]
    },
    {
     "cell_type": "code",
     "collapsed": false,
     "input": [],
     "language": "python",
     "metadata": {},
     "outputs": []
    },
    {
     "cell_type": "markdown",
     "metadata": {},
     "source": [
      "Si nos molesta el $\\mathcal{O}(x^{10})$ lo podemos quitar con `removeO()`:"
     ]
    },
    {
     "cell_type": "code",
     "collapsed": false,
     "input": [],
     "language": "python",
     "metadata": {},
     "outputs": []
    },
    {
     "cell_type": "markdown",
     "metadata": {},
     "source": [
      "Tambi\u00e9n podemos centrar nuestro desarrollo en torno a otro punto, pero seg\u00fan indica su ayuda:\n",
      "\n",
      "`\"Currently, O only supports orders at 0, so series expansions at points other than 0 are computed by first shifting to 0 and then shifting back.\"`\n",
      "    \n",
      "Es decir, si queremos desarrollar en torno a $x_0$. __Desarrollamos la funci\u00f3n y donde pone $x$ debemos sustituir por $(x-x_0)$__"
     ]
    },
    {
     "cell_type": "code",
     "collapsed": false,
     "input": [],
     "language": "python",
     "metadata": {},
     "outputs": []
    },
    {
     "cell_type": "markdown",
     "metadata": {},
     "source": [
      "En este caso donde pone $x$ es $(x-6)$ "
     ]
    },
    {
     "cell_type": "code",
     "collapsed": false,
     "input": [],
     "language": "python",
     "metadata": {},
     "outputs": []
    },
    {
     "cell_type": "code",
     "collapsed": false,
     "input": [
      "#si quiero ver el coeficiente que multiplica a una potencia...\n",
      "\n"
     ],
     "language": "python",
     "metadata": {},
     "outputs": []
    },
    {
     "cell_type": "heading",
     "level": 3,
     "metadata": {},
     "source": [
      "Ejercicio"
     ]
    },
    {
     "cell_type": "markdown",
     "metadata": {},
     "source": [
      "Obt\u00e9n el desarrollo del $sin(x)$ en torno a $\\pi/3$ hasta orden 8. Despu\u00e9s usando `collect()` obt\u00e9n el coeficiente que multiplica a $x^3$"
     ]
    },
    {
     "cell_type": "code",
     "collapsed": false,
     "input": [],
     "language": "python",
     "metadata": {},
     "outputs": []
    },
    {
     "cell_type": "code",
     "collapsed": false,
     "input": [],
     "language": "python",
     "metadata": {},
     "outputs": []
    },
    {
     "cell_type": "markdown",
     "metadata": {},
     "source": [
      "---"
     ]
    },
    {
     "cell_type": "heading",
     "level": 2,
     "metadata": {},
     "source": [
      "Resoluci\u00f3n de ecuaciones"
     ]
    },
    {
     "cell_type": "markdown",
     "metadata": {},
     "source": [
      "Como se ha mencionado anteriormente las ecuaciones no se pueden crear con el `=`"
     ]
    },
    {
     "cell_type": "code",
     "collapsed": false,
     "input": [
      "#creamos la ecuaci\u00f3n\n"
     ],
     "language": "python",
     "metadata": {},
     "outputs": []
    },
    {
     "cell_type": "code",
     "collapsed": false,
     "input": [
      "#la resolvemos\n"
     ],
     "language": "python",
     "metadata": {},
     "outputs": []
    },
    {
     "cell_type": "markdown",
     "metadata": {},
     "source": [
      "Pero la gracia es resolver con s\u00edmbolos, \u00bfno?\n",
      "$$a e^{\\frac{x}{t}} = C$$"
     ]
    },
    {
     "cell_type": "code",
     "collapsed": false,
     "input": [],
     "language": "python",
     "metadata": {},
     "outputs": []
    },
    {
     "cell_type": "code",
     "collapsed": false,
     "input": [],
     "language": "python",
     "metadata": {},
     "outputs": []
    },
    {
     "cell_type": "markdown",
     "metadata": {},
     "source": [
      "Si consultamos la ayuda, vemos que las posibilidades y el n\u00famero de par\u00e1metros son muchos, no vamos a entrar ahora en ellos, pero \u00bfse ve la potencia?"
     ]
    },
    {
     "cell_type": "code",
     "collapsed": false,
     "input": [
      "help(solve)"
     ],
     "language": "python",
     "metadata": {},
     "outputs": []
    },
    {
     "cell_type": "heading",
     "level": 2,
     "metadata": {},
     "source": [
      "Ecuaciones diferenciales"
     ]
    },
    {
     "cell_type": "markdown",
     "metadata": {},
     "source": [
      "Tratemos de resolver, por ejemplo:\n",
      "\n",
      "$$f{\\left (x \\right )} + \\frac{d}{d x} f{\\left (x \\right )} + \\frac{d^{2}}{d x^{2}}  f{\\left (x \\right )} = \\cos{\\left (x \\right )}$$"
     ]
    },
    {
     "cell_type": "code",
     "collapsed": false,
     "input": [
      "#primero creamos los simbolos y la ecuacion\n"
     ],
     "language": "python",
     "metadata": {},
     "outputs": []
    },
    {
     "cell_type": "code",
     "collapsed": false,
     "input": [
      "#resolvemos\n"
     ],
     "language": "python",
     "metadata": {},
     "outputs": []
    },
    {
     "cell_type": "markdown",
     "metadata": {},
     "source": [
      "![](https://www.google.es/search?q=cara+de+yao+ming&num=40&newwindow=1&client=firefox-a&hs=lQg&rls=org.mozilla:en-US:official&channel=sb&source=lnms&tbm=isch&sa=X&ei=sy0mU5moOIKK1AW-zoC4CQ&ved=0CAkQ_AUoAQ&biw=1366&bih=584#facrc=_&imgdii=_&imgrc=1juDRp1uDhTHBM%253A%3BI00AiZ7UEMOs0M%3Bhttp%253A%252F%252Fi1056.photobucket.com%252Falbums%252Ft367%252Fjbabcock9910%252FYaoMing_17.jpg%3Bhttp%253A%252F%252Fwww.taringa.net%252Fposts%252Fhumor%252F17535269%252FLas-10-historias-mas-bizarras-y-extranas-de-la-Biblia.html%3B960%3B854)"
     ]
    },
    {
     "cell_type": "code",
     "collapsed": false,
     "input": [
      "from IPython.display import Image\n",
      "Image(\"http://i1056.photobucket.com/albums/t367/jbabcock9910/YaoMing_17.jpg\")"
     ],
     "language": "python",
     "metadata": {},
     "outputs": []
    },
    {
     "cell_type": "heading",
     "level": 1,
     "metadata": {},
     "source": [
      "Matrices"
     ]
    },
    {
     "cell_type": "code",
     "collapsed": false,
     "input": [
      "#creamos una matriz llena de s\u00edmbolos\n"
     ],
     "language": "python",
     "metadata": {},
     "outputs": []
    },
    {
     "cell_type": "code",
     "collapsed": false,
     "input": [
      "#sacamos autovalores\n"
     ],
     "language": "python",
     "metadata": {},
     "outputs": []
    },
    {
     "cell_type": "code",
     "collapsed": false,
     "input": [
      "#inversa\n"
     ],
     "language": "python",
     "metadata": {},
     "outputs": []
    },
    {
     "cell_type": "code",
     "collapsed": false,
     "input": [
      "#elevamos al cuadrado la matriz\n"
     ],
     "language": "python",
     "metadata": {},
     "outputs": []
    },
    {
     "cell_type": "heading",
     "level": 2,
     "metadata": {},
     "source": [
      "\u00bfMec\u00e1nica en SymPy?"
     ]
    },
    {
     "cell_type": "markdown",
     "metadata": {},
     "source": [
      "* [Aeromec\u00e1nica del rotor](http://nbviewer.ipython.org/github/AeroPython/Python_HA/blob/master/aeromecanica_rotor.ipynb)\n",
      "* [C\u00edrculo de inversi\u00f3n](http://nbviewer.ipython.org/github/AeroPython/Python_HA/blob/master/Ejercicio_1_Circulo_Inversion.ipynb)\n",
      "* [Matrices de rotaci\u00f3n MVI](http://nbviewer.ipython.org/github/AlexS12/Mecanica_Vuelo/blob/master/MVI.ipynb?create=1)\n",
      "\n",
      "__Yo tambi\u00e9n quiero...__ [Web de SymPy: m\u00f3dulo mechanics](http://docs.sympy.org/latest/modules/physics/vector/vectors.html)"
     ]
    }
   ],
   "metadata": {}
  }
 ]
}