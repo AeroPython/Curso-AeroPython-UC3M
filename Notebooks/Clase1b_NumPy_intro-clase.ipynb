{
 "metadata": {
  "name": "",
  "signature": "sha256:7ebfd10b956b2da335e97fabe7e3a1db30e305cb5c7023a6ed303b7448aac9f5"
 },
 "nbformat": 3,
 "nbformat_minor": 0,
 "worksheets": [
  {
   "cells": [
    {
     "cell_type": "markdown",
     "metadata": {},
     "source": [
      "# Curso AeroPython ETSIAE\n",
      "\n",
      "## Juan Luis Cano ([@Pybonacci](https://twitter.com/Pybonacci)) y \u00c1lex S\u00e1ez ([@Alex__S12](https://twitter.com/Alex__S12))"
     ]
    },
    {
     "cell_type": "markdown",
     "metadata": {},
     "source": [
      "<a rel=\"license\" href=\"http://creativecommons.org/licenses/by/4.0/deed.es\"><img alt=\"Licencia Creative Commons\" style=\"border-width:0\" src=\"http://i.creativecommons.org/l/by/4.0/88x31.png\" /></a><br /><span xmlns:dct=\"http://purl.org/dc/terms/\" property=\"dct:title\">Curso AeroPython</span> por <span xmlns:cc=\"http://creativecommons.org/ns#\" property=\"cc:attributionName\">Juan Luis Cano Rodriguez y Alejandro S\u00e1ez Mollejo</span> se distribuye bajo una <a rel=\"license\" href=\"http://creativecommons.org/licenses/by/4.0/deed.es\">Licencia Creative Commons Atribuci\u00f3n 4.0 Internacional</a>."
     ]
    },
    {
     "cell_type": "heading",
     "level": 1,
     "metadata": {},
     "source": [
      "CLASE 1b: Introducci\u00f3n a NumPy."
     ]
    },
    {
     "cell_type": "markdown",
     "metadata": {},
     "source": [
      "Hasta ahora hemos visto los tipos de datos m\u00e1s b\u00e1sicos que nos ofrece Python:\n",
      "\n",
      "* integer\n",
      "* real\n",
      "* complex\n",
      "* boolean\n",
      "* list\n",
      "* tuple\n",
      "\n",
      "pero... \u00bfno echas algo de menos? Efectivamente, los __arrays__. Para refrescar:\n",
      "\n",
      "#\u00bfQu\u00e9 es un array?\n",
      "\n",
      "__Un array es un conjunto de variables del mismo tipo que tienen el mismo nombre y se diferencian en el \u00edndice.__\n",
      "\n",
      "B\u00e1sicamente:\n",
      "\n",
      "* nos _recuerdan_ a los vectores, matrices, tensores...\n",
      "* podemos almacenar el array con un nombre y acceder a sus __elementos__ mediante sus __\u00edndices__.\n",
      "\n",
      "\n",
      "---\n",
      "\n",
      "| \u00cdndice     | 0     | 1     | 2     | 3     | ...   | n-1   | n  |\n",
      "| ---------- | :---: | :---: | :---: | :---: | :---: | :---: | :---: |\n",
      "| Valor      | 2.1   | 3.6   | 7.8   | 1.5   | ...   | 5.4   | 6.3 |\n",
      "\n",
      "---\n",
      "\n",
      "__\u00bfQu\u00e9 solemos guardar en arrays?__\n",
      "\n",
      "* Datos de experimentos:\n",
      "    - En distintos instantes discretos.\n",
      "    - En distintos lugares.\n",
      "* Resultado de evaluar funciones con los datos anteriores.\n",
      "* Resultados de integraci\u00f3n num\u00e9rica.\n",
      "* ... "
     ]
    },
    {
     "cell_type": "heading",
     "level": 1,
     "metadata": {},
     "source": [
      "\u00bfQu\u00e9 es NumPy?"
     ]
    },
    {
     "cell_type": "markdown",
     "metadata": {},
     "source": [
      "`NumPy` es un paquete fundamental para la programaci\u00f3n cient\u00edfica que proporciona __un objeto tipo array__ para almacenar datos de forma eficiente y una serie de __funciones__ para operar y manipular esos datos.\n",
      "Para usar NumPy lo primero que debemos hacer es importarlo:"
     ]
    },
    {
     "cell_type": "code",
     "collapsed": false,
     "input": [],
     "language": "python",
     "metadata": {},
     "outputs": []
    },
    {
     "cell_type": "markdown",
     "metadata": {},
     "source": [
      "Lo que hacemos es crear un *alias* al paquete `NumPy` de nombre `np`. Es simplemente una forma de abreviar el c\u00f3digo. Esta forma de separar las funciones en paquetes (que se llaman **espacios de nombres** o *namespaces*) conduce a una mayor legibilidad del c\u00f3digo y a la supresi\u00f3n de ambig\u00fcedades."
     ]
    },
    {
     "cell_type": "markdown",
     "metadata": {},
     "source": [
      "\u00bfno dec\u00edamos que Python era f\u00e1cil? __creemos nuestro primer array__:"
     ]
    },
    {
     "cell_type": "code",
     "collapsed": false,
     "input": [
      "mi_primer_array =  #se crea el array\n",
      "\n",
      "#imprime por pantalla mi_primer_array\n",
      "\n",
      "# imprime el tipo de mi_primer_array\n",
      "\n",
      "# imprime el tipo de datos que almacena mi_primer_array\n"
     ],
     "language": "python",
     "metadata": {},
     "outputs": []
    },
    {
     "cell_type": "markdown",
     "metadata": {},
     "source": [
      "Creemos un array bidimensional:"
     ]
    },
    {
     "cell_type": "code",
     "collapsed": false,
     "input": [
      "# array 2D\n",
      "# NOTA: \\ nos permite seguir escribieno en la siguiente linea\n",
      "mi_segundo_array = \n",
      "\n",
      "#imprime por pantalla mi_segundo_array\n",
      "\n",
      "# imprime el tipo de mi_segundo_array\n",
      "\n",
      "# imprime el tipo de datos que almacena mi_segundo_array\n"
     ],
     "language": "python",
     "metadata": {},
     "outputs": []
    },
    {
     "cell_type": "markdown",
     "metadata": {},
     "source": [
      "Hemos dicho que Numpy tambi\u00e9n proporciona __funciones__ para operar con arrays. Un ejemplo sencillo:"
     ]
    },
    {
     "cell_type": "code",
     "collapsed": false,
     "input": [
      "#suma todos los elementos\n"
     ],
     "language": "python",
     "metadata": {},
     "outputs": []
    },
    {
     "cell_type": "code",
     "collapsed": false,
     "input": [
      "# busca el m\u00e1ximo\n"
     ],
     "language": "python",
     "metadata": {},
     "outputs": []
    },
    {
     "cell_type": "markdown",
     "metadata": {},
     "source": [
      "y tambi\u00e9n incorpora algunas __constantes__ que puedan ser de utilidad:"
     ]
    },
    {
     "cell_type": "code",
     "collapsed": false,
     "input": [
      "# pi\n"
     ],
     "language": "python",
     "metadata": {},
     "outputs": []
    },
    {
     "cell_type": "code",
     "collapsed": false,
     "input": [
      "# e\n"
     ],
     "language": "python",
     "metadata": {},
     "outputs": []
    },
    {
     "cell_type": "heading",
     "level": 2,
     "metadata": {},
     "source": [
      "Caracter\u00edsticas de los arrays de NumPy"
     ]
    },
    {
     "cell_type": "markdown",
     "metadata": {},
     "source": [
      "El objeto tipo array que proporciona NumPy (Python ya dispone de un tipo array que sirve para almacenar elementos de igual tipo pero no proporciona toda la artiller\u00eda matem\u00e1tica necesaria como para hacer operaciones de manera r\u00e1pida y eficiente) se caracteriza por:"
     ]
    },
    {
     "cell_type": "heading",
     "level": 3,
     "metadata": {},
     "source": [
      "1) __Homogeneidad de tipo__:"
     ]
    },
    {
     "cell_type": "markdown",
     "metadata": {},
     "source": [
      "Comencemos viendo que ocurre con las __listas__:"
     ]
    },
    {
     "cell_type": "code",
     "collapsed": false,
     "input": [
      "lista = [ 1, 1+2j, True, 'aerodinamica', [1, 2, 3] ]\n",
      "print('Esta es mi lista: %s' %lista)"
     ],
     "language": "python",
     "metadata": {},
     "outputs": []
    },
    {
     "cell_type": "code",
     "collapsed": false,
     "input": [
      "print('Este es el elemento 2 de la lista: %s' %lista[2])\n",
      "print('Este es el elemento 4 de la lista: %s' %lista[4])"
     ],
     "language": "python",
     "metadata": {},
     "outputs": []
    },
    {
     "cell_type": "markdown",
     "metadata": {},
     "source": [
      "En el caso de los __arrays__:"
     ]
    },
    {
     "cell_type": "code",
     "collapsed": false,
     "input": [
      "import numpy as np\n",
      "array = np.array([ 1, 1+2j, True, 'aerodinamica'])\n",
      "print(array)\n",
      "clear_output()"
     ],
     "language": "python",
     "metadata": {},
     "outputs": []
    },
    {
     "cell_type": "markdown",
     "metadata": {},
     "source": [
      "\u00bfHa ido todo bien? Pista: \u00bfqu\u00e9 tipo de dato es 'aerodinamica'? \u00bfy '1'?"
     ]
    },
    {
     "cell_type": "heading",
     "level": 3,
     "metadata": {},
     "source": [
      "2) __Tama\u00f1o fijo en el momento de la creaci\u00f3n__:"
     ]
    },
    {
     "cell_type": "markdown",
     "metadata": {},
     "source": [
      "__\u00a1Tranquilo!__ los __allocate__ son autom\u00e1ticos...\n",
      "\n",
      "Igual que en el caso anterior, comencemos con la __lista__:"
     ]
    },
    {
     "cell_type": "code",
     "collapsed": false,
     "input": [
      "lista.append('fluidos')\n",
      "print(lista)"
     ],
     "language": "python",
     "metadata": {},
     "outputs": []
    },
    {
     "cell_type": "markdown",
     "metadata": {},
     "source": [
      "NumPy dispone de una funci\u00f3n append para usarla sobre los __arrays__. Consultemos la ayuda y leamos con detenimiento el apartado _Returns_:"
     ]
    },
    {
     "cell_type": "code",
     "collapsed": false,
     "input": [
      "help(np.append)"
     ],
     "language": "python",
     "metadata": {},
     "outputs": []
    },
    {
     "cell_type": "code",
     "collapsed": false,
     "input": [
      "array_2 = np.append(array, 'fluidos')\n",
      "print(array_2)"
     ],
     "language": "python",
     "metadata": {},
     "outputs": []
    },
    {
     "cell_type": "markdown",
     "metadata": {},
     "source": [
      "#\u00bfPor qu\u00e9 necesitamos arrays?"
     ]
    },
    {
     "cell_type": "markdown",
     "metadata": {},
     "source": [
      "Hasta el momento los arrays han demostrado ser bastante menos flexibles que las listas, luego olvidemos estos \u00faltimos 10 minutos y manejemos siempre listas... \u00bfno?\n",
      "\n",
      "__\u00a1PUES NO!__ Los arrays realizan una gesti\u00f3n de la memoria mucho m\u00e1s eficiente que mejora el rendimiento.\n",
      "\n",
      "Prestemos atenci\u00f3n ahora a la velocidad de ejecuci\u00f3n gracias a la _funci\u00f3n m\u00e1gica_ `%timeit` "
     ]
    },
    {
     "cell_type": "code",
     "collapsed": false,
     "input": [
      "lista = range(0,10000)"
     ],
     "language": "python",
     "metadata": {},
     "outputs": []
    },
    {
     "cell_type": "code",
     "collapsed": false,
     "input": [
      "%%timeit\n",
      "sum([x**10 * np.sin(x) for x in lista])"
     ],
     "language": "python",
     "metadata": {},
     "outputs": []
    },
    {
     "cell_type": "code",
     "collapsed": false,
     "input": [
      "array = np.arange(0.,10000.)"
     ],
     "language": "python",
     "metadata": {},
     "outputs": []
    },
    {
     "cell_type": "code",
     "collapsed": false,
     "input": [
      "%%timeit\n",
      "arr = np.sum(array**10 * np.sin(array))"
     ],
     "language": "python",
     "metadata": {},
     "outputs": []
    },
    {
     "cell_type": "markdown",
     "metadata": {},
     "source": [
      "### \u00bfx100? ESTO NO ES DEMASIADO IMPRESIONANTE... Seg\u00fan vayamos avanzando podremos ver alg\u00fan ejemplo mejor."
     ]
    },
    {
     "cell_type": "markdown",
     "metadata": {},
     "source": [
      "__Esto puede llegar a ir bastante r\u00e1pido si haces las cosas bien__, _pero no es FORTRAN, no es C... \u00bfo s\u00ed?_"
     ]
    },
    {
     "cell_type": "heading",
     "level": 1,
     "metadata": {},
     "source": [
      "Funciones para crear arrays"
     ]
    },
    {
     "cell_type": "markdown",
     "metadata": {},
     "source": [
      "\u00bfDemasiada teor\u00eda? vayamos a la pr\u00e1ctica. Ya hemos visto que la funci\u00f3n `np.array()` nos permite crear arrays con los valores que nosotros introduzcamos manualmente a trav\u00e9s de listas. M\u00e1s adelante, aprenderemos a leer ficheros y almacenarlos en arrays. Mientras tanto, \u00bfqu\u00e9 puede hacernos falta?"
     ]
    },
    {
     "cell_type": "heading",
     "level": 3,
     "metadata": {},
     "source": [
      "array de ceros"
     ]
    },
    {
     "cell_type": "markdown",
     "metadata": {},
     "source": [
      "En una dimensi\u00f3n:"
     ]
    },
    {
     "cell_type": "code",
     "collapsed": false,
     "input": [],
     "language": "python",
     "metadata": {},
     "outputs": []
    },
    {
     "cell_type": "markdown",
     "metadata": {},
     "source": [
      "En dos dimensiones:"
     ]
    },
    {
     "cell_type": "code",
     "collapsed": false,
     "input": [],
     "language": "python",
     "metadata": {},
     "outputs": []
    },
    {
     "cell_type": "markdown",
     "metadata": {},
     "source": [
      "\u00bfen tres?"
     ]
    },
    {
     "cell_type": "code",
     "collapsed": false,
     "input": [
      "#tranquilo, esto no creo que lo usemos mucho, pero \u00bfqui\u00e9n sabe?\n"
     ],
     "language": "python",
     "metadata": {},
     "outputs": []
    },
    {
     "cell_type": "markdown",
     "metadata": {},
     "source": [
      "<div class=\"alert alert-info\"><strong>Nota:</strong> \n",
      "En el caso 1D es v\u00e1lido tanto `np.zeros([5])` como `np.zeros(5)` (sin los corchetes), pero no lo ser\u00e1 para el caso nD,\n",
      "</div>"
     ]
    },
    {
     "cell_type": "heading",
     "level": 3,
     "metadata": {},
     "source": [
      "array de unos"
     ]
    },
    {
     "cell_type": "markdown",
     "metadata": {},
     "source": [
      "En una dimensi\u00f3n:"
     ]
    },
    {
     "cell_type": "code",
     "collapsed": false,
     "input": [],
     "language": "python",
     "metadata": {},
     "outputs": []
    },
    {
     "cell_type": "markdown",
     "metadata": {},
     "source": [
      "\u00bfsabr\u00edas crear uno de dos dimensiones?"
     ]
    },
    {
     "cell_type": "code",
     "collapsed": false,
     "input": [],
     "language": "python",
     "metadata": {},
     "outputs": []
    },
    {
     "cell_type": "heading",
     "level": 3,
     "metadata": {},
     "source": [
      "array \"vac\u00edo\""
     ]
    },
    {
     "cell_type": "code",
     "collapsed": false,
     "input": [],
     "language": "python",
     "metadata": {},
     "outputs": []
    },
    {
     "cell_type": "markdown",
     "metadata": {},
     "source": [
      "ehhh... \u00bfno estaba vac\u00edo? \u00fasalo con precauci\u00f3n."
     ]
    },
    {
     "cell_type": "markdown",
     "metadata": {},
     "source": [
      "\u00bfAdivinas que ocurre si usas las funciones `np.zeros_like()` `np.ones_like` ...? \u00bfno? siempre puedes usar la ayuda?"
     ]
    },
    {
     "cell_type": "heading",
     "level": 3,
     "metadata": {},
     "source": [
      "array identidad"
     ]
    },
    {
     "cell_type": "code",
     "collapsed": false,
     "input": [
      "np.identity(3)"
     ],
     "language": "python",
     "metadata": {},
     "outputs": []
    },
    {
     "cell_type": "markdown",
     "metadata": {},
     "source": [
      "Tambi\u00e9n puedes probar `np.eye()` y `np.diag()`. Puede parecerte iguales, pero tienen algunas diferencias."
     ]
    },
    {
     "cell_type": "heading",
     "level": 2,
     "metadata": {},
     "source": [
      "Rangos"
     ]
    },
    {
     "cell_type": "heading",
     "level": 3,
     "metadata": {},
     "source": [
      "`np.arange()`"
     ]
    },
    {
     "cell_type": "markdown",
     "metadata": {},
     "source": [
      "NumPy, dame __un array que vaya de 0 a 5__:"
     ]
    },
    {
     "cell_type": "code",
     "collapsed": false,
     "input": [],
     "language": "python",
     "metadata": {},
     "outputs": []
    },
    {
     "cell_type": "markdown",
     "metadata": {},
     "source": [
      "Mira con atenci\u00f3n el resultado anterior, \u00bfhay algo que deber\u00edas grabar en tu cabeza para simpre?"
     ]
    },
    {
     "cell_type": "markdown",
     "metadata": {},
     "source": [
      "NumPy, dame __un array que vaya de 0 a 10, de 3 en 3__:"
     ]
    },
    {
     "cell_type": "code",
     "collapsed": false,
     "input": [],
     "language": "python",
     "metadata": {},
     "outputs": []
    },
    {
     "cell_type": "markdown",
     "metadata": {},
     "source": [
      "\u00bfTe gustar\u00eda que en lugar de `integer`, fuese tipo `float`? Seguro que puedes averiguar c\u00f3mo hacerlo...\n",
      "\n",
      "Y... \u00bfpodremos hacer que el salto sea de 1.3896 en 1.3896?"
     ]
    },
    {
     "cell_type": "heading",
     "level": 3,
     "metadata": {},
     "source": [
      "`np.reshape()`"
     ]
    },
    {
     "cell_type": "markdown",
     "metadata": {},
     "source": [
      "Con `np.arange()` es posible crear \"vectores\" cuyos elementos tomen valores consecutivos o equiespaciados, como hemos visto anteriormente. \u00bfPodemos hacer lo mismo con \"matrices\"? Pues s\u00ed, pero no usando una sola funci\u00f3n. Imagina que quieres crear algo como esto:\n",
      "\n",
      "\\begin{pmatrix}\n",
      "    1 & 2 & 3\\\\ \n",
      "    4 & 5 & 6\\\\\n",
      "    7 & 8 & 9\\\\\n",
      "    \\end{pmatrix}\n",
      "    \n",
      "* Comenzaremos por crear un array 1d con los valores $(1,2,3,4,5,6,7,8,9)$ usando `np.arange()`.\n",
      "* Luego le daremos forma de array 2d. con `np.reshape(array, (dim0, dim1))`."
     ]
    },
    {
     "cell_type": "code",
     "collapsed": false,
     "input": [
      "#creamos un array de 1 a 9\n",
      "\n",
      "#le damos forma\n",
      "\n",
      "#lo imprimimos por pantalla"
     ],
     "language": "python",
     "metadata": {},
     "outputs": []
    },
    {
     "cell_type": "markdown",
     "metadata": {},
     "source": [
      "__Para \"jugar\" un poco m\u00e1s:__\n",
      "\n",
      "* Reshape tambi\u00e9n funciona al rev\u00e9s \u00bferes capaz de rehacer el vector a partir de la matriz?\n",
      "* \u00bfqu\u00e9 ocurre si pasas -1 como dimensi\u00f3n? (`np.reshape(M,-1)`)"
     ]
    },
    {
     "cell_type": "code",
     "collapsed": false,
     "input": [],
     "language": "python",
     "metadata": {},
     "outputs": []
    },
    {
     "cell_type": "code",
     "collapsed": false,
     "input": [],
     "language": "python",
     "metadata": {},
     "outputs": []
    },
    {
     "cell_type": "heading",
     "level": 3,
     "metadata": {},
     "source": [
      "`np.linspace()`"
     ]
    },
    {
     "cell_type": "markdown",
     "metadata": {},
     "source": [
      "Si has tenido que usar MATLAB alguna vez, seguro que esto te suena:"
     ]
    },
    {
     "cell_type": "code",
     "collapsed": false,
     "input": [],
     "language": "python",
     "metadata": {},
     "outputs": []
    },
    {
     "cell_type": "markdown",
     "metadata": {},
     "source": [
      "\u00bfPuedes decirme cuando preferir\u00edas esta funci\u00f3n a `np.arange()`? \n",
      "\n",
      "No vale para pintar gr\u00e1ficas... \u00bfpor qu\u00e9 para pintar es mejor `np.linspace()`?"
     ]
    },
    {
     "cell_type": "heading",
     "level": 3,
     "metadata": {},
     "source": [
      "`np.logspace()`"
     ]
    },
    {
     "cell_type": "markdown",
     "metadata": {},
     "source": [
      "\u00bflo adivinas?"
     ]
    },
    {
     "cell_type": "code",
     "collapsed": false,
     "input": [],
     "language": "python",
     "metadata": {},
     "outputs": []
    },
    {
     "cell_type": "heading",
     "level": 1,
     "metadata": {},
     "source": [
      "matplotlib"
     ]
    },
    {
     "cell_type": "markdown",
     "metadata": {},
     "source": [
      "\u00bfmatplot qu\u00e9? no te preocupes, trabajaremos con esta librer\u00eda m\u00e1s adelante, la pregunta es:\n",
      "\n",
      "__\u00bfcrees que va a terminar tu primera clase sin pintar una funci\u00f3n?__ igual que en..."
     ]
    },
    {
     "cell_type": "markdown",
     "metadata": {},
     "source": [
      "Lo primero que hay que hacer, como con `NumPy`, es importarlo:"
     ]
    },
    {
     "cell_type": "code",
     "collapsed": false,
     "input": [
      "import matplotlib.pyplot as plt\n",
      "\n",
      "# esto es un comando m\u00e1gio del Notebook de IPython\n",
      "# gracias a el las gr\u00e1ficas se ver\u00e1n en el Notebook.\n",
      "%matplotlib inline"
     ],
     "language": "python",
     "metadata": {},
     "outputs": []
    },
    {
     "cell_type": "markdown",
     "metadata": {},
     "source": [
      "\u00bfQu\u00e9 queremos pintar?"
     ]
    },
    {
     "cell_type": "code",
     "collapsed": false,
     "input": [],
     "language": "python",
     "metadata": {},
     "outputs": []
    },
    {
     "cell_type": "markdown",
     "metadata": {},
     "source": [
      "vale, pues pintemos. Esto tambi\u00e9n te sonar\u00e1 si has usado MATLAB:"
     ]
    },
    {
     "cell_type": "code",
     "collapsed": false,
     "input": [],
     "language": "python",
     "metadata": {},
     "outputs": []
    },
    {
     "cell_type": "code",
     "collapsed": false,
     "input": [],
     "language": "python",
     "metadata": {},
     "outputs": []
    },
    {
     "cell_type": "markdown",
     "metadata": {},
     "source": [
      "#Conclusiones\n",
      "* __Ingenieros y cient\u00edficos $\\heartsuit$ arrays.__\n",
      "* __Ingenieros y cient\u00edficos necesitan NumPy.__"
     ]
    },
    {
     "cell_type": "markdown",
     "metadata": {},
     "source": [
      "# Hemos aprendido:\n",
      "\n",
      "* Las caracter\u00edsticas de los arrays de NumPy:\n",
      "    - Homogeneidad de tipo.\n",
      "    - Tama\u00f1o fijo en el momento de la creaci\u00f3n.\n",
      "* A usar las principales funciones para crear arrays.\n",
      "* A pintar nuestra primera gr\u00e1fica con matplotlib."
     ]
    },
    {
     "cell_type": "markdown",
     "metadata": {},
     "source": [
      "# To be continued...\n",
      "\n",
      "- Operaciones con arrays.\n",
      "- Acceso a elementos del array: slicing.\n",
      "\n",
      "\n",
      "\n",
      "- Definici\u00f3n de funciones.\n",
      "\n",
      "\n",
      "\n",
      "- M\u00e1s matplotlib."
     ]
    },
    {
     "cell_type": "markdown",
     "metadata": {},
     "source": [
      "#\u00a1Quiero m\u00e1s!\n",
      "Algunos enlaces en Pybonacci:\n",
      "\n",
      "* [C\u00f3mo crear matrices en Python con NumPy](http://pybonacci.wordpress.com/2012/06/11/como-crear-matrices-en-python-con-numpy/).\n",
      "* [N\u00fameros aleatorios en Python con NumPy y SciPy](http://pybonacci.wordpress.com/2013/01/11/numeros-aleatorios-en-python-con-numpy-y-scipy/).\n",
      "\n",
      "\n",
      "Algunos enlaces en otros sitios:\n",
      "\n",
      "* [100 numpy exercises](http://www.loria.fr/~rougier/teaching/numpy.100/index.html?utm_content=buffer85341&utm_medium=social&utm_source=twitter.com&utm_campaign=buffer). Es posible que de momento s\u00f3lo sepas hacer los primeros, pero tranquilo, pronto sabr\u00e1s m\u00e1s...\n",
      "* [NumPy and IPython SciPy 2013 Tutorial](http://conference.scipy.org/scipy2013/tutorial_detail.php?id=100).\n",
      "* [NumPy and SciPy documentation](http://docs.scipy.org/doc/).\n"
     ]
    }
   ],
   "metadata": {}
  }
 ]
}