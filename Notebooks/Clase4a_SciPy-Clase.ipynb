{
 "metadata": {
  "name": "",
  "signature": "sha256:2638f718ff566a8916707b46794afc4262e27e7da935f68566ee15a5d53fcf68"
 },
 "nbformat": 3,
 "nbformat_minor": 0,
 "worksheets": [
  {
   "cells": [
    {
     "cell_type": "markdown",
     "metadata": {},
     "source": [
      "# Curso AeroPython ETSIAE\n",
      "\n",
      "## Juan Luis Cano ([@Pybonacci](https://twitter.com/Pybonacci)) y \u00c1lex S\u00e1ez ([@Alex__S12](https://twitter.com/Alex__S12))"
     ]
    },
    {
     "cell_type": "markdown",
     "metadata": {},
     "source": [
      "<a rel=\"license\" href=\"http://creativecommons.org/licenses/by/4.0/deed.es\"><img alt=\"Licencia Creative Commons\" style=\"border-width:0\" src=\"http://i.creativecommons.org/l/by/4.0/88x31.png\" /></a><br /><span xmlns:dct=\"http://purl.org/dc/terms/\" property=\"dct:title\">Curso AeroPython</span> por <span xmlns:cc=\"http://creativecommons.org/ns#\" property=\"cc:attributionName\">Juan Luis Cano Rodriguez y Alejandro S\u00e1ez Mollejo</span> se distribuye bajo una <a rel=\"license\" href=\"http://creativecommons.org/licenses/by/4.0/deed.es\">Licencia Creative Commons Atribuci\u00f3n 4.0 Internacional</a>."
     ]
    },
    {
     "cell_type": "heading",
     "level": 1,
     "metadata": {},
     "source": [
      "CLASE 4a: SciPy"
     ]
    },
    {
     "cell_type": "markdown",
     "metadata": {},
     "source": [
      "`SciPy` es paquete que incluye una colecci\u00f3n de algoritmos matem\u00e1ticos y funciones construidas sobre el paquete `NumPy`. En definitiva, nos proporciona una serie de comandos de alto nivel para realizar acciones como:\n",
      "\n",
      "* Integraci\u00f3n num\u00e9rca.\n",
      "* Resolver un sistema de ecuaciones por el _m\u00e9todo de Newton_, bisecci\u00f3n...\n",
      "* Resolver EDOs.\n",
      "    \n",
      "Incluso otras m\u00e1s especializadas como:\n",
      "\n",
      "* [Ajuste e interpolaci\u00f3n de datos.](http://pybonacci.wordpress.com/?s=interpolacion)\n",
      "* [Teor\u00eda de control](http://pybonacci.wordpress.com/2013/10/10/teoria-de-control-en-python-con-scipy-i/).\n",
      "* Procesamiento de im\u00e1genes.\n",
      "* Estad\u00edstica.\n",
      "* ...\n",
      "\n",
      "Cada una de estas tareas pertenece a un _subpaquete_ distinto de `SciPy`. __En la clase de hoy nos centraremos en las tres primeras__, pero seguro que si quieres _hincarle el diente_ a alguna de las otras no tienes ning\u00fan problema.\n",
      "\n",
      "\n",
      "\n",
      "|   Subpackage   | Description |\n",
      "| ----------     | :---       |\n",
      "| constants      |    Physical and mathematical constants         |\n",
      "| integrate      |    Integration and ordinary differential equation solvers |\n",
      "| interpolate    |\tInterpolation and smoothing splines |\n",
      "| linalg         |\tLinear algebra |\n",
      "| signal         |\tSignal processing |\n",
      "| special        | \tSpecial functions |\n",
      "| stats          |\tStatistical distributions and functions |"
     ]
    },
    {
     "cell_type": "heading",
     "level": 1,
     "metadata": {},
     "source": [
      "Algunos ejemplos..."
     ]
    },
    {
     "cell_type": "markdown",
     "metadata": {},
     "source": [
      "Como siempre lo primero es lo primero, __importemos__ lo paquetes que vamos a utilizar:"
     ]
    },
    {
     "cell_type": "code",
     "collapsed": false,
     "input": [
      "import numpy as np\n",
      "import matplotlib.pyplot as plt\n",
      "\n",
      "%matplotlib inline"
     ],
     "language": "python",
     "metadata": {},
     "outputs": []
    },
    {
     "cell_type": "markdown",
     "metadata": {},
     "source": [
      "    `import scipy as ...`\n",
      "\n",
      "\n",
      "Bueno, en realidad `SciPy` nos ofrece muchas funciones y rara vez querremos usarlo todo en una misma sesi\u00f3n. __T\u00edpicamente usaremos:__\n",
      "\n",
      "    from scipy import ..."
     ]
    },
    {
     "cell_type": "code",
     "collapsed": false,
     "input": [
      "from scipy import special"
     ],
     "language": "python",
     "metadata": {},
     "outputs": []
    },
    {
     "cell_type": "code",
     "collapsed": false,
     "input": [
      "np.info(special.airy)"
     ],
     "language": "python",
     "metadata": {},
     "outputs": []
    },
    {
     "cell_type": "code",
     "collapsed": false,
     "input": [
      "special.airy(2+3j)"
     ],
     "language": "python",
     "metadata": {},
     "outputs": []
    },
    {
     "cell_type": "code",
     "collapsed": false,
     "input": [
      "from scipy import constants"
     ],
     "language": "python",
     "metadata": {},
     "outputs": []
    },
    {
     "cell_type": "code",
     "collapsed": false,
     "input": [
      "help(constants)"
     ],
     "language": "python",
     "metadata": {},
     "outputs": []
    },
    {
     "cell_type": "code",
     "collapsed": false,
     "input": [
      "constants.gravitational_constant"
     ],
     "language": "python",
     "metadata": {},
     "outputs": []
    },
    {
     "cell_type": "code",
     "collapsed": false,
     "input": [
      "constants.value('Newtonian constant of gravitation')"
     ],
     "language": "python",
     "metadata": {},
     "outputs": []
    },
    {
     "cell_type": "code",
     "collapsed": false,
     "input": [
      "constants.unit('Newtonian constant of gravitation')"
     ],
     "language": "python",
     "metadata": {},
     "outputs": []
    },
    {
     "cell_type": "code",
     "collapsed": false,
     "input": [
      "constants.precision('Newtonian constant of gravitation')"
     ],
     "language": "python",
     "metadata": {},
     "outputs": []
    },
    {
     "cell_type": "heading",
     "level": 1,
     "metadata": {},
     "source": [
      "`scipy.integrate`"
     ]
    },
    {
     "cell_type": "markdown",
     "metadata": {},
     "source": [
      "Este subpaquete de `SciPy` proporciona algunas __t\u00e9cnicas de integraci\u00f3n tanto de funciones como de ecuaciones diferenciales__. En primer lugar import\u00e9moslo y ejecutemos la ayuda para ver cu\u00e1les son estas funciones:"
     ]
    },
    {
     "cell_type": "code",
     "collapsed": false,
     "input": [
      "from scipy import integrate\n",
      "#normalmente no importaremos integrate entero"
     ],
     "language": "python",
     "metadata": {},
     "outputs": []
    },
    {
     "cell_type": "code",
     "collapsed": false,
     "input": [
      "from IPython.display import HTML\n",
      "HTML('<iframe src=\"http://docs.scipy.org/doc/scipy/reference/integrate.html#module-scipy.integrate\" width=\"800\" height=\"600\"></iframe>')"
     ],
     "language": "python",
     "metadata": {},
     "outputs": []
    },
    {
     "cell_type": "heading",
     "level": 2,
     "metadata": {},
     "source": [
      "`quad`"
     ]
    },
    {
     "cell_type": "code",
     "collapsed": false,
     "input": [
      "help(integrate)"
     ],
     "language": "python",
     "metadata": {},
     "outputs": []
    },
    {
     "cell_type": "markdown",
     "metadata": {},
     "source": [
      "Como se puede ver en la ayuda, si queremos realizar una _integraci\u00f3n num\u00e9rica_ de una funci\u00f3n de una variable la funci\u00f3n que debemos utilizar es `quad` (aunque tambi\u00e9n podemos usar `trapz`, `simps`... La forma de acceder a ella tal y como hemos importado el paquete ser\u00eda ejecutando `integrate.quad`. Sin emabrgo, ser\u00eda m\u00e1s normal importar del siguiete modo:"
     ]
    },
    {
     "cell_type": "code",
     "collapsed": false,
     "input": [
      "#importamos quad\n"
     ],
     "language": "python",
     "metadata": {},
     "outputs": []
    },
    {
     "cell_type": "markdown",
     "metadata": {},
     "source": [
      "De este modo se puede usar la funci\u00f3n quad, simplemente como `quad`. Pero todav\u00eda no sabemos c\u00f3mo funciona, \u00bfte atreves a investigarlo t\u00fa?"
     ]
    },
    {
     "cell_type": "code",
     "collapsed": false,
     "input": [],
     "language": "python",
     "metadata": {},
     "outputs": []
    },
    {
     "cell_type": "markdown",
     "metadata": {},
     "source": [
      "Quiz\u00e1 [esta ayuda](http://docs.scipy.org/doc/scipy/reference/integrate.html#module-scipy.integrate) te resulte m\u00e1s atractiva.\n",
      "\n",
      "\u00bfQu\u00e9 es lo primero que necesitamos hacer para integrar una funci\u00f3n? Pues s\u00ed, la funci\u00f3n... definamos una:\n",
      "\n",
      "$$f(x) = x \\cdot sin(x)$$"
     ]
    },
    {
     "cell_type": "code",
     "collapsed": false,
     "input": [],
     "language": "python",
     "metadata": {},
     "outputs": []
    },
    {
     "cell_type": "markdown",
     "metadata": {},
     "source": [
      "Antes de integrarla genera esta gr\u00e1fica:\n",
      "\n",
      "![](https://dl.dropboxusercontent.com/u/18801976/index.png)"
     ]
    },
    {
     "cell_type": "code",
     "collapsed": false,
     "input": [],
     "language": "python",
     "metadata": {},
     "outputs": []
    },
    {
     "cell_type": "markdown",
     "metadata": {},
     "source": [
      "Integremos la funci\u00f3n en el intervalo $[2, 9]$, recuerda que esto te calcula la integral, no el \u00e1rea:"
     ]
    },
    {
     "cell_type": "code",
     "collapsed": false,
     "input": [],
     "language": "python",
     "metadata": {},
     "outputs": []
    },
    {
     "cell_type": "heading",
     "level": 2,
     "metadata": {},
     "source": [
      "Trapecio y Simpson"
     ]
    },
    {
     "cell_type": "markdown",
     "metadata": {},
     "source": [
      "Trapecio y Simpson funcionan un poco distinto, pasaremos por esto muy r\u00e1pido:"
     ]
    },
    {
     "cell_type": "code",
     "collapsed": false,
     "input": [],
     "language": "python",
     "metadata": {},
     "outputs": []
    },
    {
     "cell_type": "code",
     "collapsed": false,
     "input": [],
     "language": "python",
     "metadata": {},
     "outputs": []
    },
    {
     "cell_type": "heading",
     "level": 2,
     "metadata": {},
     "source": [
      "Ahora t\u00fa"
     ]
    },
    {
     "cell_type": "markdown",
     "metadata": {},
     "source": [
      "En la teor\u00eda de la probabilidad, la funci\u00f3n de densidad de probabilidad de una variable aleatoria continua describe la probabilidad relativa seg\u00fan la cual dicha variable aleatoria tomar\u00e1 determinado valor. __La probabilidad de que la variable aleatoria caiga en una regi\u00f3n espec\u00edfica del espacio de posibilidades estar\u00e1 dada por la integral de la densidad de esta variable entre uno y otro l\u00edmite de dicha regi\u00f3n.__\n",
      "\n",
      "$$P[a\\leq X\\leq b]=\\intop_{a}^{b}f(x)dx$$\n",
      "\n",
      "En muchas ocasiones, la funci\u00f3n densidad de probabilidad que rige el suceso a estudiar es la __distribuci\u00f3n normal__:\n",
      "\n",
      "$$N(\\mu,\\sigma)=\\frac{1}{\\sigma\\sqrt{2\\pi}}e^{-\\frac{1}{2}\\left(\\frac{x-\\mu}{\\sigma}\\right)^2}$$\n",
      "\n",
      "Por comodidad encontramos tabulada la probabilidad de $N(0,1)$:\n",
      "\n",
      "$$\\phi(x)=\\intop_{-\\infty}^{x}\\frac{1}{\\sqrt{2\\pi}}e^{-\\frac{x^2}{2}}dx$$\n",
      "\n",
      "Como puedes imaginar Python es capaz de darte la probabilidad de un suceso, dadas $\\mu, \\sigma, x$, pero el reto esta vez es que calcules tus propios valores de tabla haciendo la integral y aplicando lo que has aprendido. Como el tiempo es limitado aqu\u00ed tienes algunos pasos:\n",
      "\n",
      "1. __Define la funci\u00f3n__ que vas a integrar. Tienes la expresi\u00f3n abajo.\n",
      "2. __P\u00edntala__ para ver que todo va bien.\n",
      "3. __Int\u00e9grala usando quad calculando el valor para algunas $x$__ \u00bfcoincide con los valores de [tabla](http://albeniz-2bachillerato.wikispaces.com/file/view/Normal_tipificada.GIF/452760664/Normal_tipificada.GIF)? (_PISTA_: uno de los l\u00edmites de integraci\u00f3n es $-\\infty$ puedes indicar este valor como `np.inf`.)\n",
      "\n",
      "Avanzados:\n",
      "\n",
      "4. Pinta la funci\u00f3n probabilidad $\\phi(x)$ entre $[-5,5]$.\n",
      "4. \u00bfSer\u00edas capaz de hacer una funci\u00f3n a la que le pases como argumentos $\\mu, \\sigma, x$ y te devuelva la probabilidad de ese suceso?\n",
      "5. \u00bfSer\u00edas capaz de devolver una gr\u00e1fica con la distribuci\u00f3n de probabilidad en la que est\u00e9 sombreada el \u00e1rea integrada?"
     ]
    },
    {
     "cell_type": "code",
     "collapsed": false,
     "input": [
      "#APARTADO 1\n",
      "\n",
      "np.exp(-x**2 / 2.) / np.sqrt(2*np.pi)\n"
     ],
     "language": "python",
     "metadata": {},
     "outputs": []
    },
    {
     "cell_type": "code",
     "collapsed": false,
     "input": [
      "#APARTADO 2\n",
      "\n"
     ],
     "language": "python",
     "metadata": {},
     "outputs": []
    },
    {
     "cell_type": "code",
     "collapsed": false,
     "input": [
      "# APARTADO 3\n"
     ],
     "language": "python",
     "metadata": {},
     "outputs": []
    },
    {
     "cell_type": "code",
     "collapsed": false,
     "input": [
      "#APARTADO 4\n"
     ],
     "language": "python",
     "metadata": {},
     "outputs": []
    },
    {
     "cell_type": "code",
     "collapsed": false,
     "input": [],
     "language": "python",
     "metadata": {},
     "outputs": []
    },
    {
     "cell_type": "code",
     "collapsed": false,
     "input": [
      "#APARTADO 5\n"
     ],
     "language": "python",
     "metadata": {},
     "outputs": []
    },
    {
     "cell_type": "code",
     "collapsed": false,
     "input": [],
     "language": "python",
     "metadata": {},
     "outputs": []
    },
    {
     "cell_type": "code",
     "collapsed": false,
     "input": [
      "# APARTADO 6"
     ],
     "language": "python",
     "metadata": {},
     "outputs": []
    },
    {
     "cell_type": "code",
     "collapsed": false,
     "input": [],
     "language": "python",
     "metadata": {},
     "outputs": []
    },
    {
     "cell_type": "heading",
     "level": 2,
     "metadata": {},
     "source": [
      "Una muestra del futuro..."
     ]
    },
    {
     "cell_type": "code",
     "collapsed": false,
     "input": [
      "from IPython.html.widgets import interact\n",
      "from IPython.display import clear_output, display"
     ],
     "language": "python",
     "metadata": {},
     "outputs": []
    },
    {
     "cell_type": "code",
     "collapsed": false,
     "input": [
      "w = interact(dame_probabilidad, x=(-5.,5.), mu=(-2.,2.), sigma=(0.1,3.))\n",
      "display(w)"
     ],
     "language": "python",
     "metadata": {},
     "outputs": []
    },
    {
     "cell_type": "heading",
     "level": 1,
     "metadata": {},
     "source": [
      "Resoluci\u00f3n de ecuaciones"
     ]
    },
    {
     "cell_type": "markdown",
     "metadata": {},
     "source": [
      "Los m\u00e9todos num\u00e9ricos de resoluci\u00f3n de ecuaciones se encuentran en `scipy.optimize`. En concreto usaremos `newton`:"
     ]
    },
    {
     "cell_type": "code",
     "collapsed": false,
     "input": [
      "#importamos\n"
     ],
     "language": "python",
     "metadata": {},
     "outputs": []
    },
    {
     "cell_type": "code",
     "collapsed": false,
     "input": [
      "#vemos la ayuda...\n"
     ],
     "language": "python",
     "metadata": {},
     "outputs": []
    },
    {
     "cell_type": "markdown",
     "metadata": {},
     "source": [
      "Como se puede comprobar leyendo el primer p\u00e1rrafo de la ayuda, `scipy.optimize.newton` no incluye un solo m\u00e9todo sino tres:\n",
      "\n",
      "* __Newton-Raphson__ si se da la derivada como argumento.\n",
      "* __Secante__ si no se da la derivada.\n",
      "* __Halley parab\u00f3lico__ si se da la derivada segunda.\n"
     ]
    },
    {
     "cell_type": "heading",
     "level": 2,
     "metadata": {},
     "source": [
      "Ejemplo: ecuaci\u00f3n de Kepler"
     ]
    },
    {
     "cell_type": "markdown",
     "metadata": {},
     "source": [
      "La ecuaci\u00f3n de Kepler\n",
      "\n",
      "$$M = E - e sin(E)$$\n",
      "\n",
      "relaciona la anomal\u00eda media, $M$, con la anomal\u00eda exc\u00e9ntrica, $E$, a trav\u00e9s de la excentricidad, $e$, a trav\u00e9s de una ecuaci\u00f3n transcendente que debe ser resulta num\u00e9ricamente.\n",
      "\n",
      "<img alt=\"Kepler's_equation_scheme\" size=\"2\" src=\"http://upload.wikimedia.org/wikipedia/commons/thumb/f/f8/Kepler%27s-equation-scheme.png/250px-Kepler%27s-equation-scheme.png\" />\n",
      "\n",
      "Tratemos de resolver esta ecuaci\u00f3n: expres\u00e1ndola en la forma: $E - e sin(E) - M = 0$. Primero definimos la funci\u00f3n:"
     ]
    },
    {
     "cell_type": "code",
     "collapsed": false,
     "input": [],
     "language": "python",
     "metadata": {},
     "outputs": []
    },
    {
     "cell_type": "code",
     "collapsed": false,
     "input": [
      "#la resolvemos en la E (anomalia exc\u00e9ntrica) para M,e\n",
      "e = 0.7\n",
      "M = 0.5\n"
     ],
     "language": "python",
     "metadata": {},
     "outputs": []
    },
    {
     "cell_type": "markdown",
     "metadata": {},
     "source": [
      "Puedes encontrar m\u00e1s ejemplos de resoluci\u00f3n de ecuaciones y sistemas de ecuaciones [aqu\u00ed](http://pybonacci.wordpress.com/2012/10/25/como-resolver-ecuaciones-algebraicas-en-python-con-scipy/)."
     ]
    }
   ],
   "metadata": {}
  }
 ]
}