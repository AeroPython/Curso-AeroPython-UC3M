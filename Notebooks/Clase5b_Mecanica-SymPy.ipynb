{
 "metadata": {
  "name": "",
  "signature": "sha256:7e7108fe11b4b133f65f343772bdd8b01e899bc52a0b94b00b110d0b19c32bff"
 },
 "nbformat": 3,
 "nbformat_minor": 0,
 "worksheets": [
  {
   "cells": [
    {
     "cell_type": "markdown",
     "metadata": {},
     "source": [
      "<img src=\"../static/aeropython_name_mini.png\" alt=\"AeroPython\" style=\"width: 300px;\"/>"
     ]
    },
    {
     "cell_type": "heading",
     "level": 1,
     "metadata": {},
     "source": [
      "Clase 5b: Mec\u00e1nica con SymPy"
     ]
    },
    {
     "cell_type": "markdown",
     "metadata": {},
     "source": [
      "_Si SymPy te ha parecido hasta ahora un CAS decente e incluso interesante (nada como tener los resultados en $\\LaTeX$ incrustados en el notebook y la sintaxis de Python para hacer c\u00e1lculo simb\u00f3lico) entonces espera a ver el paquete `mechanics`. Con \u00e9l, podremos manipular velocidades y aceleraciones de s\u00f3lidos expresadas en distintos sistemas de referencia con una facilidad impresionante._\n",
      "\n",
      "_Tienes disponible la documentaci\u00f3n de `mechanics` en http://docs.sympy.org/0.7.5/modules/physics/mechanics/index.html._"
     ]
    },
    {
     "cell_type": "heading",
     "level": 2,
     "metadata": {},
     "source": [
      "Sistemas de referencia"
     ]
    },
    {
     "cell_type": "markdown",
     "metadata": {},
     "source": [
      "El objeto primordial que vamos a manejar van a ser los sistemas de referencia. Podremos definir relaciones geom\u00e9tricas entre ellos y de esta forma las transformaciones de vectores entre un sistema y otro ser\u00e1n triviales."
     ]
    },
    {
     "cell_type": "code",
     "collapsed": false,
     "input": [
      "from sympy import init_session\n",
      "init_session(use_latex=True)"
     ],
     "language": "python",
     "metadata": {},
     "outputs": [
      {
       "output_type": "stream",
       "stream": "stdout",
       "text": [
        "IPython console for SymPy 0.7.5 (Python 3.4.2-64-bit) (ground types: python)\n",
        "\n",
        "These commands were executed:\n",
        ">>> from __future__ import division\n",
        ">>> from sympy import *\n",
        ">>> x, y, z, t = symbols('x y z t')\n",
        ">>> k, m, n = symbols('k m n', integer=True)\n",
        ">>> f, g, h = symbols('f g h', cls=Function)\n",
        "\n",
        "Documentation can be found at http://www.sympy.org\n"
       ]
      },
      {
       "output_type": "stream",
       "stream": "stderr",
       "text": [
        "WARNING: Hook shutdown_hook is deprecated. Use the atexit module instead.\n"
       ]
      }
     ],
     "prompt_number": 1
    },
    {
     "cell_type": "markdown",
     "metadata": {},
     "source": [
      "Todo lo que necesitamos est\u00e1 en `sympy.physics.mechanics`, incluyendo la clase `ReferenceFrame`. Nada m\u00e1s crear un sistema de referencia podemos acceder a sus versores unitarios: `x`, `y` y `z`.\n",
      "\n",
      "http://docs.sympy.org/0.7.5/modules/physics/vector/vectors.html"
     ]
    },
    {
     "cell_type": "code",
     "collapsed": false,
     "input": [
      "from sympy.physics.mechanics import ReferenceFrame"
     ],
     "language": "python",
     "metadata": {},
     "outputs": [],
     "prompt_number": 2
    },
    {
     "cell_type": "code",
     "collapsed": false,
     "input": [
      "A = ReferenceFrame(\"A\")\n",
      "A.x"
     ],
     "language": "python",
     "metadata": {},
     "outputs": [
      {
       "latex": [
        "$$\\mathbf{\\hat{a}_x}$$"
       ],
       "metadata": {},
       "output_type": "pyout",
       "png": "[encoded data removed]",
       "prompt_number": 3,
       "text": [
        "\u001b[94m\u001b[1ma_x\u001b[0;0m\u001b[0;0m"
       ]
      }
     ],
     "prompt_number": 3
    },
    {
     "cell_type": "markdown",
     "metadata": {},
     "source": [
      "Y para definir vectores solo tenemos que **multiplicar cada componente por su versor**:"
     ]
    },
    {
     "cell_type": "code",
     "collapsed": false,
     "input": [
      "2 * A.x - 1 * A.y"
     ],
     "language": "python",
     "metadata": {},
     "outputs": [
      {
       "latex": [
        "$$2\\mathbf{\\hat{a}_x} - \\mathbf{\\hat{a}_y}$$"
       ],
       "metadata": {},
       "output_type": "pyout",
       "png": "[encoded data removed]",
       "prompt_number": 4,
       "text": [
        "2 \u001b[94m\u001b[1ma_x\u001b[0;0m\u001b[0;0m - \u001b[94m\u001b[1ma_y\u001b[0;0m\u001b[0;0m"
       ]
      }
     ],
     "prompt_number": 4
    },
    {
     "cell_type": "markdown",
     "metadata": {},
     "source": [
      "De ahora en adelante, para trabajar como si nos enfrent\u00e1ramos a un problema de la escuela, vamos a hacer dos cosas:\n",
      "\n",
      "* Definir un sistema inercial $1$ del que partir, para as\u00ed poder referir todos los dem\u00e1s sistemas a \u00e9l.\n",
      "* Que los versores de ese sistema sean $i, j, k$."
     ]
    },
    {
     "cell_type": "code",
     "collapsed": false,
     "input": [
      "A = ReferenceFrame(\"1\", latexs=['\\mathbf{i}', '\\mathbf{j}', '\\mathbf{k}'])\n",
      "A.x + A.y + A.z"
     ],
     "language": "python",
     "metadata": {},
     "outputs": [
      {
       "latex": [
        "$$\\mathbf{i} + \\mathbf{j} + \\mathbf{k}$$"
       ],
       "metadata": {},
       "output_type": "pyout",
       "png": "[encoded data removed]",
       "prompt_number": 5,
       "text": [
        "\u001b[94m\u001b[1m1_x\u001b[0;0m\u001b[0;0m + \u001b[94m\u001b[1m1_y\u001b[0;0m\u001b[0;0m + \u001b[94m\u001b[1m1_z\u001b[0;0m\u001b[0;0m"
       ]
      }
     ],
     "prompt_number": 5
    },
    {
     "cell_type": "markdown",
     "metadata": {},
     "source": [
      "Y para no tener que hacerlo siempre, un peque\u00f1o truco de magia:"
     ]
    },
    {
     "cell_type": "code",
     "collapsed": false,
     "input": [
      "# Definimos nuestra propia clase para que los versores sean IJK\n",
      "class IJKReferenceFrame(ReferenceFrame):\n",
      "    def __init__(self, name):\n",
      "        super().__init__(name, latexs=['\\mathbf{%s}_{%s}' % (idx, name) for idx in (\"i\", \"j\", \"k\")])\n",
      "        self.i = self.x\n",
      "        self.j = self.y\n",
      "        self.k = self.z"
     ],
     "language": "python",
     "metadata": {},
     "outputs": [],
     "prompt_number": 6
    },
    {
     "cell_type": "code",
     "collapsed": false,
     "input": [
      "A = IJKReferenceFrame(\"1\")\n",
      "A.i + A.j + A.k"
     ],
     "language": "python",
     "metadata": {},
     "outputs": [
      {
       "latex": [
        "$$\\mathbf{i}_{1} + \\mathbf{j}_{1} + \\mathbf{k}_{1}$$"
       ],
       "metadata": {},
       "output_type": "pyout",
       "png": "[encoded data removed]",
       "prompt_number": 7,
       "text": [
        "\u001b[94m\u001b[1m1_x\u001b[0;0m\u001b[0;0m + \u001b[94m\u001b[1m1_y\u001b[0;0m\u001b[0;0m + \u001b[94m\u001b[1m1_z\u001b[0;0m\u001b[0;0m"
       ]
      }
     ],
     "prompt_number": 7
    },
    {
     "cell_type": "heading",
     "level": 3,
     "metadata": {},
     "source": [
      "\u00c1lgebra vectorial"
     ]
    },
    {
     "cell_type": "markdown",
     "metadata": {},
     "source": [
      "Nuestros vectores funcionan tambi\u00e9n con s\u00edmbolos, y podemos realizar las operaciones de producto escalar y producto vectorial con ellos."
     ]
    },
    {
     "cell_type": "code",
     "collapsed": false,
     "input": [
      "R, V = symbols('R, V', positive=True)\n",
      "r1 = R * (A.x + A.y + A.z)\n",
      "v1 = V * (A.x - 2 * A.z)"
     ],
     "language": "python",
     "metadata": {},
     "outputs": [],
     "prompt_number": 8
    },
    {
     "cell_type": "code",
     "collapsed": false,
     "input": [
      "r1"
     ],
     "language": "python",
     "metadata": {},
     "outputs": [
      {
       "latex": [
        "$$R\\mathbf{i}_{1} + R\\mathbf{j}_{1} + R\\mathbf{k}_{1}$$"
       ],
       "metadata": {},
       "output_type": "pyout",
       "png": "[encoded data removed]",
       "prompt_number": 9,
       "text": [
        "R \u001b[94m\u001b[1m1_x\u001b[0;0m\u001b[0;0m + R \u001b[94m\u001b[1m1_y\u001b[0;0m\u001b[0;0m + R \u001b[94m\u001b[1m1_z\u001b[0;0m\u001b[0;0m"
       ]
      }
     ],
     "prompt_number": 9
    },
    {
     "cell_type": "code",
     "collapsed": false,
     "input": [
      "v1"
     ],
     "language": "python",
     "metadata": {},
     "outputs": [
      {
       "latex": [
        "$$V\\mathbf{i}_{1} -  2 V\\mathbf{k}_{1}$$"
       ],
       "metadata": {},
       "output_type": "pyout",
       "png": "[encoded data removed]",
       "prompt_number": 10,
       "text": [
        "V \u001b[94m\u001b[1m1_x\u001b[0;0m\u001b[0;0m - 2\u22c5V \u001b[94m\u001b[1m1_z\u001b[0;0m\u001b[0;0m"
       ]
      }
     ],
     "prompt_number": 10
    },
    {
     "cell_type": "code",
     "collapsed": false,
     "input": [
      "from sympy.physics.mechanics import dot, cross"
     ],
     "language": "python",
     "metadata": {},
     "outputs": [],
     "prompt_number": 11
    },
    {
     "cell_type": "code",
     "collapsed": false,
     "input": [
      "r1.dot(v1)\n",
      "dot(r1, v1)\n",
      "r1 & v1"
     ],
     "language": "python",
     "metadata": {},
     "outputs": [
      {
       "latex": [
        "$$- R V$$"
       ],
       "metadata": {},
       "output_type": "pyout",
       "png": "[encoded data removed]",
       "prompt_number": 12,
       "text": [
        "-R\u22c5V"
       ]
      }
     ],
     "prompt_number": 12
    },
    {
     "cell_type": "code",
     "collapsed": false,
     "input": [
      "r1.cross(v1)\n",
      "cross(r1, v1)\n",
      "r1 ^ v1"
     ],
     "language": "python",
     "metadata": {},
     "outputs": [
      {
       "latex": [
        "$$-  2 R V\\mathbf{i}_{1} + 3 R V\\mathbf{j}_{1} -  R V\\mathbf{k}_{1}$$"
       ],
       "metadata": {},
       "output_type": "pyout",
       "png": "[encoded data removed]",
       "prompt_number": 13,
       "text": [
        "- 2\u22c5R\u22c5V \u001b[94m\u001b[1m1_x\u001b[0;0m\u001b[0;0m + 3\u22c5R\u22c5V \u001b[94m\u001b[1m1_y\u001b[0;0m\u001b[0;0m - R\u22c5V \u001b[94m\u001b[1m1_z\u001b[0;0m\u001b[0;0m"
       ]
      }
     ],
     "prompt_number": 13
    },
    {
     "cell_type": "markdown",
     "metadata": {},
     "source": [
      "Podemos hallar tambi\u00e9n la norma de los vectores con su m\u00e9todo `magnitude` e incluso normalizarlos con `normalize`:"
     ]
    },
    {
     "cell_type": "code",
     "collapsed": false,
     "input": [
      "(r1 ^ v1).magnitude()"
     ],
     "language": "python",
     "metadata": {},
     "outputs": [
      {
       "latex": [
        "$$\\sqrt{14} R V$$"
       ],
       "metadata": {},
       "output_type": "pyout",
       "png": "[encoded data removed]",
       "prompt_number": 14,
       "text": [
        "  ____    \n",
        "\u2572\u2571 14 \u22c5R\u22c5V"
       ]
      }
     ],
     "prompt_number": 14
    },
    {
     "cell_type": "code",
     "collapsed": false,
     "input": [
      "(r1 ^ v1).normalize()"
     ],
     "language": "python",
     "metadata": {},
     "outputs": [
      {
       "latex": [
        "$$-  \\frac{\\sqrt{14}}{7}\\mathbf{i}_{1} + \\frac{3 \\sqrt{14}}{14}\\mathbf{j}_{1} -  \\frac{\\sqrt{14}}{14}\\mathbf{k}_{1}$$"
       ],
       "metadata": {},
       "output_type": "pyout",
       "png": "[encoded data removed]",
       "prompt_number": 15,
       "text": [
        "   ____ \n",
        "-\u2572\u2571 14  \n",
        "\u2500\u2500\u2500\u2500\u2500\u2500\u2500\u2500\n",
        "   7     \u001b[94m\u001b[1m1_x\u001b[0;0m\u001b[0;0m +     ____\n",
        "3\u22c5\u2572\u2571 14 \n",
        "\u2500\u2500\u2500\u2500\u2500\u2500\u2500\u2500\n",
        "   14    \u001b[94m\u001b[1m1_y\u001b[0;0m\u001b[0;0m +    ____ \n",
        "-\u2572\u2571 14  \n",
        "\u2500\u2500\u2500\u2500\u2500\u2500\u2500\u2500\n",
        "   14    \u001b[94m\u001b[1m1_z\u001b[0;0m\u001b[0;0m"
       ]
      }
     ],
     "prompt_number": 15
    },
    {
     "cell_type": "markdown",
     "metadata": {},
     "source": [
      "##### Ejercicio\n",
      "\n",
      "Usando directamente la f\u00f3rmula para la derivada en ejes m\u00f3viles:\n",
      "\n",
      "$$\\left(\\frac{\\operatorname{d}\\!\\mathbf{a}}{\\operatorname{d}\\!t}\\right)_1 = \\left(\\frac{\\operatorname{d}\\!\\mathbf{a}}{\\operatorname{d}\\!t}\\right)_0 + \\mathbf{\\omega}_{01}\\! \\times \\mathbf{a}$$\n",
      "\n",
      "Calcula la derivada del vector de posici\u00f3n $R \\mathbf{i}_0$, siendo $A_0$ un sistema de referencia que gira respecto al inercial con velocidad angular $\\mathbf{\\omega}_{01}=\\Omega \\mathbf{k}_0$. **\u00bfCu\u00e1l es el m\u00f3dulo de la derivada?**"
     ]
    },
    {
     "cell_type": "code",
     "collapsed": false,
     "input": [
      "R, Omega = symbols('R, Omega', positive=True)\n",
      "A0 = IJKReferenceFrame('0')"
     ],
     "language": "python",
     "metadata": {},
     "outputs": [],
     "prompt_number": 16
    },
    {
     "cell_type": "code",
     "collapsed": false,
     "input": [
      "a = R * A0.i\n",
      "a"
     ],
     "language": "python",
     "metadata": {},
     "outputs": [
      {
       "latex": [
        "$$R\\mathbf{i}_{0}$$"
       ],
       "metadata": {},
       "output_type": "pyout",
       "png": "[encoded data removed]",
       "prompt_number": 17,
       "text": [
        "R \u001b[94m\u001b[1m0_x\u001b[0;0m\u001b[0;0m"
       ]
      }
     ],
     "prompt_number": 17
    },
    {
     "cell_type": "code",
     "collapsed": false,
     "input": [
      "omega01 = Omega * A0.k\n",
      "omega01"
     ],
     "language": "python",
     "metadata": {},
     "outputs": [
      {
       "latex": [
        "$$\\Omega\\mathbf{k}_{0}$$"
       ],
       "metadata": {},
       "output_type": "pyout",
       "png": "[encoded data removed]",
       "prompt_number": 18,
       "text": [
        "\u03a9 \u001b[94m\u001b[1m0_z\u001b[0;0m\u001b[0;0m"
       ]
      }
     ],
     "prompt_number": 18
    },
    {
     "cell_type": "code",
     "collapsed": false,
     "input": [
      "da = omega01 ^ a\n",
      "da"
     ],
     "language": "python",
     "metadata": {},
     "outputs": [
      {
       "latex": [
        "$$\\Omega R\\mathbf{j}_{0}$$"
       ],
       "metadata": {},
       "output_type": "pyout",
       "png": "[encoded data removed]",
       "prompt_number": 19,
       "text": [
        "\u03a9\u22c5R \u001b[94m\u001b[1m0_y\u001b[0;0m\u001b[0;0m"
       ]
      }
     ],
     "prompt_number": 19
    },
    {
     "cell_type": "code",
     "collapsed": false,
     "input": [
      "da.magnitude()"
     ],
     "language": "python",
     "metadata": {},
     "outputs": [
      {
       "latex": [
        "$$\\Omega R$$"
       ],
       "metadata": {},
       "output_type": "pyout",
       "png": "[encoded data removed]",
       "prompt_number": 20,
       "text": [
        "\u03a9\u22c5R"
       ]
      }
     ],
     "prompt_number": 20
    },
    {
     "cell_type": "markdown",
     "metadata": {},
     "source": [
      "<div class=\"alert alert-warning\">Si no especificaste `positive=True` vas a ver algo como $\\sqrt{\\Omega^2 R^2}$. Deber\u00eda haber una forma de simplificar esta expresi\u00f3n _a posteriori_, pero de momento no funciona del todo bien. Preparando este notebook nos hemos dado cuenta y ya les hemos avisado :) https://github.com/sympy/sympy/issues/8326\n",
      "</div>"
     ]
    },
    {
     "cell_type": "markdown",
     "metadata": {},
     "source": [
      "### Movimiento relativo"
     ]
    },
    {
     "cell_type": "markdown",
     "metadata": {},
     "source": [
      "\u00bfA qui\u00e9n no le gusta multiplicar matrices de rotaci\u00f3n? Para esa minor\u00eda que lo detesta, existe SymPy. Para ello debemos especificar la orientaci\u00f3n de nuestros sistemas de referencia usando el m\u00e9todo `orient`, y recuperaremos la matriz de cosenos directores usando el m\u00e9todo `dcm`."
     ]
    },
    {
     "cell_type": "code",
     "collapsed": false,
     "input": [
      "A1 = IJKReferenceFrame(\"1\")\n",
      "A0 = IJKReferenceFrame(\"0\")"
     ],
     "language": "python",
     "metadata": {},
     "outputs": [],
     "prompt_number": 21
    },
    {
     "cell_type": "code",
     "collapsed": false,
     "input": [
      "phi = symbols('phi')\n",
      "A0.orient(A1, 'Axis', [phi, A1.z])  # Rotaci\u00f3n phi alrededor del eje A1.z\n",
      "A0.dcm(A1)  # \"Direct Cosine Matrix\""
     ],
     "language": "python",
     "metadata": {},
     "outputs": [
      {
       "latex": [
        "$$\\left[\\begin{matrix}\\cos{\\left (\\phi \\right )} & \\sin{\\left (\\phi \\right )} & 0\\\\- \\sin{\\left (\\phi \\right )} & \\cos{\\left (\\phi \\right )} & 0\\\\0 & 0 & 1\\end{matrix}\\right]$$"
       ],
       "metadata": {},
       "output_type": "pyout",
       "png": "[encoded data removed]",
       "prompt_number": 22,
       "text": [
        "\u23a1cos(\u03c6)   sin(\u03c6)  0\u23a4\n",
        "\u23a2                  \u23a5\n",
        "\u23a2-sin(\u03c6)  cos(\u03c6)  0\u23a5\n",
        "\u23a2                  \u23a5\n",
        "\u23a3   0       0     1\u23a6"
       ]
      }
     ],
     "prompt_number": 22
    },
    {
     "cell_type": "markdown",
     "metadata": {},
     "source": [
      "Usando el argumento `Axis` hemos especificado que rotamos el sistema un \u00e1ngulo especificado alrededor de un eje. Otros m\u00e9todos son:\n",
      "\n",
      "* `Body`: se especifican los tres \u00e1ngulos de Euler.\n",
      "* `Space`: igual que `Body`, pero las rotaciones se aplican en orden inverso.\n",
      "* `Quaternion`: utilizando cuaternios, rotaci\u00f3n alrededor de un vector unitario $\\lambda$ una cantidad $\\theta$."
     ]
    },
    {
     "cell_type": "markdown",
     "metadata": {},
     "source": [
      "<div class=\"alert alert-success\">\u00bfQu\u00e9 es lo bueno de usar uno de estos m\u00e9todos? \u00a1Que **siempre** tenemos la transformaci\u00f3n bien definida! Es imposible meter \"a cap\u00f3n\" una matriz de rotaci\u00f3n que sea incorrecta o absurda.</div>"
     ]
    },
    {
     "cell_type": "markdown",
     "metadata": {},
     "source": [
      "#### Diferente sistema de referencia\n",
      "\n",
      "Para expresar un vector en otro sistema de referencia, no hay m\u00e1s que usar los m\u00e9todos `express` o `to_matrix`:"
     ]
    },
    {
     "cell_type": "code",
     "collapsed": false,
     "input": [
      "A0.x.express(A1)"
     ],
     "language": "python",
     "metadata": {},
     "outputs": [
      {
       "latex": [
        "$$\\operatorname{cos}\\left(\\phi\\right)\\mathbf{i}_{1} + \\operatorname{sin}\\left(\\phi\\right)\\mathbf{j}_{1}$$"
       ],
       "metadata": {},
       "output_type": "pyout",
       "png": "[encoded data removed]",
       "prompt_number": 23,
       "text": [
        "cos(\u03c6) \u001b[94m\u001b[1m1_x\u001b[0;0m\u001b[0;0m + sin(\u03c6) \u001b[94m\u001b[1m1_y\u001b[0;0m\u001b[0;0m"
       ]
      }
     ],
     "prompt_number": 23
    },
    {
     "cell_type": "code",
     "collapsed": false,
     "input": [
      "A0.x.to_matrix(A1)"
     ],
     "language": "python",
     "metadata": {},
     "outputs": [
      {
       "latex": [
        "$$\\left[\\begin{matrix}\\cos{\\left (\\phi \\right )}\\\\\\sin{\\left (\\phi \\right )}\\\\0\\end{matrix}\\right]$$"
       ],
       "metadata": {},
       "output_type": "pyout",
       "png": "[encoded data removed]",
       "prompt_number": 24,
       "text": [
        "\u23a1cos(\u03c6)\u23a4\n",
        "\u23a2      \u23a5\n",
        "\u23a2sin(\u03c6)\u23a5\n",
        "\u23a2      \u23a5\n",
        "\u23a3  0   \u23a6"
       ]
      }
     ],
     "prompt_number": 24
    },
    {
     "cell_type": "markdown",
     "metadata": {},
     "source": [
      "#### S\u00edmbolos din\u00e1micos\n",
      "\n",
      "Si queremos especificar que un s\u00edmbolo puede variar con el tiempo, hay que usar la funci\u00f3n `dynamicsymbols`:"
     ]
    },
    {
     "cell_type": "code",
     "collapsed": false,
     "input": [
      "from sympy.physics.mechanics import dynamicsymbols"
     ],
     "language": "python",
     "metadata": {},
     "outputs": [],
     "prompt_number": 25
    },
    {
     "cell_type": "code",
     "collapsed": false,
     "input": [
      "alpha = dynamicsymbols('alpha')\n",
      "alpha"
     ],
     "language": "python",
     "metadata": {},
     "outputs": [
      {
       "latex": [
        "$$\\alpha{\\left (t \\right )}$$"
       ],
       "metadata": {},
       "output_type": "pyout",
       "png": "[encoded data removed]",
       "prompt_number": 26,
       "text": [
        "\u03b1(t)"
       ]
      }
     ],
     "prompt_number": 26
    },
    {
     "cell_type": "markdown",
     "metadata": {},
     "source": [
      "Y pedir su derivada con el m\u00e9todo `diff`:"
     ]
    },
    {
     "cell_type": "code",
     "collapsed": false,
     "input": [
      "alpha.diff()"
     ],
     "language": "python",
     "metadata": {},
     "outputs": [
      {
       "latex": [
        "$$\\frac{d}{d t} \\alpha{\\left (t \\right )}$$"
       ],
       "metadata": {},
       "output_type": "pyout",
       "png": "[encoded data removed]",
       "prompt_number": 27,
       "text": [
        "d       \n",
        "\u2500\u2500(\u03b1(t))\n",
        "dt      "
       ]
      }
     ],
     "prompt_number": 27
    },
    {
     "cell_type": "markdown",
     "metadata": {},
     "source": [
      "##### Ejercicio\n",
      "\n",
      "![Sistemas de ejes asociados a la pala](../static/ejes_pala.jpg)\n",
      "\n",
      "(Sacado de Cuerva et al. \"Teor\u00eda de los Helic\u00f3pteros\")\n",
      "\n",
      "**Obtener la matriz de rotaci\u00f3n de la pala $B$ respecto a los ejes $A1$.**"
     ]
    },
    {
     "cell_type": "code",
     "collapsed": false,
     "input": [
      "A = IJKReferenceFrame(\"A\")"
     ],
     "language": "python",
     "metadata": {},
     "outputs": [],
     "prompt_number": 28
    },
    {
     "cell_type": "code",
     "collapsed": false,
     "input": [
      "A1 = IJKReferenceFrame(\"A1\")\n",
      "psi = dynamicsymbols('psi')\n",
      "A1.orient(A, 'Axis', [psi, A.z])\n",
      "A1.dcm(A)  # T_{A1A}"
     ],
     "language": "python",
     "metadata": {},
     "outputs": [
      {
       "latex": [
        "$$\\left[\\begin{matrix}\\cos{\\left (\\psi{\\left (t \\right )} \\right )} & \\sin{\\left (\\psi{\\left (t \\right )} \\right )} & 0\\\\- \\sin{\\left (\\psi{\\left (t \\right )} \\right )} & \\cos{\\left (\\psi{\\left (t \\right )} \\right )} & 0\\\\0 & 0 & 1\\end{matrix}\\right]$$"
       ],
       "metadata": {},
       "output_type": "pyout",
       "png": "[encoded data removed]",
       "prompt_number": 29,
       "text": [
        "\u23a1cos(\u03c8(t))   sin(\u03c8(t))  0\u23a4\n",
        "\u23a2                        \u23a5\n",
        "\u23a2-sin(\u03c8(t))  cos(\u03c8(t))  0\u23a5\n",
        "\u23a2                        \u23a5\n",
        "\u23a3    0           0      1\u23a6"
       ]
      }
     ],
     "prompt_number": 29
    },
    {
     "cell_type": "code",
     "collapsed": false,
     "input": [
      "A2 = IJKReferenceFrame(\"A2\")\n",
      "beta = dynamicsymbols('beta')\n",
      "A2.orient(A1, 'Axis', [beta, -A1.y])\n",
      "A2.dcm(A1)  # T_{A2A1}"
     ],
     "language": "python",
     "metadata": {},
     "outputs": [
      {
       "latex": [
        "$$\\left[\\begin{matrix}\\cos{\\left (\\beta{\\left (t \\right )} \\right )} & 0 & \\sin{\\left (\\beta{\\left (t \\right )} \\right )}\\\\0 & 1 & 0\\\\- \\sin{\\left (\\beta{\\left (t \\right )} \\right )} & 0 & \\cos{\\left (\\beta{\\left (t \\right )} \\right )}\\end{matrix}\\right]$$"
       ],
       "metadata": {},
       "output_type": "pyout",
       "png": "[encoded data removed]",
       "prompt_number": 30,
       "text": [
        "\u23a1cos(\u03b2(t))   0  sin(\u03b2(t))\u23a4\n",
        "\u23a2                        \u23a5\n",
        "\u23a2    0       1      0    \u23a5\n",
        "\u23a2                        \u23a5\n",
        "\u23a3-sin(\u03b2(t))  0  cos(\u03b2(t))\u23a6"
       ]
      }
     ],
     "prompt_number": 30
    },
    {
     "cell_type": "code",
     "collapsed": false,
     "input": [
      "A3 = IJKReferenceFrame(\"A3\")\n",
      "zeta = dynamicsymbols('zeta')\n",
      "A3.orient(A2, 'Axis', [zeta, A2.z])\n",
      "A3.dcm(A1)  # T_{A3A1}"
     ],
     "language": "python",
     "metadata": {},
     "outputs": [
      {
       "latex": [
        "$$\\left[\\begin{matrix}\\cos{\\left (\\beta{\\left (t \\right )} \\right )} \\cos{\\left (\\zeta\\left(t\\right) \\right )} & \\sin{\\left (\\zeta\\left(t\\right) \\right )} & \\sin{\\left (\\beta{\\left (t \\right )} \\right )} \\cos{\\left (\\zeta\\left(t\\right) \\right )}\\\\- \\sin{\\left (\\zeta\\left(t\\right) \\right )} \\cos{\\left (\\beta{\\left (t \\right )} \\right )} & \\cos{\\left (\\zeta\\left(t\\right) \\right )} & - \\sin{\\left (\\beta{\\left (t \\right )} \\right )} \\sin{\\left (\\zeta\\left(t\\right) \\right )}\\\\- \\sin{\\left (\\beta{\\left (t \\right )} \\right )} & 0 & \\cos{\\left (\\beta{\\left (t \\right )} \\right )}\\end{matrix}\\right]$$"
       ],
       "metadata": {},
       "output_type": "pyout",
       "png": "[encoded data removed]",
       "prompt_number": 31,
       "text": [
        "\u23a1cos(\u03b2(t))\u22c5cos(\u03b6(t))   sin(\u03b6(t))  sin(\u03b2(t))\u22c5cos(\u03b6(t)) \u23a4\n",
        "\u23a2                                                     \u23a5\n",
        "\u23a2-sin(\u03b6(t))\u22c5cos(\u03b2(t))  cos(\u03b6(t))  -sin(\u03b2(t))\u22c5sin(\u03b6(t))\u23a5\n",
        "\u23a2                                                     \u23a5\n",
        "\u23a3     -sin(\u03b2(t))           0           cos(\u03b2(t))      \u23a6"
       ]
      }
     ],
     "prompt_number": 31
    },
    {
     "cell_type": "code",
     "collapsed": false,
     "input": [
      "B = IJKReferenceFrame(\"B\")\n",
      "theta = dynamicsymbols('theta')\n",
      "B.orient(A3, 'Axis', [theta, A3.x])\n",
      "B.dcm(A3)  # T_{BA3}"
     ],
     "language": "python",
     "metadata": {},
     "outputs": [
      {
       "latex": [
        "$$\\left[\\begin{matrix}1 & 0 & 0\\\\0 & \\cos{\\left (\\theta{\\left (t \\right )} \\right )} & \\sin{\\left (\\theta{\\left (t \\right )} \\right )}\\\\0 & - \\sin{\\left (\\theta{\\left (t \\right )} \\right )} & \\cos{\\left (\\theta{\\left (t \\right )} \\right )}\\end{matrix}\\right]$$"
       ],
       "metadata": {},
       "output_type": "pyout",
       "png": "[encoded data removed]",
       "prompt_number": 32,
       "text": [
        "\u23a11      0           0    \u23a4\n",
        "\u23a2                        \u23a5\n",
        "\u23a20  cos(\u03b8(t))   sin(\u03b8(t))\u23a5\n",
        "\u23a2                        \u23a5\n",
        "\u23a30  -sin(\u03b8(t))  cos(\u03b8(t))\u23a6"
       ]
      }
     ],
     "prompt_number": 32
    },
    {
     "cell_type": "code",
     "collapsed": false,
     "input": [
      "B.dcm(A2)"
     ],
     "language": "python",
     "metadata": {},
     "outputs": [
      {
       "latex": [
        "$$\\left[\\begin{matrix}\\cos{\\left (\\zeta\\left(t\\right) \\right )} & \\sin{\\left (\\zeta\\left(t\\right) \\right )} & 0\\\\- \\sin{\\left (\\zeta\\left(t\\right) \\right )} \\cos{\\left (\\theta{\\left (t \\right )} \\right )} & \\cos{\\left (\\theta{\\left (t \\right )} \\right )} \\cos{\\left (\\zeta\\left(t\\right) \\right )} & \\sin{\\left (\\theta{\\left (t \\right )} \\right )}\\\\\\sin{\\left (\\theta{\\left (t \\right )} \\right )} \\sin{\\left (\\zeta\\left(t\\right) \\right )} & - \\sin{\\left (\\theta{\\left (t \\right )} \\right )} \\cos{\\left (\\zeta\\left(t\\right) \\right )} & \\cos{\\left (\\theta{\\left (t \\right )} \\right )}\\end{matrix}\\right]$$"
       ],
       "metadata": {},
       "output_type": "pyout",
       "png": "[encoded data removed]",
       "prompt_number": 33,
       "text": [
        "\u23a1     cos(\u03b6(t))             sin(\u03b6(t))            0    \u23a4\n",
        "\u23a2                                                     \u23a5\n",
        "\u23a2-sin(\u03b6(t))\u22c5cos(\u03b8(t))  cos(\u03b8(t))\u22c5cos(\u03b6(t))   sin(\u03b8(t))\u23a5\n",
        "\u23a2                                                     \u23a5\n",
        "\u23a3sin(\u03b8(t))\u22c5sin(\u03b6(t))   -sin(\u03b8(t))\u22c5cos(\u03b6(t))  cos(\u03b8(t))\u23a6"
       ]
      }
     ],
     "prompt_number": 33
    },
    {
     "cell_type": "code",
     "collapsed": false,
     "input": [
      "B.dcm(A1)"
     ],
     "language": "python",
     "metadata": {},
     "outputs": [
      {
       "latex": [
        "$$\\left[\\begin{matrix}\\cos{\\left (\\beta{\\left (t \\right )} \\right )} \\cos{\\left (\\zeta\\left(t\\right) \\right )} & \\sin{\\left (\\zeta\\left(t\\right) \\right )} & \\sin{\\left (\\beta{\\left (t \\right )} \\right )} \\cos{\\left (\\zeta\\left(t\\right) \\right )}\\\\- \\sin{\\left (\\beta{\\left (t \\right )} \\right )} \\sin{\\left (\\theta{\\left (t \\right )} \\right )} - \\sin{\\left (\\zeta\\left(t\\right) \\right )} \\cos{\\left (\\beta{\\left (t \\right )} \\right )} \\cos{\\left (\\theta{\\left (t \\right )} \\right )} & \\cos{\\left (\\theta{\\left (t \\right )} \\right )} \\cos{\\left (\\zeta\\left(t\\right) \\right )} & - \\sin{\\left (\\beta{\\left (t \\right )} \\right )} \\sin{\\left (\\zeta\\left(t\\right) \\right )} \\cos{\\left (\\theta{\\left (t \\right )} \\right )} + \\sin{\\left (\\theta{\\left (t \\right )} \\right )} \\cos{\\left (\\beta{\\left (t \\right )} \\right )}\\\\- \\sin{\\left (\\beta{\\left (t \\right )} \\right )} \\cos{\\left (\\theta{\\left (t \\right )} \\right )} + \\sin{\\left (\\theta{\\left (t \\right )} \\right )} \\sin{\\left (\\zeta\\left(t\\right) \\right )} \\cos{\\left (\\beta{\\left (t \\right )} \\right )} & - \\sin{\\left (\\theta{\\left (t \\right )} \\right )} \\cos{\\left (\\zeta\\left(t\\right) \\right )} & \\sin{\\left (\\beta{\\left (t \\right )} \\right )} \\sin{\\left (\\theta{\\left (t \\right )} \\right )} \\sin{\\left (\\zeta\\left(t\\right) \\right )} + \\cos{\\left (\\beta{\\left (t \\right )} \\right )} \\cos{\\left (\\theta{\\left (t \\right )} \\right )}\\end{matrix}\\right]$$"
       ],
       "metadata": {},
       "output_type": "pyout",
       "png": "[encoded data removed]",
       "prompt_number": 34,
       "text": [
        "\u23a1                cos(\u03b2(t))\u22c5cos(\u03b6(t))                        sin(\u03b6(t))         \n",
        "\u23a2                                                                             \n",
        "\u23a2-sin(\u03b2(t))\u22c5sin(\u03b8(t)) - sin(\u03b6(t))\u22c5cos(\u03b2(t))\u22c5cos(\u03b8(t))  cos(\u03b8(t))\u22c5cos(\u03b6(t))   -\n",
        "\u23a2                                                                             \n",
        "\u23a3-sin(\u03b2(t))\u22c5cos(\u03b8(t)) + sin(\u03b8(t))\u22c5sin(\u03b6(t))\u22c5cos(\u03b2(t))  -sin(\u03b8(t))\u22c5cos(\u03b6(t))  s\n",
        "\n",
        "               sin(\u03b2(t))\u22c5cos(\u03b6(t))                 \u23a4\n",
        "                                                   \u23a5\n",
        "sin(\u03b2(t))\u22c5sin(\u03b6(t))\u22c5cos(\u03b8(t)) + sin(\u03b8(t))\u22c5cos(\u03b2(t))\u23a5\n",
        "                                                   \u23a5\n",
        "in(\u03b2(t))\u22c5sin(\u03b8(t))\u22c5sin(\u03b6(t)) + cos(\u03b2(t))\u22c5cos(\u03b8(t)) \u23a6"
       ]
      }
     ],
     "prompt_number": 34
    },
    {
     "cell_type": "markdown",
     "metadata": {},
     "source": [
      "#### Velocidad angular\n",
      "\n",
      "Tambi\u00e9n podemos hallar la velocidad angular de un sistema respecto a otro usando el m\u00e9todo `ang_vel_in`:"
     ]
    },
    {
     "cell_type": "code",
     "collapsed": false,
     "input": [
      "B.ang_vel_in(A2)"
     ],
     "language": "python",
     "metadata": {},
     "outputs": [
      {
       "latex": [
        "$$\\dot{\\theta}\\mathbf{i}_{A3} + \\dot{\\zeta\\left(t\\right)}\\mathbf{k}_{A2}$$"
       ],
       "metadata": {},
       "output_type": "pyout",
       "png": "[encoded data removed]",
       "prompt_number": 35,
       "text": [
        "\u03b8\u0307 \u001b[94m\u001b[1ma3_x\u001b[0;0m\u001b[0;0m + \u03b6\u0307 \u001b[94m\u001b[1ma2_z\u001b[0;0m\u001b[0;0m"
       ]
      }
     ],
     "prompt_number": 35
    },
    {
     "cell_type": "code",
     "collapsed": false,
     "input": [
      "B.ang_vel_in(A)"
     ],
     "language": "python",
     "metadata": {},
     "outputs": [
      {
       "latex": [
        "$$\\dot{\\theta}\\mathbf{i}_{A3} + \\dot{\\zeta\\left(t\\right)}\\mathbf{k}_{A2} -  \\dot{\\beta}\\mathbf{j}_{A1} + \\dot{\\psi}\\mathbf{k}_{A}$$"
       ],
       "metadata": {},
       "output_type": "pyout",
       "png": "[encoded data removed]",
       "prompt_number": 36,
       "text": [
        "\u03b8\u0307 \u001b[94m\u001b[1ma3_x\u001b[0;0m\u001b[0;0m + \u03b6\u0307 \u001b[94m\u001b[1ma2_z\u001b[0;0m\u001b[0;0m - \u03b2\u0307 \u001b[94m\u001b[1ma1_y\u001b[0;0m\u001b[0;0m + \u03c8\u0307 \u001b[94m\u001b[1ma_z\u001b[0;0m\u001b[0;0m"
       ]
      }
     ],
     "prompt_number": 36
    },
    {
     "cell_type": "code",
     "collapsed": false,
     "input": [
      "B.ang_vel_in(A).express(A)"
     ],
     "language": "python",
     "metadata": {},
     "outputs": [
      {
       "latex": [
        "$$(\\left(- \\operatorname{sin}\\left(\\psi\\right) \\operatorname{sin}\\left(\\zeta\\left(t\\right)\\right) + \\operatorname{cos}\\left(\\beta\\right) \\operatorname{cos}\\left(\\psi\\right) \\operatorname{cos}\\left(\\zeta\\left(t\\right)\\right)\\right) \\dot{\\theta} - \\operatorname{sin}\\left(\\beta\\right) \\operatorname{cos}\\left(\\psi\\right) \\dot{\\zeta\\left(t\\right)} + \\operatorname{sin}\\left(\\psi\\right) \\dot{\\beta})\\mathbf{i}_{A} + (\\left(\\operatorname{sin}\\left(\\psi\\right) \\operatorname{cos}\\left(\\beta\\right) \\operatorname{cos}\\left(\\zeta\\left(t\\right)\\right) + \\operatorname{sin}\\left(\\zeta\\left(t\\right)\\right) \\operatorname{cos}\\left(\\psi\\right)\\right) \\dot{\\theta} - \\operatorname{sin}\\left(\\beta\\right) \\operatorname{sin}\\left(\\psi\\right) \\dot{\\zeta\\left(t\\right)} - \\operatorname{cos}\\left(\\psi\\right) \\dot{\\beta})\\mathbf{j}_{A} + (\\operatorname{sin}\\left(\\beta\\right) \\operatorname{cos}\\left(\\zeta\\left(t\\right)\\right) \\dot{\\theta} + \\operatorname{cos}\\left(\\beta\\right) \\dot{\\zeta\\left(t\\right)} + \\dot{\\psi})\\mathbf{k}_{A}$$"
       ],
       "metadata": {},
       "output_type": "pyout",
       "png": "[encoded data removed]",
       "prompt_number": 37,
       "text": [
        "((-sin(\u03c8)\u22c5sin(\u03b6) + cos(\u03b2)\u22c5cos(\u03c8)\u22c5cos(\u03b6))\u22c5\u03b8\u0307 - sin(\u03b2)\u22c5cos(\u03c8)\u22c5\u03b6\u0307 + sin(\u03c8)\u22c5\u03b2\u0307) \u001b[94m\u001b[1ma_x\u001b[0;0m\u001b[0;0m + ((sin(\u03c8)\u22c5cos(\u03b2)\u22c5cos(\u03b6) + sin(\u03b6)\u22c5cos(\u03c8))\u22c5\u03b8\u0307 - sin(\u03b2)\u22c5sin(\u03c8)\u22c5\u03b6\u0307 - cos(\u03c8)\u22c5\u03b2\u0307) \u001b[94m\u001b[1ma_y\u001b[0;0m\u001b[0;0m + (sin(\u03b2)\u22c5cos(\u03b6)\u22c5\u03b8\u0307 + cos(\u03b2)\u22c5\u03b6\u0307 + \u03c8\u0307) \u001b[94m\u001b[1ma_z\u001b[0;0m\u001b[0;0m"
       ]
      }
     ],
     "prompt_number": 37
    },
    {
     "cell_type": "markdown",
     "metadata": {},
     "source": [
      "### Derivada en ejes m\u00f3viles\n",
      "\n",
      "Hacer una derivada con la f\u00f3rmula lo hace cualquiera, pero SymPy puede encargarse autom\u00e1ticamente."
     ]
    },
    {
     "cell_type": "code",
     "collapsed": false,
     "input": [
      "v1 = A1.x\n",
      "v1"
     ],
     "language": "python",
     "metadata": {},
     "outputs": [
      {
       "latex": [
        "$$\\mathbf{i}_{A1}$$"
       ],
       "metadata": {},
       "output_type": "pyout",
       "png": "[encoded data removed]",
       "prompt_number": 38,
       "text": [
        "\u001b[94m\u001b[1ma1_x\u001b[0;0m\u001b[0;0m"
       ]
      }
     ],
     "prompt_number": 38
    },
    {
     "cell_type": "code",
     "collapsed": false,
     "input": [
      "#v1.diff(dynamicsymbols._t, A2)\n",
      "dv1 = v1.diff(symbols('t'), A)\n",
      "dv1"
     ],
     "language": "python",
     "metadata": {},
     "outputs": [
      {
       "latex": [
        "$$(\\operatorname{sin}^{2}\\left(\\psi\\right) \\dot{\\psi} + \\operatorname{cos}^{2}\\left(\\psi\\right) \\dot{\\psi})\\mathbf{j}_{A1}$$"
       ],
       "metadata": {},
       "output_type": "pyout",
       "png": "[encoded data removed]",
       "prompt_number": 39,
       "text": [
        "\u239b   2            2      \u239e\n",
        "\u239dsin (\u03c8)\u22c5\u03c8\u0307 + cos (\u03c8)\u22c5\u03c8\u0307\u23a0 \u001b[94m\u001b[1ma1_y\u001b[0;0m\u001b[0;0m"
       ]
      }
     ],
     "prompt_number": 39
    },
    {
     "cell_type": "code",
     "collapsed": false,
     "input": [
      "dv1.to_matrix(A1)"
     ],
     "language": "python",
     "metadata": {},
     "outputs": [
      {
       "latex": [
        "$$\\left[\\begin{matrix}0\\\\\\sin^{2}{\\left (\\psi{\\left (t \\right )} \\right )} \\frac{d}{d t} \\psi{\\left (t \\right )} + \\cos^{2}{\\left (\\psi{\\left (t \\right )} \\right )} \\frac{d}{d t} \\psi{\\left (t \\right )}\\\\0\\end{matrix}\\right]$$"
       ],
       "metadata": {},
       "output_type": "pyout",
       "png": "[encoded data removed]",
       "prompt_number": 40,
       "text": [
        "\u23a1                    0                    \u23a4\n",
        "\u23a2                                         \u23a5\n",
        "\u23a2   2       d             2       d       \u23a5\n",
        "\u23a2sin (\u03c8(t))\u22c5\u2500\u2500(\u03c8(t)) + cos (\u03c8(t))\u22c5\u2500\u2500(\u03c8(t))\u23a5\n",
        "\u23a2           dt                    dt      \u23a5\n",
        "\u23a2                                         \u23a5\n",
        "\u23a3                    0                    \u23a6"
       ]
      }
     ],
     "prompt_number": 40
    },
    {
     "cell_type": "code",
     "collapsed": false,
     "input": [
      "(dv1 & A1.j).simplify()"
     ],
     "language": "python",
     "metadata": {},
     "outputs": [
      {
       "latex": [
        "$$\\frac{d}{d t} \\psi{\\left (t \\right )}$$"
       ],
       "metadata": {},
       "output_type": "pyout",
       "png": "[encoded data removed]",
       "prompt_number": 41,
       "text": [
        "d       \n",
        "\u2500\u2500(\u03c8(t))\n",
        "dt      "
       ]
      }
     ],
     "prompt_number": 41
    },
    {
     "cell_type": "markdown",
     "metadata": {},
     "source": [
      "### Puntos, velocidades y la rueda que no desliza"
     ]
    },
    {
     "cell_type": "markdown",
     "metadata": {},
     "source": [
      "El \u00faltimo paso que nos queda para completar la cinem\u00e1tica es la posibilidad de definir puntos en s\u00f3lidos y aplicar su campo de velocidades. SymPy tambi\u00e9n permite esto, y para ello no tenemos m\u00e1s que importar la clase `Point`."
     ]
    },
    {
     "cell_type": "code",
     "collapsed": false,
     "input": [
      "from sympy.physics.mechanics import Point"
     ],
     "language": "python",
     "metadata": {},
     "outputs": [],
     "prompt_number": 42
    },
    {
     "cell_type": "code",
     "collapsed": false,
     "input": [
      "O = Point(\"O\")"
     ],
     "language": "python",
     "metadata": {},
     "outputs": [],
     "prompt_number": 43
    },
    {
     "cell_type": "markdown",
     "metadata": {},
     "source": [
      "Para trabajar como lo har\u00edamos en la escuela, vamos a especificar que $O$ es el origen de $A$, y para eso vamos a imponer que su velocidad es cero con el m\u00e9todo `set_vel`:"
     ]
    },
    {
     "cell_type": "code",
     "collapsed": false,
     "input": [
      "O.set_vel(A, 0)"
     ],
     "language": "python",
     "metadata": {},
     "outputs": [],
     "prompt_number": 44
    },
    {
     "cell_type": "markdown",
     "metadata": {},
     "source": [
      "Para definir nuevos puntos, podemos utilizar el m\u00e9todo `locate_new`:"
     ]
    },
    {
     "cell_type": "code",
     "collapsed": false,
     "input": [
      "e_b = symbols('e_b')\n",
      "E_b = O.locatenew('E_b', e_b * A1.x)"
     ],
     "language": "python",
     "metadata": {},
     "outputs": [],
     "prompt_number": 45
    },
    {
     "cell_type": "markdown",
     "metadata": {},
     "source": [
      "Y para obtener vectores de un punto a otro, el m\u00e9todo `pos_from`:"
     ]
    },
    {
     "cell_type": "code",
     "collapsed": false,
     "input": [
      "E_b.pos_from(O)"
     ],
     "language": "python",
     "metadata": {},
     "outputs": [
      {
       "latex": [
        "$$e_{b}\\mathbf{i}_{A1}$$"
       ],
       "metadata": {},
       "output_type": "pyout",
       "png": "[encoded data removed]",
       "prompt_number": 46,
       "text": [
        "e_b \u001b[94m\u001b[1ma1_x\u001b[0;0m\u001b[0;0m"
       ]
      }
     ],
     "prompt_number": 46
    },
    {
     "cell_type": "markdown",
     "metadata": {},
     "source": [
      "<div class=\"alert alert-info\">La notaci\u00f3n de este paquete est\u00e1 influenciada por el libro Kane, T. R. & Levinson, D. A. \"Dynamics, Theory and Applications\". Es ligeramente distinto a como estudiamos nosotros en la escuela, pero \u00a1est\u00e1n abiertos a que les hagamos cualquier tipo de sugerencia! https://github.com/sympy/sympy/issues/2584#issuecomment-31552654</div>"
     ]
    },
    {
     "cell_type": "markdown",
     "metadata": {},
     "source": [
      "Por \u00faltimo, el **campo de velocidades de un s\u00f3lido r\u00edgido** se formula usando el m\u00e9todo `v2pt_theory`.\n",
      "\n",
      "$$v^P_A = v^O_A + \\omega_{A_1 A} \\times \\mathbf{OP}$$\n",
      "\n",
      "Este m\u00e9todo pertenece *al punto del cual queremos conocer la velocidad* y recibe tres par\u00e1metros:\n",
      "\n",
      "* `O`, punto de velocidad conocida respecto a A\n",
      "* `A`, sistema de referencia donde queremos calcular la velocidad\n",
      "* `A1`, sistema de referencia donde est\u00e1n fijos ambos puntos (_sistema de arrastre_)\n"
     ]
    },
    {
     "cell_type": "markdown",
     "metadata": {},
     "source": [
      "Por tanto, para hallar la velocidad del punto que acabamos de crear:"
     ]
    },
    {
     "cell_type": "code",
     "collapsed": false,
     "input": [
      "E_b.v2pt_theory(O, A, A1)"
     ],
     "language": "python",
     "metadata": {},
     "outputs": [
      {
       "latex": [
        "$$e_{b} \\dot{\\psi}\\mathbf{j}_{A1}$$"
       ],
       "metadata": {},
       "output_type": "pyout",
       "png": "[encoded data removed]",
       "prompt_number": 47,
       "text": [
        "e_b\u22c5\u03c8\u0307 \u001b[94m\u001b[1ma1_y\u001b[0;0m\u001b[0;0m"
       ]
      }
     ],
     "prompt_number": 47
    },
    {
     "cell_type": "markdown",
     "metadata": {},
     "source": [
      "##### Ejercicio\n",
      "\n",
      "![Disco que rueda](../static/disco.png)\n",
      "\n",
      "(Apuntes de \u00d3scar L\u00f3pez Rebollal)\n",
      "\n",
      "**\u00a1Halla la velocidad y la aceleraci\u00f3n de $P$!**"
     ]
    },
    {
     "cell_type": "code",
     "collapsed": false,
     "input": [
      "# Creamos nuestros sistemas de referencia\n",
      "A1 = IJKReferenceFrame('1')\n",
      "A0 = IJKReferenceFrame('0')\n",
      "A2 = IJKReferenceFrame('2')"
     ],
     "language": "python",
     "metadata": {},
     "outputs": [],
     "prompt_number": 48
    },
    {
     "cell_type": "code",
     "collapsed": false,
     "input": [
      "# Creamos los s\u00edmbolos din\u00e1micos necesarios\n",
      "xi, theta = dynamicsymbols('xi, theta')\n",
      "xi, theta"
     ],
     "language": "python",
     "metadata": {},
     "outputs": [
      {
       "latex": [
        "$$\\begin{pmatrix}\\xi{\\left (t \\right )}, & \\theta{\\left (t \\right )}\\end{pmatrix}$$"
       ],
       "metadata": {},
       "output_type": "pyout",
       "png": "[encoded data removed]",
       "prompt_number": 49,
       "text": [
        "(\u03be(t), \u03b8(t))"
       ]
      }
     ],
     "prompt_number": 49
    },
    {
     "cell_type": "code",
     "collapsed": false,
     "input": [
      "# Orientamos los sistemas de referencia\n",
      "A0.orient(A1, 'Axis', [0, A1.k])  # A0 no gira respecto a A1\n",
      "A2.orient(A0, 'Axis', [theta, A0.k])"
     ],
     "language": "python",
     "metadata": {},
     "outputs": [],
     "prompt_number": 50
    },
    {
     "cell_type": "code",
     "collapsed": false,
     "input": [
      "A2.dcm(A1)"
     ],
     "language": "python",
     "metadata": {},
     "outputs": [
      {
       "latex": [
        "$$\\left[\\begin{matrix}\\cos{\\left (\\theta{\\left (t \\right )} \\right )} & \\sin{\\left (\\theta{\\left (t \\right )} \\right )} & 0\\\\- \\sin{\\left (\\theta{\\left (t \\right )} \\right )} & \\cos{\\left (\\theta{\\left (t \\right )} \\right )} & 0\\\\0 & 0 & 1\\end{matrix}\\right]$$"
       ],
       "metadata": {},
       "output_type": "pyout",
       "png": "[encoded data removed]",
       "prompt_number": 51,
       "text": [
        "\u23a1cos(\u03b8(t))   sin(\u03b8(t))  0\u23a4\n",
        "\u23a2                        \u23a5\n",
        "\u23a2-sin(\u03b8(t))  cos(\u03b8(t))  0\u23a5\n",
        "\u23a2                        \u23a5\n",
        "\u23a3    0           0      1\u23a6"
       ]
      }
     ],
     "prompt_number": 51
    },
    {
     "cell_type": "code",
     "collapsed": false,
     "input": [
      "# Creamos el punto C, centro del disco, y especificamos su velocidad\n",
      "# respecto a A1\n",
      "C = Point('C')\n",
      "C.set_vel(A1, xi.diff() * A1.x)"
     ],
     "language": "python",
     "metadata": {},
     "outputs": [],
     "prompt_number": 52
    },
    {
     "cell_type": "code",
     "collapsed": false,
     "input": [
      "# Localizamos el punto P, punto fijo del disco, respecto a C, en\n",
      "# el sistema A2 (que gira solidariamente con el disco)\n",
      "R = symbols('R')\n",
      "P = C.locatenew('P', -R * A2.j)\n",
      "P.pos_from(C)"
     ],
     "language": "python",
     "metadata": {},
     "outputs": [
      {
       "latex": [
        "$$-  R\\mathbf{j}_{2}$$"
       ],
       "metadata": {},
       "output_type": "pyout",
       "png": "[encoded data removed]",
       "prompt_number": 53,
       "text": [
        "- R \u001b[94m\u001b[1m2_y\u001b[0;0m\u001b[0;0m"
       ]
      }
     ],
     "prompt_number": 53
    },
    {
     "cell_type": "code",
     "collapsed": false,
     "input": [
      "# Hallamos la velocidad de P en A1, expresada en A0\n",
      "# \u00a1Con esta llamada ya estamos diciendo que C y P son fijos en A2!\n",
      "P.v2pt_theory(C, A1, A2).express(A0)"
     ],
     "language": "python",
     "metadata": {},
     "outputs": [
      {
       "latex": [
        "$$(R \\operatorname{cos}\\left(\\theta\\right) \\dot{\\theta} + \\dot{\\xi})\\mathbf{i}_{0} + R \\operatorname{sin}\\left(\\theta\\right) \\dot{\\theta}\\mathbf{j}_{0}$$"
       ],
       "metadata": {},
       "output_type": "pyout",
       "png": "[encoded data removed]",
       "prompt_number": 54,
       "text": [
        "(R\u22c5cos(\u03b8)\u22c5\u03b8\u0307 + \u03be\u0307) \u001b[94m\u001b[1m0_x\u001b[0;0m\u001b[0;0m + R\u22c5sin(\u03b8)\u22c5\u03b8\u0307 \u001b[94m\u001b[1m0_y\u001b[0;0m\u001b[0;0m"
       ]
      }
     ],
     "prompt_number": 54
    },
    {
     "cell_type": "markdown",
     "metadata": {},
     "source": [
      "**Misi\u00f3n cumplida :)**"
     ]
    },
    {
     "cell_type": "markdown",
     "metadata": {},
     "source": [
      "---"
     ]
    },
    {
     "cell_type": "markdown",
     "metadata": {},
     "source": [
      "_Hemos hecho un repaso bastante profundo de las posibilidades del paquete `mechanics` de SymPy. Nos hemos dejado algunas cosas en el tintero pero no demasiadas: esta funcionalidad a\u00fan se est\u00e1 expandiendo y necesita pulir algunos detalles._\n",
      "\n",
      "**Referencias**\n",
      "\n",
      "* Cap\u00edtulo de **aeromec\u00e1nica** del libro de Cuerva y otros http://nbviewer.ipython.org/gist/Juanlu001/7711865\n",
      "* Estabilidad longitudinal de un Boeing 747 http://nbviewer.ipython.org/github/AlexS12/Mecanica_Vuelo/blob/master/MVII_MatrizSistema.ipynb\n",
      "\n",
      "_\u00bfSer\u00e1s t\u00fa el siguiente que publique un notebook usando SymPy? ;)_"
     ]
    },
    {
     "cell_type": "markdown",
     "metadata": {},
     "source": [
      "Si te ha gustado esta clase:\n",
      "\n",
      "<a href=\"https://twitter.com/share\" class=\"twitter-share-button\" data-url=\"https://github.com/AeroPython/Curso_AeroPython\" data-text=\"Aprendiendo Python con\" data-via=\"pybonacci\" data-size=\"large\" data-hashtags=\"AeroPython\">Tweet</a>\n",
      "<script>!function(d,s,id){var js,fjs=d.getElementsByTagName(s)[0],p=/^http:/.test(d.location)?'http':'https';if(!d.getElementById(id)){js=d.createElement(s);js.id=id;js.src=p+'://platform.twitter.com/widgets.js';fjs.parentNode.insertBefore(js,fjs);}}(document, 'script', 'twitter-wjs');</script>\n",
      "\n",
      "---"
     ]
    },
    {
     "cell_type": "heading",
     "level": 6,
     "metadata": {},
     "source": [
      "<img src=\"../static/linkedin.png\" alt=\"AeroPython\" style=\"width: 25px\" align=\"right\";/> Curso impartido por: [Juan Luis Cano](http://es.linkedin.com/in/juanluiscanor)  & [\u00c1lex S\u00e1ez](http://es.linkedin.com/pub/alejandro-saez-mollejo/55/22/473)"
     ]
    },
    {
     "cell_type": "heading",
     "level": 6,
     "metadata": {},
     "source": [
      "En colaboraci\u00f3n: Alberto Lorenzo"
     ]
    },
    {
     "cell_type": "heading",
     "level": 4,
     "metadata": {},
     "source": [
      "<h4 align=\"right\">\u00a1S\u00edguenos en Twitter!"
     ]
    },
    {
     "cell_type": "heading",
     "level": 6,
     "metadata": {},
     "source": [
      "<a href=\"https://twitter.com/Pybonacci\" class=\"twitter-follow-button\" data-show-count=\"false\">Follow @Pybonacci</a>\n",
      "<script>!function(d,s,id){var js,fjs=d.getElementsByTagName(s)[0],p=/^http:/.test(d.location)?'http':'https';if(!d.getElementById(id)){js=d.createElement(s);js.id=id;js.src=p+'://platform.twitter.com/widgets.js';fjs.parentNode.insertBefore(js,fjs);}}(document, 'script', 'twitter-wjs');</script>\n",
      "\n",
      "<a href=\"https://twitter.com/Alex__S12\" class=\"twitter-follow-button\" data-show-count=\"false\" align=\"right\";>Follow @Alex__S12</a>\n",
      "<script>!function(d,s,id){var js,fjs=d.getElementsByTagName(s)[0],p=/^http:/.test(d.location)?'http':'https';if(!d.getElementById(id)){js=d.createElement(s);js.id=id;js.src=p+'://platform.twitter.com/widgets.js';fjs.parentNode.insertBefore(js,fjs);}}(document, 'script', 'twitter-wjs');</script>\n",
      "\n",
      "<a href=\"https://twitter.com/newlawrence\" class=\"twitter-follow-button\" data-show-count=\"false\" align=\"right\";>Follow @newlawrence</a>\n",
      "<script>!function(d,s,id){var js,fjs=d.getElementsByTagName(s)[0],p=/^http:/.test(d.location)?'http':'https';if(!d.getElementById(id)){js=d.createElement(s);js.id=id;js.src=p+'://platform.twitter.com/widgets.js';fjs.parentNode.insertBefore(js,fjs);}}(document, 'script', 'twitter-wjs');</script>"
     ]
    },
    {
     "cell_type": "heading",
     "level": 5,
     "metadata": {},
     "source": [
      "<a rel=\"license\" href=\"http://creativecommons.org/licenses/by/4.0/deed.es\"><img alt=\"Licencia Creative Commons\" style=\"border-width:0\" src=\"http://i.creativecommons.org/l/by/4.0/88x31.png\" /></a><br /><span xmlns:dct=\"http://purl.org/dc/terms/\" property=\"dct:title\">Curso AeroPython</span> por <span xmlns:cc=\"http://creativecommons.org/ns#\" property=\"cc:attributionName\">Juan Luis Cano Rodriguez y Alejandro S\u00e1ez Mollejo</span> se distribuye bajo una <a rel=\"license\" href=\"http://creativecommons.org/licenses/by/4.0/deed.es\">Licencia Creative Commons Atribuci\u00f3n 4.0 Internacional</a>."
     ]
    },
    {
     "cell_type": "heading",
     "level": 5,
     "metadata": {},
     "source": [
      "<script src=\"//platform.linkedin.com/in.js\" type=\"text/javascript\"></script>\n",
      "<script type=\"IN/MemberProfile\" data-id=\"http://es.linkedin.com/in/juanluiscanor\" data-format=\"inline\" data-related=\"false\"></script>\n",
      "<script src=\"//platform.linkedin.com/in.js\" type=\"text/javascript\"></script>\n",
      "<script type=\"IN/MemberProfile\" data-id=\"http://es.linkedin.com/in/alejandrosaezm\" data-format=\"inline\" data-related=\"false\"></script>"
     ]
    },
    {
     "cell_type": "markdown",
     "metadata": {},
     "source": [
      "---\n",
      "_Las siguientes celdas contienen configuraci\u00f3n del Notebook_\n",
      "\n",
      "_Para visualizar y utlizar los enlaces a Twitter el notebook debe ejecutarse como [seguro](http://ipython.org/ipython-doc/dev/notebook/security.html)_\n",
      "\n",
      "    File > Trusted Notebook"
     ]
    },
    {
     "cell_type": "code",
     "collapsed": false,
     "input": [
      "%%html\n",
      "<a href=\"https://twitter.com/Pybonacci\" class=\"twitter-follow-button\" data-show-count=\"false\">Follow @Pybonacci</a>\n",
      "<script>!function(d,s,id){var js,fjs=d.getElementsByTagName(s)[0],p=/^http:/.test(d.location)?'http':'https';if(!d.getElementById(id)){js=d.createElement(s);js.id=id;js.src=p+'://platform.twitter.com/widgets.js';fjs.parentNode.insertBefore(js,fjs);}}(document, 'script', 'twitter-wjs');</script>"
     ],
     "language": "python",
     "metadata": {},
     "outputs": [
      {
       "html": [
        "<a href=\"https://twitter.com/Pybonacci\" class=\"twitter-follow-button\" data-show-count=\"false\">Follow @Pybonacci</a>\n",
        "<script>!function(d,s,id){var js,fjs=d.getElementsByTagName(s)[0],p=/^http:/.test(d.location)?'http':'https';if(!d.getElementById(id)){js=d.createElement(s);js.id=id;js.src=p+'://platform.twitter.com/widgets.js';fjs.parentNode.insertBefore(js,fjs);}}(document, 'script', 'twitter-wjs');</script>"
       ],
       "metadata": {},
       "output_type": "display_data",
       "text": [
        "<IPython.core.display.HTML at 0x430e208>"
       ]
      }
     ],
     "prompt_number": 2
    },
    {
     "cell_type": "code",
     "collapsed": false,
     "input": [
      "# Esta celda da el estilo al notebook\n",
      "from IPython.core.display import HTML\n",
      "css_file = '../static/styles/style.css'\n",
      "HTML(open(css_file, \"r\").read())"
     ],
     "language": "python",
     "metadata": {},
     "outputs": [
      {
       "html": [
        "<link href='http://fonts.googleapis.com/css?family=Source+Sans+Pro|Josefin+Sans:400,700,400italic|Ubuntu+Condensed' rel='stylesheet' type='text/css'>\n",
        "\n",
        "El estilo se ha aplicado =)\n",
        "\n",
        "<style>\n",
        "\n",
        "\n",
        "\n",
        "#notebook_panel { /* main background */\n",
        "    background: #f7f7f7;\n",
        "}\n",
        "\n",
        "div.cell { /* set cell width */\n",
        "    width: 900px;\n",
        "}\n",
        "\n",
        "div #notebook { /* centre the content */\n",
        "    background: #fff; /* white background for content */\n",
        "    width: 950px;\n",
        "    margin: auto;\n",
        "    padding-left: 0em;\n",
        "}\n",
        "\n",
        "#notebook li { /* More space between bullet points */\n",
        "    margin-top:0.7em;\n",
        "}\n",
        "\n",
        "/* draw border around running cells */\n",
        "div.cell.border-box-sizing.code_cell.running { \n",
        "    border: 1px solid #111;\n",
        "}\n",
        "\n",
        "/* Put a solid color box around each cell and its output, visually linking them*/\n",
        "div.cell.code_cell {\n",
        "    font-family: 'Source Sans Pro', sans-serif;\n",
        "    background-color: rgb(256,256,256);\n",
        "    font-size: 110%;\n",
        "    border-radius: 0px; \n",
        "    padding: 0.5em;\n",
        "    margin-left:1em;\n",
        "    margin-top: 1em;\n",
        "}\n",
        "\n",
        "div.text_cell_render{\n",
        "    font-family: 'Josefin Sans', serif;\n",
        "    line-height: 145%;\n",
        "    font-size: 125%;\n",
        "    font-weight: 500;\n",
        "    width:750px;\n",
        "    margin-left:auto;\n",
        "    margin-right:auto;\n",
        "}\n",
        "\n",
        "\n",
        "/* Formatting for header cells */\n",
        ".text_cell_render h1, .text_cell_render h2, .text_cell_render h3,\n",
        ".text_cell_render h4, .text_cell_render h5 {\n",
        "    font-family: 'Ubuntu Condensed', sans-serif;\n",
        "}\n",
        "/*\n",
        ".text_cell_render h1 {\n",
        "    font-family: Flux, 'Ubuntu Condensed', serif;\n",
        "    font-style:regular;\n",
        "    font-weight: 400;    \n",
        "    font-size: 30pt;\n",
        "    text-align: center;\n",
        "    line-height: 100%;\n",
        "    color: #335082;\n",
        "    margin-bottom: 0.5em;\n",
        "    margin-top: 0.5em;\n",
        "    display: block;\n",
        "}\n",
        "*/\n",
        ".text_cell_render h1 {\n",
        "    font-weight: 600;\n",
        "    font-size: 35pt;\n",
        "    line-height: 100%;\n",
        "    color: #234765;\n",
        "    margin-bottom: 0.1em;\n",
        "    margin-top: 0.3em;\n",
        "    display: block;\n",
        "}\n",
        "\n",
        ".text_cell_render h2 {\n",
        "    margin-top:16px;\n",
        "    font-size: 27pt;\n",
        "    font-weight: 550;\n",
        "    margin-bottom: 0.1em;\n",
        "    margin-top: 0.3em;\n",
        "    font-style: regular;\n",
        "    color: #234765;\n",
        "}\t\n",
        "\n",
        ".text_cell_render h3 {\n",
        "    font-size: 20pt;\n",
        "    font-weight: 550\n",
        "    text-align: left;\n",
        "    margin-bottom: 0.1em;\n",
        "    margin-top: 0.3em;\n",
        "    font-style: regular;\n",
        "    color:  #376f9e;\n",
        "}\n",
        "\n",
        ".text_cell_render h4 {    /*Use this for captions*/\n",
        "    font-size: 18pt;\n",
        "    font-weight: 450\n",
        "    text-align: left;\n",
        "    margin-bottom: 0.1em;\n",
        "    margin-top: 0.3em;\n",
        "    font-style: regular;\n",
        "    color:  #376f9e;\n",
        "}\n",
        "\n",
        ".text_cell_render h5 {  /*Use this for small titles*/\n",
        "    font-size: 18pt;\n",
        "    font-weight: 550;\n",
        "    color: rgb(163,0,0);\n",
        "    font-style: italic;\n",
        "    margin-bottom: .1em;\n",
        "    margin-top: 0.8em;\n",
        "    display: block;\n",
        "    color:  #b21c0d;\n",
        "}\n",
        "\n",
        ".text_cell_render h6 { /*use this for copyright note*/\n",
        "    font-family: 'Ubuntu Condensed', sans-serif;\n",
        "    font-weight: 300;\n",
        "    font-size: 14pt;\n",
        "    line-height: 100%;\n",
        "    color: #252525;\n",
        "    text-align: right;\n",
        "    margin-bottom: 1px;\n",
        "    margin-top: 1px;\n",
        "}\n",
        "\n",
        ".CodeMirror{\n",
        "        font-family: 'Duru Sans', sans-serif;\n",
        "        font-size: 100%;\n",
        "}\n",
        "\n",
        "</style>\n",
        "<script>\n",
        "    MathJax.Hub.Config({\n",
        "                        TeX: {\n",
        "                           extensions: [\"AMSmath.js\"],\n",
        "                           equationNumbers: { autoNumber: \"AMS\", useLabelIds: true}\n",
        "                           },\n",
        "                tex2jax: {\n",
        "                    inlineMath: [ ['$','$'], [\"\\\\(\",\"\\\\)\"] ],\n",
        "                    displayMath: [ ['$$','$$'], [\"\\\\[\",\"\\\\]\"] ]\n",
        "                },\n",
        "                displayAlign: 'center', // Change this to 'center' to center equations.\n",
        "                \"HTML-CSS\": {\n",
        "                    styles: {'.MathJax_Display': {\"margin\": 4}}\n",
        "                }\n",
        "        });\n",
        "</script>\n"
       ],
       "metadata": {},
       "output_type": "pyout",
       "prompt_number": 1,
       "text": [
        "<IPython.core.display.HTML at 0x430e358>"
       ]
      }
     ],
     "prompt_number": 1
    }
   ],
   "metadata": {}
  }
 ]
}