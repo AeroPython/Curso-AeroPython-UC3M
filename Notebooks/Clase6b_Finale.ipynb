{
 "metadata": {
  "name": ""
 },
 "nbformat": 3,
 "nbformat_minor": 0,
 "worksheets": [
  {
   "cells": [
    {
     "cell_type": "markdown",
     "metadata": {},
     "source": [
      "# Curso AeroPython ETSIAE\n",
      "\n",
      "## Juan Luis Cano ([@Pybonacci](https://twitter.com/Pybonacci)) y \u00c1lex S\u00e1ez ([@Alex__S12](https://twitter.com/Alex__S12))"
     ]
    },
    {
     "cell_type": "markdown",
     "metadata": {},
     "source": [
      "<a rel=\"license\" href=\"http://creativecommons.org/licenses/by/4.0/deed.es\"><img alt=\"Licencia Creative Commons\" style=\"border-width:0\" src=\"http://i.creativecommons.org/l/by/4.0/88x31.png\" /></a><br /><span xmlns:dct=\"http://purl.org/dc/terms/\" property=\"dct:title\">Curso AeroPython</span> por <span xmlns:cc=\"http://creativecommons.org/ns#\" property=\"cc:attributionName\">Juan Luis Cano Rodriguez y Alejandro S\u00e1ez Mollejo</span> se distribuye bajo una <a rel=\"license\" href=\"http://creativecommons.org/licenses/by/4.0/deed.es\">Licencia Creative Commons Atribuci\u00f3n 4.0 Internacional</a>."
     ]
    },
    {
     "cell_type": "heading",
     "level": 1,
     "metadata": {},
     "source": [
      "CLASE 6b: *Finale*"
     ]
    },
    {
     "cell_type": "markdown",
     "metadata": {},
     "source": [
      "<div style=\"text-align: center;\">\n",
      "\n",
      "<img src=\"http://undondin.com/wp-content/uploads/2013/01/red-bull-stratos.jpg\" width=\"800\" />\n",
      "\n",
      "<p></p>\n",
      "\n",
      "<p style=\"font-size: 1.5em; font-style: italic; text-align: center; line-height: 1.2em;\">El 14 de octubre de 2012 Felix Baumgartner salt\u00f3 de una sonda estratosf\u00e9rica a casi 40000 metros, batiendo los r\u00e9cords de vuelo en globo tripulado a mayor altura y salto a mayor altura. **\u00bfRompi\u00f3 adem\u00e1s la barrera del sonido?**</p>\n",
      "\n",
      "<p style=\"font-size: 1.5em; font-style: italic; text-align: center; line-height: 1.2em;\">\u00a1**Python**! ;)</p>\n",
      "</div>"
     ]
    },
    {
     "cell_type": "markdown",
     "metadata": {},
     "source": [
      "La ecuaci\u00f3n que gobierna la ca\u00edda de Felix es:"
     ]
    },
    {
     "cell_type": "markdown",
     "metadata": {},
     "source": [
      "$$\\displaystyle m \\frac{d^2 y}{d t^2} = -m g + D$$"
     ]
    },
    {
     "cell_type": "markdown",
     "metadata": {},
     "source": [
      "Siendo\n",
      "\n",
      "$$D = \\frac{1}{2} \\rho v^2 C_D A$$"
     ]
    },
    {
     "cell_type": "markdown",
     "metadata": {},
     "source": [
      "donde\n",
      "\n",
      "* $m$ es la masa de F\u00e9lix y la tomaremos $m = 80~\\text{kg}$,\n",
      "* $\\rho$ es la densidad del aire **y depende de la altura**,\n",
      "* $v = |\\dot{y}|$ es la velocidad,\n",
      "* $C_D$ es el coeficiente de rozamiento, que tomaremos* $C_D = 0.4$, y\n",
      "* $A$ es un \u00e1rea de referencia y tomaremos $A = 1~\\text{m}^2$.\n",
      "\n",
      "\\* <small>Fuente: http://fisicadepelicula.blogspot.com.es/2012/10/la-fisica-del-salto-baumgartner.html</small>\n",
      "\n",
      "Adem\u00e1s, necesitaremos la altura inicial $h_0 = 39000~\\text{m}$."
     ]
    },
    {
     "cell_type": "heading",
     "level": 2,
     "metadata": {},
     "source": [
      "Atm\u00f3sfera est\u00e1ndar"
     ]
    },
    {
     "cell_type": "markdown",
     "metadata": {},
     "source": [
      "Necesitamos escribir funciones que nos den las condiciones en la atm\u00f3sfera est\u00e1ndar."
     ]
    },
    {
     "cell_type": "markdown",
     "metadata": {},
     "source": [
      "$$T(h) = \\begin{cases} T_0 - \\lambda h & 0 < h <= 11000 \\\\ T(11000) & 11000 < h <= 20000 \\end{cases}\n",
      "\\\\ ~\\\\ T_0 = 288.16 K \\\\\n",
      "\\lambda = -6.5 \\cdot 10^{-3}~\\text{K/m}$$"
     ]
    },
    {
     "cell_type": "code",
     "collapsed": false,
     "input": [
      "def T_ISA(h):\n",
      "    \"\"\"Temperatura en funci\u00f3n de la altitud seg\u00fan modelo ISA.\n",
      "\n",
      "    Argumentos\n",
      "    ----------\n",
      "    h : Altura en metros.\n",
      "\n",
      "    Devuelve\n",
      "    --------\n",
      "    T : Temperatura en Kelvin.\n",
      "\n",
      "    \"\"\"\n",
      "    pass"
     ],
     "language": "python",
     "metadata": {},
     "outputs": [],
     "prompt_number": 16
    },
    {
     "cell_type": "markdown",
     "metadata": {},
     "source": [
      "Si quieres comprobar que tus funciones hacen lo que deben, puedes ejecutar estos tests:"
     ]
    },
    {
     "cell_type": "code",
     "collapsed": false,
     "input": [
      "from numpy.testing import assert_almost_equal\n",
      "\n",
      "assert_almost_equal(T_ISA(0), 288.16)\n",
      "assert_almost_equal(T_ISA(11000), 216.66)"
     ],
     "language": "python",
     "metadata": {},
     "outputs": []
    },
    {
     "cell_type": "markdown",
     "metadata": {},
     "source": [
      "$$ \\rho(h) = \\begin{cases} \\rho_0 \\left( \\frac{T}{T_0} \\right)^{-\\frac{g}{\\lambda R}} & 0 <= h <= 11000 \\\\ \\rho(11000)~e^{\\frac{-g(z - 11000)}{R T}} & 11000 < h <= 20000 \\end{cases} $$"
     ]
    },
    {
     "cell_type": "markdown",
     "metadata": {},
     "source": [
      "$$\\rho_0 = 1.225~\\text{[SI]} \\\\\n",
      "R = 287~\\text{[SI]}$$"
     ]
    },
    {
     "cell_type": "code",
     "collapsed": false,
     "input": [],
     "language": "python",
     "metadata": {},
     "outputs": []
    }
   ],
   "metadata": {}
  }
 ]
}