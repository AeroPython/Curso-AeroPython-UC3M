{
 "metadata": {
  "name": ""
 },
 "nbformat": 3,
 "nbformat_minor": 0,
 "worksheets": [
  {
   "cells": [
    {
     "cell_type": "markdown",
     "metadata": {},
     "source": [
      "# Curso AeroPython ETSIAE\n",
      "\n",
      "## Juan Luis Cano ([@Pybonacci](https://twitter.com/Pybonacci)) y \u00c1lex S\u00e1ez ([@Alex__S12](https://twitter.com/Alex__S12))"
     ]
    },
    {
     "cell_type": "markdown",
     "metadata": {},
     "source": [
      "<a rel=\"license\" href=\"http://creativecommons.org/licenses/by/4.0/deed.es\"><img alt=\"Licencia Creative Commons\" style=\"border-width:0\" src=\"http://i.creativecommons.org/l/by/4.0/88x31.png\" /></a><br /><span xmlns:dct=\"http://purl.org/dc/terms/\" property=\"dct:title\">Curso AeroPython</span> por <span xmlns:cc=\"http://creativecommons.org/ns#\" property=\"cc:attributionName\">Juan Luis Cano Rodriguez y Alejandro S\u00e1ez Mollejo</span> se distribuye bajo una <a rel=\"license\" href=\"http://creativecommons.org/licenses/by/4.0/deed.es\">Licencia Creative Commons Atribuci\u00f3n 4.0 Internacional</a>."
     ]
    },
    {
     "cell_type": "heading",
     "level": 1,
     "metadata": {},
     "source": [
      "CLASE 6b: *Finale*"
     ]
    },
    {
     "cell_type": "markdown",
     "metadata": {},
     "source": [
      "<div style=\"text-align: center;\">\n",
      "\n",
      "<img src=\"http://undondin.com/wp-content/uploads/2013/01/red-bull-stratos.jpg\" width=\"800\" />\n",
      "\n",
      "<p></p>\n",
      "\n",
      "<p style=\"font-size: 1.5em; font-style: italic; text-align: center; line-height: 1.2em;\">El 14 de octubre de 2012 Felix Baumgartner salt\u00f3 de una sonda estratosf\u00e9rica a casi 40000 metros, batiendo los r\u00e9cords de vuelo en globo tripulado a mayor altura y salto a mayor altura. **\u00bfRompi\u00f3 adem\u00e1s la barrera del sonido?**</p>\n",
      "\n",
      "<p style=\"font-size: 1.5em; font-style: italic; text-align: center; line-height: 1.2em;\">\u00a1**Python**! ;)</p>\n",
      "</div>"
     ]
    },
    {
     "cell_type": "markdown",
     "metadata": {},
     "source": [
      "La ecuaci\u00f3n que gobierna la ca\u00edda de Felix es:"
     ]
    },
    {
     "cell_type": "markdown",
     "metadata": {},
     "source": [
      "$$\\displaystyle m \\frac{d^2 y}{d t^2} = -m g + D$$"
     ]
    },
    {
     "cell_type": "markdown",
     "metadata": {},
     "source": [
      "Siendo\n",
      "\n",
      "$$D = \\frac{1}{2} \\rho v^2 C_D A$$"
     ]
    },
    {
     "cell_type": "markdown",
     "metadata": {},
     "source": [
      "donde\n",
      "\n",
      "* $m$ es la masa de F\u00e9lix y la tomaremos $m = 80~\\text{kg}$,\n",
      "* $\\rho$ es la densidad del aire **y depende de la altura**,\n",
      "* $v = |\\dot{y}|$ es la velocidad,\n",
      "* $C_D$ es el coeficiente de rozamiento, que tomaremos* $C_D = 0.4$, y\n",
      "* $A$ es un \u00e1rea de referencia y tomaremos $A = 1~\\text{m}^2$.\n",
      "\n",
      "\\* <small>Fuente: http://fisicadepelicula.blogspot.com.es/2012/10/la-fisica-del-salto-baumgartner.html</small>\n",
      "\n",
      "Adem\u00e1s, necesitaremos la altura inicial $h_0 = 39000~\\text{m}$."
     ]
    },
    {
     "cell_type": "heading",
     "level": 2,
     "metadata": {},
     "source": [
      "Atm\u00f3sfera est\u00e1ndar"
     ]
    },
    {
     "cell_type": "markdown",
     "metadata": {},
     "source": [
      "Necesitamos escribir funciones que nos den las condiciones en la atm\u00f3sfera est\u00e1ndar."
     ]
    },
    {
     "cell_type": "markdown",
     "metadata": {},
     "source": [
      "$$T(h) = \\begin{cases} T_0 - \\lambda h & 0 < h <= 11000 \\\\ T(11000) & 11000 < h <= 20000 \\end{cases}\n",
      "\\\\ ~\\\\ T_0 = 288.16 K \\\\\n",
      "\\lambda = -6.5 \\cdot 10^{-3}~\\text{K/m}$$"
     ]
    },
    {
     "cell_type": "code",
     "collapsed": false,
     "input": [
      "def T_ISA(h):\n",
      "    \"\"\"Temperatura en funci\u00f3n de la altitud seg\u00fan modelo ISA.\n",
      "\n",
      "    Argumentos\n",
      "    ----------\n",
      "    h : Altura en metros.\n",
      "\n",
      "    Devuelve\n",
      "    --------\n",
      "    T : Temperatura en Kelvin.\n",
      "\n",
      "    \"\"\"\n",
      "    pass"
     ],
     "language": "python",
     "metadata": {},
     "outputs": [],
     "prompt_number": 16
    },
    {
     "cell_type": "markdown",
     "metadata": {},
     "source": [
      "Si quieres comprobar que tus funciones hacen lo que deben, puedes ejecutar estos tests:"
     ]
    },
    {
     "cell_type": "code",
     "collapsed": false,
     "input": [
      "from numpy.testing import assert_almost_equal\n",
      "\n",
      "assert_almost_equal(T_ISA(0), 288.16)\n",
      "assert_almost_equal(T_ISA(11000), 216.66)"
     ],
     "language": "python",
     "metadata": {},
     "outputs": []
    },
    {
     "cell_type": "markdown",
     "metadata": {},
     "source": [
      "$$ \\rho(h) = \\begin{cases} \\rho_0 \\left( \\frac{T}{T_0} \\right)^{-\\frac{g}{\\lambda R}} & 0 <= h <= 11000 \\\\ \\rho(11000)~e^{\\frac{-g(z - 11000)}{R T}} & 11000 < h <= 20000 \\end{cases} $$"
     ]
    },
    {
     "cell_type": "markdown",
     "metadata": {},
     "source": [
      "$$\\rho_0 = 1.225~\\text{[SI]} \\\\\n",
      "R = 287~\\text{[SI]}$$"
     ]
    },
    {
     "cell_type": "markdown",
     "metadata": {},
     "source": [
      "<div class=\"alert alert-warning\">**\u00a1Importante!** Si utilizas condicionales para comprobar las capas de la atm\u00f3sfera, seguramente tus funciones fallar\u00e1n si las quieres representar utilizando un `linspace`. Para estos casos es mejor utilizar la funci\u00f3n `np.select`:</div>"
     ]
    },
    {
     "cell_type": "markdown",
     "metadata": {},
     "source": [
      "**Ejemplo**:\n",
      "\n",
      "$$ f(x) = \\begin{cases} -x & x < 0 \\\\ x & x > 0 \\end{cases}$$"
     ]
    },
    {
     "cell_type": "code",
     "collapsed": false,
     "input": [
      "import numpy as np\n",
      "\n",
      "def f(x):\n",
      "    cond_1 = x < 0\n",
      "    cond_2 = x > 0\n",
      "\n",
      "    f_1 = -x\n",
      "    f_2 = x\n",
      "    \n",
      "    fx = np.select([cond_1, cond_2], [f_1, f_2])\n",
      "    return fx\n",
      "\n",
      "# Lo mismo, m\u00e1s breve\n",
      "def f(x):\n",
      "    return np.select([x < 0, x > 0], [-x, x])"
     ],
     "language": "python",
     "metadata": {},
     "outputs": [],
     "prompt_number": 10
    },
    {
     "cell_type": "code",
     "collapsed": false,
     "input": [
      "f(np.array([-1, 0, 1]))"
     ],
     "language": "python",
     "metadata": {},
     "outputs": [
      {
       "metadata": {},
       "output_type": "pyout",
       "prompt_number": 12,
       "text": [
        "array([1, 0, 1])"
       ]
      }
     ],
     "prompt_number": 12
    },
    {
     "cell_type": "heading",
     "level": 2,
     "metadata": {},
     "source": [
      "Ecuaci\u00f3n diferencial"
     ]
    },
    {
     "cell_type": "markdown",
     "metadata": {},
     "source": [
      "Recuerda de la clase 4b que `integrate.odeint` resuelve ecuaciones del tipo:"
     ]
    },
    {
     "cell_type": "markdown",
     "metadata": {},
     "source": [
      "$$ \\frac{d\\mathbf{y}}{dt}=\\mathbf{f}\\left(\\mathbf{y},t\\right)$$\n",
      "\n",
      "con condiciones iniciales $\\mathbf{y}(\\mathbf{0}) = \\mathbf{y_0}$. Por tanto, y al tratarse esta de una ecuaci\u00f3n en derivada segunda, hay que hacer una reducci\u00f3n de orden."
     ]
    },
    {
     "cell_type": "markdown",
     "metadata": {},
     "source": [
      "**Ejemplo**:\n",
      "\n",
      "$$y'' + y = 0$$\n",
      "\n",
      "\n",
      "$$ \\Rightarrow \\mathbf{y} = \\begin{pmatrix} y \\\\ y' \\end{pmatrix}$$\n",
      "\n",
      "$$\\frac{d\\mathbf{y}}{dt} = \\frac{d}{dt} \\begin{pmatrix} y \\\\ y' \\end{pmatrix} = \\begin{pmatrix} y' \\\\ y'' \\end{pmatrix} = \n",
      "\\begin{pmatrix} y' \\\\ -y \\end{pmatrix} = \\mathbf{f}\\left(\\mathbf{y}\\right)$$"
     ]
    },
    {
     "cell_type": "code",
     "collapsed": false,
     "input": [
      "from scipy import integrate\n",
      "%matplotlib inline\n",
      "import matplotlib.pyplot as plt\n",
      "\n",
      "# Funci\u00f3n del sistema\n",
      "def f(y, t):\n",
      "    return np.array([y[1], -y[0]])\n",
      "\n",
      "# Condiciones iniciales\n",
      "y0 = np.array([1, 0])\n",
      "\n",
      "# Vector de tiempos\n",
      "t = np.linspace(0, 10)\n",
      "\n",
      "# Integramos la ecuaci\u00f3n\n",
      "sol = integrate.odeint(f, y0, t)\n",
      "\n",
      "pos = sol[:, 0]  # Primera columna: posici\u00f3n\n",
      "vel = sol[:, 1]  # Segunda columna: velocidad\n",
      "\n",
      "# Representamos la soluci\u00f3n\n",
      "line, = plt.plot(t, pos, label=\"Position $y$\")\n",
      "plt.plot(t, vel, '--', color=line.get_color(), label=\"Velocity $\\dot{y}$\")\n",
      "plt.legend()"
     ],
     "language": "python",
     "metadata": {},
     "outputs": [
      {
       "metadata": {},
       "output_type": "pyout",
       "prompt_number": 18,
       "text": [
        "<matplotlib.legend.Legend at 0x7f1cc97b7d90>"
       ]
      },
      {
       "metadata": {},
       "output_type": "display_data",
       "png": "[encoded data removed]",
       "text": [
        "<matplotlib.figure.Figure at 0x7f1cc9a3c650>"
       ]
      }
     ],
     "prompt_number": 18
    },
    {
     "cell_type": "heading",
     "level": 2,
     "metadata": {},
     "source": [
      "Barrera del sonido"
     ]
    },
    {
     "cell_type": "markdown",
     "metadata": {},
     "source": [
      "La velocidad del sonido en el aire variar\u00e1 tambi\u00e9n, y lo har\u00e1 de esta forma:"
     ]
    },
    {
     "cell_type": "markdown",
     "metadata": {},
     "source": [
      "$$M = \\frac{v}{c}$$"
     ]
    },
    {
     "cell_type": "markdown",
     "metadata": {},
     "source": [
      "siendo\n",
      "\n",
      "$$c = \\sqrt{\\gamma R T}$$"
     ]
    },
    {
     "cell_type": "markdown",
     "metadata": {},
     "source": [
      "Como paso final, representa $M$ en funci\u00f3n de $t$ y en la misma gr\u00e1fica incluye una l\u00ednea horizontal de trazo discontinuo donde $M = 1$."
     ]
    },
    {
     "cell_type": "code",
     "collapsed": false,
     "input": [],
     "language": "python",
     "metadata": {},
     "outputs": []
    }
   ],
   "metadata": {}
  }
 ]
}