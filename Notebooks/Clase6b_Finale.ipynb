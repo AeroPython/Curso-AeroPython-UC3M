{
 "metadata": {
  "name": ""
 },
 "nbformat": 3,
 "nbformat_minor": 0,
 "worksheets": [
  {
   "cells": [
    {
     "cell_type": "markdown",
     "metadata": {},
     "source": [
      "# Curso AeroPython ETSIAE\n",
      "\n",
      "## Juan Luis Cano ([@Pybonacci](https://twitter.com/Pybonacci)) y \u00c1lex S\u00e1ez ([@Alex__S12](https://twitter.com/Alex__S12))"
     ]
    },
    {
     "cell_type": "markdown",
     "metadata": {},
     "source": [
      "<a rel=\"license\" href=\"http://creativecommons.org/licenses/by/4.0/deed.es\"><img alt=\"Licencia Creative Commons\" style=\"border-width:0\" src=\"http://i.creativecommons.org/l/by/4.0/88x31.png\" /></a><br /><span xmlns:dct=\"http://purl.org/dc/terms/\" property=\"dct:title\">Curso AeroPython</span> por <span xmlns:cc=\"http://creativecommons.org/ns#\" property=\"cc:attributionName\">Juan Luis Cano Rodriguez y Alejandro S\u00e1ez Mollejo</span> se distribuye bajo una <a rel=\"license\" href=\"http://creativecommons.org/licenses/by/4.0/deed.es\">Licencia Creative Commons Atribuci\u00f3n 4.0 Internacional</a>."
     ]
    },
    {
     "cell_type": "heading",
     "level": 1,
     "metadata": {},
     "source": [
      "CLASE 6b: *Finale*"
     ]
    },
    {
     "cell_type": "markdown",
     "metadata": {},
     "source": [
      "<div style=\"text-align: center;\">\n",
      "\n",
      "<img src=\"http://undondin.com/wp-content/uploads/2013/01/red-bull-stratos.jpg\" width=\"800\" />\n",
      "\n",
      "<p></p>\n",
      "\n",
      "<p style=\"font-size: 1.5em; font-style: italic; text-align: center; line-height: 1.2em;\">El 14 de octubre de 2012 Felix Baumgartner salt\u00f3 de una sonda estratosf\u00e9rica a casi 40000 metros, batiendo los r\u00e9cords de vuelo en globo tripulado a mayor altura y salto a mayor altura. **\u00bfRompi\u00f3 adem\u00e1s la barrera del sonido?**</p>\n",
      "\n",
      "<p style=\"font-size: 1.5em; font-style: italic; text-align: center; line-height: 1.2em;\">\u00a1**Python**! ;)</p>\n",
      "</div>"
     ]
    },
    {
     "cell_type": "markdown",
     "metadata": {},
     "source": [
      "Inspiraci\u00f3n: http://pybonacci.wordpress.com/2012/10/15/el-salto-de-felix-baumgartner-en-python/"
     ]
    },
    {
     "cell_type": "markdown",
     "metadata": {},
     "source": [
      "La ecuaci\u00f3n que gobierna la ca\u00edda de Felix es:"
     ]
    },
    {
     "cell_type": "markdown",
     "metadata": {},
     "source": [
      "$$\\displaystyle m \\frac{d^2 y}{d t^2} = -m g + D$$"
     ]
    },
    {
     "cell_type": "markdown",
     "metadata": {},
     "source": [
      "Siendo\n",
      "\n",
      "$$D = \\frac{1}{2} \\rho v^2 C_D A$$"
     ]
    },
    {
     "cell_type": "markdown",
     "metadata": {},
     "source": [
      "donde\n",
      "\n",
      "* $m$ es la masa de F\u00e9lix y la tomaremos $m = 80~\\text{kg}$,\n",
      "* $\\rho$ es la densidad del aire **y depende de la altura**,\n",
      "* $v = |\\dot{y}|$ es la velocidad,\n",
      "* $C_D$ es el coeficiente de rozamiento, que tomaremos* $C_D = 0.4$, y\n",
      "* $A$ es un \u00e1rea de referencia y tomaremos $A = 1~\\text{m}^2$.\n",
      "\n",
      "\\* <small>Fuente: http://fisicadepelicula.blogspot.com.es/2012/10/la-fisica-del-salto-baumgartner.html</small>\n",
      "\n",
      "Adem\u00e1s, necesitaremos la altura inicial $h_0 = 39000~\\text{m}$."
     ]
    },
    {
     "cell_type": "heading",
     "level": 2,
     "metadata": {},
     "source": [
      "Atm\u00f3sfera est\u00e1ndar"
     ]
    },
    {
     "cell_type": "markdown",
     "metadata": {},
     "source": [
      "Necesitamos escribir funciones que nos den las condiciones en la atm\u00f3sfera est\u00e1ndar."
     ]
    },
    {
     "cell_type": "markdown",
     "metadata": {},
     "source": [
      "$$T(h) = \\begin{cases} T_0 + \\lambda h & 0 <= h <= 11000 \\\\ T(11000) & 11000 < h \\end{cases}\n",
      "\\\\ ~\\\\ T_0 = 288.16 K \\\\\n",
      "\\lambda = -6.5 \\cdot 10^{-3}~\\text{K/m}$$"
     ]
    },
    {
     "cell_type": "code",
     "collapsed": false,
     "input": [
      "def T_ISA(h):\n",
      "    \"\"\"Temperatura en funci\u00f3n de la altitud seg\u00fan modelo ISA.\n",
      "\n",
      "    Argumentos\n",
      "    ----------\n",
      "    h : Altura en metros.\n",
      "\n",
      "    Devuelve\n",
      "    --------\n",
      "    T : Temperatura en Kelvin.\n",
      "\n",
      "    \"\"\"\n",
      "    T0 = 288.16  # K\n",
      "    ll = -6.5e-3  # K / m\n",
      "    if 0 <= h <= 11000:\n",
      "        T = T0 + ll * h\n",
      "    elif 11000 < h:\n",
      "        T = T0 + ll * 11000\n",
      "    # Es preferible que la funci\u00f3n tenga solo un `return`\n",
      "    return T"
     ],
     "language": "python",
     "metadata": {},
     "outputs": [],
     "prompt_number": 1
    },
    {
     "cell_type": "code",
     "collapsed": false,
     "input": [
      "help(T_ISA)"
     ],
     "language": "python",
     "metadata": {},
     "outputs": [
      {
       "output_type": "stream",
       "stream": "stdout",
       "text": [
        "Help on function T_ISA in module __main__:\n",
        "\n",
        "T_ISA(h)\n",
        "    Temperatura en funci\u00f3n de la altitud seg\u00fan modelo ISA.\n",
        "    \n",
        "    Argumentos\n",
        "    ----------\n",
        "    h : Altura en metros.\n",
        "    \n",
        "    Devuelve\n",
        "    --------\n",
        "    T : Temperatura en Kelvin.\n",
        "\n"
       ]
      }
     ],
     "prompt_number": 4
    },
    {
     "cell_type": "markdown",
     "metadata": {},
     "source": [
      "Si quieres comprobar que tus funciones hacen lo que deben, puedes ejecutar estos tests:"
     ]
    },
    {
     "cell_type": "code",
     "collapsed": false,
     "input": [
      "from numpy.testing import assert_almost_equal\n",
      "\n",
      "assert_almost_equal(T_ISA(0), 288.16)\n",
      "assert_almost_equal(T_ISA(11000), 216.66)"
     ],
     "language": "python",
     "metadata": {},
     "outputs": [],
     "prompt_number": 2
    },
    {
     "cell_type": "markdown",
     "metadata": {},
     "source": [
      "<div class=\"alert alert-warning\">**\u00a1Importante!** Si utilizas condicionales para comprobar las capas de la atm\u00f3sfera, seguramente tus funciones fallar\u00e1n si las quieres representar utilizando un `linspace`. Para estos casos es mejor utilizar la funci\u00f3n `np.select`:</div>"
     ]
    },
    {
     "cell_type": "code",
     "collapsed": false,
     "input": [
      "def T_ISA(h):\n",
      "    \"\"\"Temperatura en funci\u00f3n de la altitud seg\u00fan modelo ISA.\n",
      "\n",
      "    Argumentos\n",
      "    ----------\n",
      "    h : Altura en metros.\n",
      "\n",
      "    Devuelve\n",
      "    --------\n",
      "    T : Temperatura en Kelvin.\n",
      "\n",
      "    \"\"\"\n",
      "    # Con esta l\u00ednea convertimos la entrada a un array\n",
      "    h = np.asarray(h)\n",
      "\n",
      "    T0 = 288.16  # K\n",
      "    ll = -6.5e-3  # K / m\n",
      "\n",
      "    T1 = T0 + ll * h\n",
      "    T2 = T0 + ll * 11000\n",
      "\n",
      "    # 0 <= h <= 110000 no funciona para arrays\n",
      "    T = np.select([(0 <= h) & (h <= 11000), 11000 < h], [T1, T2])\n",
      "    return T"
     ],
     "language": "python",
     "metadata": {},
     "outputs": [],
     "prompt_number": 29
    },
    {
     "cell_type": "code",
     "collapsed": false,
     "input": [
      "T_ISA(0)"
     ],
     "language": "python",
     "metadata": {},
     "outputs": [
      {
       "metadata": {},
       "output_type": "pyout",
       "prompt_number": 30,
       "text": [
        "288.16000000000003"
       ]
      }
     ],
     "prompt_number": 30
    },
    {
     "cell_type": "code",
     "collapsed": false,
     "input": [
      "T_ISA(np.array([0, 11000, 20000]))"
     ],
     "language": "python",
     "metadata": {},
     "outputs": [
      {
       "metadata": {},
       "output_type": "pyout",
       "prompt_number": 31,
       "text": [
        "array([ 288.16,  216.66,  216.66])"
       ]
      }
     ],
     "prompt_number": 31
    },
    {
     "cell_type": "code",
     "collapsed": false,
     "input": [
      "# Como hemos puesto `h = np.asarray(h)`, podemos hacer esto\n",
      "T_ISA([0, 11000, 20000])"
     ],
     "language": "python",
     "metadata": {},
     "outputs": [
      {
       "metadata": {},
       "output_type": "pyout",
       "prompt_number": 32,
       "text": [
        "array([ 288.16,  216.66,  216.66])"
       ]
      }
     ],
     "prompt_number": 32
    },
    {
     "cell_type": "markdown",
     "metadata": {},
     "source": [
      "Otra forma alternativa (idea de Alfredo y Laura):"
     ]
    },
    {
     "cell_type": "code",
     "collapsed": false,
     "input": [
      "def T_ISA(h):\n",
      "    \"\"\"Temperatura en funci\u00f3n de la altitud seg\u00fan modelo ISA.\n",
      "\n",
      "    Argumentos\n",
      "    ----------\n",
      "    h : Altura en metros.\n",
      "\n",
      "    Devuelve\n",
      "    --------\n",
      "    T : Temperatura en Kelvin.\n",
      "\n",
      "    \"\"\"\n",
      "    # Con esta l\u00ednea convertimos la entrada a un array\n",
      "    h = np.atleast_1d(h)\n",
      "\n",
      "    T0 = 288.16  # K\n",
      "    ll = -6.5e-3  # K / m\n",
      "\n",
      "    T = np.zeros_like(h, dtype=float)\n",
      "\n",
      "    T[(0 <= h) & (h <= 11000)] = T0 + ll * h[(0 <= h) & (h <= 11000)]\n",
      "    T[11000 < h] = T0 + ll * 11000\n",
      "\n",
      "    return T"
     ],
     "language": "python",
     "metadata": {},
     "outputs": [],
     "prompt_number": 33
    },
    {
     "cell_type": "code",
     "collapsed": false,
     "input": [
      "T_ISA(0)"
     ],
     "language": "python",
     "metadata": {},
     "outputs": [
      {
       "metadata": {},
       "output_type": "pyout",
       "prompt_number": 35,
       "text": [
        "array([ 288.16])"
       ]
      }
     ],
     "prompt_number": 35
    },
    {
     "cell_type": "code",
     "collapsed": false,
     "input": [
      "T_ISA([0, 11000, 20000])"
     ],
     "language": "python",
     "metadata": {},
     "outputs": [
      {
       "metadata": {},
       "output_type": "pyout",
       "prompt_number": 36,
       "text": [
        "array([ 288.16,  216.66,  216.66])"
       ]
      }
     ],
     "prompt_number": 36
    },
    {
     "cell_type": "markdown",
     "metadata": {},
     "source": [
      "$$ \\rho(h) = \\begin{cases} \\rho_0 \\left( \\frac{T}{T_0} \\right)^{-\\frac{g}{\\lambda R} - 1} & 0 <= h <= 11000 \\\\ \\rho(11000)~e^{\\frac{-g(z - 11000)}{R T}} & 11000 < h <= 20000 \\end{cases} $$"
     ]
    },
    {
     "cell_type": "markdown",
     "metadata": {},
     "source": [
      "$$\\rho_0 = 1.225~\\text{[SI]} \\\\\n",
      "R = 287~\\text{[SI]}$$"
     ]
    },
    {
     "cell_type": "code",
     "collapsed": false,
     "input": [
      "def rho_ISA(h):\n",
      "    h = np.asarray(h)\n",
      "\n",
      "    T0 = 288.16  # K\n",
      "    ll = -6.5e-3  # K / m\n",
      "    g = 9.8  # m / s2\n",
      "    rho0 = 1.225  # kg / m3\n",
      "    R = 287.0  # [SI]\n",
      "\n",
      "    rho1 = rho0 * (T_ISA(h) / T0) ** (-g / (ll * R) - 1)\n",
      "    # \u00bfHabr\u00e1 otra manera de hacerlo sin este copia-pega?\n",
      "    rho2 = rho0 * (T_ISA(11000) / T0) ** (-g / (ll * R) - 1) * np.exp(-g * (h - 11000) / (R * T_ISA(h)))\n",
      "\n",
      "    rho = np.select([(0 <= h) & (h <= 11000), 11000 < h], [rho1, rho2])\n",
      "    return rho"
     ],
     "language": "python",
     "metadata": {},
     "outputs": [],
     "prompt_number": 37
    },
    {
     "cell_type": "code",
     "collapsed": false,
     "input": [
      "rho_ISA([0, 11000, 20000])"
     ],
     "language": "python",
     "metadata": {},
     "outputs": [
      {
       "metadata": {},
       "output_type": "pyout",
       "prompt_number": 38,
       "text": [
        "array([ 1.225     ,  0.36420497,  0.08817176])"
       ]
      }
     ],
     "prompt_number": 38
    },
    {
     "cell_type": "heading",
     "level": 2,
     "metadata": {},
     "source": [
      "Ecuaci\u00f3n diferencial"
     ]
    },
    {
     "cell_type": "markdown",
     "metadata": {},
     "source": [
      "Recuerda de la clase 4b que `integrate.odeint` resuelve ecuaciones del tipo:"
     ]
    },
    {
     "cell_type": "markdown",
     "metadata": {},
     "source": [
      "$$ \\frac{d\\mathbf{y}}{dt}=\\mathbf{f}\\left(\\mathbf{y},t\\right)$$\n",
      "\n",
      "con condiciones iniciales $\\mathbf{y}(\\mathbf{0}) = \\mathbf{y_0}$. Por tanto, y al tratarse esta de una ecuaci\u00f3n en derivada segunda, hay que hacer una reducci\u00f3n de orden."
     ]
    },
    {
     "cell_type": "code",
     "collapsed": false,
     "input": [
      "from scipy import integrate\n",
      "%matplotlib inline\n",
      "import matplotlib.pyplot as plt\n",
      "\n",
      "# Funci\u00f3n del sistema\n",
      "def f(y, t):\n",
      "    g = 9.8  # m / s2\n",
      "    C_D = 0.4\n",
      "    A = 1.0  # m^2\n",
      "    m = 80  # kg\n",
      "    return np.array([\n",
      "        y[1],\n",
      "        -g + rho_ISA(y[0]) * y[1] ** 2 * C_D * A / (2 * m)\n",
      "    ])\n",
      "\n",
      "# Condiciones iniciales\n",
      "y0 = np.array([39000, 0])\n",
      "\n",
      "# Vector de tiempos\n",
      "t = np.linspace(0, 250)\n",
      "\n",
      "# Integramos la ecuaci\u00f3n\n",
      "sol = integrate.odeint(f, y0, t)\n",
      "\n",
      "pos = sol[:, 0]  # Primera columna: posici\u00f3n\n",
      "vel = sol[:, 1]  # Segunda columna: velocidad\n",
      "\n",
      "# Representamos la soluci\u00f3n\n",
      "fig, axes = plt.subplots(2, 1, sharex=True, figsize=(6, 6))\n",
      "line, = axes[0].plot(t, pos / 1e3, label=\"Position $y$\")\n",
      "axes[0].set_ylabel(\"Position (km)\")\n",
      "axes[1].plot(t, vel, '--', color=line.get_color(), label=\"Velocity $\\dot{y}$\")\n",
      "axes[1].set_ylabel(\"Velocity (m / s)\")\n",
      "axes[1].set_xlabel(\"Time (s)\")\n",
      "axes[0].legend()\n",
      "axes[1].legend()\n",
      "axes[0].set_title(\"Felix Baumgartner free fall\")\n",
      "fig.tight_layout()"
     ],
     "language": "python",
     "metadata": {},
     "outputs": [
      {
       "metadata": {},
       "output_type": "display_data",
       "png": "[encoded data removed]",
       "text": [
        "<matplotlib.figure.Figure at 0x7f245a87b950>"
       ]
      }
     ],
     "prompt_number": 57
    },
    {
     "cell_type": "heading",
     "level": 2,
     "metadata": {},
     "source": [
      "Barrera del sonido"
     ]
    },
    {
     "cell_type": "markdown",
     "metadata": {},
     "source": [
      "La velocidad del sonido en el aire variar\u00e1 tambi\u00e9n, y lo har\u00e1 de esta forma:"
     ]
    },
    {
     "cell_type": "markdown",
     "metadata": {},
     "source": [
      "$$M = \\frac{v}{c}$$"
     ]
    },
    {
     "cell_type": "markdown",
     "metadata": {},
     "source": [
      "siendo\n",
      "\n",
      "$$c = \\sqrt{\\gamma R T}$$"
     ]
    },
    {
     "cell_type": "markdown",
     "metadata": {},
     "source": [
      "Como paso final, representa $M$ en funci\u00f3n de $t$ y en la misma gr\u00e1fica incluye una l\u00ednea horizontal de trazo discontinuo donde $M = 1$."
     ]
    },
    {
     "cell_type": "code",
     "collapsed": false,
     "input": [
      "gamma = 1.4\n",
      "R = 287.0  # [SI]\n",
      "c = np.sqrt(gamma * R * T_ISA(pos))\n",
      "\n",
      "M = np.abs(vel) / c\n",
      "\n",
      "plt.plot(t, M)\n",
      "plt.plot(t, np.ones_like(t), 'k--')\n",
      "plt.ylabel('Mach number')\n",
      "plt.xlabel('Time (s)')\n",
      "plt.title(\"Mach number\")"
     ],
     "language": "python",
     "metadata": {},
     "outputs": [
      {
       "metadata": {},
       "output_type": "pyout",
       "prompt_number": 58,
       "text": [
        "<matplotlib.text.Text at 0x7f245a8d7610>"
       ]
      },
      {
       "metadata": {},
       "output_type": "display_data",
       "png": "[encoded data removed]",
       "text": [
        "<matplotlib.figure.Figure at 0x7f245a7007d0>"
       ]
      }
     ],
     "prompt_number": 58
    },
    {
     "cell_type": "markdown",
     "metadata": {},
     "source": [
      "**Barrera del sonido superada** ;)"
     ]
    }
   ],
   "metadata": {}
  }
 ]
}