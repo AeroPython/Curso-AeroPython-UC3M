{
 "metadata": {
  "name": "",
  "signature": "sha256:26a98b2bc6cbe0e8c93282945fa98a8614d066e4770bbb4a40c4c29b0f944ccf"
 },
 "nbformat": 3,
 "nbformat_minor": 0,
 "worksheets": [
  {
   "cells": [
    {
     "cell_type": "markdown",
     "metadata": {},
     "source": [
      "# Curso AeroPython ETSIAE\n",
      "\n",
      "## Juan Luis Cano ([@Pybonacci](https://twitter.com/Pybonacci)) y \u00c1lex S\u00e1ez ([@Alex__S12](https://twitter.com/Alex__S12))"
     ]
    },
    {
     "cell_type": "markdown",
     "metadata": {},
     "source": [
      "<a rel=\"license\" href=\"http://creativecommons.org/licenses/by/4.0/deed.es\"><img alt=\"Licencia Creative Commons\" style=\"border-width:0\" src=\"http://i.creativecommons.org/l/by/4.0/88x31.png\" /></a><br /><span xmlns:dct=\"http://purl.org/dc/terms/\" property=\"dct:title\">Curso AeroPython</span> por <span xmlns:cc=\"http://creativecommons.org/ns#\" property=\"cc:attributionName\">Juan Luis Cano Rodriguez y Alejandro S\u00e1ez Mollejo</span> se distribuye bajo una <a rel=\"license\" href=\"http://creativecommons.org/licenses/by/4.0/deed.es\">Licencia Creative Commons Atribuci\u00f3n 4.0 Internacional</a>."
     ]
    },
    {
     "cell_type": "heading",
     "level": 1,
     "metadata": {},
     "source": [
      "CLASE 2a: Continuaci\u00f3n NumPy."
     ]
    },
    {
     "cell_type": "markdown",
     "metadata": {},
     "source": [
      "Hasta ahora hemos visto:\n",
      "\n",
      "* El objeto ndarray que nos ofrece NumPy y sus principales caracter\u00edsticas.\n",
      "* C\u00f3mo crear arrays usando diferentes fucniones.\n",
      "\n",
      "El siguiente paso es:\n",
      "\n",
      "* Acceder y modificar elementos del array.\n",
      "* __Copia y referencia.__\n",
      "* Operar con arrays:\n",
      "    - Operaciones elemento a elemento.\n",
      "    - Producto escalar y producto matricial.\n",
      "* Veremos m\u00e1s funciones para manejar arrays de NumPy en la clase 3 (lectura y escritura de ficheros).\n",
      "    \n",
      "Adem\u00e1s, hoy veremos como __definir funciones en Python__."
     ]
    },
    {
     "cell_type": "code",
     "collapsed": false,
     "input": [
      "#Como siempre: lo primero es lo primero.\n",
      "import numpy as np"
     ],
     "language": "python",
     "metadata": {},
     "outputs": [],
     "prompt_number": 1
    },
    {
     "cell_type": "markdown",
     "metadata": {},
     "source": [
      "Ya sabemos crear arrays, \u00bfrecuerdas? Creemos algo as\u00ed:\n",
      "\n",
      "\\begin{pmatrix}\n",
      "    21 & 22 & 23\\\\ \n",
      "    24 & 25 & 26\\\\\n",
      "    27 & 28 & 29\\\\\n",
      "    \\end{pmatrix}\n",
      "\n",
      "y hagamos que los datos que contiene sean de tipo `float`"
     ]
    },
    {
     "cell_type": "code",
     "collapsed": false,
     "input": [
      "#creamos un vector a desde 21 hasta 29\n",
      "a = np.arange(21, 30, dtype=float)\n",
      "#creamos M a partir de a\n",
      "M = np.reshape(a, (3,3))\n",
      "print(M)"
     ],
     "language": "python",
     "metadata": {},
     "outputs": [
      {
       "output_type": "stream",
       "stream": "stdout",
       "text": [
        "[[ 21.  22.  23.]\n",
        " [ 24.  25.  26.]\n",
        " [ 27.  28.  29.]]\n"
       ]
      }
     ],
     "prompt_number": 2
    },
    {
     "cell_type": "markdown",
     "metadata": {},
     "source": [
      "y empecemos a jugar...\n",
      "Antes de nada, veamos __algunas funciones que no utilizamos el otro d\u00eda:__"
     ]
    },
    {
     "cell_type": "heading",
     "level": 3,
     "metadata": {},
     "source": [
      "`array.ndim`"
     ]
    },
    {
     "cell_type": "code",
     "collapsed": false,
     "input": [
      "print('El n\u00famero de dimensiones de de a es: %d' %a.ndim)\n",
      "print('El n\u00famero de dimensiones de de M es: %d' %M.ndim)"
     ],
     "language": "python",
     "metadata": {},
     "outputs": [
      {
       "output_type": "stream",
       "stream": "stdout",
       "text": [
        "El n\u00famero de dimensiones de de a es: 1\n",
        "El n\u00famero de dimensiones de de M es: 2\n"
       ]
      }
     ],
     "prompt_number": 3
    },
    {
     "cell_type": "heading",
     "level": 3,
     "metadata": {},
     "source": [
      "`array.shape`"
     ]
    },
    {
     "cell_type": "code",
     "collapsed": false,
     "input": [
      "print('La forma de a es: %d' %a.shape)\n",
      "print('La forma de M es: %s' %str(M.shape))"
     ],
     "language": "python",
     "metadata": {},
     "outputs": [
      {
       "output_type": "stream",
       "stream": "stdout",
       "text": [
        "La forma de a es: 9\n",
        "La forma de M es: (3, 3)\n"
       ]
      }
     ],
     "prompt_number": 4
    },
    {
     "cell_type": "heading",
     "level": 3,
     "metadata": {},
     "source": [
      "`array.size`"
     ]
    },
    {
     "cell_type": "code",
     "collapsed": false,
     "input": [
      "print('El n\u00famero de elementos de a es: %d' %a.size)\n",
      "print('El n\u00famero de elementos de M es: %d' %M.size)"
     ],
     "language": "python",
     "metadata": {},
     "outputs": [
      {
       "output_type": "stream",
       "stream": "stdout",
       "text": [
        "El n\u00famero de elementos de a es: 9\n",
        "El n\u00famero de elementos de M es: 9\n"
       ]
      }
     ],
     "prompt_number": 5
    },
    {
     "cell_type": "heading",
     "level": 1,
     "metadata": {},
     "source": [
      "Indexing & Slicing"
     ]
    },
    {
     "cell_type": "markdown",
     "metadata": {},
     "source": [
      "Ahora veamos c\u00f3mo podemos __acceder a elementos__ de `a` y de `M`:"
     ]
    },
    {
     "cell_type": "code",
     "collapsed": false,
     "input": [
      "#vemos el valor de a\n",
      "a"
     ],
     "language": "python",
     "metadata": {},
     "outputs": [
      {
       "metadata": {},
       "output_type": "pyout",
       "prompt_number": 6,
       "text": [
        "array([ 21.,  22.,  23.,  24.,  25.,  26.,  27.,  28.,  29.])"
       ]
      }
     ],
     "prompt_number": 6
    },
    {
     "cell_type": "code",
     "collapsed": false,
     "input": [
      "#si no quiero que me salga array delante...\n",
      "print(a)\n"
     ],
     "language": "python",
     "metadata": {},
     "outputs": [
      {
       "output_type": "stream",
       "stream": "stdout",
       "text": [
        "[ 21.  22.  23.  24.  25.  26.  27.  28.  29.]\n"
       ]
      }
     ],
     "prompt_number": 7
    },
    {
     "cell_type": "code",
     "collapsed": false,
     "input": [
      "#incluso podemos hacer a = [...]\n",
      "print('a = %s' %a)"
     ],
     "language": "python",
     "metadata": {},
     "outputs": [
      {
       "output_type": "stream",
       "stream": "stdout",
       "text": [
        "a = [ 21.  22.  23.  24.  25.  26.  27.  28.  29.]\n"
       ]
      }
     ],
     "prompt_number": 8
    },
    {
     "cell_type": "markdown",
     "metadata": {},
     "source": [
      "Imaginemos que queremos acceder al:"
     ]
    },
    {
     "cell_type": "code",
     "collapsed": false,
     "input": [
      "#primer elemento \u00a1EMPIEZA EN CERO!\n",
      "a[0]"
     ],
     "language": "python",
     "metadata": {},
     "outputs": [
      {
       "metadata": {},
       "output_type": "pyout",
       "prompt_number": 9,
       "text": [
        "21.0"
       ]
      }
     ],
     "prompt_number": 9
    },
    {
     "cell_type": "code",
     "collapsed": false,
     "input": [
      "#cuarto elemento (\u00edndice 3)\n",
      "a[3]"
     ],
     "language": "python",
     "metadata": {},
     "outputs": [
      {
       "metadata": {},
       "output_type": "pyout",
       "prompt_number": 10,
       "text": [
        "24.0"
       ]
      }
     ],
     "prompt_number": 10
    },
    {
     "cell_type": "code",
     "collapsed": false,
     "input": [
      "#\u00bf\u00faltimo elemento?\n",
      "a[-1]"
     ],
     "language": "python",
     "metadata": {},
     "outputs": [
      {
       "metadata": {},
       "output_type": "pyout",
       "prompt_number": 11,
       "text": [
        "29.0"
       ]
      }
     ],
     "prompt_number": 11
    },
    {
     "cell_type": "markdown",
     "metadata": {},
     "source": [
      "\u00bfSabr\u00edas acceder al __pen\u00faltimo__ y al __antepen\u00faltimo__?"
     ]
    },
    {
     "cell_type": "code",
     "collapsed": false,
     "input": [
      "a[-2], a[-3]"
     ],
     "language": "python",
     "metadata": {},
     "outputs": [
      {
       "metadata": {},
       "output_type": "pyout",
       "prompt_number": 12,
       "text": [
        "(28.0, 27.0)"
       ]
      }
     ],
     "prompt_number": 12
    },
    {
     "cell_type": "markdown",
     "metadata": {},
     "source": [
      "__Podemos acceder a varios valores a la vez (_slicing_)__. Por ejemplo, del \u00edndice 2 al 5 (excluido), por lo que se mostrar\u00e1 del tercer elemento al quinto:"
     ]
    },
    {
     "cell_type": "code",
     "collapsed": false,
     "input": [
      "a[2:5]"
     ],
     "language": "python",
     "metadata": {},
     "outputs": [
      {
       "metadata": {},
       "output_type": "pyout",
       "prompt_number": 13,
       "text": [
        "array([ 23.,  24.,  25.])"
       ]
      }
     ],
     "prompt_number": 13
    },
    {
     "cell_type": "markdown",
     "metadata": {},
     "source": [
      "\u00bfQu\u00e9 objeto recibimos en el Output?\n",
      "\n",
      "Del \u00edndice 2 al final:"
     ]
    },
    {
     "cell_type": "code",
     "collapsed": false,
     "input": [
      "a[2:]"
     ],
     "language": "python",
     "metadata": {},
     "outputs": [
      {
       "metadata": {},
       "output_type": "pyout",
       "prompt_number": 14,
       "text": [
        "array([ 23.,  24.,  25.,  26.,  27.,  28.,  29.])"
       ]
      }
     ],
     "prompt_number": 14
    },
    {
     "cell_type": "markdown",
     "metadata": {},
     "source": [
      "Del segundo al pen\u00faltimo:"
     ]
    },
    {
     "cell_type": "code",
     "collapsed": false,
     "input": [
      "a[1:-2] #[start, stop]"
     ],
     "language": "python",
     "metadata": {},
     "outputs": [
      {
       "metadata": {},
       "output_type": "pyout",
       "prompt_number": 15,
       "text": [
        "array([ 22.,  23.,  24.,  25.,  26.,  27.])"
       ]
      }
     ],
     "prompt_number": 15
    },
    {
     "cell_type": "markdown",
     "metadata": {},
     "source": [
      "o del segundo al pen\u00faltimo __saltando de dos en dos__:"
     ]
    },
    {
     "cell_type": "code",
     "collapsed": false,
     "input": [
      "a[1:-2:2] #[start, stop, step]"
     ],
     "language": "python",
     "metadata": {},
     "outputs": [
      {
       "metadata": {},
       "output_type": "pyout",
       "prompt_number": 16,
       "text": [
        "array([ 22.,  24.,  26.])"
       ]
      }
     ],
     "prompt_number": 16
    },
    {
     "cell_type": "markdown",
     "metadata": {},
     "source": [
      "\u00bfSabr\u00edas obtener ahora un array `a2` donde los elementos est\u00e9n ordenados al rev\u00e9s? Es decir, el \u00faltimo de a ocupa el primer lugar, el pen\u00faltimo el segundo...\n",
      "\n",
      "---"
     ]
    },
    {
     "cell_type": "markdown",
     "metadata": {},
     "source": [
      "Para __varias dimensiones__, s\u00f3lo hay que indicar qu\u00e9 elementos queremos en cada dimensi\u00f3n. Hay que tener en cuenta que __la primera dimensi\u00f3n son las filas y la segunda las columnas__. Por supuesto, una vez m\u00e1s, los \u00edndices comienzan en cero."
     ]
    },
    {
     "cell_type": "code",
     "collapsed": false,
     "input": [
      "#mostramos M\n",
      "print(M)"
     ],
     "language": "python",
     "metadata": {},
     "outputs": [
      {
       "output_type": "stream",
       "stream": "stdout",
       "text": [
        "[[ 21.  22.  23.]\n",
        " [ 24.  25.  26.]\n",
        " [ 27.  28.  29.]]\n"
       ]
      }
     ],
     "prompt_number": 17
    },
    {
     "cell_type": "code",
     "collapsed": false,
     "input": [
      "#primer elemento??\n",
      "M[1,1]"
     ],
     "language": "python",
     "metadata": {},
     "outputs": [
      {
       "metadata": {},
       "output_type": "pyout",
       "prompt_number": 18,
       "text": [
        "25.0"
       ]
      }
     ],
     "prompt_number": 18
    },
    {
     "cell_type": "code",
     "collapsed": false,
     "input": [
      "#primera fila\n",
      "M[0,:]"
     ],
     "language": "python",
     "metadata": {},
     "outputs": [
      {
       "metadata": {},
       "output_type": "pyout",
       "prompt_number": 19,
       "text": [
        "array([ 21.,  22.,  23.])"
       ]
      }
     ],
     "prompt_number": 19
    },
    {
     "cell_type": "code",
     "collapsed": false,
     "input": [
      "#segunda columna"
     ],
     "language": "python",
     "metadata": {},
     "outputs": [],
     "prompt_number": 20
    },
    {
     "cell_type": "markdown",
     "metadata": {},
     "source": [
      "\u00bfQu\u00e9 dar\u00e1 resultado producir\u00e1 `M[0::2,0::2]`? Pi\u00e9nsalo y luego pru\u00e9balo. \u00bfHas acertado? Entonces podemos seguir..."
     ]
    },
    {
     "cell_type": "markdown",
     "metadata": {},
     "source": [
      "Con esta misma indexaci\u00f3n se pueden cambiar valores:"
     ]
    },
    {
     "cell_type": "code",
     "collapsed": false,
     "input": [
      "#mostramos a\n",
      "print(a)"
     ],
     "language": "python",
     "metadata": {},
     "outputs": [
      {
       "output_type": "stream",
       "stream": "stdout",
       "text": [
        "[ 21.  22.  23.  24.  25.  26.  27.  28.  29.]\n"
       ]
      }
     ],
     "prompt_number": 21
    },
    {
     "cell_type": "code",
     "collapsed": false,
     "input": [
      "#cambiamos los primeros 5 valores por cero\n",
      "a[0:5] = 0\n",
      "print(a)"
     ],
     "language": "python",
     "metadata": {},
     "outputs": [
      {
       "output_type": "stream",
       "stream": "stdout",
       "text": [
        "[  0.   0.   0.   0.   0.  26.  27.  28.  29.]\n"
       ]
      }
     ],
     "prompt_number": 22
    },
    {
     "cell_type": "markdown",
     "metadata": {},
     "source": [
      "Ejercicio: __Crea la matriz `A`__:\n",
      "    \n",
      "\\begin{pmatrix}\n",
      "1  & 2  &  3 &  4  & 5 &  6\\\\ \n",
      "7  & 0  &  9 &  0 & 11 &    0\\\\\n",
      "13 & 14 &  15&  16 & 17&  18\\\\\n",
      "1  & 20 &   1&  22 &  1&  24\\\\\n",
      "55 & 56 &  57&  58 & 59  & 60\\\\\n",
      "31 & 32 &  33&  34 & 35 &  36\\\\\n",
      "\\end{pmatrix}\n",
      "    \n",
      "\u00a1Una pista! empiza usando `np.arange(???).reshape(???)` y luego ve haciendo cambios en filas, columnas...\n",
      "\n",
      "\u00bfEres capaz de definirla en 4 l\u00edneas?\n"
     ]
    },
    {
     "cell_type": "code",
     "collapsed": false,
     "input": [
      "A = np.arange(1,37).reshape(6,6)\n",
      "A[1,1::2] = 0\n",
      "A[3,::2] = 1\n",
      "A[4,:] += 30\n",
      "A"
     ],
     "language": "python",
     "metadata": {},
     "outputs": [
      {
       "metadata": {},
       "output_type": "pyout",
       "prompt_number": 23,
       "text": [
        "array([[ 1,  2,  3,  4,  5,  6],\n",
        "       [ 7,  0,  9,  0, 11,  0],\n",
        "       [13, 14, 15, 16, 17, 18],\n",
        "       [ 1, 20,  1, 22,  1, 24],\n",
        "       [55, 56, 57, 58, 59, 60],\n",
        "       [31, 32, 33, 34, 35, 36]])"
       ]
      }
     ],
     "prompt_number": 23
    },
    {
     "cell_type": "heading",
     "level": 3,
     "metadata": {},
     "source": [
      "Paso por referencia o por copia."
     ]
    },
    {
     "cell_type": "markdown",
     "metadata": {},
     "source": [
      "Imaginemos ahora que tenemos el siguiente array:"
     ]
    },
    {
     "cell_type": "code",
     "collapsed": false,
     "input": [
      "arr = np.arange(0,51)\n",
      "print(arr)"
     ],
     "language": "python",
     "metadata": {},
     "outputs": [
      {
       "output_type": "stream",
       "stream": "stdout",
       "text": [
        "[ 0  1  2  3  4  5  6  7  8  9 10 11 12 13 14 15 16 17 18 19 20 21 22 23 24\n",
        " 25 26 27 28 29 30 31 32 33 34 35 36 37 38 39 40 41 42 43 44 45 46 47 48 49\n",
        " 50]\n"
       ]
      }
     ],
     "prompt_number": 24
    },
    {
     "cell_type": "markdown",
     "metadata": {},
     "source": [
      "Ahora queremos crear un nuevo array `arr2` a partir del anterior que contenga s\u00f3lo lo n\u00fameros impares:"
     ]
    },
    {
     "cell_type": "code",
     "collapsed": false,
     "input": [
      "#arr2 solo con los impares de arr\n",
      "arr2 = arr[1::2]\n",
      "print(arr2)"
     ],
     "language": "python",
     "metadata": {},
     "outputs": [
      {
       "output_type": "stream",
       "stream": "stdout",
       "text": [
        "[ 1  3  5  7  9 11 13 15 17 19 21 23 25 27 29 31 33 35 37 39 41 43 45 47 49]\n"
       ]
      }
     ],
     "prompt_number": 25
    },
    {
     "cell_type": "markdown",
     "metadata": {},
     "source": [
      "Hasta aqu\u00ed todo parece ir, __probemos a cambiar algunos elementos de `arr2`__:"
     ]
    },
    {
     "cell_type": "code",
     "collapsed": false,
     "input": [
      "#cambiamos el valor de algunos elementos de arr2\n",
      "arr2[0] = 1001\n",
      "arr2[5] = 1001\n",
      "arr2[10] = 1001"
     ],
     "language": "python",
     "metadata": {},
     "outputs": [],
     "prompt_number": 26
    },
    {
     "cell_type": "markdown",
     "metadata": {},
     "source": [
      "Bueno, ahora que hemos modificado `arr2`, veamos qu\u00e9 le ha pasado a `arr`, en teor\u00eda nada, \u00bfno?"
     ]
    },
    {
     "cell_type": "code",
     "collapsed": false,
     "input": [
      "#imprimimos arr\n",
      "print(arr)"
     ],
     "language": "python",
     "metadata": {},
     "outputs": [
      {
       "output_type": "stream",
       "stream": "stdout",
       "text": [
        "[   0 1001    2    3    4    5    6    7    8    9   10 1001   12   13   14\n",
        "   15   16   17   18   19   20 1001   22   23   24   25   26   27   28   29\n",
        "   30   31   32   33   34   35   36   37   38   39   40   41   42   43   44\n",
        "   45   46   47   48   49   50]\n"
       ]
      }
     ],
     "prompt_number": 27
    },
    {
     "cell_type": "code",
     "collapsed": false,
     "input": [
      "#imprimimos arr2\n",
      "print(arr2)"
     ],
     "language": "python",
     "metadata": {},
     "outputs": [
      {
       "output_type": "stream",
       "stream": "stdout",
       "text": [
        "[1001    3    5    7    9 1001   13   15   17   19 1001   23   25   27   29\n",
        "   31   33   35   37   39   41   43   45   47   49]\n"
       ]
      }
     ],
     "prompt_number": 28
    },
    {
     "cell_type": "markdown",
     "metadata": {},
     "source": [
      "S\u00ed, s\u00ed ves bien... \u00bfQu\u00e9 ha pasado? \u00bfpor qu\u00e9 los cambios en `arr2` se ven reflejados en `arr`?\n",
      "Pues porque `arr2 = arr[1::2]` __en lugar de crear un nuevo array copiando valores pedidos, ha creado un array con referencias a los registros de memoria donde est\u00e1 almacenado `arr`.__"
     ]
    },
    {
     "cell_type": "code",
     "collapsed": false,
     "input": [
      "np.may_share_memory(arr, arr2)"
     ],
     "language": "python",
     "metadata": {},
     "outputs": [
      {
       "metadata": {},
       "output_type": "pyout",
       "prompt_number": 29,
       "text": [
        "True"
       ]
      }
     ],
     "prompt_number": 29
    },
    {
     "cell_type": "markdown",
     "metadata": {},
     "source": [
      "Este es el procedimiento normal de NumPy (determinadas formas de asignaci\u00f3n pueden implicar hacer una copia sin darnos cuenta). Puede parecer confuso, pero __en muchas ocasiones nos ayuda a ahorrar memoria y ejecutar el c\u00f3digo m\u00e1s r\u00e1pido__. Si lo que queremos, es hacer una copia debemos hacerlo expl\u00edcitamente:"
     ]
    },
    {
     "cell_type": "code",
     "collapsed": false,
     "input": [
      "#creamos arr\n",
      "arr = np.arange(0,51)\n",
      "\n",
      "#creamos arr2 copiando solo los pares\n",
      "arr2 = arr[1::2].copy()"
     ],
     "language": "python",
     "metadata": {},
     "outputs": [],
     "prompt_number": 30
    },
    {
     "cell_type": "code",
     "collapsed": false,
     "input": [
      "#cambiamos todos los valores de arr2 por cero\n",
      "arr2[:] = 0\n",
      "\n",
      "#vemos qu\u00e9 sale en arr y arr2\n",
      "print(arr)\n",
      "print(arr2)"
     ],
     "language": "python",
     "metadata": {},
     "outputs": [
      {
       "output_type": "stream",
       "stream": "stdout",
       "text": [
        "[ 0  1  2  3  4  5  6  7  8  9 10 11 12 13 14 15 16 17 18 19 20 21 22 23 24\n",
        " 25 26 27 28 29 30 31 32 33 34 35 36 37 38 39 40 41 42 43 44 45 46 47 48 49\n",
        " 50]\n",
        "[0 0 0 0 0 0 0 0 0 0 0 0 0 0 0 0 0 0 0 0 0 0 0 0 0]\n"
       ]
      }
     ],
     "prompt_number": 31
    },
    {
     "cell_type": "heading",
     "level": 1,
     "metadata": {},
     "source": [
      "Operaciones elemento a elemento"
     ]
    },
    {
     "cell_type": "markdown",
     "metadata": {},
     "source": [
      "Ahora que pocas cosas se nos escapan de los arrays, probemos a hacer algunas operaciones. El funcionamiento es el habitual en Fortran y MATLAB y poco hay que a\u00f1adir:"
     ]
    },
    {
     "cell_type": "code",
     "collapsed": false,
     "input": [
      "#crear un arra y y sumarle un n\u00famero\n",
      "arr = np.arange(11)\n",
      "arr + 55"
     ],
     "language": "python",
     "metadata": {},
     "outputs": [
      {
       "metadata": {},
       "output_type": "pyout",
       "prompt_number": 32,
       "text": [
        "array([55, 56, 57, 58, 59, 60, 61, 62, 63, 64, 65])"
       ]
      }
     ],
     "prompt_number": 32
    },
    {
     "cell_type": "code",
     "collapsed": false,
     "input": [
      "#multiplicarlo por un n\u00famero\n",
      "arr * 2"
     ],
     "language": "python",
     "metadata": {},
     "outputs": [
      {
       "metadata": {},
       "output_type": "pyout",
       "prompt_number": 33,
       "text": [
        "array([ 0,  2,  4,  6,  8, 10, 12, 14, 16, 18, 20])"
       ]
      }
     ],
     "prompt_number": 33
    },
    {
     "cell_type": "code",
     "collapsed": false,
     "input": [
      "#elevarlo al cuadrado\n",
      "arr ** 2"
     ],
     "language": "python",
     "metadata": {},
     "outputs": [
      {
       "metadata": {},
       "output_type": "pyout",
       "prompt_number": 34,
       "text": [
        "array([  0,   1,   4,   9,  16,  25,  36,  49,  64,  81, 100])"
       ]
      }
     ],
     "prompt_number": 34
    },
    {
     "cell_type": "code",
     "collapsed": false,
     "input": [
      "#calcular una funci\u00f3n\n",
      "np.sin(arr)"
     ],
     "language": "python",
     "metadata": {},
     "outputs": [
      {
       "metadata": {},
       "output_type": "pyout",
       "prompt_number": 35,
       "text": [
        "array([ 0.        ,  0.84147098,  0.90929743,  0.14112001, -0.7568025 ,\n",
        "       -0.95892427, -0.2794155 ,  0.6569866 ,  0.98935825,  0.41211849,\n",
        "       -0.54402111])"
       ]
      }
     ],
     "prompt_number": 35
    },
    {
     "cell_type": "markdown",
     "metadata": {},
     "source": [
      "S\u00ed que cabe comentar el __rendimiento en comparaci\u00f3n con la misma operaci\u00f3n ejecutando un bucle__:"
     ]
    },
    {
     "cell_type": "code",
     "collapsed": false,
     "input": [
      "%%timeit\n",
      "np.sin(arr)"
     ],
     "language": "python",
     "metadata": {},
     "outputs": [
      {
       "output_type": "stream",
       "stream": "stdout",
       "text": [
        "100000 loops, best of 3: 2.76 \u00b5s per loop\n"
       ]
      }
     ],
     "prompt_number": 36
    },
    {
     "cell_type": "code",
     "collapsed": false,
     "input": [
      "%%timeit\n",
      "for element in arr:\n",
      "    np.sin(element)"
     ],
     "language": "python",
     "metadata": {},
     "outputs": [
      {
       "output_type": "stream",
       "stream": "stdout",
       "text": [
        "10000 loops, best of 3: 34.3 \u00b5s per loop\n"
       ]
      }
     ],
     "prompt_number": 37
    },
    {
     "cell_type": "code",
     "collapsed": false,
     "input": [
      "%%timeit\n",
      "[np.sin(element) for element in arr]"
     ],
     "language": "python",
     "metadata": {},
     "outputs": [
      {
       "output_type": "stream",
       "stream": "stdout",
       "text": [
        "10000 loops, best of 3: 36.5 \u00b5s per loop\n"
       ]
      }
     ],
     "prompt_number": 38
    },
    {
     "cell_type": "markdown",
     "metadata": {},
     "source": [
      "__Si las operaciones involucran dos arrays tambi\u00e9n se realizan elemento a elemento__"
     ]
    },
    {
     "cell_type": "code",
     "collapsed": false,
     "input": [
      "#creamos dos arrays\n",
      "arr1 = np.arange(0,11)\n",
      "arr2 = np.arange(20,31)"
     ],
     "language": "python",
     "metadata": {},
     "outputs": [],
     "prompt_number": 39
    },
    {
     "cell_type": "code",
     "collapsed": false,
     "input": [
      "#los sumamos\n",
      "arr1 + arr2"
     ],
     "language": "python",
     "metadata": {},
     "outputs": [
      {
       "metadata": {},
       "output_type": "pyout",
       "prompt_number": 40,
       "text": [
        "array([20, 22, 24, 26, 28, 30, 32, 34, 36, 38, 40])"
       ]
      }
     ],
     "prompt_number": 40
    },
    {
     "cell_type": "code",
     "collapsed": false,
     "input": [
      "#multiplicamos\n",
      "arr1 * arr2"
     ],
     "language": "python",
     "metadata": {},
     "outputs": [
      {
       "metadata": {},
       "output_type": "pyout",
       "prompt_number": 41,
       "text": [
        "array([  0,  21,  44,  69,  96, 125, 156, 189, 224, 261, 300])"
       ]
      }
     ],
     "prompt_number": 41
    },
    {
     "cell_type": "markdown",
     "metadata": {},
     "source": [
      "__Comparaciones:__"
     ]
    },
    {
     "cell_type": "code",
     "collapsed": false,
     "input": [
      "# >,<\n",
      "arr1 > arr2"
     ],
     "language": "python",
     "metadata": {},
     "outputs": [
      {
       "metadata": {},
       "output_type": "pyout",
       "prompt_number": 42,
       "text": [
        "array([False, False, False, False, False, False, False, False, False,\n",
        "       False, False], dtype=bool)"
       ]
      }
     ],
     "prompt_number": 42
    },
    {
     "cell_type": "code",
     "collapsed": false,
     "input": [
      "# ==\n",
      "arr1 == arr2"
     ],
     "language": "python",
     "metadata": {},
     "outputs": [
      {
       "metadata": {},
       "output_type": "pyout",
       "prompt_number": 43,
       "text": [
        "array([False, False, False, False, False, False, False, False, False,\n",
        "       False, False], dtype=bool)"
       ]
      }
     ],
     "prompt_number": 43
    },
    {
     "cell_type": "code",
     "collapsed": false,
     "input": [
      "# \u00bfqu\u00e9 ocurre si hago...\n",
      "arr1[arr1>2]"
     ],
     "language": "python",
     "metadata": {},
     "outputs": [
      {
       "metadata": {},
       "output_type": "pyout",
       "prompt_number": 44,
       "text": [
        "array([ 3,  4,  5,  6,  7,  8,  9, 10])"
       ]
      }
     ],
     "prompt_number": 44
    },
    {
     "cell_type": "markdown",
     "metadata": {},
     "source": [
      "Podemos comprobar si dos arrays son iguales (con un cierta tolerancia) usando `np.allclose()`.\n",
      "\n",
      "Por cierto, \u00bfq\u00fae ocurrir\u00e1 si los arrays con los que se quiere operar no tiene la misma forma? \u00bfapuestas? Quiz\u00e1 m\u00e1s adelante te interese buscar algo de informaci\u00f3n sobre __broadcasting__."
     ]
    },
    {
     "cell_type": "heading",
     "level": 1,
     "metadata": {},
     "source": [
      "Producto escalar y vectorial"
     ]
    },
    {
     "cell_type": "code",
     "collapsed": false,
     "input": [
      "arr1.dot(arr2)"
     ],
     "language": "python",
     "metadata": {},
     "outputs": [
      {
       "metadata": {},
       "output_type": "pyout",
       "prompt_number": 45,
       "text": [
        "1485"
       ]
      }
     ],
     "prompt_number": 45
    },
    {
     "cell_type": "code",
     "collapsed": false,
     "input": [
      "np.dot(arr1, arr2)"
     ],
     "language": "python",
     "metadata": {},
     "outputs": [
      {
       "metadata": {},
       "output_type": "pyout",
       "prompt_number": 46,
       "text": [
        "1485"
       ]
      }
     ],
     "prompt_number": 46
    },
    {
     "cell_type": "code",
     "collapsed": false,
     "input": [
      "np.cross(np.array([1,0,0]), np.array([0,1,0]))"
     ],
     "language": "python",
     "metadata": {},
     "outputs": [
      {
       "metadata": {},
       "output_type": "pyout",
       "prompt_number": 47,
       "text": [
        "array([0, 0, 1])"
       ]
      }
     ],
     "prompt_number": 47
    },
    {
     "cell_type": "heading",
     "level": 1,
     "metadata": {},
     "source": [
      "Producto de matrices"
     ]
    },
    {
     "cell_type": "code",
     "collapsed": false,
     "input": [
      "a = np.arange(0,25).reshape(5,5)\n",
      "a"
     ],
     "language": "python",
     "metadata": {},
     "outputs": [
      {
       "metadata": {},
       "output_type": "pyout",
       "prompt_number": 48,
       "text": [
        "array([[ 0,  1,  2,  3,  4],\n",
        "       [ 5,  6,  7,  8,  9],\n",
        "       [10, 11, 12, 13, 14],\n",
        "       [15, 16, 17, 18, 19],\n",
        "       [20, 21, 22, 23, 24]])"
       ]
      }
     ],
     "prompt_number": 48
    },
    {
     "cell_type": "code",
     "collapsed": false,
     "input": [
      "b = np.eye(5)\n",
      "b"
     ],
     "language": "python",
     "metadata": {},
     "outputs": [
      {
       "metadata": {},
       "output_type": "pyout",
       "prompt_number": 49,
       "text": [
        "array([[ 1.,  0.,  0.,  0.,  0.],\n",
        "       [ 0.,  1.,  0.,  0.,  0.],\n",
        "       [ 0.,  0.,  1.,  0.,  0.],\n",
        "       [ 0.,  0.,  0.,  1.,  0.],\n",
        "       [ 0.,  0.,  0.,  0.,  1.]])"
       ]
      }
     ],
     "prompt_number": 49
    },
    {
     "cell_type": "code",
     "collapsed": false,
     "input": [
      "#multiplico una por otra\n",
      "a.dot(b)"
     ],
     "language": "python",
     "metadata": {},
     "outputs": [
      {
       "metadata": {},
       "output_type": "pyout",
       "prompt_number": 50,
       "text": [
        "array([[  0.,   1.,   2.,   3.,   4.],\n",
        "       [  5.,   6.,   7.,   8.,   9.],\n",
        "       [ 10.,  11.,  12.,  13.,  14.],\n",
        "       [ 15.,  16.,  17.,  18.,  19.],\n",
        "       [ 20.,  21.,  22.,  23.,  24.]])"
       ]
      }
     ],
     "prompt_number": 50
    },
    {
     "cell_type": "code",
     "collapsed": false,
     "input": [
      "# Como ya sab\u00edamos no es lo mismo que:\n",
      "a * b"
     ],
     "language": "python",
     "metadata": {},
     "outputs": [
      {
       "metadata": {},
       "output_type": "pyout",
       "prompt_number": 51,
       "text": [
        "array([[  0.,   0.,   0.,   0.,   0.],\n",
        "       [  0.,   6.,   0.,   0.,   0.],\n",
        "       [  0.,   0.,  12.,   0.,   0.],\n",
        "       [  0.,   0.,   0.,  18.,   0.],\n",
        "       [  0.,   0.,   0.,   0.,  24.]])"
       ]
      }
     ],
     "prompt_number": 51
    },
    {
     "cell_type": "heading",
     "level": 1,
     "metadata": {},
     "source": [
      "Traspuesta, traza, determinante, autovalores..."
     ]
    },
    {
     "cell_type": "code",
     "collapsed": false,
     "input": [
      "#traspuesta\n",
      "a.T"
     ],
     "language": "python",
     "metadata": {},
     "outputs": [
      {
       "metadata": {},
       "output_type": "pyout",
       "prompt_number": 52,
       "text": [
        "array([[ 0,  5, 10, 15, 20],\n",
        "       [ 1,  6, 11, 16, 21],\n",
        "       [ 2,  7, 12, 17, 22],\n",
        "       [ 3,  8, 13, 18, 23],\n",
        "       [ 4,  9, 14, 19, 24]])"
       ]
      }
     ],
     "prompt_number": 52
    },
    {
     "cell_type": "code",
     "collapsed": false,
     "input": [
      "#traza\n",
      "a.trace()"
     ],
     "language": "python",
     "metadata": {},
     "outputs": [
      {
       "metadata": {},
       "output_type": "pyout",
       "prompt_number": 53,
       "text": [
        "60"
       ]
      }
     ],
     "prompt_number": 53
    },
    {
     "cell_type": "code",
     "collapsed": false,
     "input": [
      "#determinante\n",
      "np.linalg.det(a)"
     ],
     "language": "python",
     "metadata": {},
     "outputs": [
      {
       "metadata": {},
       "output_type": "pyout",
       "prompt_number": 54,
       "text": [
        "0.0"
       ]
      }
     ],
     "prompt_number": 54
    },
    {
     "cell_type": "code",
     "collapsed": false,
     "input": [
      "#autovalores y vectores\n",
      "np.linalg.eig(M)"
     ],
     "language": "python",
     "metadata": {},
     "outputs": [
      {
       "metadata": {},
       "output_type": "pyout",
       "prompt_number": 55,
       "text": [
        "(array([ 45.13086678, -16.13086678,   0.        ]),\n",
        " array([[  0.00000000e+00,   0.00000000e+00,   7.19844295e-01],\n",
        "       [  4.99188818e-01,   8.49743599e-01,  -6.94135571e-01],\n",
        "       [  8.66493233e-01,  -5.27196184e-01,  -3.99593855e-17]]))"
       ]
      }
     ],
     "prompt_number": 55
    },
    {
     "cell_type": "code",
     "collapsed": false,
     "input": [
      "#inversa\n",
      "np.linalg.inv(a)\n"
     ],
     "language": "python",
     "metadata": {},
     "outputs": [
      {
       "ename": "LinAlgError",
       "evalue": "Singular matrix",
       "output_type": "pyerr",
       "traceback": [
        "\u001b[1;31m---------------------------------------------------------------------------\u001b[0m\n\u001b[1;31mLinAlgError\u001b[0m                               Traceback (most recent call last)",
        "\u001b[1;32m<ipython-input-56-4d5a5bc7a6d8>\u001b[0m in \u001b[0;36m<module>\u001b[1;34m()\u001b[0m\n\u001b[0;32m      1\u001b[0m \u001b[1;31m#inversa\u001b[0m\u001b[1;33m\u001b[0m\u001b[1;33m\u001b[0m\u001b[0m\n\u001b[1;32m----> 2\u001b[1;33m \u001b[0mnp\u001b[0m\u001b[1;33m.\u001b[0m\u001b[0mlinalg\u001b[0m\u001b[1;33m.\u001b[0m\u001b[0minv\u001b[0m\u001b[1;33m(\u001b[0m\u001b[0ma\u001b[0m\u001b[1;33m)\u001b[0m\u001b[1;33m\u001b[0m\u001b[0m\n\u001b[0m",
        "\u001b[1;32mC:\\Anaconda\\envs\\py33\\lib\\site-packages\\numpy\\linalg\\linalg.py\u001b[0m in \u001b[0;36minv\u001b[1;34m(a)\u001b[0m\n\u001b[0;32m    518\u001b[0m     \u001b[0msignature\u001b[0m \u001b[1;33m=\u001b[0m \u001b[1;34m'D->D'\u001b[0m \u001b[1;32mif\u001b[0m \u001b[0misComplexType\u001b[0m\u001b[1;33m(\u001b[0m\u001b[0mt\u001b[0m\u001b[1;33m)\u001b[0m \u001b[1;32melse\u001b[0m \u001b[1;34m'd->d'\u001b[0m\u001b[1;33m\u001b[0m\u001b[0m\n\u001b[0;32m    519\u001b[0m     \u001b[0mextobj\u001b[0m \u001b[1;33m=\u001b[0m \u001b[0mget_linalg_error_extobj\u001b[0m\u001b[1;33m(\u001b[0m\u001b[0m_raise_linalgerror_singular\u001b[0m\u001b[1;33m)\u001b[0m\u001b[1;33m\u001b[0m\u001b[0m\n\u001b[1;32m--> 520\u001b[1;33m     \u001b[0mainv\u001b[0m \u001b[1;33m=\u001b[0m \u001b[0m_umath_linalg\u001b[0m\u001b[1;33m.\u001b[0m\u001b[0minv\u001b[0m\u001b[1;33m(\u001b[0m\u001b[0ma\u001b[0m\u001b[1;33m,\u001b[0m \u001b[0msignature\u001b[0m\u001b[1;33m=\u001b[0m\u001b[0msignature\u001b[0m\u001b[1;33m,\u001b[0m \u001b[0mextobj\u001b[0m\u001b[1;33m=\u001b[0m\u001b[0mextobj\u001b[0m\u001b[1;33m)\u001b[0m\u001b[1;33m\u001b[0m\u001b[0m\n\u001b[0m\u001b[0;32m    521\u001b[0m     \u001b[1;32mreturn\u001b[0m \u001b[0mwrap\u001b[0m\u001b[1;33m(\u001b[0m\u001b[0mainv\u001b[0m\u001b[1;33m.\u001b[0m\u001b[0mastype\u001b[0m\u001b[1;33m(\u001b[0m\u001b[0mresult_t\u001b[0m\u001b[1;33m)\u001b[0m\u001b[1;33m)\u001b[0m\u001b[1;33m\u001b[0m\u001b[0m\n\u001b[0;32m    522\u001b[0m \u001b[1;33m\u001b[0m\u001b[0m\n",
        "\u001b[1;32mC:\\Anaconda\\envs\\py33\\lib\\site-packages\\numpy\\linalg\\linalg.py\u001b[0m in \u001b[0;36m_raise_linalgerror_singular\u001b[1;34m(err, flag)\u001b[0m\n\u001b[0;32m     88\u001b[0m \u001b[1;33m\u001b[0m\u001b[0m\n\u001b[0;32m     89\u001b[0m \u001b[1;32mdef\u001b[0m \u001b[0m_raise_linalgerror_singular\u001b[0m\u001b[1;33m(\u001b[0m\u001b[0merr\u001b[0m\u001b[1;33m,\u001b[0m \u001b[0mflag\u001b[0m\u001b[1;33m)\u001b[0m\u001b[1;33m:\u001b[0m\u001b[1;33m\u001b[0m\u001b[0m\n\u001b[1;32m---> 90\u001b[1;33m     \u001b[1;32mraise\u001b[0m \u001b[0mLinAlgError\u001b[0m\u001b[1;33m(\u001b[0m\u001b[1;34m\"Singular matrix\"\u001b[0m\u001b[1;33m)\u001b[0m\u001b[1;33m\u001b[0m\u001b[0m\n\u001b[0m\u001b[0;32m     91\u001b[0m \u001b[1;33m\u001b[0m\u001b[0m\n\u001b[0;32m     92\u001b[0m \u001b[1;32mdef\u001b[0m \u001b[0m_raise_linalgerror_nonposdef\u001b[0m\u001b[1;33m(\u001b[0m\u001b[0merr\u001b[0m\u001b[1;33m,\u001b[0m \u001b[0mflag\u001b[0m\u001b[1;33m)\u001b[0m\u001b[1;33m:\u001b[0m\u001b[1;33m\u001b[0m\u001b[0m\n",
        "\u001b[1;31mLinAlgError\u001b[0m: Singular matrix"
       ]
      }
     ],
     "prompt_number": 56
    },
    {
     "cell_type": "code",
     "collapsed": false,
     "input": [
      "#vector columna\n",
      "vector_columna = np.array([[1],\\\n",
      "                           [0],\\\n",
      "                           [2]])\n",
      "M = np.eye(3)\n",
      "\n",
      "print(M.dot(vector_columna))\n",
      "\n",
      "print(vector_columna.T.dot(M))\n",
      "\n",
      "print(np.array([1,0,2]).dot(M))"
     ],
     "language": "python",
     "metadata": {},
     "outputs": [
      {
       "output_type": "stream",
       "stream": "stdout",
       "text": [
        "[[ 1.]\n",
        " [ 0.]\n",
        " [ 2.]]\n",
        "[[ 1.  0.  2.]]\n",
        "[ 1.  0.  2.]\n"
       ]
      }
     ],
     "prompt_number": 57
    },
    {
     "cell_type": "heading",
     "level": 1,
     "metadata": {},
     "source": [
      "Creaci\u00f3n de funciones en Python"
     ]
    },
    {
     "cell_type": "markdown",
     "metadata": {},
     "source": [
      "C\u00f3mo dec\u00edamos al principio, hoy tambi\u00e9n vamos a aprender a crear funciones en Python. A diferencia de MATLAB, _puedes crear funciones donde t\u00fa quieras_, esto es __en cualquier punto de tu script__. Por supuesto, tambi\u00e9n puedes crearlas en otro script e importarlas como un module, pero de momento olvidaremos esto \u00faltimo. El \u00fanico requisito es que tu funci\u00f3n se cree en un punto anterior a su primera utilizaci\u00f3n. La sintaxis no puede ser m\u00e1s sencilla:\n",
      "\n",
      "\n",
      "        def mi_funcion(entrada1, entrada2, entrada3):\n",
      "            ...\n",
      "            ...\n",
      "            return salida1, salida2"
     ]
    },
    {
     "cell_type": "markdown",
     "metadata": {},
     "source": [
      "Programemos algo m\u00e1s aeron\u00e1utico...\n",
      "\n",
      "$$T_{t}=T\\left(1+\\frac{\\gamma-1}{2}M^{2}\\right)$$\n",
      "\n",
      "Define una funci\u00f3n que reciba $T$, $M$ y $\\gamma$ y que devuelva $T_t$"
     ]
    },
    {
     "cell_type": "code",
     "collapsed": false,
     "input": [
      "def T_remanso(T, M, gamma):\n",
      "    return  T * (1 + (gamma - 1) / 2 * M**2)"
     ],
     "language": "python",
     "metadata": {},
     "outputs": [],
     "prompt_number": 58
    },
    {
     "cell_type": "code",
     "collapsed": false,
     "input": [
      "T_remanso(288, 0.3, 1.4)"
     ],
     "language": "python",
     "metadata": {},
     "outputs": [
      {
       "metadata": {},
       "output_type": "pyout",
       "prompt_number": 59,
       "text": [
        "293.184"
       ]
      }
     ],
     "prompt_number": 59
    },
    {
     "cell_type": "code",
     "collapsed": false,
     "input": [
      "#salvo \"raras\" ocasiones gamma = 1.4\n",
      "def T_remanso(T, M, gamma=1.4):\n",
      "    return  T * (1 + (gamma - 1) / 2 * M**2)"
     ],
     "language": "python",
     "metadata": {},
     "outputs": [],
     "prompt_number": 60
    },
    {
     "cell_type": "code",
     "collapsed": false,
     "input": [
      "T_remanso(288, 0.3)"
     ],
     "language": "python",
     "metadata": {},
     "outputs": [
      {
       "metadata": {},
       "output_type": "pyout",
       "prompt_number": 61,
       "text": [
        "293.184"
       ]
      }
     ],
     "prompt_number": 61
    },
    {
     "cell_type": "markdown",
     "metadata": {},
     "source": [
      "__\u00bfPuede una funci\u00f3n llamar a otra?__ La respuesta es s\u00ed, puede llamarse incluso a s\u00ed misma.\n",
      "\n",
      "Si usamos la atm\u00f3sfera est\u00e1ndar, la $T$ est\u00e1 dada por la h:\n",
      "\n",
      "$$\\frac{T}{T_{0}}=\\theta=1-22.558\\cdot10^{-6}h$$\n",
      "\n",
      "con $h$ en metros.\n",
      "\n",
      "Ahora podemos definir una funci\u00f3n `T_ISA` que nos de $T$ en funci\u00f3n de $h$."
     ]
    },
    {
     "cell_type": "code",
     "collapsed": false,
     "input": [
      "#para documentar la funcion:\n",
      "def T_ISA(h):\n",
      "    '''Dada h en metros, devuelve T en K segun ISA\n",
      "    Formula valida para h < 11000 m'''\n",
      "    return (1 - 22.558 * 10**-6 * h) * 288.15\n",
      "    "
     ],
     "language": "python",
     "metadata": {},
     "outputs": [],
     "prompt_number": 62
    },
    {
     "cell_type": "code",
     "collapsed": false,
     "input": [
      "help(T_ISA)"
     ],
     "language": "python",
     "metadata": {},
     "outputs": [
      {
       "output_type": "stream",
       "stream": "stdout",
       "text": [
        "Help on function T_ISA in module __main__:\n",
        "\n",
        "T_ISA(h)\n",
        "    Dada h en metros, devuelve T en K segun ISA\n",
        "    Formula valida para h < 11000 m\n",
        "\n"
       ]
      }
     ],
     "prompt_number": 63
    },
    {
     "cell_type": "code",
     "collapsed": false,
     "input": [
      "T_ISA(8000)"
     ],
     "language": "python",
     "metadata": {},
     "outputs": [
      {
       "metadata": {},
       "output_type": "pyout",
       "prompt_number": 64,
       "text": [
        "236.1492984"
       ]
      }
     ],
     "prompt_number": 64
    },
    {
     "cell_type": "markdown",
     "metadata": {},
     "source": [
      "Usando la funci\u00f3n anterior podemos obtener $T_t$ en funci\u00f3n de $h$ y $\\gamma$. Define una nueva funci\u00f3n que lo haga."
     ]
    },
    {
     "cell_type": "code",
     "collapsed": false,
     "input": [
      "def T_remanso(h, M, gamma=1.4):\n",
      "    return  T_ISA(h) * (1 + (gamma - 1) / 2 * M**2)"
     ],
     "language": "python",
     "metadata": {},
     "outputs": [],
     "prompt_number": 65
    },
    {
     "cell_type": "code",
     "collapsed": false,
     "input": [
      "T_remanso(5000, 0.3)"
     ],
     "language": "python",
     "metadata": {},
     "outputs": [
      {
       "metadata": {},
       "output_type": "pyout",
       "prompt_number": 66,
       "text": [
        "260.251253607"
       ]
      }
     ],
     "prompt_number": 66
    },
    {
     "cell_type": "code",
     "collapsed": false,
     "input": [
      "#En apenas una hora aprender\u00e1s a pintar algo como esto\n",
      "import matplotlib.pyplot as plt\n",
      "%matplotlib inline\n",
      "\n",
      "h = np.linspace(0, 5000, 500)\n",
      "M = np.linspace(0, 1)\n",
      "\n",
      "MM, hh = np.meshgrid(M, h)\n",
      "\n",
      "plt.contourf(MM, hh, T_remanso(hh, MM),100)\n",
      "plt.colorbar()"
     ],
     "language": "python",
     "metadata": {},
     "outputs": [
      {
       "metadata": {},
       "output_type": "pyout",
       "prompt_number": 67,
       "text": [
        "<matplotlib.colorbar.Colorbar at 0x7b40d30>"
       ]
      },
      {
       "metadata": {},
       "output_type": "display_data",
       "png": "[encoded data removed]",
       "text": [
        "<matplotlib.figure.Figure at 0x447d7b8>"
       ]
      }
     ],
     "prompt_number": 67
    },
    {
     "cell_type": "markdown",
     "metadata": {},
     "source": [
      "Si eres observador, te habr\u00e1s dado cuenta, de no hemos especificado de qu\u00e9 tipo son las variables que le vamos a pasar a la funci\u00f3n \u00bfrecuerdas `intent in`...? O sea que le puedes pasar un array de Machs y otro de temperaturas y obtener la temperatura de remanso en toda la envolvente de vuelo.\n",
      "\n",
      "---\n",
      "__Te recomendamos...__\n",
      "_Un ejercicio aparentemente inocente que puede plantear algunas dificulatades es meter un condicional dentro de la funci\u00f3n T_ISA y dar la temperatura correspondiente seg\u00fan la altura (Troposfera, Tropopausa, Estratosfera inferior). Prueba a pasarle un solo valor y a pasarle un array. \u00bfQu\u00e9 ocurre?_\n",
      "\n",
      "---\n",
      "\n",
      "Por \u00faltimo, pero __MUY IMPORTANTE__, en Python, __los argumentos se pasan por referencia__. Esto quiere decir, que si modificas una de las variables que pasas dentro de la funci\u00f3n (por ejemplo usando np.append) los cambios seguir\u00e1n cuando termine de ejecutarse la funci\u00f3n. Esto es algo similar a lo que ocurr\u00eda con el _slicing_ de los arrays."
     ]
    },
    {
     "cell_type": "heading",
     "level": 1,
     "metadata": {},
     "source": [
      "Un peque\u00f1o ejercicio..."
     ]
    },
    {
     "cell_type": "markdown",
     "metadata": {},
     "source": [
      "1. __Crea matriz `B`__:\n",
      "\n",
      "    \\begin{pmatrix}\n",
      "    1  & 2    &  4   &  8   & 16 &  32\\\\ \n",
      "    64 & 128  &  256 & ...  &     &   \\\\\n",
      "    ... &     &      &      &     &   \\\\\n",
      "    ... &     &      &      &     &   \\\\\n",
      "    ... &     &      &      &     &   \\\\\n",
      "    ... &     &      &      &     &   \\\\\n",
      "    \\end{pmatrix}\n",
      "    \n",
      "    Cr\u00e9ala usando un bucle primero y luego... _\u00a1PISTA!_ la manera m\u00e1s elegante \"pythonica\" ser\u00e1 algo parecido a esto: `B = np.array([ (ii * 6) ** 5 for ii in ???])` y despu\u00e9s un `np.reshape(???)`.\n",
      "2.  __Calcula el determinante de `B`__.\n",
      "3. __Crea la matriz `C`:__\n",
      "\n",
      "    \\begin{pmatrix}\n",
      "    1  & 2  &  4  \\\\ \n",
      "    6  & 5  &  8  \\\\\n",
      "    2  & 2  &  11 \\\\\n",
      "    \\end{pmatrix}\n",
      "    \n",
      "3.  __Invi\u00e9rtela creando `C_inv`__."
     ]
    },
    {
     "cell_type": "code",
     "collapsed": false,
     "input": [
      "B = np.array([2 ** i for i in range(36)]).reshape((6,6))"
     ],
     "language": "python",
     "metadata": {},
     "outputs": [],
     "prompt_number": 68
    },
    {
     "cell_type": "code",
     "collapsed": false,
     "input": [
      "%%timeit\n",
      "B = np.array([2 ** i for i in range(36)]).reshape((6,6))"
     ],
     "language": "python",
     "metadata": {},
     "outputs": [
      {
       "output_type": "stream",
       "stream": "stdout",
       "text": [
        "10000 loops, best of 3: 35.5 \u00b5s per loop\n"
       ]
      }
     ],
     "prompt_number": 69
    },
    {
     "cell_type": "code",
     "collapsed": false,
     "input": [
      "%%timeit\n",
      "B = np.empty(36)\n",
      "\n",
      "for i in range(36):\n",
      "    B[i] = 2 ** i\n",
      "\n",
      "B = B.reshape((6,6))"
     ],
     "language": "python",
     "metadata": {},
     "outputs": [
      {
       "output_type": "stream",
       "stream": "stdout",
       "text": [
        "10000 loops, best of 3: 35.8 \u00b5s per loop\n"
       ]
      }
     ],
     "prompt_number": 70
    },
    {
     "cell_type": "code",
     "collapsed": false,
     "input": [
      "C =  np.array([[1,2,4],\\\n",
      "               [6,5,8],\\\n",
      "               [2,2,11]])\n"
     ],
     "language": "python",
     "metadata": {},
     "outputs": [],
     "prompt_number": 71
    },
    {
     "cell_type": "code",
     "collapsed": false,
     "input": [
      "np.linalg.det(C)"
     ],
     "language": "python",
     "metadata": {},
     "outputs": [
      {
       "metadata": {},
       "output_type": "pyout",
       "prompt_number": 72,
       "text": [
        "-52.999999999999986"
       ]
      }
     ],
     "prompt_number": 72
    },
    {
     "cell_type": "code",
     "collapsed": false,
     "input": [
      "C_inv = np.linalg.inv(C)\n",
      "print(C_inv)"
     ],
     "language": "python",
     "metadata": {},
     "outputs": [
      {
       "output_type": "stream",
       "stream": "stdout",
       "text": [
        "[[-0.73584906  0.26415094  0.0754717 ]\n",
        " [ 0.94339623 -0.05660377 -0.30188679]\n",
        " [-0.03773585 -0.03773585  0.13207547]]\n"
       ]
      }
     ],
     "prompt_number": 73
    },
    {
     "cell_type": "code",
     "collapsed": false,
     "input": [
      "C_inv.dot(C)"
     ],
     "language": "python",
     "metadata": {},
     "outputs": [
      {
       "metadata": {},
       "output_type": "pyout",
       "prompt_number": 74,
       "text": [
        "array([[  1.00000000e+00,   0.00000000e+00,   0.00000000e+00],\n",
        "       [ -1.11022302e-16,   1.00000000e+00,   0.00000000e+00],\n",
        "       [  5.55111512e-17,   0.00000000e+00,   1.00000000e+00]])"
       ]
      }
     ],
     "prompt_number": 74
    }
   ],
   "metadata": {}
  }
 ]
}