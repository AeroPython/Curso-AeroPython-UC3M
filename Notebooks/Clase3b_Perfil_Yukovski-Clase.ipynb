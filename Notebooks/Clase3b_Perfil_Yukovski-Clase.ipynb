{
 "metadata": {
  "name": "",
  "signature": "sha256:04d86e9bb41244d741144cf52ce538a2a00056ebec972a7a92910d8fc002355f"
 },
 "nbformat": 3,
 "nbformat_minor": 0,
 "worksheets": [
  {
   "cells": [
    {
     "cell_type": "markdown",
     "metadata": {},
     "source": [
      "# Curso AeroPython ETSIAE\n",
      "\n",
      "## Juan Luis Cano ([@Pybonacci](https://twitter.com/Pybonacci)) y \u00c1lex S\u00e1ez ([@Alex__S12](https://twitter.com/Alex__S12))"
     ]
    },
    {
     "cell_type": "markdown",
     "metadata": {},
     "source": [
      "<a rel=\"license\" href=\"http://creativecommons.org/licenses/by/4.0/deed.es\"><img alt=\"Licencia Creative Commons\" style=\"border-width:0\" src=\"http://i.creativecommons.org/l/by/4.0/88x31.png\" /></a><br /><span xmlns:dct=\"http://purl.org/dc/terms/\" property=\"dct:title\">Curso AeroPython</span> por <span xmlns:cc=\"http://creativecommons.org/ns#\" property=\"cc:attributionName\">Juan Luis Cano Rodriguez y Alejandro S\u00e1ez Mollejo</span> se distribuye bajo una <a rel=\"license\" href=\"http://creativecommons.org/licenses/by/4.0/deed.es\">Licencia Creative Commons Atribuci\u00f3n 4.0 Internacional</a>."
     ]
    },
    {
     "cell_type": "heading",
     "level": 1,
     "metadata": {},
     "source": [
      "CLASE 3b: Perfil de Yukovski."
     ]
    },
    {
     "cell_type": "markdown",
     "metadata": {},
     "source": [
      "Aunque no te lo creas, __con lo que hemos visto hasta ahora eres capaz de hacer grandes cosas__. Vale s\u00ed, un perfil de Yukovski no es gran cosa aerodin\u00e1micamente, pero por alg\u00fan sitio hay que empezar... Echa un vistazo a la gr\u00e1fica \u00bfno est\u00e1 mal, no? algo as\u00ed intentaremos conseguir al final de esta clase.\n",
      "\n",
      "![](https://dl.dropboxusercontent.com/u/18801976/perfil%20yukovski.png)\n",
      "\n",
      "Como no se trata de aprender (o reaprender) aerodin\u00e1mica, te daremos las funciones matem\u00e1ticas y los pasos a seguir as\u00ed como la estructura del programa. T\u00fa s\u00f3lo tienes que preocuparte de programar cada bloque. Puedes leer en detalle todo lo relativo a aerodin\u00e1mica que vamos a hacer en el libro  _Aerodin\u00e1mica b\u00e1sica_ de Meseguer Ruiz, J., Sanz Andr\u00e9s, A. (Editorial Garceta). \n"
     ]
    },
    {
     "cell_type": "heading",
     "level": 2,
     "metadata": {},
     "source": [
      "Importamos paquetes."
     ]
    },
    {
     "cell_type": "code",
     "collapsed": false,
     "input": [
      "#Recuerda, utilizaremos arrays y pintaremos gr\u00e1ficas.\n",
      "import numpy as np\n",
      "import matplotlib.pyplot as plt\n",
      "%matplotlib inline"
     ],
     "language": "python",
     "metadata": {},
     "outputs": [],
     "prompt_number": 1
    },
    {
     "cell_type": "heading",
     "level": 2,
     "metadata": {},
     "source": [
      "Par\u00e1metros del problema"
     ]
    },
    {
     "cell_type": "markdown",
     "metadata": {},
     "source": [
      "![](https://dl.dropboxusercontent.com/u/18801976/transf_yukovski.PNG)\n",
      "\n",
      "La transformaci\u00f3n de Yukovski es: $$\\tau=t+\\frac{a^{2}}{t}$$\n",
      "\n",
      "Los par\u00e1metros del problema son los del siguiente bloque, puedes cambiarlos m\u00e1s adelante:"
     ]
    },
    {
     "cell_type": "code",
     "collapsed": false,
     "input": [
      "#Datos para el perfil de Yukovski\n",
      "\n",
      "#par\u00e1metro de la transformaci\u00f3n de Yukovski\n",
      "a = 1\n",
      "\n",
      "#Centro de la circunferencia\n",
      "landa = 0.2 #coordenada x (en valor absoluto)\n",
      "delta = 0.3 #coordenada y\n",
      "\n",
      "#punto del plano complejo\n",
      "t0 = a * (-landa + delta * 1j)\n",
      "\n",
      "#valor del radio de la circunferencia\n",
      "R = a * np.sqrt((1 + landa)**2 + delta**2)\n",
      "\n",
      "#\u00e1ngulo de ataque corriente incidente\n",
      "alfa_grados = 0\n",
      "alfa = np.deg2rad(alfa_grados)\n",
      "\n",
      "#Velocidad de la corriente incidente\n",
      "U = 1"
     ],
     "language": "python",
     "metadata": {},
     "outputs": []
    },
    {
     "cell_type": "heading",
     "level": 2,
     "metadata": {},
     "source": [
      "Perfil de Yukoski"
     ]
    },
    {
     "cell_type": "markdown",
     "metadata": {},
     "source": [
      "Se trata de definir una funci\u00f3n que realice la transformaci\u00f3n de Yukovski. Esta funci\u00f3n recibir\u00e1 el par\u00e1metro de la transformaci\u00f3n, $a$ y el valor complejo $t$. Devolver\u00e1 el valor $\\tau$, tambi\u00e9n complejo, en el que se transforma $t$.\n",
      "\n",
      "    transf_Yukovski(param_a, t) --> tau"
     ]
    },
    {
     "cell_type": "code",
     "collapsed": false,
     "input": [
      "def transf_Yukovski(param_a, t):\n",
      "    \"\"\"Dado el punto t (complejo) y el par\u00e1metro a\n",
      "    a de la transformaci\u00f3n proporciona el punto\n",
      "    tau (complejo) en el que se transforma t.\"\"\"\n",
      "    \n",
      "    tau = t + param_a**2 / t\n",
      "    return tau"
     ],
     "language": "python",
     "metadata": {},
     "outputs": [],
     "prompt_number": 3
    },
    {
     "cell_type": "code",
     "collapsed": false,
     "input": [
      "#comprobamos que la funci\u00f3n est\u00e1 bien programada\n",
      "#puntos del eje real siguen siendo del eje real\n",
      "transf_Yukovski(a, 1+0j)"
     ],
     "language": "python",
     "metadata": {},
     "outputs": [
      {
       "metadata": {},
       "output_type": "pyout",
       "prompt_number": 4,
       "text": [
        "(-2+0j)"
       ]
      }
     ],
     "prompt_number": 4
    },
    {
     "cell_type": "markdown",
     "metadata": {},
     "source": [
      "Ahora queremos transformar la circunferencia de radio $R$ con centro en $a(-\\lambda+i\\delta)$ usando la funci\u00f3n anterior:\n",
      "\n",
      "1. Primero __creamos `N` puntos de la circunferencia__ de modo que __en `Xc` est\u00e9n las coordenadas $x$ y en `Yc` est\u00e9n las coordenadas $y$__ de los puntos que la forman. Controla el n\u00famero de puntos mediante un par\u00e1metro que se llame `N_perfil`.\n",
      "2. Una vez hayas obtenido los dos arrays `Xc` e `Yc`, __p\u00edntalos mediante un `scatter`__ para comprobar que todo ha ido bien. (Vamos a usar la interfaz orientada a objetos de matplotlib).\n",
      "3. Pinta tambi\u00e9n el __centro de la circunferencia__.\n",
      "\n",
      "Deber\u00edas obtener algo as\u00ed:\n",
      "\n",
      "![](https://dl.dropboxusercontent.com/u/18801976/cirunferencia.png)"
     ]
    },
    {
     "cell_type": "code",
     "collapsed": false,
     "input": [
      "#n\u00famero de puntos de la circunferencia que \n",
      "#vamos a transformar para obtener el perfil\n",
      "#n\u00famero de puntos de la circunferencia que \n",
      "#vamos a transformar para obtener el perfil\n",
      "N_perfil = 100\n",
      "\n",
      "#se barre un \u00e1ngulo de 0 a 2 pi\n",
      "theta = np.linspace(0, 2*np.pi, N_perfil)\n",
      "\n",
      "#se crean las coordenadas del los puntos\n",
      "#de la circunferencia\n",
      "Xc = np.real(t0) + R * np.cos(theta)\n",
      "Yc =   np.imag(t0) + R * np.sin(theta)\n",
      "\n",
      "#lo visulaizamos\n",
      "fig, ax = plt.subplots()\n",
      "\n",
      "fig.set_size_inches(5,5)\n",
      "\n",
      "ax.scatter(Xc, Yc)\n",
      "ax.scatter(np.real(t0), np.imag(t0), color='orange', marker='x', s=100)\n",
      "ax.grid()\n",
      "ax.set_aspect(1)"
     ],
     "language": "python",
     "metadata": {},
     "outputs": []
    },
    {
     "cell_type": "code",
     "collapsed": false,
     "input": [
      "#lo visulaizamos m\u00e1s bonito\n",
      "\n",
      "fig, ax = plt.subplots()\n",
      "\n",
      "fig.set_size_inches(5,5)\n",
      "\n",
      "p = plt.Polygon(list(zip(Xc, Yc)), color=\"#cccccc\", zorder=10)\n",
      "ax.add_patch(p)\n",
      "ax.set_aspect(1)\n",
      "\n",
      "ax.set_xlim(-2, 1.5)\n",
      "ax.set_ylim(-1.5,2)\n",
      "ax.grid()"
     ],
     "language": "python",
     "metadata": {},
     "outputs": []
    },
    {
     "cell_type": "markdown",
     "metadata": {},
     "source": [
      "Ahora estamos en condiciones de __transformar estos puntos de la circunferencia (`Xc`, `Yc`) en los del perfil (`Xp`, `Yp`)__. Para esto vamos a usar nuestra funci\u00f3n `transf_Yukovski`. Recuerda que esta funci\u00f3n recibe y da n\u00fameros complejos. \u00bfSaldr\u00e1 un perfil?"
     ]
    },
    {
     "cell_type": "code",
     "collapsed": false,
     "input": [
      "Puntos_perfil = transf_Yukovski(a, Xc+Yc*1j)\n",
      "Xp, Yp = np.real(Puntos_perfil) , np.imag(Puntos_perfil)\n",
      "\n",
      "#lo visulaizamos\n",
      "fig, ax = plt.subplots()\n",
      "fig.set_size_inches(10,10)\n",
      "ax.scatter(Xp, Yp)\n",
      "ax.grid()\n",
      "ax.set_aspect(1)"
     ],
     "language": "python",
     "metadata": {},
     "outputs": []
    },
    {
     "cell_type": "code",
     "collapsed": false,
     "input": [
      "#lo visulaizamos m\u00e1s bonito\n",
      "\n",
      "fig, ax = plt.subplots()\n",
      "\n",
      "fig.set_size_inches(10,10)\n",
      "p = plt.Polygon(list(zip(Xp, Yp)), color=\"#cccccc\", zorder=10)\n",
      "ax.add_patch(p)\n",
      "ax.set_aspect(1)\n",
      "\n",
      "ax.set_xlim(-3, 3)\n",
      "ax.set_ylim(-0.4,1)\n",
      "ax.grid()"
     ],
     "language": "python",
     "metadata": {},
     "outputs": []
    },
    {
     "cell_type": "heading",
     "level": 2,
     "metadata": {},
     "source": [
      "Flujo alrededor del cilindro"
     ]
    },
    {
     "cell_type": "markdown",
     "metadata": {},
     "source": [
      "Para visualizar ahora el flujo alrededor del cilindro recurrimos al __potencial complejo__ de una _corriente uniforme_ que forme un \u00e1ngulo $\\alpha$ con el eje $x$ _en presencia de un cilindro_ (aplicando el teorema del c\u00edrculo) y se a\u00f1ade un torbellino con la intensidad adecuada para que se cumpla la hip\u00f3tesis de Kutta en el perfil:\n",
      "\n",
      "\\begin{equation}\n",
      "f(t)=U_{\\infty}\\text{\u00b7}\\left((t-t_{0})\\text{\u00b7}e^{-i\\alpha}+\\frac{R^{2}}{t-t_{0}}\\text{\u00b7}e^{i\\alpha}\\right)+\\frac{i\\Gamma}{2\\pi}\\text{\u00b7}ln(t-t_{0})=\\Phi+i\\Psi\n",
      "\\end{equation}\n",
      "\n",
      "donde $\\Psi$ es la funci\u00f3n de corriente y $\\Phi$ es el potencial de velocidades.\n",
      "\n",
      "$$\\Gamma = 4  \\pi  a  U  (\\delta + (1+\\lambda)  \\alpha)$$\n",
      "\n",
      "$\\Gamma$ es la circulaci\u00f3n que hay que a\u00f1adir al cilindro para que al transformarlo en el perfil se cumpla la condici\u00f3n de Kutta.\n",
      "\n",
      "Pintando las l\u00edneas $\\Psi=cte$ (l\u00edneas de corriente) se puede visualizar el flujo.\n",
      "\n",
      "__Pintaremos estas lineas de potencial constante utilizando la funci\u00f3n `contour()`, pero antes tendremos que crear una malla con `meshgrid()`. Esto ser\u00e1 lo primero que hagamos:__\n",
      "\n",
      "1. Crea un par\u00e1metro `N_malla` cuyo valor sea el n\u00famero de puntos que va a tener la malla en cada direcci\u00f3n ($x$ e $y$).\n",
      "2. Crea dos par\u00e1metros `x_max` e `y_max` que representen los valores extremos de la malla en $x$ e $y$ respectivamente.\n",
      "3. Crea un array `x` que vaya desde `-x_max` hasta `x_max` y que tenga `N_malla` elementos. De manera an\u00e1loga, crea el array `y`.\n",
      "4. Crea la malla `XX, YY` que necesitaremos para pintar con `contour()`."
     ]
    },
    {
     "cell_type": "code",
     "collapsed": false,
     "input": [
      "#se crea la malla donde se va pintar la funci\u00f3n de corriente\n",
      "\n",
      "N_malla = 50 #n\u00ba de puntos en cada dimensi\u00f3n\n",
      "\n",
      "x_max = 8\n",
      "y_max = 3\n",
      "\n",
      "x = np.linspace(-x_max, x_max, N_malla)\n",
      "y = np.linspace(-y_max, y_max, N_malla)\n",
      "\n",
      "XX, YY = np.meshgrid(x,y)"
     ],
     "language": "python",
     "metadata": {},
     "outputs": []
    },
    {
     "cell_type": "code",
     "collapsed": false,
     "input": [
      "#pintamos la malla para verla\n",
      "plt.figure(figsize=(10,10))\n",
      "plt.scatter(XX.flatten(), YY.flatten(), marker='.')"
     ],
     "language": "python",
     "metadata": {},
     "outputs": []
    },
    {
     "cell_type": "markdown",
     "metadata": {},
     "source": [
      "1. Crea una variable `T` que tenga el valor correspondiente a la circulaci\u00f3n $\\Gamma$.\n",
      "2. Utilizando `XX` e `YY`, crea un array `t` que exprese la malla de forma compleja:\n",
      "    \n",
      "    \\begin{pmatrix}\n",
      "    -x_{max} + jy_{max}  &     &   ...  &     &  &  +x_{max} + jy_{max}\\\\ \n",
      "     &   &   &   &     &   \\\\\n",
      "    ... &     &      &      &     &   \\\\\n",
      "     &     &      &      &     &   \\\\\n",
      "     &     &      &      &     &   \\\\\n",
      "    -x_{max} - jy_{max} &     &   ...   &      &     & -x_{max} - jy_{max}  \\\\\n",
      "    \\end{pmatrix}\n",
      "3. Utilizando el array `t`, el valor `T` y los par\u00e1metros definidos al principio (`t0, alfa, U...`) crea `f` seg\u00fan la f\u00f3rmula de arriba (no hace falta que crees una funci\u00f3n).\n",
      "4. Guarda la parte imaginaria de esa funci\u00f3n (funci\u00f3n de corriente) en una variable `psi`."
     ]
    },
    {
     "cell_type": "code",
     "collapsed": false,
     "input": [
      "# Circulaci\u00f3n que hay que a\u00f1adir al cilindro para\n",
      "# que se cumpla la hip\u00f3tesis de Kutta en el perfil\n",
      "T = 4 * np.pi * a * U * (delta + (1+landa) * alfa)"
     ],
     "language": "python",
     "metadata": {},
     "outputs": []
    },
    {
     "cell_type": "code",
     "collapsed": false,
     "input": [
      "t = XX + YY * 1j\n",
      "t"
     ],
     "language": "python",
     "metadata": {},
     "outputs": []
    },
    {
     "cell_type": "code",
     "collapsed": false,
     "input": [
      "#Potencial complejo\n",
      "f = U * ( (t - t0) * np.exp(-alfa *1j) + R**2 / (t - t0) * np.exp(alfa * 1j) )\n",
      "f += 1j * T / (2* np.pi) * np.log(t - t0)"
     ],
     "language": "python",
     "metadata": {},
     "outputs": []
    },
    {
     "cell_type": "code",
     "collapsed": false,
     "input": [
      "#Funci\u00f3n de corriente\n",
      "psi = np.imag(f)"
     ],
     "language": "python",
     "metadata": {},
     "outputs": []
    },
    {
     "cell_type": "markdown",
     "metadata": {},
     "source": [
      "Como la funci\u00f3n de corriente toma un valor constante en cada l\u00ednea de corriente, podemos visualizar el flujo alrededor del cilindro pintando las lineas en las que `psi` toma un valor constante. Para ello utilizaremos la funci\u00f3n `contour()` en la malla `XX, YY`. Si no se ve nada prueba a cambiar el n\u00famero de l\u00edneas y los valores m\u00e1ximo y m\u00ednimo de la funci\u00f3n que se representan."
     ]
    },
    {
     "cell_type": "code",
     "collapsed": false,
     "input": [
      "#lo visulaizamos\n",
      "fig, ax = plt.subplots()\n",
      "\n"
     ],
     "language": "python",
     "metadata": {},
     "outputs": []
    },
    {
     "cell_type": "markdown",
     "metadata": {},
     "source": [
      "Si ya has visulaizado el flujo y quieres ver el cilindro encima, a\u00f1ade al c\u00f3digo de la celda anterior el que pinta el cilindro:\n",
      "\n",
      "    p = plt.Polygon(list(zip(Xc, Yc)), color=\"#cccccc\", zorder=10)\n",
      "    ax.add_patch(p)"
     ]
    },
    {
     "cell_type": "code",
     "collapsed": false,
     "input": [
      "\n"
     ],
     "language": "python",
     "metadata": {},
     "outputs": []
    },
    {
     "cell_type": "heading",
     "level": 2,
     "metadata": {},
     "source": [
      "Flujo alrededor del perfil"
     ]
    },
    {
     "cell_type": "markdown",
     "metadata": {},
     "source": [
      "Bueno, lo que quer\u00edamos era hacer cosas alrededor de nuestro perfil, \u00bfno?\n",
      "\n",
      "Esto lo conseguiremos pintando la funci\u00f3n `psi` (tal cual est\u00e1 definida) en los puntos `XX_tau, YY_tau` transformados de los `XX, YY` a trav\u00e9s de la funci\u00f3n `transf_Yukovski`, recuerda que la transformaci\u00f3n que tenemos recibe y da n\u00fameros complejos. Como antes, debes separar parte real e imaginaria. En la siguiente celda transforma t (en el que deber\u00eda estar almacenada la malla en forma compleja) para obtener `XX_tau, YY_tau`."
     ]
    },
    {
     "cell_type": "code",
     "collapsed": false,
     "input": [],
     "language": "python",
     "metadata": {},
     "outputs": []
    },
    {
     "cell_type": "markdown",
     "metadata": {},
     "source": [
      "Si has llamado `XX_tau` e `YY_tau` a la parte real e imaginaria de la malla puedes ejecutar la siguiente c\u00e9lula para ver c\u00f3mo se ha transformado la malla."
     ]
    },
    {
     "cell_type": "code",
     "collapsed": false,
     "input": [
      "#pintamos la malla para ver como se ha transformado\n",
      "# De este c\u00f3digo quiz\u00e1 te extra\u00e9 el m\u00e9todo .flatten\n",
      "# nada que no puedas solucionar con la ayuda ;)\n",
      "\n",
      "fig, ax = plt.subplots(1,2)\n",
      "\n",
      "fig.set_size_inches(15,8)\n",
      "\n",
      "mapa_color = plt.cm.Paired\n",
      "\n",
      "ax[0].scatter(XX_tau.flatten(), YY_tau.flatten(),\\\n",
      "              cmap=mapa_color, c=np.linspace(0,1, N_malla**2))\n",
      "ax[1].scatter(XX.flatten(), YY.flatten(),\\\n",
      "              cmap=mapa_color, c=np.linspace(0,1, N_malla**2))\n",
      "\n",
      "ax[0].set_xlim(-x_max,x_max)\n",
      "ax[0].set_ylim(-y_max,y_max)\n",
      "ax[1].set_xlim(-x_max,x_max)\n",
      "ax[1].set_ylim(-y_max,y_max)"
     ],
     "language": "python",
     "metadata": {},
     "outputs": []
    },
    {
     "cell_type": "markdown",
     "metadata": {},
     "source": [
      "Vamos a __pintar ahora la funci\u00f3n psi, sobre la mlla transformada utilizando `contour()`__. \u00bfSaldr\u00e1 el flujo alrededor del perfil?"
     ]
    },
    {
     "cell_type": "code",
     "collapsed": false,
     "input": [],
     "language": "python",
     "metadata": {},
     "outputs": []
    },
    {
     "cell_type": "markdown",
     "metadata": {},
     "source": [
      "Si observas bien la figura anterior, ver\u00e1s como si hay una serie de l\u00edneas que parecen seguir un perfil, pero que sin embargo aparecen otras que no tienen ning\u00fan sentido. Esto est\u00e1 apareciendo al transformarse los puntos que est\u00e1n dentro de la circunferencia. Lo que vamos a hacer es eliminarlos.\n",
      "\n",
      "Para hacer esto debes recorrer uno a uno los valores del array `t` y hacer cero aquellos cuya distancia a `t0` sea menor de 0.95 veces el radio `R`. Pista: utiliza dos bucles y un condicional. Puedes obtener la distancia con `np.linalg.norm(\u00bf\u00bf??)`"
     ]
    },
    {
     "cell_type": "code",
     "collapsed": false,
     "input": [],
     "language": "python",
     "metadata": {},
     "outputs": []
    },
    {
     "cell_type": "markdown",
     "metadata": {},
     "source": [
      "Hecho esto, transforma de nuevo, el array t, para obtener `XX_tau, YY_tau`."
     ]
    },
    {
     "cell_type": "code",
     "collapsed": false,
     "input": [],
     "language": "python",
     "metadata": {},
     "outputs": []
    },
    {
     "cell_type": "code",
     "collapsed": false,
     "input": [
      "#pintamos la malla para ver como se ha transformado esta vez\n",
      "fig, ax = plt.subplots(1,2)\n",
      "\n",
      "fig.set_size_inches(15,8)\n",
      "\n",
      "mapa_color = plt.cm.Paired\n",
      "\n",
      "ax[0].scatter(XX_tau.flatten(), YY_tau.flatten(),\\\n",
      "              cmap=mapa_color, c=np.linspace(0,1, N_malla**2))\n",
      "ax[1].scatter(XX.flatten(), YY.flatten(),\\\n",
      "              cmap=mapa_color, c=np.linspace(0,1, N_malla**2))\n",
      "\n",
      "ax[0].set_xlim(-x_max,x_max)\n",
      "ax[0].set_ylim(-y_max,y_max)\n",
      "ax[1].set_xlim(-x_max,x_max)\n",
      "ax[1].set_ylim(-y_max,y_max)"
     ],
     "language": "python",
     "metadata": {},
     "outputs": []
    },
    {
     "cell_type": "markdown",
     "metadata": {},
     "source": [
      "Pintamos otra vez la funci\u00f3n psi y...."
     ]
    },
    {
     "cell_type": "code",
     "collapsed": false,
     "input": [],
     "language": "python",
     "metadata": {},
     "outputs": []
    },
    {
     "cell_type": "markdown",
     "metadata": {},
     "source": [
      "Puedes poner el perfil encima utilizando: \n",
      "    \n",
      "    p = plt.Polygon(list(zip(Xp, Yp)), color=\"#cccccc\", zorder=10)\n",
      "    plt.gca().add_patch(p)"
     ]
    },
    {
     "cell_type": "code",
     "collapsed": false,
     "input": [],
     "language": "python",
     "metadata": {},
     "outputs": []
    },
    {
     "cell_type": "markdown",
     "metadata": {},
     "source": [
      "__Ahora es un buen momento para jugar con todos los par\u00e1metros del problema. \u00a1Prueba a cambiarlos y ejecuta el notebook entero!__"
     ]
    }
   ],
   "metadata": {}
  }
 ]
}