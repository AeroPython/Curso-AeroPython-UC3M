{
 "metadata": {
  "name": "",
  "signature": "sha256:26a98b2bc6cbe0e8c93282945fa98a8614d066e4770bbb4a40c4c29b0f944ccf"
 },
 "nbformat": 3,
 "nbformat_minor": 0,
 "worksheets": [
  {
   "cells": [
    {
     "cell_type": "markdown",
     "metadata": {},
     "source": [
      "# Curso AeroPython ETSIAE\n",
      "\n",
      "## Juan Luis Cano ([@Pybonacci](https://twitter.com/Pybonacci)) y \u00c1lex S\u00e1ez ([@Alex__S12](https://twitter.com/Alex__S12))"
     ]
    },
    {
     "cell_type": "markdown",
     "metadata": {},
     "source": [
      "<a rel=\"license\" href=\"http://creativecommons.org/licenses/by/4.0/deed.es\"><img alt=\"Licencia Creative Commons\" style=\"border-width:0\" src=\"http://i.creativecommons.org/l/by/4.0/88x31.png\" /></a><br /><span xmlns:dct=\"http://purl.org/dc/terms/\" property=\"dct:title\">Curso AeroPython</span> por <span xmlns:cc=\"http://creativecommons.org/ns#\" property=\"cc:attributionName\">Juan Luis Cano Rodriguez y Alejandro S\u00e1ez Mollejo</span> se distribuye bajo una <a rel=\"license\" href=\"http://creativecommons.org/licenses/by/4.0/deed.es\">Licencia Creative Commons Atribuci\u00f3n 4.0 Internacional</a>."
     ]
    },
    {
     "cell_type": "heading",
     "level": 1,
     "metadata": {},
     "source": [
      "CLASE 2a: Continuaci\u00f3n NumPy."
     ]
    },
    {
     "cell_type": "markdown",
     "metadata": {},
     "source": [
      "Hasta ahora hemos visto:\n",
      "\n",
      "* El objeto ndarray que nos ofrece NumPy y sus principales caracter\u00edsticas.\n",
      "* C\u00f3mo crear arrays usando diferentes fucniones.\n",
      "\n",
      "El siguiente paso es:\n",
      "\n",
      "* Acceder y modificar elementos del array.\n",
      "* __Copia y referencia.__\n",
      "* Operar con arrays:\n",
      "    - Operaciones elemento a elemento.\n",
      "    - Producto escalar y producto matricial.\n",
      "* Veremos m\u00e1s funciones para manejar arrays de NumPy en la clase 3 (lectura y escritura de ficheros).\n",
      "    \n",
      "Adem\u00e1s, hoy veremos como __definir funciones en Python__."
     ]
    },
    {
     "cell_type": "code",
     "collapsed": false,
     "input": [
      "#Como siempre: lo primero es lo primero.\n"
     ],
     "language": "python",
     "metadata": {},
     "outputs": []
    },
    {
     "cell_type": "markdown",
     "metadata": {},
     "source": [
      "Ya sabemos crear arrays, \u00bfrecuerdas? Creemos algo as\u00ed:\n",
      "\n",
      "\\begin{pmatrix}\n",
      "    21 & 22 & 23\\\\ \n",
      "    24 & 25 & 26\\\\\n",
      "    27 & 28 & 29\\\\\n",
      "    \\end{pmatrix}\n",
      "\n",
      "y hagamos que los datos que contiene sean de tipo `float`"
     ]
    },
    {
     "cell_type": "code",
     "collapsed": false,
     "input": [
      "#creamos un vector a desde 21 hasta 29\n",
      "\n",
      "#creamos M a partir de a\n",
      "\n"
     ],
     "language": "python",
     "metadata": {},
     "outputs": []
    },
    {
     "cell_type": "markdown",
     "metadata": {},
     "source": [
      "y empecemos a jugar...\n",
      "Antes de nada, veamos __algunas funciones que no utilizamos el otro d\u00eda:__"
     ]
    },
    {
     "cell_type": "heading",
     "level": 3,
     "metadata": {},
     "source": [
      "`array.ndim`"
     ]
    },
    {
     "cell_type": "code",
     "collapsed": false,
     "input": [
      "print()\n",
      "print()"
     ],
     "language": "python",
     "metadata": {},
     "outputs": []
    },
    {
     "cell_type": "heading",
     "level": 3,
     "metadata": {},
     "source": [
      "`array.shape`"
     ]
    },
    {
     "cell_type": "code",
     "collapsed": false,
     "input": [],
     "language": "python",
     "metadata": {},
     "outputs": []
    },
    {
     "cell_type": "heading",
     "level": 3,
     "metadata": {},
     "source": [
      "`array.size`"
     ]
    },
    {
     "cell_type": "code",
     "collapsed": false,
     "input": [],
     "language": "python",
     "metadata": {},
     "outputs": []
    },
    {
     "cell_type": "heading",
     "level": 1,
     "metadata": {},
     "source": [
      "Indexing & Slicing"
     ]
    },
    {
     "cell_type": "markdown",
     "metadata": {},
     "source": [
      "Ahora veamos c\u00f3mo podemos __acceder a elementos__ de `a` y de `M`:"
     ]
    },
    {
     "cell_type": "code",
     "collapsed": false,
     "input": [
      "#vemos el valor de a\n",
      "a"
     ],
     "language": "python",
     "metadata": {},
     "outputs": []
    },
    {
     "cell_type": "code",
     "collapsed": false,
     "input": [
      "#si no quiero que me salga array delante...\n",
      "print(a)\n"
     ],
     "language": "python",
     "metadata": {},
     "outputs": []
    },
    {
     "cell_type": "code",
     "collapsed": false,
     "input": [
      "#incluso podemos hacer a = [...]\n"
     ],
     "language": "python",
     "metadata": {},
     "outputs": []
    },
    {
     "cell_type": "markdown",
     "metadata": {},
     "source": [
      "Imaginemos que queremos acceder al:"
     ]
    },
    {
     "cell_type": "code",
     "collapsed": false,
     "input": [
      "#primer elemento \u00a1EMPIEZA EN CERO!\n"
     ],
     "language": "python",
     "metadata": {},
     "outputs": []
    },
    {
     "cell_type": "code",
     "collapsed": false,
     "input": [
      "#cuarto elemento (\u00edndice 3)\n"
     ],
     "language": "python",
     "metadata": {},
     "outputs": []
    },
    {
     "cell_type": "code",
     "collapsed": false,
     "input": [
      "#\u00bf\u00faltimo elemento?\n"
     ],
     "language": "python",
     "metadata": {},
     "outputs": []
    },
    {
     "cell_type": "markdown",
     "metadata": {},
     "source": [
      "\u00bfSabr\u00edas acceder al __pen\u00faltimo__ y al __antepen\u00faltimo__?"
     ]
    },
    {
     "cell_type": "code",
     "collapsed": false,
     "input": [],
     "language": "python",
     "metadata": {},
     "outputs": []
    },
    {
     "cell_type": "markdown",
     "metadata": {},
     "source": [
      "__Podemos acceder a varios valores a la vez (_slicing_)__. Por ejemplo, del \u00edndice 2 al 5 (excluido), por lo que se mostrar\u00e1 del tercer elemento al quinto:"
     ]
    },
    {
     "cell_type": "code",
     "collapsed": false,
     "input": [],
     "language": "python",
     "metadata": {},
     "outputs": []
    },
    {
     "cell_type": "markdown",
     "metadata": {},
     "source": [
      "\u00bfQu\u00e9 objeto recibimos en el Output?\n",
      "\n",
      "Del \u00edndice 2 al final:"
     ]
    },
    {
     "cell_type": "code",
     "collapsed": false,
     "input": [],
     "language": "python",
     "metadata": {},
     "outputs": []
    },
    {
     "cell_type": "markdown",
     "metadata": {},
     "source": [
      "Del segundo al pen\u00faltimo:"
     ]
    },
    {
     "cell_type": "code",
     "collapsed": false,
     "input": [],
     "language": "python",
     "metadata": {},
     "outputs": []
    },
    {
     "cell_type": "markdown",
     "metadata": {},
     "source": [
      "o del segundo al pen\u00faltimo __saltando de dos en dos__:"
     ]
    },
    {
     "cell_type": "code",
     "collapsed": false,
     "input": [],
     "language": "python",
     "metadata": {},
     "outputs": []
    },
    {
     "cell_type": "markdown",
     "metadata": {},
     "source": [
      "\u00bfSabr\u00edas obtener ahora un array `a2` donde los elementos est\u00e9n ordenados al rev\u00e9s? Es decir, el \u00faltimo de a ocupa el primer lugar, el pen\u00faltimo el segundo...\n",
      "\n",
      "---"
     ]
    },
    {
     "cell_type": "markdown",
     "metadata": {},
     "source": [
      "Para __varias dimensiones__, s\u00f3lo hay que indicar qu\u00e9 elementos queremos en cada dimensi\u00f3n. Hay que tener en cuenta que __la primera dimensi\u00f3n son las filas y la segunda las columnas__. Por supuesto, una vez m\u00e1s, los \u00edndices comienzan en cero."
     ]
    },
    {
     "cell_type": "code",
     "collapsed": false,
     "input": [
      "#mostramos M\n",
      "print(M)"
     ],
     "language": "python",
     "metadata": {},
     "outputs": []
    },
    {
     "cell_type": "code",
     "collapsed": false,
     "input": [
      "#primer elemento\n"
     ],
     "language": "python",
     "metadata": {},
     "outputs": []
    },
    {
     "cell_type": "code",
     "collapsed": false,
     "input": [
      "#primera fila\n"
     ],
     "language": "python",
     "metadata": {},
     "outputs": []
    },
    {
     "cell_type": "code",
     "collapsed": false,
     "input": [
      "#segunda columna\n"
     ],
     "language": "python",
     "metadata": {},
     "outputs": []
    },
    {
     "cell_type": "markdown",
     "metadata": {},
     "source": [
      "\u00bfQu\u00e9 dar\u00e1 resultado producir\u00e1 `M[0::2,0::2]`? Pi\u00e9nsalo y luego pru\u00e9balo. \u00bfHas acertado? Entonces podemos seguir..."
     ]
    },
    {
     "cell_type": "markdown",
     "metadata": {},
     "source": [
      "Con esta misma indexaci\u00f3n se pueden cambiar valores:"
     ]
    },
    {
     "cell_type": "code",
     "collapsed": false,
     "input": [
      "#mostramos a\n",
      "print(a)"
     ],
     "language": "python",
     "metadata": {},
     "outputs": []
    },
    {
     "cell_type": "code",
     "collapsed": false,
     "input": [
      "#cambiamos los primeros 5 valores por cero\n"
     ],
     "language": "python",
     "metadata": {},
     "outputs": []
    },
    {
     "cell_type": "markdown",
     "metadata": {},
     "source": [
      "---\n",
      "Ejercicio: __Crea la matriz `A`__:\n",
      "    \n",
      "\\begin{pmatrix}\n",
      "1  & 2  &  3 &  4  & 5 &  6\\\\ \n",
      "7  & 0  &  9 &  0 & 11 &    0\\\\\n",
      "13 & 14 &  15&  16 & 17&  18\\\\\n",
      "1  & 20 &   1&  22 &  1&  24\\\\\n",
      "55 & 56 &  57&  58 & 59  & 60\\\\\n",
      "31 & 32 &  33&  34 & 35 &  36\\\\\n",
      "\\end{pmatrix}\n",
      "    \n",
      "\u00a1Una pista! empiza usando `np.arange(???).reshape(???)` y luego ve haciendo cambios en filas, columnas...\n",
      "\n",
      "\u00bfEres capaz de definirla en 4 l\u00edneas?\n"
     ]
    },
    {
     "cell_type": "code",
     "collapsed": false,
     "input": [],
     "language": "python",
     "metadata": {},
     "outputs": []
    },
    {
     "cell_type": "heading",
     "level": 3,
     "metadata": {},
     "source": [
      "Paso por referencia o por copia."
     ]
    },
    {
     "cell_type": "markdown",
     "metadata": {},
     "source": [
      "Imaginemos ahora que tenemos el siguiente array:"
     ]
    },
    {
     "cell_type": "code",
     "collapsed": false,
     "input": [
      "arr = np.arange(0,51)\n",
      "print(arr)"
     ],
     "language": "python",
     "metadata": {},
     "outputs": []
    },
    {
     "cell_type": "markdown",
     "metadata": {},
     "source": [
      "Ahora queremos crear un nuevo array `arr2` a partir del anterior que contenga s\u00f3lo lo n\u00fameros impares:"
     ]
    },
    {
     "cell_type": "code",
     "collapsed": false,
     "input": [
      "#arr2 solo con los impares de arr\n",
      "arr2 = "
     ],
     "language": "python",
     "metadata": {},
     "outputs": []
    },
    {
     "cell_type": "markdown",
     "metadata": {},
     "source": [
      "Hasta aqu\u00ed todo parece ir, __probemos a cambiar algunos elementos de `arr2`__:"
     ]
    },
    {
     "cell_type": "code",
     "collapsed": false,
     "input": [
      "#cambiamos el valor de algunos elementos de arr2\n"
     ],
     "language": "python",
     "metadata": {},
     "outputs": []
    },
    {
     "cell_type": "markdown",
     "metadata": {},
     "source": [
      "Bueno, ahora que hemos modificado `arr2`, veamos qu\u00e9 le ha pasado a `arr`, en teor\u00eda nada, \u00bfno?"
     ]
    },
    {
     "cell_type": "code",
     "collapsed": false,
     "input": [
      "#imprimimos arr\n",
      "\n",
      "#imprimimos arr2"
     ],
     "language": "python",
     "metadata": {},
     "outputs": []
    },
    {
     "cell_type": "markdown",
     "metadata": {},
     "source": [
      "S\u00ed, s\u00ed ves bien... \u00bfQu\u00e9 ha pasado? \u00bfpor qu\u00e9 los cambios en `arr2` se ven reflejados en `arr`?\n",
      "Pues porque `arr2 = arr[1::2]` __en lugar de crear un nuevo array copiando valores pedidos, ha creado un array con referencias a los registros de memoria donde est\u00e1 almacenado `arr`.__"
     ]
    },
    {
     "cell_type": "code",
     "collapsed": false,
     "input": [
      "np.may_share_memory(arr, arr2)"
     ],
     "language": "python",
     "metadata": {},
     "outputs": []
    },
    {
     "cell_type": "markdown",
     "metadata": {},
     "source": [
      "Este es el procedimiento normal de NumPy (determinadas formas de asignaci\u00f3n pueden implicar hacer una copia sin darnos cuenta). Puede parecer confuso, pero __en muchas ocasiones nos ayuda a ahorrar memoria y ejecutar el c\u00f3digo m\u00e1s r\u00e1pido__. Si lo que queremos, es hacer una copia debemos hacerlo expl\u00edcitamente:"
     ]
    },
    {
     "cell_type": "code",
     "collapsed": false,
     "input": [
      "#creamos arr\n",
      "arr = np.arange(0,51)\n",
      "\n",
      "#creamos arr2 copiando solo los pares\n"
     ],
     "language": "python",
     "metadata": {},
     "outputs": []
    },
    {
     "cell_type": "code",
     "collapsed": false,
     "input": [
      "#cambiamos todos los valores de arr2 por cero\n",
      "\n",
      "\n",
      "#vemos qu\u00e9 sale en arr y arr2\n"
     ],
     "language": "python",
     "metadata": {},
     "outputs": []
    },
    {
     "cell_type": "heading",
     "level": 1,
     "metadata": {},
     "source": [
      "Operaciones elemento a elemento"
     ]
    },
    {
     "cell_type": "markdown",
     "metadata": {},
     "source": [
      "Ahora que pocas cosas se nos escapan de los arrays, probemos a hacer algunas operaciones. El funcionamiento es el habitual en Fortran y MATLAB y poco hay que a\u00f1adir:"
     ]
    },
    {
     "cell_type": "code",
     "collapsed": false,
     "input": [
      "#crear un array y sumarle un n\u00famero\n"
     ],
     "language": "python",
     "metadata": {},
     "outputs": []
    },
    {
     "cell_type": "code",
     "collapsed": false,
     "input": [
      "#multiplicarlo por un n\u00famero\n"
     ],
     "language": "python",
     "metadata": {},
     "outputs": []
    },
    {
     "cell_type": "code",
     "collapsed": false,
     "input": [
      "#elevarlo al cuadrado\n"
     ],
     "language": "python",
     "metadata": {},
     "outputs": []
    },
    {
     "cell_type": "code",
     "collapsed": false,
     "input": [
      "#calcular una funci\u00f3n\n"
     ],
     "language": "python",
     "metadata": {},
     "outputs": []
    },
    {
     "cell_type": "markdown",
     "metadata": {},
     "source": [
      "S\u00ed que cabe comentar el __rendimiento en comparaci\u00f3n con la misma operaci\u00f3n ejecutando un bucle__:"
     ]
    },
    {
     "cell_type": "code",
     "collapsed": false,
     "input": [],
     "language": "python",
     "metadata": {},
     "outputs": []
    },
    {
     "cell_type": "code",
     "collapsed": false,
     "input": [],
     "language": "python",
     "metadata": {},
     "outputs": []
    },
    {
     "cell_type": "markdown",
     "metadata": {},
     "source": [
      "__Si las operaciones involucran dos arrays tambi\u00e9n se realizan elemento a elemento__"
     ]
    },
    {
     "cell_type": "code",
     "collapsed": false,
     "input": [
      "#creamos dos arrays\n",
      "arr1 = \n",
      "arr2 = "
     ],
     "language": "python",
     "metadata": {},
     "outputs": []
    },
    {
     "cell_type": "code",
     "collapsed": false,
     "input": [
      "#operaciones...\n"
     ],
     "language": "python",
     "metadata": {},
     "outputs": []
    },
    {
     "cell_type": "markdown",
     "metadata": {},
     "source": [
      "__Comparaciones:__"
     ]
    },
    {
     "cell_type": "code",
     "collapsed": false,
     "input": [
      "# >,<\n"
     ],
     "language": "python",
     "metadata": {},
     "outputs": []
    },
    {
     "cell_type": "code",
     "collapsed": false,
     "input": [
      "# ==\n"
     ],
     "language": "python",
     "metadata": {},
     "outputs": []
    },
    {
     "cell_type": "code",
     "collapsed": false,
     "input": [
      "# \u00bfqu\u00e9 ocurre si hago...?\n"
     ],
     "language": "python",
     "metadata": {},
     "outputs": []
    },
    {
     "cell_type": "markdown",
     "metadata": {},
     "source": [
      "Por cierto, \u00bfq\u00fae ocurrir\u00e1 si los arrays con los que se quiere operar no tiene la misma forma? \u00bfapuestas? Quiz\u00e1 m\u00e1s adelante te interese buscar algo de informaci\u00f3n sobre __broadcasting__."
     ]
    },
    {
     "cell_type": "heading",
     "level": 1,
     "metadata": {},
     "source": [
      "Producto escalar y vectorial"
     ]
    },
    {
     "cell_type": "code",
     "collapsed": false,
     "input": [],
     "language": "python",
     "metadata": {},
     "outputs": []
    },
    {
     "cell_type": "code",
     "collapsed": false,
     "input": [],
     "language": "python",
     "metadata": {},
     "outputs": []
    },
    {
     "cell_type": "code",
     "collapsed": false,
     "input": [],
     "language": "python",
     "metadata": {},
     "outputs": []
    },
    {
     "cell_type": "heading",
     "level": 1,
     "metadata": {},
     "source": [
      "Producto de matrices"
     ]
    },
    {
     "cell_type": "code",
     "collapsed": false,
     "input": [
      "a = \n",
      "a"
     ],
     "language": "python",
     "metadata": {},
     "outputs": []
    },
    {
     "cell_type": "code",
     "collapsed": false,
     "input": [
      "b = \n",
      "b"
     ],
     "language": "python",
     "metadata": {},
     "outputs": []
    },
    {
     "cell_type": "code",
     "collapsed": false,
     "input": [
      "#multiplico una por otra\n"
     ],
     "language": "python",
     "metadata": {},
     "outputs": []
    },
    {
     "cell_type": "code",
     "collapsed": false,
     "input": [
      "# Como ya sab\u00edamos no es lo mismo que:\n"
     ],
     "language": "python",
     "metadata": {},
     "outputs": []
    },
    {
     "cell_type": "heading",
     "level": 1,
     "metadata": {},
     "source": [
      "Traspuesta, traza, determinante, autovalores..."
     ]
    },
    {
     "cell_type": "code",
     "collapsed": false,
     "input": [
      "#traspuesta\n"
     ],
     "language": "python",
     "metadata": {},
     "outputs": []
    },
    {
     "cell_type": "code",
     "collapsed": false,
     "input": [
      "#traza\n"
     ],
     "language": "python",
     "metadata": {},
     "outputs": []
    },
    {
     "cell_type": "code",
     "collapsed": false,
     "input": [
      "#determinante\n"
     ],
     "language": "python",
     "metadata": {},
     "outputs": []
    },
    {
     "cell_type": "code",
     "collapsed": false,
     "input": [
      "#autovalores y vectores\n"
     ],
     "language": "python",
     "metadata": {},
     "outputs": []
    },
    {
     "cell_type": "code",
     "collapsed": false,
     "input": [
      "#inversa\n",
      "\n"
     ],
     "language": "python",
     "metadata": {},
     "outputs": []
    },
    {
     "cell_type": "code",
     "collapsed": false,
     "input": [
      "#\u00bfvector columna?\n"
     ],
     "language": "python",
     "metadata": {},
     "outputs": []
    },
    {
     "cell_type": "heading",
     "level": 1,
     "metadata": {},
     "source": [
      "Creaci\u00f3n de funciones en Python"
     ]
    },
    {
     "cell_type": "markdown",
     "metadata": {},
     "source": [
      "C\u00f3mo dec\u00edamos al principio, hoy tambi\u00e9n vamos a aprender a crear funciones en Python. A diferencia de MATLAB, _puedes crear funciones donde t\u00fa quieras_, esto es __en cualquier punto de tu script__. Por supuesto, tambi\u00e9n puedes crearlas en otro script e importarlas como un module, pero de momento olvidaremos esto \u00faltimo. El \u00fanico requisito es que tu funci\u00f3n se cree en un punto anterior a su primera utilizaci\u00f3n. La sintaxis no puede ser m\u00e1s sencilla:\n",
      "\n",
      "\n",
      "        def mi_funcion(entrada1, entrada2, entrada3):\n",
      "            ...\n",
      "            ...\n",
      "            return salida1, salida2"
     ]
    },
    {
     "cell_type": "markdown",
     "metadata": {},
     "source": [
      "Programemos algo m\u00e1s aeron\u00e1utico...\n",
      "\n",
      "$$T_{t}=T\\left(1+\\frac{\\gamma-1}{2}M^{2}\\right)$$\n",
      "\n",
      "Define una funci\u00f3n que reciba $T$, $M$ y $\\gamma$ y que devuelva $T_t$"
     ]
    },
    {
     "cell_type": "code",
     "collapsed": false,
     "input": [
      "#se define funcion"
     ],
     "language": "python",
     "metadata": {},
     "outputs": []
    },
    {
     "cell_type": "code",
     "collapsed": false,
     "input": [
      "#\u00bfprobamos?"
     ],
     "language": "python",
     "metadata": {},
     "outputs": []
    },
    {
     "cell_type": "code",
     "collapsed": false,
     "input": [
      "#salvo \"raras\" ocasiones gamma = 1.4\n",
      "#\u00bfse lo tenemos que pasar siempre?"
     ],
     "language": "python",
     "metadata": {},
     "outputs": []
    },
    {
     "cell_type": "code",
     "collapsed": false,
     "input": [],
     "language": "python",
     "metadata": {},
     "outputs": []
    },
    {
     "cell_type": "markdown",
     "metadata": {},
     "source": [
      "__\u00bfPuede una funci\u00f3n llamar a otra?__ La respuesta es s\u00ed, puede llamarse incluso a s\u00ed misma.\n",
      "\n",
      "Si usamos la atm\u00f3sfera est\u00e1ndar, la $T$ est\u00e1 dada por la h:\n",
      "\n",
      "$$\\frac{T}{T_{0}}=\\theta=1-22.558\\cdot10^{-6}h$$\n",
      "\n",
      "con $h$ en metros.\n",
      "\n",
      "Ahora podemos definir una funci\u00f3n `T_ISA` que nos de $T$ en funci\u00f3n de $h$."
     ]
    },
    {
     "cell_type": "code",
     "collapsed": false,
     "input": [
      "#para documentar la funcion:\n",
      "\n",
      "    "
     ],
     "language": "python",
     "metadata": {},
     "outputs": []
    },
    {
     "cell_type": "code",
     "collapsed": false,
     "input": [
      "#\u00bfqu\u00e9 hace la funci\u00f3n?"
     ],
     "language": "python",
     "metadata": {},
     "outputs": []
    },
    {
     "cell_type": "code",
     "collapsed": false,
     "input": [
      "#se prueba"
     ],
     "language": "python",
     "metadata": {},
     "outputs": []
    },
    {
     "cell_type": "markdown",
     "metadata": {},
     "source": [
      "Usando la funci\u00f3n anterior podemos obtener $T_t$ en funci\u00f3n de $h$ y $\\gamma$. Define una nueva funci\u00f3n que lo haga."
     ]
    },
    {
     "cell_type": "code",
     "collapsed": false,
     "input": [],
     "language": "python",
     "metadata": {},
     "outputs": []
    },
    {
     "cell_type": "code",
     "collapsed": false,
     "input": [],
     "language": "python",
     "metadata": {},
     "outputs": []
    },
    {
     "cell_type": "code",
     "collapsed": false,
     "input": [
      "#En apenas una hora aprender\u00e1s a pintar algo como esto\n",
      "import matplotlib.pyplot as plt\n",
      "%matplotlib inline\n",
      "\n",
      "h = np.linspace(0, 5000, 500)\n",
      "M = np.linspace(0, 1)\n",
      "\n",
      "MM, hh = np.meshgrid(M, h)\n",
      "\n",
      "plt.contourf(MM, hh, T_remanso(hh, MM),100)\n",
      "plt.colorbar()"
     ],
     "language": "python",
     "metadata": {},
     "outputs": []
    },
    {
     "cell_type": "markdown",
     "metadata": {},
     "source": [
      "Si eres observador, te habr\u00e1s dado cuenta, de __no hemos especificado de qu\u00e9 tipo son las variables que le vamos a pasar a la funci\u00f3n \u00bfrecuerdas `intent in`...?__ O sea que le puedes pasar un array de Machs y otro de temperaturas y obtener la temperatura de remanso en toda la envolvente de vuelo.\n",
      "\n",
      "---\n",
      "__Te recomendamos...__\n",
      "_Un ejercicio aparentemente inocente que puede plantear algunas dificulatades es meter un condicional dentro de la funci\u00f3n T_ISA y dar la temperatura correspondiente seg\u00fan la altura (Troposfera, Tropopausa, Estratosfera inferior). Prueba a pasarle un solo valor y a pasarle un array. \u00bfQu\u00e9 ocurre?_\n",
      "\n",
      "---\n",
      "\n",
      "Por \u00faltimo, pero __MUY IMPORTANTE__, en Python, __los argumentos se pasan por referencia__. Esto quiere decir, que si modificas una de las variables que pasas dentro de la funci\u00f3n (por ejemplo usando np.append) los cambios seguir\u00e1n cuando termine de ejecutarse la funci\u00f3n. Esto es algo similar a lo que ocurr\u00eda con el _slicing_ de los arrays."
     ]
    },
    {
     "cell_type": "heading",
     "level": 1,
     "metadata": {},
     "source": [
      "Un peque\u00f1o ejercicio..."
     ]
    },
    {
     "cell_type": "markdown",
     "metadata": {},
     "source": [
      "1. __Crea matriz `B`__:\n",
      "\n",
      "    \\begin{pmatrix}\n",
      "    1  & 2    &  4   &  8   & 16 &  32\\\\ \n",
      "    64 & 128  &  256 & ...  &     &   \\\\\n",
      "    ... &     &      &      &     &   \\\\\n",
      "    ... &     &      &      &     &   \\\\\n",
      "    ... &     &      &      &     &   \\\\\n",
      "    ... &     &      &      &     &   \\\\\n",
      "    \\end{pmatrix}\n",
      "    \n",
      "    Cr\u00e9ala usando un bucle primero y luego... _\u00a1PISTA!_ la manera m\u00e1s elegante \"pythonica\" ser\u00e1 algo parecido a esto: `B = np.array([ (ii * 6) ** 5 for ii in ???])` y despu\u00e9s un `np.reshape(???)`.\n",
      "2.  __Calcula el determinante de `B`__.\n",
      "3. __Crea la matriz `C`:__\n",
      "\n",
      "    \\begin{pmatrix}\n",
      "    1  & 2  &  4  \\\\ \n",
      "    6  & 5  &  8  \\\\\n",
      "    2  & 2  &  11 \\\\\n",
      "    \\end{pmatrix}\n",
      "    \n",
      "3.  __Invi\u00e9rtela creando `C_inv`__."
     ]
    },
    {
     "cell_type": "code",
     "collapsed": false,
     "input": [],
     "language": "python",
     "metadata": {},
     "outputs": []
    }
   ],
   "metadata": {}
  }
 ]
}